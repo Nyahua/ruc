{
 "cells": [
  {
   "cell_type": "code",
   "execution_count": 1,
   "id": "76bca88b-eba4-4f92-9b72-bb9560ebed2c",
   "metadata": {},
   "outputs": [
    {
     "data": {
      "text/plain": [
       "['数据源', '马赛克图数据来源', '马赛克图绘制', 'Sheet2', '总结', '中型箱线图']"
      ]
     },
     "execution_count": 1,
     "metadata": {},
     "output_type": "execute_result"
    }
   ],
   "source": [
    "# pip install python-calamine\n",
    "import pandas as pd\n",
    "fn = '毛利率占比和趋势分析.xlsx'\n",
    "excel = pd.ExcelFile(fn, engine='calamine')\n",
    "sheetnames = excel.sheet_names\n",
    "sheetnames"
   ]
  },
  {
   "cell_type": "code",
   "execution_count": 2,
   "id": "39ad7114-623b-4ebe-9c12-0ea157c96ffc",
   "metadata": {},
   "outputs": [
    {
     "name": "stdout",
     "output_type": "stream",
     "text": [
      "数据源 (914, 29)\n",
      "马赛克图数据来源 (915, 17)\n",
      "马赛克图绘制 (915, 57)\n",
      "Sheet2 (197, 9)\n",
      "总结 (209, 49)\n",
      "中型箱线图 (79, 9)\n"
     ]
    }
   ],
   "source": [
    "for sheet in sheetnames:\n",
    "    df = pd.read_excel(excel, sheet_name=sheet)\n",
    "    df.to_csv(f\"{sheet}.csv\", index=False)\n",
    "    print(sheet, df.shape)"
   ]
  },
  {
   "cell_type": "code",
   "execution_count": null,
   "id": "2fe3e886-e396-493b-8ec8-2f21592941bf",
   "metadata": {},
   "outputs": [],
   "source": []
  }
 ],
 "metadata": {
  "kernelspec": {
   "display_name": "Python 3 (ipykernel)",
   "language": "python",
   "name": "python3"
  },
  "language_info": {
   "codemirror_mode": {
    "name": "ipython",
    "version": 3
   },
   "file_extension": ".py",
   "mimetype": "text/x-python",
   "name": "python",
   "nbconvert_exporter": "python",
   "pygments_lexer": "ipython3",
   "version": "3.11.5"
  }
 },
 "nbformat": 4,
 "nbformat_minor": 5
}
