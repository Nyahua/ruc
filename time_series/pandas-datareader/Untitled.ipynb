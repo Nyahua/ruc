{
 "cells": [
  {
   "cell_type": "markdown",
   "id": "e9675998-ee79-4888-b4d0-d607d5613e63",
   "metadata": {},
   "source": [
    "# [pandas-datareader](https://pandas-datareader.readthedocs.io/en/latest/)\n",
    "- installation: `pip install pandas-datareader`"
   ]
  },
  {
   "cell_type": "markdown",
   "id": "5797a324-b892-43a9-864a-1ae7b4232afa",
   "metadata": {},
   "source": [
    "### [econdb](https://www.econdb.com)\n",
    "go to [econdb search engine](https://www.econdb.com/search) and Reading data for a single series such as the RGDP for United States, is as simple as taking the ticker segment from the URL path (RGDPUS in https://www.econdb.com/series/RGDPUS/) and passing it in like:"
   ]
  },
  {
   "cell_type": "code",
   "execution_count": 14,
   "id": "845bd024-ee1f-4588-9350-234b3afd6079",
   "metadata": {},
   "outputs": [
    {
     "name": "stderr",
     "output_type": "stream",
     "text": [
      "/tmp/ipykernel_2139/3450319712.py:2: FutureWarning: errors='ignore' is deprecated and will raise in a future version. Use to_numeric without passing `errors` and catch exceptions explicitly instead\n",
      "  dat = wb.download(indicator='NY.GDP.PCAP.KD', country=['CN'], start=1950, end=2020, errors='ignore')\n"
     ]
    },
    {
     "data": {
      "text/html": [
       "<div>\n",
       "<style scoped>\n",
       "    .dataframe tbody tr th:only-of-type {\n",
       "        vertical-align: middle;\n",
       "    }\n",
       "\n",
       "    .dataframe tbody tr th {\n",
       "        vertical-align: top;\n",
       "    }\n",
       "\n",
       "    .dataframe thead th {\n",
       "        text-align: right;\n",
       "    }\n",
       "</style>\n",
       "<table border=\"1\" class=\"dataframe\">\n",
       "  <thead>\n",
       "    <tr style=\"text-align: right;\">\n",
       "      <th></th>\n",
       "      <th></th>\n",
       "      <th>NY.GDP.PCAP.KD</th>\n",
       "    </tr>\n",
       "    <tr>\n",
       "      <th>country</th>\n",
       "      <th>year</th>\n",
       "      <th></th>\n",
       "    </tr>\n",
       "  </thead>\n",
       "  <tbody>\n",
       "    <tr>\n",
       "      <th rowspan=\"11\" valign=\"top\">China</th>\n",
       "      <th>2020</th>\n",
       "      <td>10358.169997</td>\n",
       "    </tr>\n",
       "    <tr>\n",
       "      <th>2019</th>\n",
       "      <td>10155.510883</td>\n",
       "    </tr>\n",
       "    <tr>\n",
       "      <th>2018</th>\n",
       "      <td>9619.209475</td>\n",
       "    </tr>\n",
       "    <tr>\n",
       "      <th>2017</th>\n",
       "      <td>9053.228725</td>\n",
       "    </tr>\n",
       "    <tr>\n",
       "      <th>2016</th>\n",
       "      <td>8516.528742</td>\n",
       "    </tr>\n",
       "    <tr>\n",
       "      <th>...</th>\n",
       "      <td>...</td>\n",
       "    </tr>\n",
       "    <tr>\n",
       "      <th>1964</th>\n",
       "      <td>203.687834</td>\n",
       "    </tr>\n",
       "    <tr>\n",
       "      <th>1963</th>\n",
       "      <td>176.400456</td>\n",
       "    </tr>\n",
       "    <tr>\n",
       "      <th>1962</th>\n",
       "      <td>163.907044</td>\n",
       "    </tr>\n",
       "    <tr>\n",
       "      <th>1961</th>\n",
       "      <td>175.023681</td>\n",
       "    </tr>\n",
       "    <tr>\n",
       "      <th>1960</th>\n",
       "      <td>238.217052</td>\n",
       "    </tr>\n",
       "  </tbody>\n",
       "</table>\n",
       "<p>61 rows × 1 columns</p>\n",
       "</div>"
      ],
      "text/plain": [
       "              NY.GDP.PCAP.KD\n",
       "country year                \n",
       "China   2020    10358.169997\n",
       "        2019    10155.510883\n",
       "        2018     9619.209475\n",
       "        2017     9053.228725\n",
       "        2016     8516.528742\n",
       "...                      ...\n",
       "        1964      203.687834\n",
       "        1963      176.400456\n",
       "        1962      163.907044\n",
       "        1961      175.023681\n",
       "        1960      238.217052\n",
       "\n",
       "[61 rows x 1 columns]"
      ]
     },
     "execution_count": 14,
     "metadata": {},
     "output_type": "execute_result"
    }
   ],
   "source": [
    "from pandas_datareader import wb\n",
    "dat = wb.download(indicator='NY.GDP.PCAP.KD', country=['CN'], start=1950, end=2020, errors='ignore')\n",
    "dat"
   ]
  },
  {
   "cell_type": "code",
   "execution_count": null,
   "id": "ae977402-5522-4724-b8f1-dae4a9560297",
   "metadata": {},
   "outputs": [],
   "source": []
  }
 ],
 "metadata": {
  "kernelspec": {
   "display_name": "Python 3 (ipykernel)",
   "language": "python",
   "name": "python3"
  },
  "language_info": {
   "codemirror_mode": {
    "name": "ipython",
    "version": 3
   },
   "file_extension": ".py",
   "mimetype": "text/x-python",
   "name": "python",
   "nbconvert_exporter": "python",
   "pygments_lexer": "ipython3",
   "version": "3.11.5"
  }
 },
 "nbformat": 4,
 "nbformat_minor": 5
}
