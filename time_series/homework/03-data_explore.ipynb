{
 "cells": [
  {
   "cell_type": "code",
   "execution_count": 15,
   "id": "5a6d6268-56de-4d24-9b56-5b21db40b8e5",
   "metadata": {},
   "outputs": [
    {
     "data": {
      "text/html": [
       "<div>\n",
       "<style scoped>\n",
       "    .dataframe tbody tr th:only-of-type {\n",
       "        vertical-align: middle;\n",
       "    }\n",
       "\n",
       "    .dataframe tbody tr th {\n",
       "        vertical-align: top;\n",
       "    }\n",
       "\n",
       "    .dataframe thead th {\n",
       "        text-align: right;\n",
       "    }\n",
       "</style>\n",
       "<table border=\"1\" class=\"dataframe\">\n",
       "  <thead>\n",
       "    <tr style=\"text-align: right;\">\n",
       "      <th></th>\n",
       "      <th>PostDate</th>\n",
       "      <th>month</th>\n",
       "      <th>FiscalYear</th>\n",
       "      <th>AssignType</th>\n",
       "      <th>channel</th>\n",
       "      <th>BuyerType</th>\n",
       "      <th>OrderNum</th>\n",
       "      <th>ProductLine</th>\n",
       "      <th>Territory</th>\n",
       "      <th>Sales</th>\n",
       "      <th>Buyer</th>\n",
       "      <th>AssignedCustomer</th>\n",
       "      <th>OR</th>\n",
       "      <th>TO</th>\n",
       "      <th>delivery_days</th>\n",
       "      <th>weighted_delivery_days</th>\n",
       "      <th>PMI</th>\n",
       "    </tr>\n",
       "  </thead>\n",
       "  <tbody>\n",
       "    <tr>\n",
       "      <th>0</th>\n",
       "      <td>2017-10-31</td>\n",
       "      <td>2017-10</td>\n",
       "      <td>FY18</td>\n",
       "      <td>Assign_TO</td>\n",
       "      <td>SLC</td>\n",
       "      <td>Dealer</td>\n",
       "      <td>3004120993</td>\n",
       "      <td>R115</td>\n",
       "      <td>RNE-LNN&amp;IME</td>\n",
       "      <td>200TM000</td>\n",
       "      <td>北京天拓四方科技有限公司</td>\n",
       "      <td>沈阳紫电科技有限公司</td>\n",
       "      <td>74629.79</td>\n",
       "      <td>74629.79</td>\n",
       "      <td>NaN</td>\n",
       "      <td>NaN</td>\n",
       "      <td>51.6</td>\n",
       "    </tr>\n",
       "    <tr>\n",
       "      <th>1</th>\n",
       "      <td>2017-10-31</td>\n",
       "      <td>2017-10</td>\n",
       "      <td>FY18</td>\n",
       "      <td>Assign_TO</td>\n",
       "      <td>SLC</td>\n",
       "      <td>Dealer</td>\n",
       "      <td>3004125453</td>\n",
       "      <td>R115</td>\n",
       "      <td>RNE-JL</td>\n",
       "      <td>22012004</td>\n",
       "      <td>哈尔滨宇龙自动化有限公司</td>\n",
       "      <td>长春北方化工罐装设备有限公司</td>\n",
       "      <td>23405.08</td>\n",
       "      <td>23405.08</td>\n",
       "      <td>NaN</td>\n",
       "      <td>NaN</td>\n",
       "      <td>51.6</td>\n",
       "    </tr>\n",
       "    <tr>\n",
       "      <th>2</th>\n",
       "      <td>2017-10-31</td>\n",
       "      <td>2017-10</td>\n",
       "      <td>FY18</td>\n",
       "      <td>Assign_TO</td>\n",
       "      <td>SLC</td>\n",
       "      <td>Dealer</td>\n",
       "      <td>3004131929</td>\n",
       "      <td>R111</td>\n",
       "      <td>RNE-HLJ</td>\n",
       "      <td>21009006</td>\n",
       "      <td>哈尔滨宇龙自动化有限公司</td>\n",
       "      <td>哈尔滨天源自动化控制技术有限责任公司</td>\n",
       "      <td>15310.63</td>\n",
       "      <td>15310.63</td>\n",
       "      <td>NaN</td>\n",
       "      <td>NaN</td>\n",
       "      <td>51.6</td>\n",
       "    </tr>\n",
       "    <tr>\n",
       "      <th>3</th>\n",
       "      <td>2017-10-31</td>\n",
       "      <td>2017-10</td>\n",
       "      <td>FY18</td>\n",
       "      <td>Assign_TO</td>\n",
       "      <td>SLC</td>\n",
       "      <td>Dealer</td>\n",
       "      <td>3004131929</td>\n",
       "      <td>R111</td>\n",
       "      <td>RNE-JL</td>\n",
       "      <td>22012004</td>\n",
       "      <td>哈尔滨宇龙自动化有限公司</td>\n",
       "      <td>长春北方化工罐装设备有限公司</td>\n",
       "      <td>2841.88</td>\n",
       "      <td>2841.88</td>\n",
       "      <td>NaN</td>\n",
       "      <td>NaN</td>\n",
       "      <td>51.6</td>\n",
       "    </tr>\n",
       "    <tr>\n",
       "      <th>4</th>\n",
       "      <td>2017-10-31</td>\n",
       "      <td>2017-10</td>\n",
       "      <td>FY18</td>\n",
       "      <td>Assign_TO</td>\n",
       "      <td>SLC</td>\n",
       "      <td>OEM</td>\n",
       "      <td>3004133247</td>\n",
       "      <td>R111</td>\n",
       "      <td>RNE-HLJ</td>\n",
       "      <td>22009005</td>\n",
       "      <td>哈尔滨宇龙自动化有限公司</td>\n",
       "      <td>哈尔滨研奥科技有限公司</td>\n",
       "      <td>4702.64</td>\n",
       "      <td>4702.64</td>\n",
       "      <td>NaN</td>\n",
       "      <td>NaN</td>\n",
       "      <td>51.6</td>\n",
       "    </tr>\n",
       "  </tbody>\n",
       "</table>\n",
       "</div>"
      ],
      "text/plain": [
       "     PostDate    month FiscalYear AssignType channel BuyerType    OrderNum  \\\n",
       "0  2017-10-31  2017-10       FY18  Assign_TO     SLC    Dealer  3004120993   \n",
       "1  2017-10-31  2017-10       FY18  Assign_TO     SLC    Dealer  3004125453   \n",
       "2  2017-10-31  2017-10       FY18  Assign_TO     SLC    Dealer  3004131929   \n",
       "3  2017-10-31  2017-10       FY18  Assign_TO     SLC    Dealer  3004131929   \n",
       "4  2017-10-31  2017-10       FY18  Assign_TO     SLC       OEM  3004133247   \n",
       "\n",
       "  ProductLine    Territory     Sales         Buyer    AssignedCustomer  \\\n",
       "0        R115  RNE-LNN&IME  200TM000  北京天拓四方科技有限公司          沈阳紫电科技有限公司   \n",
       "1        R115       RNE-JL  22012004  哈尔滨宇龙自动化有限公司      长春北方化工罐装设备有限公司   \n",
       "2        R111      RNE-HLJ  21009006  哈尔滨宇龙自动化有限公司  哈尔滨天源自动化控制技术有限责任公司   \n",
       "3        R111       RNE-JL  22012004  哈尔滨宇龙自动化有限公司      长春北方化工罐装设备有限公司   \n",
       "4        R111      RNE-HLJ  22009005  哈尔滨宇龙自动化有限公司         哈尔滨研奥科技有限公司   \n",
       "\n",
       "         OR        TO  delivery_days  weighted_delivery_days   PMI  \n",
       "0  74629.79  74629.79            NaN                     NaN  51.6  \n",
       "1  23405.08  23405.08            NaN                     NaN  51.6  \n",
       "2  15310.63  15310.63            NaN                     NaN  51.6  \n",
       "3   2841.88   2841.88            NaN                     NaN  51.6  \n",
       "4   4702.64   4702.64            NaN                     NaN  51.6  "
      ]
     },
     "execution_count": 15,
     "metadata": {},
     "output_type": "execute_result"
    }
   ],
   "source": [
    "import pandas as pd\n",
    "import numpy as np\n",
    "import plotly.graph_objects as go\n",
    "from plotly.subplots import make_subplots\n",
    "from statsmodels.tsa.seasonal import seasonal_decompose, STL\n",
    "\n",
    "orders = pd.read_csv('data/oders_merged.csv')\n",
    "orders.head()"
   ]
  },
  {
   "cell_type": "markdown",
   "id": "be175bcb-71c9-4f66-9603-4c45ebcb27be",
   "metadata": {},
   "source": [
    "# explore new order, turnover by month"
   ]
  },
  {
   "cell_type": "code",
   "execution_count": 11,
   "id": "342aef9e-325a-4b78-be29-0faf177b753b",
   "metadata": {},
   "outputs": [
    {
     "data": {
      "application/vnd.plotly.v1+json": {
       "config": {
        "plotlyServerURL": "https://plot.ly"
       },
       "data": [
        {
         "mode": "lines",
         "name": "New Order",
         "type": "scatter",
         "x": [
          "2017-10",
          "2017-11",
          "2017-12",
          "2018-01",
          "2018-02",
          "2018-03",
          "2018-04",
          "2018-05",
          "2018-06",
          "2018-07",
          "2018-08",
          "2018-10",
          "2018-11",
          "2018-12",
          "2019-01",
          "2019-02",
          "2019-03",
          "2019-04",
          "2019-05",
          "2019-06",
          "2019-07",
          "2019-08",
          "2019-09",
          "2019-10",
          "2019-11",
          "2019-12",
          "2020-01",
          "2020-02",
          "2020-03",
          "2020-04",
          "2020-05",
          "2020-06",
          "2020-07",
          "2020-08",
          "2020-09",
          "2020-10",
          "2020-11",
          "2020-12",
          "2021-01",
          "2021-02",
          "2021-03",
          "2021-04",
          "2021-05",
          "2021-06",
          "2021-07",
          "2021-08",
          "2021-09",
          "2021-10",
          "2021-11",
          "2021-12",
          "2022-01",
          "2022-02",
          "2022-03",
          "2022-04",
          "2022-05",
          "2022-06",
          "2022-07",
          "2022-08",
          "2022-09",
          "2022-10",
          "2022-11",
          "2022-12",
          "2023-01",
          "2023-02",
          "2023-03",
          "2023-04",
          "2023-05",
          "2023-06",
          "2023-07",
          "2023-08",
          "2023-09",
          "2023-10",
          "2023-11",
          "2023-12",
          "2024-01",
          "2024-02",
          "2024-03"
         ],
         "y": [
          9768948.67,
          26614725.44,
          19296155.52,
          25276674.18,
          15833965.65,
          27856201.7,
          21750398.56,
          23744901.41,
          22208970.31,
          16102515.74,
          12373474.22,
          16013449.51,
          34272633.93,
          25933935.76,
          26122529.39,
          12085613.422,
          24515027.54,
          28121848.080000002,
          24825642.830000002,
          27163196.222,
          30138207.67,
          21102731.4,
          33015124.25,
          9029504.709999999,
          39134544.55,
          37987437.34,
          15061074.48,
          6027584.072,
          39287657.56,
          19493888.14,
          25596779.63,
          25147218.61,
          21100802.03,
          24241828.042,
          37204804.61,
          8154976.53,
          49217169.17,
          40250013.61,
          21407191.76,
          20551318.87,
          27303537.95,
          23915542.668,
          31138887.69,
          29353411.89,
          36708198.02,
          38900851.39,
          28255254.69,
          26894529.614,
          58181749.589999996,
          42097750.935,
          36591953.4,
          33797932.212,
          67695982.846,
          51048534.144,
          89589451.3,
          32797522.174,
          33519462.81,
          27139518.28,
          1024714.7,
          79075502.03,
          117866155.84,
          105074026.08,
          42028549.410000004,
          60298506.028000005,
          28464965.272000007,
          20734772.580000002,
          20679185.628,
          18865907.64,
          11254203.77,
          10472541.249999998,
          12580758.559999999,
          35596797.330000006,
          37384425.32,
          62292774.59999999,
          34455823.68,
          15282597.139999999,
          25882951.53
         ]
        },
        {
         "mode": "lines",
         "name": "Turnover",
         "type": "scatter",
         "x": [
          "2017-10",
          "2017-11",
          "2017-12",
          "2018-01",
          "2018-02",
          "2018-03",
          "2018-04",
          "2018-05",
          "2018-06",
          "2018-07",
          "2018-08",
          "2018-10",
          "2018-11",
          "2018-12",
          "2019-01",
          "2019-02",
          "2019-03",
          "2019-04",
          "2019-05",
          "2019-06",
          "2019-07",
          "2019-08",
          "2019-09",
          "2019-10",
          "2019-11",
          "2019-12",
          "2020-01",
          "2020-02",
          "2020-03",
          "2020-04",
          "2020-05",
          "2020-06",
          "2020-07",
          "2020-08",
          "2020-09",
          "2020-10",
          "2020-11",
          "2020-12",
          "2021-01",
          "2021-02",
          "2021-03",
          "2021-04",
          "2021-05",
          "2021-06",
          "2021-07",
          "2021-08",
          "2021-09",
          "2021-10",
          "2021-11",
          "2021-12",
          "2022-01",
          "2022-02",
          "2022-03",
          "2022-04",
          "2022-05",
          "2022-06",
          "2022-07",
          "2022-08",
          "2022-09",
          "2022-10",
          "2022-11",
          "2022-12",
          "2023-01",
          "2023-02",
          "2023-03",
          "2023-04",
          "2023-05",
          "2023-06",
          "2023-07",
          "2023-08",
          "2023-09",
          "2023-10",
          "2023-11",
          "2023-12",
          "2024-01",
          "2024-02",
          "2024-03"
         ],
         "y": [
          9768948.67,
          26614725.44,
          19296155.52,
          25276674.18,
          15833965.65,
          27856201.7,
          21750398.56,
          23744901.41,
          22208970.31,
          16102515.74,
          12373474.22,
          15840638.26,
          34071388.44,
          24125069.44,
          26849899.1,
          12054421.002,
          25422501.45,
          28651931.88,
          25439214.21,
          27043070.02,
          30687752.46,
          20920709.35,
          32231195.15,
          16189820.61,
          35727853.14,
          31874595.14,
          18743364.86,
          3203683.332,
          38648365.56,
          20385100.93,
          26259274.419999998,
          32493713.85,
          21443880.08,
          26425363.006,
          21348755.376,
          14578477.04,
          44426005.26,
          30918559.24,
          27312861.26,
          21467717.22,
          25262864.39,
          26699823.669999998,
          30002219.928,
          28898777.45,
          30560130.95,
          29525658.75,
          36729488.62,
          11565285.85,
          38573905.232,
          31481934.013,
          22177225.342,
          32484412.88,
          54982903.164,
          29781161.438,
          49679877.462,
          42886339.946,
          46851094.824,
          52815424.738,
          34015036.154,
          58064418.196,
          65414748.48,
          85452188.354,
          44428887.778,
          66826995.914,
          77204213.936,
          43160676.056,
          47320004.566,
          60119740.24,
          50802370.086,
          76566508.558,
          64284651.378,
          43713473.814,
          56740566.798,
          67417622.63,
          47558574.845,
          26357737.494999997,
          57667867.79
         ]
        }
       ],
       "layout": {
        "autosize": true,
        "legend": {
         "x": 0.01,
         "y": 0.99
        },
        "margin": {
         "b": 0,
         "l": 0,
         "r": 0,
         "t": 0
        },
        "template": {
         "data": {
          "bar": [
           {
            "error_x": {
             "color": "#2a3f5f"
            },
            "error_y": {
             "color": "#2a3f5f"
            },
            "marker": {
             "line": {
              "color": "#E5ECF6",
              "width": 0.5
             },
             "pattern": {
              "fillmode": "overlay",
              "size": 10,
              "solidity": 0.2
             }
            },
            "type": "bar"
           }
          ],
          "barpolar": [
           {
            "marker": {
             "line": {
              "color": "#E5ECF6",
              "width": 0.5
             },
             "pattern": {
              "fillmode": "overlay",
              "size": 10,
              "solidity": 0.2
             }
            },
            "type": "barpolar"
           }
          ],
          "carpet": [
           {
            "aaxis": {
             "endlinecolor": "#2a3f5f",
             "gridcolor": "white",
             "linecolor": "white",
             "minorgridcolor": "white",
             "startlinecolor": "#2a3f5f"
            },
            "baxis": {
             "endlinecolor": "#2a3f5f",
             "gridcolor": "white",
             "linecolor": "white",
             "minorgridcolor": "white",
             "startlinecolor": "#2a3f5f"
            },
            "type": "carpet"
           }
          ],
          "choropleth": [
           {
            "colorbar": {
             "outlinewidth": 0,
             "ticks": ""
            },
            "type": "choropleth"
           }
          ],
          "contour": [
           {
            "colorbar": {
             "outlinewidth": 0,
             "ticks": ""
            },
            "colorscale": [
             [
              0,
              "#0d0887"
             ],
             [
              0.1111111111111111,
              "#46039f"
             ],
             [
              0.2222222222222222,
              "#7201a8"
             ],
             [
              0.3333333333333333,
              "#9c179e"
             ],
             [
              0.4444444444444444,
              "#bd3786"
             ],
             [
              0.5555555555555556,
              "#d8576b"
             ],
             [
              0.6666666666666666,
              "#ed7953"
             ],
             [
              0.7777777777777778,
              "#fb9f3a"
             ],
             [
              0.8888888888888888,
              "#fdca26"
             ],
             [
              1,
              "#f0f921"
             ]
            ],
            "type": "contour"
           }
          ],
          "contourcarpet": [
           {
            "colorbar": {
             "outlinewidth": 0,
             "ticks": ""
            },
            "type": "contourcarpet"
           }
          ],
          "heatmap": [
           {
            "colorbar": {
             "outlinewidth": 0,
             "ticks": ""
            },
            "colorscale": [
             [
              0,
              "#0d0887"
             ],
             [
              0.1111111111111111,
              "#46039f"
             ],
             [
              0.2222222222222222,
              "#7201a8"
             ],
             [
              0.3333333333333333,
              "#9c179e"
             ],
             [
              0.4444444444444444,
              "#bd3786"
             ],
             [
              0.5555555555555556,
              "#d8576b"
             ],
             [
              0.6666666666666666,
              "#ed7953"
             ],
             [
              0.7777777777777778,
              "#fb9f3a"
             ],
             [
              0.8888888888888888,
              "#fdca26"
             ],
             [
              1,
              "#f0f921"
             ]
            ],
            "type": "heatmap"
           }
          ],
          "heatmapgl": [
           {
            "colorbar": {
             "outlinewidth": 0,
             "ticks": ""
            },
            "colorscale": [
             [
              0,
              "#0d0887"
             ],
             [
              0.1111111111111111,
              "#46039f"
             ],
             [
              0.2222222222222222,
              "#7201a8"
             ],
             [
              0.3333333333333333,
              "#9c179e"
             ],
             [
              0.4444444444444444,
              "#bd3786"
             ],
             [
              0.5555555555555556,
              "#d8576b"
             ],
             [
              0.6666666666666666,
              "#ed7953"
             ],
             [
              0.7777777777777778,
              "#fb9f3a"
             ],
             [
              0.8888888888888888,
              "#fdca26"
             ],
             [
              1,
              "#f0f921"
             ]
            ],
            "type": "heatmapgl"
           }
          ],
          "histogram": [
           {
            "marker": {
             "pattern": {
              "fillmode": "overlay",
              "size": 10,
              "solidity": 0.2
             }
            },
            "type": "histogram"
           }
          ],
          "histogram2d": [
           {
            "colorbar": {
             "outlinewidth": 0,
             "ticks": ""
            },
            "colorscale": [
             [
              0,
              "#0d0887"
             ],
             [
              0.1111111111111111,
              "#46039f"
             ],
             [
              0.2222222222222222,
              "#7201a8"
             ],
             [
              0.3333333333333333,
              "#9c179e"
             ],
             [
              0.4444444444444444,
              "#bd3786"
             ],
             [
              0.5555555555555556,
              "#d8576b"
             ],
             [
              0.6666666666666666,
              "#ed7953"
             ],
             [
              0.7777777777777778,
              "#fb9f3a"
             ],
             [
              0.8888888888888888,
              "#fdca26"
             ],
             [
              1,
              "#f0f921"
             ]
            ],
            "type": "histogram2d"
           }
          ],
          "histogram2dcontour": [
           {
            "colorbar": {
             "outlinewidth": 0,
             "ticks": ""
            },
            "colorscale": [
             [
              0,
              "#0d0887"
             ],
             [
              0.1111111111111111,
              "#46039f"
             ],
             [
              0.2222222222222222,
              "#7201a8"
             ],
             [
              0.3333333333333333,
              "#9c179e"
             ],
             [
              0.4444444444444444,
              "#bd3786"
             ],
             [
              0.5555555555555556,
              "#d8576b"
             ],
             [
              0.6666666666666666,
              "#ed7953"
             ],
             [
              0.7777777777777778,
              "#fb9f3a"
             ],
             [
              0.8888888888888888,
              "#fdca26"
             ],
             [
              1,
              "#f0f921"
             ]
            ],
            "type": "histogram2dcontour"
           }
          ],
          "mesh3d": [
           {
            "colorbar": {
             "outlinewidth": 0,
             "ticks": ""
            },
            "type": "mesh3d"
           }
          ],
          "parcoords": [
           {
            "line": {
             "colorbar": {
              "outlinewidth": 0,
              "ticks": ""
             }
            },
            "type": "parcoords"
           }
          ],
          "pie": [
           {
            "automargin": true,
            "type": "pie"
           }
          ],
          "scatter": [
           {
            "fillpattern": {
             "fillmode": "overlay",
             "size": 10,
             "solidity": 0.2
            },
            "type": "scatter"
           }
          ],
          "scatter3d": [
           {
            "line": {
             "colorbar": {
              "outlinewidth": 0,
              "ticks": ""
             }
            },
            "marker": {
             "colorbar": {
              "outlinewidth": 0,
              "ticks": ""
             }
            },
            "type": "scatter3d"
           }
          ],
          "scattercarpet": [
           {
            "marker": {
             "colorbar": {
              "outlinewidth": 0,
              "ticks": ""
             }
            },
            "type": "scattercarpet"
           }
          ],
          "scattergeo": [
           {
            "marker": {
             "colorbar": {
              "outlinewidth": 0,
              "ticks": ""
             }
            },
            "type": "scattergeo"
           }
          ],
          "scattergl": [
           {
            "marker": {
             "colorbar": {
              "outlinewidth": 0,
              "ticks": ""
             }
            },
            "type": "scattergl"
           }
          ],
          "scattermapbox": [
           {
            "marker": {
             "colorbar": {
              "outlinewidth": 0,
              "ticks": ""
             }
            },
            "type": "scattermapbox"
           }
          ],
          "scatterpolar": [
           {
            "marker": {
             "colorbar": {
              "outlinewidth": 0,
              "ticks": ""
             }
            },
            "type": "scatterpolar"
           }
          ],
          "scatterpolargl": [
           {
            "marker": {
             "colorbar": {
              "outlinewidth": 0,
              "ticks": ""
             }
            },
            "type": "scatterpolargl"
           }
          ],
          "scatterternary": [
           {
            "marker": {
             "colorbar": {
              "outlinewidth": 0,
              "ticks": ""
             }
            },
            "type": "scatterternary"
           }
          ],
          "surface": [
           {
            "colorbar": {
             "outlinewidth": 0,
             "ticks": ""
            },
            "colorscale": [
             [
              0,
              "#0d0887"
             ],
             [
              0.1111111111111111,
              "#46039f"
             ],
             [
              0.2222222222222222,
              "#7201a8"
             ],
             [
              0.3333333333333333,
              "#9c179e"
             ],
             [
              0.4444444444444444,
              "#bd3786"
             ],
             [
              0.5555555555555556,
              "#d8576b"
             ],
             [
              0.6666666666666666,
              "#ed7953"
             ],
             [
              0.7777777777777778,
              "#fb9f3a"
             ],
             [
              0.8888888888888888,
              "#fdca26"
             ],
             [
              1,
              "#f0f921"
             ]
            ],
            "type": "surface"
           }
          ],
          "table": [
           {
            "cells": {
             "fill": {
              "color": "#EBF0F8"
             },
             "line": {
              "color": "white"
             }
            },
            "header": {
             "fill": {
              "color": "#C8D4E3"
             },
             "line": {
              "color": "white"
             }
            },
            "type": "table"
           }
          ]
         },
         "layout": {
          "annotationdefaults": {
           "arrowcolor": "#2a3f5f",
           "arrowhead": 0,
           "arrowwidth": 1
          },
          "autotypenumbers": "strict",
          "coloraxis": {
           "colorbar": {
            "outlinewidth": 0,
            "ticks": ""
           }
          },
          "colorscale": {
           "diverging": [
            [
             0,
             "#8e0152"
            ],
            [
             0.1,
             "#c51b7d"
            ],
            [
             0.2,
             "#de77ae"
            ],
            [
             0.3,
             "#f1b6da"
            ],
            [
             0.4,
             "#fde0ef"
            ],
            [
             0.5,
             "#f7f7f7"
            ],
            [
             0.6,
             "#e6f5d0"
            ],
            [
             0.7,
             "#b8e186"
            ],
            [
             0.8,
             "#7fbc41"
            ],
            [
             0.9,
             "#4d9221"
            ],
            [
             1,
             "#276419"
            ]
           ],
           "sequential": [
            [
             0,
             "#0d0887"
            ],
            [
             0.1111111111111111,
             "#46039f"
            ],
            [
             0.2222222222222222,
             "#7201a8"
            ],
            [
             0.3333333333333333,
             "#9c179e"
            ],
            [
             0.4444444444444444,
             "#bd3786"
            ],
            [
             0.5555555555555556,
             "#d8576b"
            ],
            [
             0.6666666666666666,
             "#ed7953"
            ],
            [
             0.7777777777777778,
             "#fb9f3a"
            ],
            [
             0.8888888888888888,
             "#fdca26"
            ],
            [
             1,
             "#f0f921"
            ]
           ],
           "sequentialminus": [
            [
             0,
             "#0d0887"
            ],
            [
             0.1111111111111111,
             "#46039f"
            ],
            [
             0.2222222222222222,
             "#7201a8"
            ],
            [
             0.3333333333333333,
             "#9c179e"
            ],
            [
             0.4444444444444444,
             "#bd3786"
            ],
            [
             0.5555555555555556,
             "#d8576b"
            ],
            [
             0.6666666666666666,
             "#ed7953"
            ],
            [
             0.7777777777777778,
             "#fb9f3a"
            ],
            [
             0.8888888888888888,
             "#fdca26"
            ],
            [
             1,
             "#f0f921"
            ]
           ]
          },
          "colorway": [
           "#636efa",
           "#EF553B",
           "#00cc96",
           "#ab63fa",
           "#FFA15A",
           "#19d3f3",
           "#FF6692",
           "#B6E880",
           "#FF97FF",
           "#FECB52"
          ],
          "font": {
           "color": "#2a3f5f"
          },
          "geo": {
           "bgcolor": "white",
           "lakecolor": "white",
           "landcolor": "#E5ECF6",
           "showlakes": true,
           "showland": true,
           "subunitcolor": "white"
          },
          "hoverlabel": {
           "align": "left"
          },
          "hovermode": "closest",
          "mapbox": {
           "style": "light"
          },
          "paper_bgcolor": "white",
          "plot_bgcolor": "#E5ECF6",
          "polar": {
           "angularaxis": {
            "gridcolor": "white",
            "linecolor": "white",
            "ticks": ""
           },
           "bgcolor": "#E5ECF6",
           "radialaxis": {
            "gridcolor": "white",
            "linecolor": "white",
            "ticks": ""
           }
          },
          "scene": {
           "xaxis": {
            "backgroundcolor": "#E5ECF6",
            "gridcolor": "white",
            "gridwidth": 2,
            "linecolor": "white",
            "showbackground": true,
            "ticks": "",
            "zerolinecolor": "white"
           },
           "yaxis": {
            "backgroundcolor": "#E5ECF6",
            "gridcolor": "white",
            "gridwidth": 2,
            "linecolor": "white",
            "showbackground": true,
            "ticks": "",
            "zerolinecolor": "white"
           },
           "zaxis": {
            "backgroundcolor": "#E5ECF6",
            "gridcolor": "white",
            "gridwidth": 2,
            "linecolor": "white",
            "showbackground": true,
            "ticks": "",
            "zerolinecolor": "white"
           }
          },
          "shapedefaults": {
           "line": {
            "color": "#2a3f5f"
           }
          },
          "ternary": {
           "aaxis": {
            "gridcolor": "white",
            "linecolor": "white",
            "ticks": ""
           },
           "baxis": {
            "gridcolor": "white",
            "linecolor": "white",
            "ticks": ""
           },
           "bgcolor": "#E5ECF6",
           "caxis": {
            "gridcolor": "white",
            "linecolor": "white",
            "ticks": ""
           }
          },
          "title": {
           "x": 0.05
          },
          "xaxis": {
           "automargin": true,
           "gridcolor": "white",
           "linecolor": "white",
           "ticks": "",
           "title": {
            "standoff": 15
           },
           "zerolinecolor": "white",
           "zerolinewidth": 2
          },
          "yaxis": {
           "automargin": true,
           "gridcolor": "white",
           "linecolor": "white",
           "ticks": "",
           "title": {
            "standoff": 15
           },
           "zerolinecolor": "white",
           "zerolinewidth": 2
          }
         }
        },
        "xaxis": {
         "dtick": "M12",
         "range": [
          "2017-07-01",
          "2024-06-30"
         ],
         "title": {
          "text": "Fiscal Months"
         },
         "type": "date"
        },
        "yaxis": {
         "autorange": true,
         "range": [
          -5466476.474444444,
          124357347.01444444
         ],
         "title": {
          "text": "Value (K)"
         },
         "type": "linear"
        }
       }
      },
      "image/png": "[encoded data removed]",
      "text/html": [
       "<div>                            <div id=\"ffe7304b-8900-4d52-8dea-af29ed456d85\" class=\"plotly-graph-div\" style=\"height:680px; width:100%;\"></div>            <script type=\"text/javascript\">                require([\"plotly\"], function(Plotly) {                    window.PLOTLYENV=window.PLOTLYENV || {};                                    if (document.getElementById(\"ffe7304b-8900-4d52-8dea-af29ed456d85\")) {                    Plotly.newPlot(                        \"ffe7304b-8900-4d52-8dea-af29ed456d85\",                        [{\"mode\":\"lines\",\"name\":\"New Order\",\"x\":[\"2017-10\",\"2017-11\",\"2017-12\",\"2018-01\",\"2018-02\",\"2018-03\",\"2018-04\",\"2018-05\",\"2018-06\",\"2018-07\",\"2018-08\",\"2018-10\",\"2018-11\",\"2018-12\",\"2019-01\",\"2019-02\",\"2019-03\",\"2019-04\",\"2019-05\",\"2019-06\",\"2019-07\",\"2019-08\",\"2019-09\",\"2019-10\",\"2019-11\",\"2019-12\",\"2020-01\",\"2020-02\",\"2020-03\",\"2020-04\",\"2020-05\",\"2020-06\",\"2020-07\",\"2020-08\",\"2020-09\",\"2020-10\",\"2020-11\",\"2020-12\",\"2021-01\",\"2021-02\",\"2021-03\",\"2021-04\",\"2021-05\",\"2021-06\",\"2021-07\",\"2021-08\",\"2021-09\",\"2021-10\",\"2021-11\",\"2021-12\",\"2022-01\",\"2022-02\",\"2022-03\",\"2022-04\",\"2022-05\",\"2022-06\",\"2022-07\",\"2022-08\",\"2022-09\",\"2022-10\",\"2022-11\",\"2022-12\",\"2023-01\",\"2023-02\",\"2023-03\",\"2023-04\",\"2023-05\",\"2023-06\",\"2023-07\",\"2023-08\",\"2023-09\",\"2023-10\",\"2023-11\",\"2023-12\",\"2024-01\",\"2024-02\",\"2024-03\"],\"y\":[9768948.67,26614725.44,19296155.52,25276674.18,15833965.65,27856201.7,21750398.56,23744901.41,22208970.31,16102515.74,12373474.22,16013449.51,34272633.93,25933935.76,26122529.39,12085613.422,24515027.54,28121848.080000002,24825642.830000002,27163196.222,30138207.67,21102731.4,33015124.25,9029504.709999999,39134544.55,37987437.34,15061074.48,6027584.072,39287657.56,19493888.14,25596779.63,25147218.61,21100802.03,24241828.042,37204804.61,8154976.53,49217169.17,40250013.61,21407191.76,20551318.87,27303537.95,23915542.668,31138887.69,29353411.89,36708198.02,38900851.39,28255254.69,26894529.614,58181749.589999996,42097750.935,36591953.4,33797932.212,67695982.846,51048534.144,89589451.3,32797522.174,33519462.81,27139518.28,1024714.7,79075502.03,117866155.84,105074026.08,42028549.410000004,60298506.028000005,28464965.272000007,20734772.580000002,20679185.628,18865907.64,11254203.77,10472541.249999998,12580758.559999999,35596797.330000006,37384425.32,62292774.59999999,34455823.68,15282597.139999999,25882951.53],\"type\":\"scatter\"},{\"mode\":\"lines\",\"name\":\"Turnover\",\"x\":[\"2017-10\",\"2017-11\",\"2017-12\",\"2018-01\",\"2018-02\",\"2018-03\",\"2018-04\",\"2018-05\",\"2018-06\",\"2018-07\",\"2018-08\",\"2018-10\",\"2018-11\",\"2018-12\",\"2019-01\",\"2019-02\",\"2019-03\",\"2019-04\",\"2019-05\",\"2019-06\",\"2019-07\",\"2019-08\",\"2019-09\",\"2019-10\",\"2019-11\",\"2019-12\",\"2020-01\",\"2020-02\",\"2020-03\",\"2020-04\",\"2020-05\",\"2020-06\",\"2020-07\",\"2020-08\",\"2020-09\",\"2020-10\",\"2020-11\",\"2020-12\",\"2021-01\",\"2021-02\",\"2021-03\",\"2021-04\",\"2021-05\",\"2021-06\",\"2021-07\",\"2021-08\",\"2021-09\",\"2021-10\",\"2021-11\",\"2021-12\",\"2022-01\",\"2022-02\",\"2022-03\",\"2022-04\",\"2022-05\",\"2022-06\",\"2022-07\",\"2022-08\",\"2022-09\",\"2022-10\",\"2022-11\",\"2022-12\",\"2023-01\",\"2023-02\",\"2023-03\",\"2023-04\",\"2023-05\",\"2023-06\",\"2023-07\",\"2023-08\",\"2023-09\",\"2023-10\",\"2023-11\",\"2023-12\",\"2024-01\",\"2024-02\",\"2024-03\"],\"y\":[9768948.67,26614725.44,19296155.52,25276674.18,15833965.65,27856201.7,21750398.56,23744901.41,22208970.31,16102515.74,12373474.22,15840638.26,34071388.44,24125069.44,26849899.1,12054421.002,25422501.45,28651931.88,25439214.21,27043070.02,30687752.46,20920709.35,32231195.15,16189820.61,35727853.14,31874595.14,18743364.86,3203683.332,38648365.56,20385100.93,26259274.419999998,32493713.85,21443880.08,26425363.006,21348755.376,14578477.04,44426005.26,30918559.24,27312861.26,21467717.22,25262864.39,26699823.669999998,30002219.928,28898777.45,30560130.95,29525658.75,36729488.62,11565285.85,38573905.232,31481934.013,22177225.342,32484412.88,54982903.164,29781161.438,49679877.462,42886339.946,46851094.824,52815424.738,34015036.154,58064418.196,65414748.48,85452188.354,44428887.778,66826995.914,77204213.936,43160676.056,47320004.566,60119740.24,50802370.086,76566508.558,64284651.378,43713473.814,56740566.798,67417622.63,47558574.845,26357737.494999997,57667867.79],\"type\":\"scatter\"}],                        {\"template\":{\"data\":{\"histogram2dcontour\":[{\"type\":\"histogram2dcontour\",\"colorbar\":{\"outlinewidth\":0,\"ticks\":\"\"},\"colorscale\":[[0.0,\"#0d0887\"],[0.1111111111111111,\"#46039f\"],[0.2222222222222222,\"#7201a8\"],[0.3333333333333333,\"#9c179e\"],[0.4444444444444444,\"#bd3786\"],[0.5555555555555556,\"#d8576b\"],[0.6666666666666666,\"#ed7953\"],[0.7777777777777778,\"#fb9f3a\"],[0.8888888888888888,\"#fdca26\"],[1.0,\"#f0f921\"]]}],\"choropleth\":[{\"type\":\"choropleth\",\"colorbar\":{\"outlinewidth\":0,\"ticks\":\"\"}}],\"histogram2d\":[{\"type\":\"histogram2d\",\"colorbar\":{\"outlinewidth\":0,\"ticks\":\"\"},\"colorscale\":[[0.0,\"#0d0887\"],[0.1111111111111111,\"#46039f\"],[0.2222222222222222,\"#7201a8\"],[0.3333333333333333,\"#9c179e\"],[0.4444444444444444,\"#bd3786\"],[0.5555555555555556,\"#d8576b\"],[0.6666666666666666,\"#ed7953\"],[0.7777777777777778,\"#fb9f3a\"],[0.8888888888888888,\"#fdca26\"],[1.0,\"#f0f921\"]]}],\"heatmap\":[{\"type\":\"heatmap\",\"colorbar\":{\"outlinewidth\":0,\"ticks\":\"\"},\"colorscale\":[[0.0,\"#0d0887\"],[0.1111111111111111,\"#46039f\"],[0.2222222222222222,\"#7201a8\"],[0.3333333333333333,\"#9c179e\"],[0.4444444444444444,\"#bd3786\"],[0.5555555555555556,\"#d8576b\"],[0.6666666666666666,\"#ed7953\"],[0.7777777777777778,\"#fb9f3a\"],[0.8888888888888888,\"#fdca26\"],[1.0,\"#f0f921\"]]}],\"heatmapgl\":[{\"type\":\"heatmapgl\",\"colorbar\":{\"outlinewidth\":0,\"ticks\":\"\"},\"colorscale\":[[0.0,\"#0d0887\"],[0.1111111111111111,\"#46039f\"],[0.2222222222222222,\"#7201a8\"],[0.3333333333333333,\"#9c179e\"],[0.4444444444444444,\"#bd3786\"],[0.5555555555555556,\"#d8576b\"],[0.6666666666666666,\"#ed7953\"],[0.7777777777777778,\"#fb9f3a\"],[0.8888888888888888,\"#fdca26\"],[1.0,\"#f0f921\"]]}],\"contourcarpet\":[{\"type\":\"contourcarpet\",\"colorbar\":{\"outlinewidth\":0,\"ticks\":\"\"}}],\"contour\":[{\"type\":\"contour\",\"colorbar\":{\"outlinewidth\":0,\"ticks\":\"\"},\"colorscale\":[[0.0,\"#0d0887\"],[0.1111111111111111,\"#46039f\"],[0.2222222222222222,\"#7201a8\"],[0.3333333333333333,\"#9c179e\"],[0.4444444444444444,\"#bd3786\"],[0.5555555555555556,\"#d8576b\"],[0.6666666666666666,\"#ed7953\"],[0.7777777777777778,\"#fb9f3a\"],[0.8888888888888888,\"#fdca26\"],[1.0,\"#f0f921\"]]}],\"surface\":[{\"type\":\"surface\",\"colorbar\":{\"outlinewidth\":0,\"ticks\":\"\"},\"colorscale\":[[0.0,\"#0d0887\"],[0.1111111111111111,\"#46039f\"],[0.2222222222222222,\"#7201a8\"],[0.3333333333333333,\"#9c179e\"],[0.4444444444444444,\"#bd3786\"],[0.5555555555555556,\"#d8576b\"],[0.6666666666666666,\"#ed7953\"],[0.7777777777777778,\"#fb9f3a\"],[0.8888888888888888,\"#fdca26\"],[1.0,\"#f0f921\"]]}],\"mesh3d\":[{\"type\":\"mesh3d\",\"colorbar\":{\"outlinewidth\":0,\"ticks\":\"\"}}],\"scatter\":[{\"fillpattern\":{\"fillmode\":\"overlay\",\"size\":10,\"solidity\":0.2},\"type\":\"scatter\"}],\"parcoords\":[{\"type\":\"parcoords\",\"line\":{\"colorbar\":{\"outlinewidth\":0,\"ticks\":\"\"}}}],\"scatterpolargl\":[{\"type\":\"scatterpolargl\",\"marker\":{\"colorbar\":{\"outlinewidth\":0,\"ticks\":\"\"}}}],\"bar\":[{\"error_x\":{\"color\":\"#2a3f5f\"},\"error_y\":{\"color\":\"#2a3f5f\"},\"marker\":{\"line\":{\"color\":\"#E5ECF6\",\"width\":0.5},\"pattern\":{\"fillmode\":\"overlay\",\"size\":10,\"solidity\":0.2}},\"type\":\"bar\"}],\"scattergeo\":[{\"type\":\"scattergeo\",\"marker\":{\"colorbar\":{\"outlinewidth\":0,\"ticks\":\"\"}}}],\"scatterpolar\":[{\"type\":\"scatterpolar\",\"marker\":{\"colorbar\":{\"outlinewidth\":0,\"ticks\":\"\"}}}],\"histogram\":[{\"marker\":{\"pattern\":{\"fillmode\":\"overlay\",\"size\":10,\"solidity\":0.2}},\"type\":\"histogram\"}],\"scattergl\":[{\"type\":\"scattergl\",\"marker\":{\"colorbar\":{\"outlinewidth\":0,\"ticks\":\"\"}}}],\"scatter3d\":[{\"type\":\"scatter3d\",\"line\":{\"colorbar\":{\"outlinewidth\":0,\"ticks\":\"\"}},\"marker\":{\"colorbar\":{\"outlinewidth\":0,\"ticks\":\"\"}}}],\"scattermapbox\":[{\"type\":\"scattermapbox\",\"marker\":{\"colorbar\":{\"outlinewidth\":0,\"ticks\":\"\"}}}],\"scatterternary\":[{\"type\":\"scatterternary\",\"marker\":{\"colorbar\":{\"outlinewidth\":0,\"ticks\":\"\"}}}],\"scattercarpet\":[{\"type\":\"scattercarpet\",\"marker\":{\"colorbar\":{\"outlinewidth\":0,\"ticks\":\"\"}}}],\"carpet\":[{\"aaxis\":{\"endlinecolor\":\"#2a3f5f\",\"gridcolor\":\"white\",\"linecolor\":\"white\",\"minorgridcolor\":\"white\",\"startlinecolor\":\"#2a3f5f\"},\"baxis\":{\"endlinecolor\":\"#2a3f5f\",\"gridcolor\":\"white\",\"linecolor\":\"white\",\"minorgridcolor\":\"white\",\"startlinecolor\":\"#2a3f5f\"},\"type\":\"carpet\"}],\"table\":[{\"cells\":{\"fill\":{\"color\":\"#EBF0F8\"},\"line\":{\"color\":\"white\"}},\"header\":{\"fill\":{\"color\":\"#C8D4E3\"},\"line\":{\"color\":\"white\"}},\"type\":\"table\"}],\"barpolar\":[{\"marker\":{\"line\":{\"color\":\"#E5ECF6\",\"width\":0.5},\"pattern\":{\"fillmode\":\"overlay\",\"size\":10,\"solidity\":0.2}},\"type\":\"barpolar\"}],\"pie\":[{\"automargin\":true,\"type\":\"pie\"}]},\"layout\":{\"autotypenumbers\":\"strict\",\"colorway\":[\"#636efa\",\"#EF553B\",\"#00cc96\",\"#ab63fa\",\"#FFA15A\",\"#19d3f3\",\"#FF6692\",\"#B6E880\",\"#FF97FF\",\"#FECB52\"],\"font\":{\"color\":\"#2a3f5f\"},\"hovermode\":\"closest\",\"hoverlabel\":{\"align\":\"left\"},\"paper_bgcolor\":\"white\",\"plot_bgcolor\":\"#E5ECF6\",\"polar\":{\"bgcolor\":\"#E5ECF6\",\"angularaxis\":{\"gridcolor\":\"white\",\"linecolor\":\"white\",\"ticks\":\"\"},\"radialaxis\":{\"gridcolor\":\"white\",\"linecolor\":\"white\",\"ticks\":\"\"}},\"ternary\":{\"bgcolor\":\"#E5ECF6\",\"aaxis\":{\"gridcolor\":\"white\",\"linecolor\":\"white\",\"ticks\":\"\"},\"baxis\":{\"gridcolor\":\"white\",\"linecolor\":\"white\",\"ticks\":\"\"},\"caxis\":{\"gridcolor\":\"white\",\"linecolor\":\"white\",\"ticks\":\"\"}},\"coloraxis\":{\"colorbar\":{\"outlinewidth\":0,\"ticks\":\"\"}},\"colorscale\":{\"sequential\":[[0.0,\"#0d0887\"],[0.1111111111111111,\"#46039f\"],[0.2222222222222222,\"#7201a8\"],[0.3333333333333333,\"#9c179e\"],[0.4444444444444444,\"#bd3786\"],[0.5555555555555556,\"#d8576b\"],[0.6666666666666666,\"#ed7953\"],[0.7777777777777778,\"#fb9f3a\"],[0.8888888888888888,\"#fdca26\"],[1.0,\"#f0f921\"]],\"sequentialminus\":[[0.0,\"#0d0887\"],[0.1111111111111111,\"#46039f\"],[0.2222222222222222,\"#7201a8\"],[0.3333333333333333,\"#9c179e\"],[0.4444444444444444,\"#bd3786\"],[0.5555555555555556,\"#d8576b\"],[0.6666666666666666,\"#ed7953\"],[0.7777777777777778,\"#fb9f3a\"],[0.8888888888888888,\"#fdca26\"],[1.0,\"#f0f921\"]],\"diverging\":[[0,\"#8e0152\"],[0.1,\"#c51b7d\"],[0.2,\"#de77ae\"],[0.3,\"#f1b6da\"],[0.4,\"#fde0ef\"],[0.5,\"#f7f7f7\"],[0.6,\"#e6f5d0\"],[0.7,\"#b8e186\"],[0.8,\"#7fbc41\"],[0.9,\"#4d9221\"],[1,\"#276419\"]]},\"xaxis\":{\"gridcolor\":\"white\",\"linecolor\":\"white\",\"ticks\":\"\",\"title\":{\"standoff\":15},\"zerolinecolor\":\"white\",\"automargin\":true,\"zerolinewidth\":2},\"yaxis\":{\"gridcolor\":\"white\",\"linecolor\":\"white\",\"ticks\":\"\",\"title\":{\"standoff\":15},\"zerolinecolor\":\"white\",\"automargin\":true,\"zerolinewidth\":2},\"scene\":{\"xaxis\":{\"backgroundcolor\":\"#E5ECF6\",\"gridcolor\":\"white\",\"linecolor\":\"white\",\"showbackground\":true,\"ticks\":\"\",\"zerolinecolor\":\"white\",\"gridwidth\":2},\"yaxis\":{\"backgroundcolor\":\"#E5ECF6\",\"gridcolor\":\"white\",\"linecolor\":\"white\",\"showbackground\":true,\"ticks\":\"\",\"zerolinecolor\":\"white\",\"gridwidth\":2},\"zaxis\":{\"backgroundcolor\":\"#E5ECF6\",\"gridcolor\":\"white\",\"linecolor\":\"white\",\"showbackground\":true,\"ticks\":\"\",\"zerolinecolor\":\"white\",\"gridwidth\":2}},\"shapedefaults\":{\"line\":{\"color\":\"#2a3f5f\"}},\"annotationdefaults\":{\"arrowcolor\":\"#2a3f5f\",\"arrowhead\":0,\"arrowwidth\":1},\"geo\":{\"bgcolor\":\"white\",\"landcolor\":\"#E5ECF6\",\"subunitcolor\":\"white\",\"showland\":true,\"showlakes\":true,\"lakecolor\":\"white\"},\"title\":{\"x\":0.05},\"mapbox\":{\"style\":\"light\"}}},\"margin\":{\"t\":0,\"b\":0,\"l\":0,\"r\":0},\"xaxis\":{\"title\":{\"text\":\"Fiscal Months\"},\"dtick\":\"M12\",\"range\":[\"2017-07-01\",\"2024-06-30\"]},\"legend\":{\"x\":0.01,\"y\":0.99},\"height\":680,\"yaxis\":{\"title\":{\"text\":\"Value (K)\"}}},                        {\"responsive\": true}                    ).then(function(){\n",
       "                            \n",
       "var gd = document.getElementById('ffe7304b-8900-4d52-8dea-af29ed456d85');\n",
       "var x = new MutationObserver(function (mutations, observer) {{\n",
       "        var display = window.getComputedStyle(gd).display;\n",
       "        if (!display || display === 'none') {{\n",
       "            console.log([gd, 'removed!']);\n",
       "            Plotly.purge(gd);\n",
       "            observer.disconnect();\n",
       "        }}\n",
       "}});\n",
       "\n",
       "// Listen for the removal of the full notebook cells\n",
       "var notebookContainer = gd.closest('#notebook-container');\n",
       "if (notebookContainer) {{\n",
       "    x.observe(notebookContainer, {childList: true});\n",
       "}}\n",
       "\n",
       "// Listen for the clearing of the current output cell\n",
       "var outputEl = gd.closest('.output');\n",
       "if (outputEl) {{\n",
       "    x.observe(outputEl, {childList: true});\n",
       "}}\n",
       "\n",
       "                        })                };                });            </script>        </div>"
      ]
     },
     "metadata": {},
     "output_type": "display_data"
    }
   ],
   "source": [
    "neworder = orders.groupby('month')['OR'].sum()\n",
    "turnover = orders.groupby('month')['TO'].sum()\n",
    "x = neworder.index\n",
    "\n",
    "plot_order = go.Scatter(x=x, y=neworder, mode='lines', name='New Order')\n",
    "plot_turnover = go.Scatter(x=x, y=turnover, mode='lines', name='Turnover')\n",
    "fig = go.Figure([plot_order, plot_turnover])\n",
    "fig.update_layout(\n",
    "    height=680, margin={'t':0, 'b':0, 'l':0, 'r':0},\n",
    "    xaxis=dict(title=\"Fiscal Months\", dtick='M12', range=['2017-07-01','2024-06-30']),\n",
    "    yaxis=dict(title=\"Value (K)\"),\n",
    "    legend=dict(x=0.01, y=0.99)\n",
    ")\n",
    "fig.show()"
   ]
  },
  {
   "cell_type": "code",
   "execution_count": 17,
   "id": "32de347c-c9fd-4870-83d1-64f4c70ebe1d",
   "metadata": {},
   "outputs": [
    {
     "data": {
      "application/vnd.plotly.v1+json": {
       "config": {
        "plotlyServerURL": "https://plot.ly"
       },
       "data": [
        {
         "mode": "lines",
         "name": "New Order",
         "type": "scatter",
         "x": [
          "2017-10-31",
          "2017-11-30",
          "2017-12-31",
          "2018-01-31",
          "2018-02-28",
          "2018-03-31",
          "2018-04-29",
          "2018-04-30",
          "2018-05-06",
          "2018-05-20",
          "2018-05-27",
          "2018-05-31",
          "2018-06-30",
          "2018-07-31",
          "2018-08-31",
          "2018-10-14",
          "2018-10-21",
          "2018-10-28",
          "2018-10-31",
          "2018-11-11",
          "2018-11-18",
          "2018-11-30",
          "2018-12-09",
          "2018-12-16",
          "2018-12-23",
          "2018-12-30",
          "2018-12-31",
          "2019-01-06",
          "2019-01-13",
          "2019-01-20",
          "2019-01-27",
          "2019-01-31",
          "2019-02-03",
          "2019-02-17",
          "2019-02-24",
          "2019-02-28",
          "2019-03-10",
          "2019-03-17",
          "2019-03-24",
          "2019-03-31",
          "2019-04-14",
          "2019-04-21",
          "2019-04-28",
          "2019-04-30",
          "2019-05-12",
          "2019-05-19",
          "2019-05-26",
          "2019-05-31",
          "2019-06-09",
          "2019-06-16",
          "2019-06-23",
          "2019-06-30",
          "2019-07-07",
          "2019-07-21",
          "2019-07-28",
          "2019-07-31",
          "2019-08-11",
          "2019-08-18",
          "2019-08-25",
          "2019-08-31",
          "2019-09-08",
          "2019-09-15",
          "2019-09-22",
          "2019-09-29",
          "2019-09-30",
          "2019-10-13",
          "2019-10-20",
          "2019-10-27",
          "2019-10-31",
          "2019-11-03",
          "2019-11-10",
          "2019-11-17",
          "2019-11-24",
          "2019-11-30",
          "2019-12-08",
          "2019-12-15",
          "2019-12-22",
          "2019-12-29",
          "2019-12-31",
          "2020-01-05",
          "2020-01-12",
          "2020-01-19",
          "2020-01-26",
          "2020-01-31",
          "2020-02-09",
          "2020-02-16",
          "2020-02-23",
          "2020-02-29",
          "2020-03-08",
          "2020-03-15",
          "2020-03-22",
          "2020-03-29",
          "2020-03-31",
          "2020-04-05",
          "2020-04-12",
          "2020-04-19",
          "2020-04-26",
          "2020-04-30",
          "2020-05-10",
          "2020-05-17",
          "2020-05-24",
          "2020-05-31",
          "2020-06-07",
          "2020-06-14",
          "2020-06-21",
          "2020-06-28",
          "2020-06-30",
          "2020-07-05",
          "2020-07-12",
          "2020-07-19",
          "2020-07-26",
          "2020-07-31",
          "2020-08-09",
          "2020-08-16",
          "2020-08-23",
          "2020-08-30",
          "2020-08-31",
          "2020-09-06",
          "2020-09-13",
          "2020-09-20",
          "2020-09-27",
          "2020-09-30",
          "2020-10-11",
          "2020-10-18",
          "2020-10-25",
          "2020-10-31",
          "2020-11-08",
          "2020-11-15",
          "2020-11-22",
          "2020-11-29",
          "2020-11-30",
          "2020-12-06",
          "2020-12-13",
          "2020-12-20",
          "2020-12-27",
          "2020-12-31",
          "2021-01-10",
          "2021-01-17",
          "2021-01-24",
          "2021-01-31",
          "2021-02-07",
          "2021-02-14",
          "2021-02-21",
          "2021-02-28",
          "2021-03-07",
          "2021-03-14",
          "2021-03-21",
          "2021-03-28",
          "2021-03-31",
          "2021-04-04",
          "2021-04-11",
          "2021-04-18",
          "2021-04-25",
          "2021-04-30",
          "2021-05-09",
          "2021-05-16",
          "2021-05-23",
          "2021-05-30",
          "2021-05-31",
          "2021-06-06",
          "2021-06-13",
          "2021-06-20",
          "2021-06-27",
          "2021-06-30",
          "2021-07-04",
          "2021-07-11",
          "2021-07-18",
          "2021-07-25",
          "2021-07-31",
          "2021-08-08",
          "2021-08-15",
          "2021-08-22",
          "2021-08-29",
          "2021-08-31",
          "2021-09-05",
          "2021-09-12",
          "2021-09-19",
          "2021-09-26",
          "2021-09-30",
          "2021-10-03",
          "2021-10-10",
          "2021-10-17",
          "2021-10-24",
          "2021-10-31",
          "2021-11-07",
          "2021-11-14",
          "2021-11-21",
          "2021-11-28",
          "2021-11-30",
          "2021-12-05",
          "2021-12-12",
          "2021-12-19",
          "2021-12-26",
          "2021-12-31",
          "2022-01-09",
          "2022-01-16",
          "2022-01-23",
          "2022-01-30",
          "2022-01-31",
          "2022-02-13",
          "2022-02-20",
          "2022-02-27",
          "2022-02-28",
          "2022-03-06",
          "2022-03-13",
          "2022-03-20",
          "2022-03-27",
          "2022-03-31",
          "2022-04-03",
          "2022-04-10",
          "2022-04-17",
          "2022-04-24",
          "2022-04-30",
          "2022-05-01",
          "2022-05-08",
          "2022-05-15",
          "2022-05-22",
          "2022-05-29",
          "2022-05-31",
          "2022-06-05",
          "2022-06-12",
          "2022-06-19",
          "2022-06-26",
          "2022-06-30",
          "2022-07-03",
          "2022-07-10",
          "2022-07-17",
          "2022-07-24",
          "2022-07-31",
          "2022-08-07",
          "2022-08-14",
          "2022-08-21",
          "2022-08-28",
          "2022-08-31",
          "2022-09-04",
          "2022-09-11",
          "2022-09-18",
          "2022-09-25",
          "2022-09-30",
          "2022-10-01",
          "2022-10-08",
          "2022-10-09",
          "2022-10-10",
          "2022-10-12",
          "2022-10-13",
          "2022-10-14",
          "2022-10-15",
          "2022-10-16",
          "2022-10-17",
          "2022-10-18",
          "2022-10-19",
          "2022-10-20",
          "2022-10-21",
          "2022-10-24",
          "2022-10-25",
          "2022-10-26",
          "2022-10-27",
          "2022-10-28",
          "2022-10-29",
          "2022-10-30",
          "2022-10-31",
          "2022-11-01",
          "2022-11-02",
          "2022-11-03",
          "2022-11-04",
          "2022-11-07",
          "2022-11-08",
          "2022-11-09",
          "2022-11-10",
          "2022-11-11",
          "2022-11-12",
          "2022-11-13",
          "2022-11-14",
          "2022-11-15",
          "2022-11-16",
          "2022-11-17",
          "2022-11-18",
          "2022-11-19",
          "2022-11-20",
          "2022-11-21",
          "2022-11-22",
          "2022-11-23",
          "2022-11-24",
          "2022-11-25",
          "2022-11-26",
          "2022-11-27",
          "2022-11-28",
          "2022-11-29",
          "2022-11-30",
          "2022-12-01",
          "2022-12-02",
          "2022-12-05",
          "2022-12-06",
          "2022-12-07",
          "2022-12-08",
          "2022-12-09",
          "2022-12-10",
          "2022-12-11",
          "2022-12-12",
          "2022-12-13",
          "2022-12-14",
          "2022-12-15",
          "2022-12-16",
          "2022-12-17",
          "2022-12-18",
          "2022-12-19",
          "2022-12-20",
          "2022-12-21",
          "2022-12-22",
          "2022-12-23",
          "2022-12-24",
          "2022-12-25",
          "2022-12-27",
          "2022-12-28",
          "2022-12-29",
          "2022-12-30",
          "2022-12-31",
          "2023-01-03",
          "2023-01-04",
          "2023-01-05",
          "2023-01-06",
          "2023-01-09",
          "2023-01-10",
          "2023-01-12",
          "2023-01-13",
          "2023-01-14",
          "2023-01-15",
          "2023-01-16",
          "2023-01-17",
          "2023-01-18",
          "2023-01-19",
          "2023-01-20",
          "2023-01-21",
          "2023-01-22",
          "2023-01-28",
          "2023-01-29",
          "2023-01-30",
          "2023-01-31",
          "2023-02-01",
          "2023-02-02",
          "2023-02-03",
          "2023-02-06",
          "2023-02-07",
          "2023-02-08",
          "2023-02-09",
          "2023-02-10",
          "2023-02-11",
          "2023-02-12",
          "2023-02-13",
          "2023-02-14",
          "2023-02-15",
          "2023-02-16",
          "2023-02-17",
          "2023-02-18",
          "2023-02-19",
          "2023-02-20",
          "2023-02-21",
          "2023-02-22",
          "2023-02-23",
          "2023-02-24",
          "2023-02-25",
          "2023-02-26",
          "2023-02-27",
          "2023-02-28",
          "2023-03-01",
          "2023-03-02",
          "2023-03-03",
          "2023-03-06",
          "2023-03-07",
          "2023-03-08",
          "2023-03-09",
          "2023-03-10",
          "2023-03-11",
          "2023-03-12",
          "2023-03-14",
          "2023-03-15",
          "2023-03-16",
          "2023-03-17",
          "2023-03-19",
          "2023-03-20",
          "2023-03-21",
          "2023-03-22",
          "2023-03-23",
          "2023-03-24",
          "2023-03-25",
          "2023-03-26",
          "2023-03-27",
          "2023-03-28",
          "2023-03-29",
          "2023-03-30",
          "2023-03-31",
          "2023-04-04",
          "2023-04-06",
          "2023-04-07",
          "2023-04-10",
          "2023-04-11",
          "2023-04-12",
          "2023-04-13",
          "2023-04-14",
          "2023-04-15",
          "2023-04-16",
          "2023-04-17",
          "2023-04-18",
          "2023-04-19",
          "2023-04-20",
          "2023-04-21",
          "2023-04-22",
          "2023-04-23",
          "2023-04-24",
          "2023-04-25",
          "2023-04-26",
          "2023-04-27",
          "2023-04-28",
          "2023-04-30",
          "2023-05-04",
          "2023-05-05",
          "2023-05-06",
          "2023-05-09",
          "2023-05-11",
          "2023-05-13",
          "2023-05-14",
          "2023-05-15",
          "2023-05-16",
          "2023-05-17",
          "2023-05-18",
          "2023-05-19",
          "2023-05-22",
          "2023-05-23",
          "2023-05-24",
          "2023-05-25",
          "2023-05-26",
          "2023-05-27",
          "2023-05-28",
          "2023-05-29",
          "2023-05-30",
          "2023-05-31",
          "2023-06-02",
          "2023-06-05",
          "2023-06-06",
          "2023-06-07",
          "2023-06-09",
          "2023-06-11",
          "2023-06-12",
          "2023-06-13",
          "2023-06-14",
          "2023-06-15",
          "2023-06-16",
          "2023-06-17",
          "2023-06-18",
          "2023-06-19",
          "2023-06-20",
          "2023-06-21",
          "2023-06-22",
          "2023-06-23",
          "2023-06-25",
          "2023-06-26",
          "2023-06-27",
          "2023-06-28",
          "2023-06-29",
          "2023-06-30",
          "2023-07-03",
          "2023-07-04",
          "2023-07-05",
          "2023-07-06",
          "2023-07-07",
          "2023-07-10",
          "2023-07-11",
          "2023-07-12",
          "2023-07-13",
          "2023-07-14",
          "2023-07-15",
          "2023-07-16",
          "2023-07-17",
          "2023-07-18",
          "2023-07-19",
          "2023-07-20",
          "2023-07-21",
          "2023-07-22",
          "2023-07-23",
          "2023-07-24",
          "2023-07-25",
          "2023-07-26",
          "2023-07-27",
          "2023-07-28",
          "2023-07-29",
          "2023-07-30",
          "2023-07-31",
          "2023-08-01",
          "2023-08-03",
          "2023-08-04",
          "2023-08-07",
          "2023-08-08",
          "2023-08-09",
          "2023-08-10",
          "2023-08-11",
          "2023-08-12",
          "2023-08-13",
          "2023-08-14",
          "2023-08-15",
          "2023-08-16",
          "2023-08-17",
          "2023-08-18",
          "2023-08-19",
          "2023-08-20",
          "2023-08-21",
          "2023-08-22",
          "2023-08-23",
          "2023-08-24",
          "2023-08-25",
          "2023-08-26",
          "2023-08-27",
          "2023-08-28",
          "2023-08-29",
          "2023-08-30",
          "2023-08-31",
          "2023-09-01",
          "2023-09-04",
          "2023-09-05",
          "2023-09-06",
          "2023-09-07",
          "2023-09-08",
          "2023-09-10",
          "2023-09-11",
          "2023-09-12",
          "2023-09-13",
          "2023-09-14",
          "2023-09-15",
          "2023-09-16",
          "2023-09-17",
          "2023-09-18",
          "2023-09-19",
          "2023-09-20",
          "2023-09-21",
          "2023-09-22",
          "2023-09-23",
          "2023-09-24",
          "2023-09-25",
          "2023-09-26",
          "2023-09-27",
          "2023-09-28",
          "2023-09-29",
          "2023-09-30",
          "2023-10-07",
          "2023-10-08",
          "2023-10-09",
          "2023-10-10",
          "2023-10-11",
          "2023-10-12",
          "2023-10-13",
          "2023-10-14",
          "2023-10-15",
          "2023-10-16",
          "2023-10-17",
          "2023-10-18",
          "2023-10-19",
          "2023-10-20",
          "2023-10-21",
          "2023-10-23",
          "2023-10-24",
          "2023-10-25",
          "2023-10-26",
          "2023-10-27",
          "2023-10-28",
          "2023-10-29",
          "2023-10-30",
          "2023-10-31",
          "2023-11-01",
          "2023-11-02",
          "2023-11-03",
          "2023-11-04",
          "2023-11-06",
          "2023-11-07",
          "2023-11-08",
          "2023-11-09",
          "2023-11-10",
          "2023-11-11",
          "2023-11-12",
          "2023-11-13",
          "2023-11-14",
          "2023-11-15",
          "2023-11-16",
          "2023-11-17",
          "2023-11-18",
          "2023-11-19",
          "2023-11-20",
          "2023-11-21",
          "2023-11-22",
          "2023-11-23",
          "2023-11-24",
          "2023-11-25",
          "2023-11-26",
          "2023-11-27",
          "2023-11-28",
          "2023-11-29",
          "2023-11-30",
          "2023-12-01",
          "2023-12-04",
          "2023-12-05",
          "2023-12-06",
          "2023-12-08",
          "2023-12-10",
          "2023-12-11",
          "2023-12-12",
          "2023-12-13",
          "2023-12-14",
          "2023-12-15",
          "2023-12-16",
          "2023-12-17",
          "2023-12-18",
          "2023-12-19",
          "2023-12-20",
          "2023-12-21",
          "2023-12-22",
          "2023-12-23",
          "2023-12-24",
          "2023-12-26",
          "2023-12-27",
          "2023-12-28",
          "2023-12-29",
          "2023-12-30",
          "2023-12-31",
          "2024-01-02",
          "2024-01-03",
          "2024-01-04",
          "2024-01-05",
          "2024-01-09",
          "2024-01-10",
          "2024-01-11",
          "2024-01-12",
          "2024-01-13",
          "2024-01-14",
          "2024-01-15",
          "2024-01-16",
          "2024-01-17",
          "2024-01-18",
          "2024-01-19",
          "2024-01-20",
          "2024-01-21",
          "2024-01-23",
          "2024-01-24",
          "2024-01-25",
          "2024-01-26",
          "2024-01-27",
          "2024-01-28",
          "2024-01-30",
          "2024-01-31",
          "2024-02-01",
          "2024-02-02",
          "2024-02-04",
          "2024-02-05",
          "2024-02-07",
          "2024-02-10",
          "2024-02-18",
          "2024-02-19",
          "2024-02-20",
          "2024-02-21",
          "2024-02-22",
          "2024-02-23",
          "2024-02-24",
          "2024-02-25",
          "2024-02-26",
          "2024-02-27",
          "2024-02-28",
          "2024-02-29",
          "2024-03-01",
          "2024-03-04",
          "2024-03-05",
          "2024-03-07",
          "2024-03-08",
          "2024-03-11",
          "2024-03-12",
          "2024-03-13",
          "2024-03-14",
          "2024-03-15",
          "2024-03-16",
          "2024-03-17",
          "2024-03-19",
          "2024-03-20",
          "2024-03-21",
          "2024-03-22",
          "2024-03-23",
          "2024-03-24",
          "2024-03-25",
          "2024-03-26",
          "2024-03-27",
          "2024-03-28",
          "2024-03-29",
          "2024-03-31"
         ],
         "y": [
          9768948.67,
          26614725.44,
          19296155.52,
          25276674.18,
          15833965.65,
          27856201.7,
          17428.12,
          21732970.44,
          142199.03999999998,
          179170.87,
          1208538.15,
          22214993.35,
          22208970.31,
          16102515.74,
          12373474.22,
          36646.55,
          288096.37,
          57376.450000000004,
          15631330.14,
          168130.61000000002,
          436835.45999999996,
          33667667.86,
          3941170.52,
          936545.8200000001,
          409248.57,
          448120.21,
          20198850.64,
          189620.69,
          65421.920000000006,
          0.02,
          203025.72,
          25664461.04,
          1296336.21,
          106015.83,
          96277.01,
          10586984.372,
          79893.23999999999,
          160321.46,
          1037890.33,
          23236922.51,
          1878.84,
          315776.99,
          242836.2,
          27561356.05,
          8814.16,
          186216.81,
          388058.78,
          24242553.080000002,
          113416.53,
          288507.03,
          8318.52,
          26752954.142,
          28938.05,
          503016.56,
          -0.12,
          29606253.18,
          552498.13,
          130877.35999999999,
          651811.13,
          19767544.78,
          2769.91,
          98084.93,
          1415950.37,
          133669.05,
          31364649.99,
          575.47,
          216976.97999999998,
          338450.74,
          8473501.52,
          308352.6,
          361851.55,
          3819555.45,
          2373227.08,
          32271557.87,
          4167041.13,
          317214.56,
          541853.25,
          6826685.14,
          26134643.259999998,
          372344,
          224949.04,
          138176.35,
          629340.62,
          13696264.47,
          56881.99,
          917875.9,
          1338860.28,
          3713965.9020000002,
          363193.37,
          782408.29,
          2858515.13,
          524073.23,
          34759467.54,
          1503082.82,
          -412954.47000000003,
          873666.62,
          927689.0999999999,
          16602404.07,
          242710.58000000002,
          2503028.8,
          2239445.96,
          20611594.29,
          161420.38999999998,
          1819783.73,
          1215447,
          1996545.59,
          19954021.9,
          586043.94,
          6617545.94,
          3689659.29,
          2338029.96,
          7869522.9,
          692345.188,
          5111062.38,
          9184661.75,
          7399588.53,
          1854170.194,
          61914.21000000001,
          9957939.82,
          9663620.34,
          7327302.01,
          10194028.23,
          217267.25999999998,
          1137014.1500000001,
          3453408.9,
          3347286.2199999997,
          348659.9,
          12711747.29,
          11604100.92,
          19919617,
          4633044.0600000005,
          6840279.57,
          13058873.93,
          8607684.12,
          4675352.34,
          7067823.65,
          246547.17,
          5533134.67,
          7984113.88,
          7643396.04,
          715258.73,
          6181846.32,
          6965616.4,
          6688597.42,
          2240687.71,
          7836503.48,
          7427389.6899999995,
          4190020.62,
          5608936.45,
          1243333.188,
          2094815.76,
          8464377,
          6049915.54,
          6063101.18,
          394619.14999999997,
          7535248.92,
          14514539.92,
          8463645.370000001,
          230834.33,
          167475.21000000002,
          10044517.83,
          6998933.55,
          8724123.42,
          3418361.88,
          594009.43,
          6504682.17,
          12197163.88,
          9639498.07,
          7772844.47,
          4124779.85,
          15632581.02,
          11807576.82,
          5980879.89,
          1355033.81,
          2857004.93,
          2545324.57,
          19861207.02,
          265137.42,
          2726580.75,
          934114.26,
          3771293.25,
          68061.6,
          9638427.49,
          12482633.014,
          5726037.64,
          22506195.14,
          11698701.846,
          11184066.384,
          7066748.58,
          2577285.3600000003,
          11460815.77,
          5784684.78,
          7947676.63,
          14327288.395,
          3638544.6,
          12167383.84,
          8849096.5,
          10171442.28,
          1765486.18,
          5964268.642,
          10010940.36,
          16493140.81,
          1329582.4000000001,
          -43109.590000000026,
          20175366.71,
          18083831.080000002,
          14479545.226,
          15000349.42,
          2480914.27,
          1699152.9900000002,
          13438592.104,
          11543408.94,
          21886465.84,
          38426.44,
          4811948.58,
          52556279.339999996,
          11124699.47,
          15168111.23,
          5889986.24,
          225450.5,
          10709195.58,
          6525487.2,
          9985792.46,
          5351596.434,
          995703.99,
          3252786.82,
          14307945.47,
          4265564.43,
          10697462.1,
          2249653.398,
          2054841.91,
          10808190.942,
          717415.03,
          11309417,
          89926.28,
          3654.85,
          31995.89,
          -47522.12,
          946659.7999999999,
          36385200.769999996,
          98310.80000000002,
          1151018.54,
          453914.53,
          1007773.51,
          146952.88,
          231271.15999999997,
          0,
          0,
          179000.33000000002,
          2921453.1,
          1222763.52,
          2036649.82,
          12041.440000000002,
          4154959.2700000005,
          3524469.6,
          6222750.580000001,
          10470037.379999999,
          6883994.510000001,
          0,
          0,
          1972940.2900000005,
          1249199.07,
          3553109.2800000003,
          5010667.509999999,
          13388472.810000002,
          2461709.4399999995,
          5322432.52,
          128195.02000000002,
          10591312.719999999,
          3985689.099999999,
          166.22,
          0,
          2103785.23,
          3698614.7,
          3137924.9699999993,
          9272065.21,
          4320631.550000002,
          0,
          0,
          519507.63,
          10123169.100000003,
          2654657.130000001,
          6052049.47,
          0,
          0,
          0,
          6717661.890000002,
          8354478.1000000015,
          15220657.17,
          6059961,
          318671.87000000005,
          1336189.3000000003,
          2617669.12,
          8511909.49,
          6892578.219999999,
          1323649.55,
          0,
          0,
          2734885.92,
          493083.5,
          4296359.669999999,
          4685772.750000001,
          5141730.58,
          0,
          0,
          290633.92,
          17080965.960000005,
          10478240.430000002,
          749629.5,
          5572009.31,
          0,
          0,
          0,
          5091777.689999999,
          6255451.21,
          6304091.899999997,
          8838765.19,
          507156.86,
          10485474.409999996,
          1419879.000000001,
          20013.72,
          5520553.68,
          1903613.8700000003,
          1493461.6,
          193304.41999999998,
          0,
          0,
          7295921.550000006,
          2358175.149999999,
          727640.5599999999,
          517343.45,
          277103.07,
          0,
          0,
          1188769.3299999996,
          95158.77,
          3011947.839999999,
          5013032.13,
          10316458.14,
          3006455.64,
          613073.2,
          1143145.35,
          3484254.64,
          487972.52,
          1093792.0700000012,
          120515.05,
          1.1641532182693481e-10,
          0,
          3286446.3800000013,
          1804103.0899999999,
          4409024.030000002,
          678970.8,
          28775.468,
          0,
          0,
          1140829.5099999998,
          1857761.21,
          49621.229999999996,
          125474.87000000001,
          0,
          381929,
          0,
          11069256.4,
          15200647.43,
          60416.380000000005,
          186190.32,
          74813.54199999999,
          278125.86,
          162632.33,
          104507.55,
          44277.369999999995,
          3693127.630000001,
          0,
          0,
          17221.46,
          73103,
          297190.51000000007,
          96387.04,
          0,
          21566.37,
          817251.9999999999,
          241558.59,
          1417060.9000000013,
          251492.43,
          0,
          0,
          0,
          4890279.960000001,
          3029631.410000002,
          6531695.370000001,
          6176435.250000001,
          1004170.7399999998,
          61494.240000000005,
          116619.25,
          1804930.8199999996,
          340299.04,
          512775.7599999998,
          0,
          4133274.100000001,
          0,
          0,
          1769409.729999999,
          64477.630000000005,
          580124.17,
          0,
          673954.0599999998,
          0,
          45741.430000000015,
          531116.29,
          362196.66000000003,
          3204182.810000001,
          78759.94,
          3054722.65,
          2396523.2600000007,
          35128.93,
          1478967.5199999998,
          359377.67000000004,
          160798.13,
          5316170.070000001,
          1790986.69,
          0,
          0,
          1838557.19,
          255455.45,
          51386.76,
          185454.52,
          265835.56,
          35128.93,
          2036472.048,
          0,
          2073972.759999998,
          0,
          0,
          355877.92000000004,
          44024.10999999998,
          4395591.37,
          1426255.41,
          -238769.18000000005,
          567221.2299999999,
          210742.16999999998,
          490152.98999999993,
          0,
          6948472.12,
          248409.91,
          0,
          53421.79000000001,
          414609.93,
          0,
          0,
          41650.45,
          2069040,
          0,
          0,
          0,
          899068.3400000001,
          0,
          298681.32,
          1257772.1399999997,
          64356.189999999995,
          4114822.83,
          -227470.59,
          -39536.22,
          143492.29,
          118602.76999999999,
          104459.88999999998,
          -84472.40000000001,
          219982.7,
          421145.61,
          718677.3599999999,
          -127454.4,
          0,
          0,
          128899.84999999999,
          955071.0200000004,
          397078.43,
          1229757.0799999998,
          99209.54000000001,
          0,
          0,
          4160059.63,
          1230.09,
          460299.74,
          675215.1799999999,
          134543.71,
          0,
          0,
          1765412.49,
          49764.57999999999,
          232479.89,
          361425.6499999999,
          1076104.0100000005,
          560489.3000000004,
          2172386.32,
          1180619.319999998,
          -264044.99,
          0,
          0,
          173114.63000000006,
          42440.18000000004,
          1795383.7399999998,
          3816,
          213623.44999999998,
          0,
          0,
          880907.77,
          502406.42999999993,
          46200.01000000012,
          604755.49,
          0.060000000055879354,
          0,
          0,
          297357.58,
          -244338.82,
          -10844.839999999997,
          798495.4900000001,
          451224.89,
          623590.2000000001,
          1249123.8299999996,
          1278505.2100000002,
          423953.07000000007,
          185861.71999999997,
          0,
          1382487.14,
          121361.64,
          317747.68,
          1040364.9099999998,
          686233.14,
          0,
          0,
          1377817.63,
          458015.26999999996,
          0,
          0,
          0,
          0,
          0,
          114531.49999999999,
          44151.08,
          409106.54000000004,
          106652.49999999999,
          0,
          2310030.61,
          510611.06000000006,
          1623582.98,
          317437.15,
          359799.57999999996,
          73442.49,
          83291.17,
          438391.01,
          0,
          0,
          1862645.749999998,
          690427.6899999998,
          33999.819999999985,
          1077338.5899999999,
          183491.50999999998,
          0,
          805434.53,
          1522232.38,
          38434.81,
          85852.12,
          13628716.91,
          0,
          0,
          1275036.61,
          10986631.170000004,
          134894.23,
          2575246.4499999997,
          514306.8,
          81732.14,
          109911.51,
          402998.2,
          1335637.0300000003,
          858236.6000000001,
          2524441.9,
          0,
          0,
          444531.8,
          117354.85999999999,
          158434,
          899617.2799999999,
          7545616.63,
          0,
          0,
          23281.28,
          2783244,
          720298.93,
          245694.56,
          419953.2,
          0,
          0,
          0,
          2183253.12,
          0,
          13305740.8,
          530327.66,
          2082137.17,
          15592398.819999991,
          71770.18,
          4681541.81,
          0,
          1533978.38,
          8641932.760000002,
          115969.54000000001,
          4396168.179999999,
          3390560.299999999,
          0,
          0,
          -59540.00000000003,
          4865492.869999999,
          6935279.37,
          691330.72,
          4115623.19,
          0,
          0,
          93359.76,
          1640434.0500000003,
          475509.70999999996,
          0,
          0,
          2498500.13,
          201530.7,
          20129.77,
          3832292.8000000007,
          7687429.449999996,
          1689445.46,
          970477.37,
          374019.43000000005,
          2101376.66,
          0,
          0,
          173617.86000000002,
          1301426.02,
          398.85999999999694,
          0,
          154650.04,
          0,
          0,
          979780.6799999999,
          218776.58,
          368307.14,
          583186.47,
          0,
          0,
          525769.15,
          13273209.24,
          377776.25,
          22434.14,
          6617634.87,
          129637.13,
          261205.2,
          0,
          942522.2799999998,
          123764.78000000001,
          357340.93000000005,
          706210.9099999999,
          3558287.9799999995,
          -728038.6600000011,
          0,
          0,
          99121.54,
          2159892.4099999997,
          255730.40000000005,
          399076.97999999975,
          95221.23999999999,
          299816.54000000004,
          178993.79,
          20371.11,
          -45631.869999999995,
          245283.02,
          2911677.660000001,
          4964600.2700000005,
          58056.47,
          3303565.27,
          0,
          0,
          5778987.64,
          60963.72,
          0,
          1987930.1099999999,
          0,
          0,
          0,
          1999210.7900000007,
          0,
          29578.26,
          0,
          3994327.51
         ]
        },
        {
         "mode": "lines",
         "name": "Turnover",
         "type": "scatter",
         "x": [
          "2017-10-31",
          "2017-11-30",
          "2017-12-31",
          "2018-01-31",
          "2018-02-28",
          "2018-03-31",
          "2018-04-29",
          "2018-04-30",
          "2018-05-06",
          "2018-05-20",
          "2018-05-27",
          "2018-05-31",
          "2018-06-30",
          "2018-07-31",
          "2018-08-31",
          "2018-10-14",
          "2018-10-21",
          "2018-10-28",
          "2018-10-31",
          "2018-11-11",
          "2018-11-18",
          "2018-11-30",
          "2018-12-09",
          "2018-12-16",
          "2018-12-23",
          "2018-12-30",
          "2018-12-31",
          "2019-01-06",
          "2019-01-13",
          "2019-01-20",
          "2019-01-27",
          "2019-01-31",
          "2019-02-03",
          "2019-02-17",
          "2019-02-24",
          "2019-02-28",
          "2019-03-10",
          "2019-03-17",
          "2019-03-24",
          "2019-03-31",
          "2019-04-14",
          "2019-04-21",
          "2019-04-28",
          "2019-04-30",
          "2019-05-12",
          "2019-05-19",
          "2019-05-26",
          "2019-05-31",
          "2019-06-09",
          "2019-06-16",
          "2019-06-23",
          "2019-06-30",
          "2019-07-07",
          "2019-07-21",
          "2019-07-28",
          "2019-07-31",
          "2019-08-11",
          "2019-08-18",
          "2019-08-25",
          "2019-08-31",
          "2019-09-08",
          "2019-09-15",
          "2019-09-22",
          "2019-09-29",
          "2019-09-30",
          "2019-10-13",
          "2019-10-20",
          "2019-10-27",
          "2019-10-31",
          "2019-11-03",
          "2019-11-10",
          "2019-11-17",
          "2019-11-24",
          "2019-11-30",
          "2019-12-08",
          "2019-12-15",
          "2019-12-22",
          "2019-12-29",
          "2019-12-31",
          "2020-01-05",
          "2020-01-12",
          "2020-01-19",
          "2020-01-26",
          "2020-01-31",
          "2020-02-09",
          "2020-02-16",
          "2020-02-23",
          "2020-02-29",
          "2020-03-08",
          "2020-03-15",
          "2020-03-22",
          "2020-03-29",
          "2020-03-31",
          "2020-04-05",
          "2020-04-12",
          "2020-04-19",
          "2020-04-26",
          "2020-04-30",
          "2020-05-10",
          "2020-05-17",
          "2020-05-24",
          "2020-05-31",
          "2020-06-07",
          "2020-06-14",
          "2020-06-21",
          "2020-06-28",
          "2020-06-30",
          "2020-07-05",
          "2020-07-12",
          "2020-07-19",
          "2020-07-26",
          "2020-07-31",
          "2020-08-09",
          "2020-08-16",
          "2020-08-23",
          "2020-08-30",
          "2020-08-31",
          "2020-09-06",
          "2020-09-13",
          "2020-09-20",
          "2020-09-27",
          "2020-09-30",
          "2020-10-11",
          "2020-10-18",
          "2020-10-25",
          "2020-10-31",
          "2020-11-08",
          "2020-11-15",
          "2020-11-22",
          "2020-11-29",
          "2020-11-30",
          "2020-12-06",
          "2020-12-13",
          "2020-12-20",
          "2020-12-27",
          "2020-12-31",
          "2021-01-10",
          "2021-01-17",
          "2021-01-24",
          "2021-01-31",
          "2021-02-07",
          "2021-02-14",
          "2021-02-21",
          "2021-02-28",
          "2021-03-07",
          "2021-03-14",
          "2021-03-21",
          "2021-03-28",
          "2021-03-31",
          "2021-04-04",
          "2021-04-11",
          "2021-04-18",
          "2021-04-25",
          "2021-04-30",
          "2021-05-09",
          "2021-05-16",
          "2021-05-23",
          "2021-05-30",
          "2021-05-31",
          "2021-06-06",
          "2021-06-13",
          "2021-06-20",
          "2021-06-27",
          "2021-06-30",
          "2021-07-04",
          "2021-07-11",
          "2021-07-18",
          "2021-07-25",
          "2021-07-31",
          "2021-08-08",
          "2021-08-15",
          "2021-08-22",
          "2021-08-29",
          "2021-08-31",
          "2021-09-05",
          "2021-09-12",
          "2021-09-19",
          "2021-09-26",
          "2021-09-30",
          "2021-10-03",
          "2021-10-10",
          "2021-10-17",
          "2021-10-24",
          "2021-10-31",
          "2021-11-07",
          "2021-11-14",
          "2021-11-21",
          "2021-11-28",
          "2021-11-30",
          "2021-12-05",
          "2021-12-12",
          "2021-12-19",
          "2021-12-26",
          "2021-12-31",
          "2022-01-09",
          "2022-01-16",
          "2022-01-23",
          "2022-01-30",
          "2022-01-31",
          "2022-02-13",
          "2022-02-20",
          "2022-02-27",
          "2022-02-28",
          "2022-03-06",
          "2022-03-13",
          "2022-03-20",
          "2022-03-27",
          "2022-03-31",
          "2022-04-03",
          "2022-04-10",
          "2022-04-17",
          "2022-04-24",
          "2022-04-30",
          "2022-05-01",
          "2022-05-08",
          "2022-05-15",
          "2022-05-22",
          "2022-05-29",
          "2022-05-31",
          "2022-06-05",
          "2022-06-12",
          "2022-06-19",
          "2022-06-26",
          "2022-06-30",
          "2022-07-03",
          "2022-07-10",
          "2022-07-17",
          "2022-07-24",
          "2022-07-31",
          "2022-08-07",
          "2022-08-14",
          "2022-08-21",
          "2022-08-28",
          "2022-08-31",
          "2022-09-04",
          "2022-09-11",
          "2022-09-18",
          "2022-09-25",
          "2022-09-30",
          "2022-10-01",
          "2022-10-08",
          "2022-10-09",
          "2022-10-10",
          "2022-10-12",
          "2022-10-13",
          "2022-10-14",
          "2022-10-15",
          "2022-10-16",
          "2022-10-17",
          "2022-10-18",
          "2022-10-19",
          "2022-10-20",
          "2022-10-21",
          "2022-10-24",
          "2022-10-25",
          "2022-10-26",
          "2022-10-27",
          "2022-10-28",
          "2022-10-29",
          "2022-10-30",
          "2022-10-31",
          "2022-11-01",
          "2022-11-02",
          "2022-11-03",
          "2022-11-04",
          "2022-11-07",
          "2022-11-08",
          "2022-11-09",
          "2022-11-10",
          "2022-11-11",
          "2022-11-12",
          "2022-11-13",
          "2022-11-14",
          "2022-11-15",
          "2022-11-16",
          "2022-11-17",
          "2022-11-18",
          "2022-11-19",
          "2022-11-20",
          "2022-11-21",
          "2022-11-22",
          "2022-11-23",
          "2022-11-24",
          "2022-11-25",
          "2022-11-26",
          "2022-11-27",
          "2022-11-28",
          "2022-11-29",
          "2022-11-30",
          "2022-12-01",
          "2022-12-02",
          "2022-12-05",
          "2022-12-06",
          "2022-12-07",
          "2022-12-08",
          "2022-12-09",
          "2022-12-10",
          "2022-12-11",
          "2022-12-12",
          "2022-12-13",
          "2022-12-14",
          "2022-12-15",
          "2022-12-16",
          "2022-12-17",
          "2022-12-18",
          "2022-12-19",
          "2022-12-20",
          "2022-12-21",
          "2022-12-22",
          "2022-12-23",
          "2022-12-24",
          "2022-12-25",
          "2022-12-27",
          "2022-12-28",
          "2022-12-29",
          "2022-12-30",
          "2022-12-31",
          "2023-01-03",
          "2023-01-04",
          "2023-01-05",
          "2023-01-06",
          "2023-01-09",
          "2023-01-10",
          "2023-01-12",
          "2023-01-13",
          "2023-01-14",
          "2023-01-15",
          "2023-01-16",
          "2023-01-17",
          "2023-01-18",
          "2023-01-19",
          "2023-01-20",
          "2023-01-21",
          "2023-01-22",
          "2023-01-28",
          "2023-01-29",
          "2023-01-30",
          "2023-01-31",
          "2023-02-01",
          "2023-02-02",
          "2023-02-03",
          "2023-02-06",
          "2023-02-07",
          "2023-02-08",
          "2023-02-09",
          "2023-02-10",
          "2023-02-11",
          "2023-02-12",
          "2023-02-13",
          "2023-02-14",
          "2023-02-15",
          "2023-02-16",
          "2023-02-17",
          "2023-02-18",
          "2023-02-19",
          "2023-02-20",
          "2023-02-21",
          "2023-02-22",
          "2023-02-23",
          "2023-02-24",
          "2023-02-25",
          "2023-02-26",
          "2023-02-27",
          "2023-02-28",
          "2023-03-01",
          "2023-03-02",
          "2023-03-03",
          "2023-03-06",
          "2023-03-07",
          "2023-03-08",
          "2023-03-09",
          "2023-03-10",
          "2023-03-11",
          "2023-03-12",
          "2023-03-14",
          "2023-03-15",
          "2023-03-16",
          "2023-03-17",
          "2023-03-19",
          "2023-03-20",
          "2023-03-21",
          "2023-03-22",
          "2023-03-23",
          "2023-03-24",
          "2023-03-25",
          "2023-03-26",
          "2023-03-27",
          "2023-03-28",
          "2023-03-29",
          "2023-03-30",
          "2023-03-31",
          "2023-04-04",
          "2023-04-06",
          "2023-04-07",
          "2023-04-10",
          "2023-04-11",
          "2023-04-12",
          "2023-04-13",
          "2023-04-14",
          "2023-04-15",
          "2023-04-16",
          "2023-04-17",
          "2023-04-18",
          "2023-04-19",
          "2023-04-20",
          "2023-04-21",
          "2023-04-22",
          "2023-04-23",
          "2023-04-24",
          "2023-04-25",
          "2023-04-26",
          "2023-04-27",
          "2023-04-28",
          "2023-04-30",
          "2023-05-04",
          "2023-05-05",
          "2023-05-06",
          "2023-05-09",
          "2023-05-11",
          "2023-05-13",
          "2023-05-14",
          "2023-05-15",
          "2023-05-16",
          "2023-05-17",
          "2023-05-18",
          "2023-05-19",
          "2023-05-22",
          "2023-05-23",
          "2023-05-24",
          "2023-05-25",
          "2023-05-26",
          "2023-05-27",
          "2023-05-28",
          "2023-05-29",
          "2023-05-30",
          "2023-05-31",
          "2023-06-02",
          "2023-06-05",
          "2023-06-06",
          "2023-06-07",
          "2023-06-09",
          "2023-06-11",
          "2023-06-12",
          "2023-06-13",
          "2023-06-14",
          "2023-06-15",
          "2023-06-16",
          "2023-06-17",
          "2023-06-18",
          "2023-06-19",
          "2023-06-20",
          "2023-06-21",
          "2023-06-22",
          "2023-06-23",
          "2023-06-25",
          "2023-06-26",
          "2023-06-27",
          "2023-06-28",
          "2023-06-29",
          "2023-06-30",
          "2023-07-03",
          "2023-07-04",
          "2023-07-05",
          "2023-07-06",
          "2023-07-07",
          "2023-07-10",
          "2023-07-11",
          "2023-07-12",
          "2023-07-13",
          "2023-07-14",
          "2023-07-15",
          "2023-07-16",
          "2023-07-17",
          "2023-07-18",
          "2023-07-19",
          "2023-07-20",
          "2023-07-21",
          "2023-07-22",
          "2023-07-23",
          "2023-07-24",
          "2023-07-25",
          "2023-07-26",
          "2023-07-27",
          "2023-07-28",
          "2023-07-29",
          "2023-07-30",
          "2023-07-31",
          "2023-08-01",
          "2023-08-03",
          "2023-08-04",
          "2023-08-07",
          "2023-08-08",
          "2023-08-09",
          "2023-08-10",
          "2023-08-11",
          "2023-08-12",
          "2023-08-13",
          "2023-08-14",
          "2023-08-15",
          "2023-08-16",
          "2023-08-17",
          "2023-08-18",
          "2023-08-19",
          "2023-08-20",
          "2023-08-21",
          "2023-08-22",
          "2023-08-23",
          "2023-08-24",
          "2023-08-25",
          "2023-08-26",
          "2023-08-27",
          "2023-08-28",
          "2023-08-29",
          "2023-08-30",
          "2023-08-31",
          "2023-09-01",
          "2023-09-04",
          "2023-09-05",
          "2023-09-06",
          "2023-09-07",
          "2023-09-08",
          "2023-09-10",
          "2023-09-11",
          "2023-09-12",
          "2023-09-13",
          "2023-09-14",
          "2023-09-15",
          "2023-09-16",
          "2023-09-17",
          "2023-09-18",
          "2023-09-19",
          "2023-09-20",
          "2023-09-21",
          "2023-09-22",
          "2023-09-23",
          "2023-09-24",
          "2023-09-25",
          "2023-09-26",
          "2023-09-27",
          "2023-09-28",
          "2023-09-29",
          "2023-09-30",
          "2023-10-07",
          "2023-10-08",
          "2023-10-09",
          "2023-10-10",
          "2023-10-11",
          "2023-10-12",
          "2023-10-13",
          "2023-10-14",
          "2023-10-15",
          "2023-10-16",
          "2023-10-17",
          "2023-10-18",
          "2023-10-19",
          "2023-10-20",
          "2023-10-21",
          "2023-10-23",
          "2023-10-24",
          "2023-10-25",
          "2023-10-26",
          "2023-10-27",
          "2023-10-28",
          "2023-10-29",
          "2023-10-30",
          "2023-10-31",
          "2023-11-01",
          "2023-11-02",
          "2023-11-03",
          "2023-11-04",
          "2023-11-06",
          "2023-11-07",
          "2023-11-08",
          "2023-11-09",
          "2023-11-10",
          "2023-11-11",
          "2023-11-12",
          "2023-11-13",
          "2023-11-14",
          "2023-11-15",
          "2023-11-16",
          "2023-11-17",
          "2023-11-18",
          "2023-11-19",
          "2023-11-20",
          "2023-11-21",
          "2023-11-22",
          "2023-11-23",
          "2023-11-24",
          "2023-11-25",
          "2023-11-26",
          "2023-11-27",
          "2023-11-28",
          "2023-11-29",
          "2023-11-30",
          "2023-12-01",
          "2023-12-04",
          "2023-12-05",
          "2023-12-06",
          "2023-12-08",
          "2023-12-10",
          "2023-12-11",
          "2023-12-12",
          "2023-12-13",
          "2023-12-14",
          "2023-12-15",
          "2023-12-16",
          "2023-12-17",
          "2023-12-18",
          "2023-12-19",
          "2023-12-20",
          "2023-12-21",
          "2023-12-22",
          "2023-12-23",
          "2023-12-24",
          "2023-12-26",
          "2023-12-27",
          "2023-12-28",
          "2023-12-29",
          "2023-12-30",
          "2023-12-31",
          "2024-01-02",
          "2024-01-03",
          "2024-01-04",
          "2024-01-05",
          "2024-01-09",
          "2024-01-10",
          "2024-01-11",
          "2024-01-12",
          "2024-01-13",
          "2024-01-14",
          "2024-01-15",
          "2024-01-16",
          "2024-01-17",
          "2024-01-18",
          "2024-01-19",
          "2024-01-20",
          "2024-01-21",
          "2024-01-23",
          "2024-01-24",
          "2024-01-25",
          "2024-01-26",
          "2024-01-27",
          "2024-01-28",
          "2024-01-30",
          "2024-01-31",
          "2024-02-01",
          "2024-02-02",
          "2024-02-04",
          "2024-02-05",
          "2024-02-07",
          "2024-02-10",
          "2024-02-18",
          "2024-02-19",
          "2024-02-20",
          "2024-02-21",
          "2024-02-22",
          "2024-02-23",
          "2024-02-24",
          "2024-02-25",
          "2024-02-26",
          "2024-02-27",
          "2024-02-28",
          "2024-02-29",
          "2024-03-01",
          "2024-03-04",
          "2024-03-05",
          "2024-03-07",
          "2024-03-08",
          "2024-03-11",
          "2024-03-12",
          "2024-03-13",
          "2024-03-14",
          "2024-03-15",
          "2024-03-16",
          "2024-03-17",
          "2024-03-19",
          "2024-03-20",
          "2024-03-21",
          "2024-03-22",
          "2024-03-23",
          "2024-03-24",
          "2024-03-25",
          "2024-03-26",
          "2024-03-27",
          "2024-03-28",
          "2024-03-29",
          "2024-03-31"
         ],
         "y": [
          9768948.67,
          26614725.44,
          19296155.52,
          25276674.18,
          15833965.65,
          27856201.7,
          17428.12,
          21732970.44,
          142199.03999999998,
          179170.87,
          1208538.15,
          22214993.35,
          22208970.31,
          16102515.74,
          12373474.22,
          0,
          0,
          0,
          15840638.26,
          0,
          0,
          34071388.44,
          0,
          0,
          0,
          0,
          24125069.44,
          0,
          0,
          0,
          0,
          26849899.1,
          0,
          0,
          94328.73,
          11960092.272,
          0,
          174314.25,
          0,
          25248187.2,
          0,
          0,
          0,
          28651931.88,
          0,
          0,
          0,
          25439214.21,
          0,
          0,
          0,
          27043070.02,
          0,
          0,
          0,
          30687752.46,
          0,
          0,
          0,
          20920709.35,
          0,
          0,
          0,
          0,
          32231195.15,
          0,
          0,
          0,
          16189820.61,
          0,
          0,
          212328.91,
          0,
          35515524.23,
          0,
          0,
          0,
          0,
          31874595.14,
          0,
          0,
          0,
          0,
          18743364.86,
          0,
          0,
          0,
          3203683.332,
          0,
          0,
          0,
          0,
          38648365.56,
          0,
          0,
          0,
          0,
          20385100.93,
          0,
          2500562.59,
          216352.72999999998,
          23542359.1,
          0,
          1951138.4,
          1018152.58,
          945556.87,
          28578866,
          0,
          5425345.41,
          3502444.14,
          2348306.79,
          10167783.74,
          0,
          9533135.56,
          7328557.63,
          4893175.54,
          4670494.276,
          0,
          9391642.89,
          8665362.8,
          986483.85,
          2305265.836,
          0,
          0,
          3704011.95,
          10874465.09,
          0,
          12405874.67,
          9060242.94,
          19125924.04,
          3833963.61,
          0,
          7978934.86,
          9609655.87,
          4499018.48,
          8830950.03,
          0,
          6631730,
          5625880.27,
          15055250.99,
          0,
          6224241.75,
          6419064.12,
          8824411.35,
          0,
          8026149.33,
          4999225.83,
          3335706.59,
          8901782.64,
          0,
          0,
          9877647.32,
          6716628.43,
          10105547.92,
          0,
          7288798.43,
          10665656.26,
          9985294.91,
          2062470.328,
          0,
          6180931.72,
          3160459.76,
          6781094.41,
          12776291.56,
          0,
          6174849.06,
          5333579.75,
          2771813.02,
          16279889.12,
          0,
          5897211.72,
          6092759.58,
          12509854.36,
          5025833.09,
          0,
          0,
          10938262.4,
          5040421.71,
          20750804.51,
          0,
          0,
          0,
          4376880.39,
          7188405.46,
          0,
          13105167.58,
          10969121.93,
          7731695.31,
          6767920.412,
          0,
          4471432.66,
          3675296.06,
          3436569.75,
          19898635.543,
          0,
          9083244.52,
          4207319.4,
          6115801.02,
          2770860.4020000002,
          5753750.63,
          8815237.94,
          13923641.32,
          3991782.99,
          58366.15,
          15133092.23,
          11909850.36,
          10887339.72,
          16994254.704,
          130528.63,
          97804.97,
          9736447.03,
          7782797.55,
          12033583.258,
          0,
          0,
          12092887.07,
          8789397.32,
          17241225.33,
          11556367.742,
          0,
          10334691.95,
          5606852.08,
          11100038.33,
          15844757.586,
          0,
          0,
          17895661.62,
          9399987.3,
          19555445.904,
          0,
          10362385.53,
          7522598.86,
          10958611.43,
          23971828.918,
          0,
          7353852.96,
          2930370.1799999997,
          14309610.85,
          9421202.164,
          0,
          0,
          0,
          0,
          0,
          0,
          0,
          23732059.562000003,
          2543174.094,
          0,
          2880891.082,
          2387210.2,
          2132490.9899999998,
          4250784.484,
          0,
          6236261.38,
          968382.1000000001,
          1470080.2500000002,
          1679924.22,
          3828595.88,
          5954563.954,
          0,
          0,
          0,
          0,
          0,
          0,
          0,
          0,
          14994101.072,
          2031137.224,
          2156276.05,
          302095.52,
          0,
          2933463.142,
          1090510.93,
          4959142.852,
          2839629.284,
          3271284.276,
          370001.5,
          0,
          2076599.59,
          1268295.8699999999,
          1654256.4599999997,
          1132581.69,
          1580672.56,
          388236.42,
          80664.41,
          2443133.37,
          19842666.259999998,
          0,
          0,
          0,
          0,
          0,
          0,
          0,
          20946964.144,
          462569.1,
          4316.88,
          3141935,
          768240.85,
          0,
          0,
          8144580.53,
          4183566.07,
          0,
          417908.00999999995,
          -8.09,
          8268622.159999999,
          4990430.5200000005,
          1368488.06,
          765959.1599999999,
          50640,
          0,
          7236790.0200000005,
          17074622.11,
          7626563.83,
          0,
          0,
          0,
          0,
          0,
          0,
          15387978.101,
          1556015.6,
          655701.28,
          411457.43000000005,
          271006.58,
          2528954.95,
          2704756.09,
          2863075.27,
          596061.69,
          131400.8,
          900280.0300000004,
          0,
          1398612.3900000001,
          3075695.12,
          11947892.447,
          0,
          0,
          0,
          0,
          0,
          0,
          0,
          11046276.036,
          3808572.702,
          3058093.7399999998,
          0,
          4412584.399999999,
          1005629.12,
          3265572.8449999997,
          4470154.87,
          2930416.53,
          656133.43,
          0,
          2520182.38,
          1799981.99,
          2806272.425,
          3683057.6,
          1278370.5,
          1625264.6399999997,
          0,
          18460432.706,
          0,
          0,
          0,
          0,
          0,
          0,
          7141.59,
          15946666.25,
          2066216.4200000002,
          575956.67,
          375087.38,
          4478187.7020000005,
          2473052.37,
          653689.41,
          8781075.034,
          0,
          6245389.54,
          2349669.93,
          4145105.41,
          2263595.79,
          794827.1900000001,
          339666.906,
          72327.43999999999,
          1835312.7899999998,
          2130379.548,
          2897402.1799999997,
          18773464.386,
          0,
          0,
          0,
          0,
          0,
          0,
          243575.22999999998,
          16892842.63,
          1454005.68,
          1034609.5499999999,
          29211.46,
          1020139.3,
          1424407.24,
          1594481.93,
          2271014.0500000003,
          1988355.255,
          324864.66,
          1155936.155,
          606039.7,
          2995106.27,
          1266187.77,
          6463375.916,
          2396523.2600000002,
          0,
          0,
          0,
          0,
          10668199.42,
          2032599.76,
          1442201.49,
          738857.99,
          1161016.5799999998,
          2406116.098,
          1648748.77,
          2413765.76,
          0,
          1951185.5300000003,
          3308108.34,
          1234793.0599999998,
          2566522.85,
          3086216.21,
          233883.68000000002,
          0,
          3555042.926,
          8872746.102,
          0,
          0,
          0,
          0,
          0,
          15735838.91,
          44217.95,
          1278098.56,
          1817296.57,
          5890651.56,
          2029400.7,
          2853227.62,
          2026164.09,
          0,
          5080451.14,
          2657894.09,
          1559839.03,
          437594.04,
          0,
          0,
          6529198.92,
          2722802.96,
          682111.99,
          8774952.110000001,
          0,
          0,
          0,
          0,
          0,
          0,
          184723.02,
          15423968.808,
          1986724.7499999995,
          1245123.3,
          3193269.2399999998,
          700834.65,
          0,
          2492635.1999999997,
          2300325.6999999997,
          1325151.57,
          1915880,
          1044552.71,
          657866.19,
          3488794.15,
          2889758.0100000002,
          2227524.9800000004,
          1185968.8699999999,
          972690.62,
          2557960.57,
          3296699.938,
          1711917.8100000003,
          0,
          0,
          0,
          0,
          0,
          2794,
          19721124.126000002,
          2780305.64,
          1344821.4,
          747259.84,
          0,
          3984163.6,
          1657503.47,
          602164.96,
          4036308.3499999996,
          3084799.53,
          693426.9600000002,
          0,
          4427079.91,
          2914136.079999999,
          3726636.31,
          7942846.949999999,
          1462214.67,
          2862631.0800000005,
          15309.74,
          3266942.09,
          6805581.26,
          4488458.592,
          0,
          0,
          0,
          0,
          0,
          0,
          14216591.382,
          3448713.48,
          826857.8200000001,
          2604284.23,
          2633280.11,
          2856256.65,
          4916704,
          726413.21,
          0,
          3500006.17,
          2677355.828,
          1644636.48,
          3442763.95,
          2625193.6399999997,
          1216655.99,
          -18495.57,
          4070056.2199999997,
          730965.6900000001,
          2780278.16,
          7076103.328000001,
          2310030.6100000003,
          0,
          0,
          0,
          0,
          0,
          0,
          817580.3499999999,
          14100123.755,
          198825.41,
          0,
          1415171.57,
          3516676.26,
          2259807.802,
          3300963.3699999996,
          6894.08,
          3114,
          4809659.625,
          1380177.23,
          1458601.5599999998,
          1761300.73,
          1991821.58,
          1480475.1199999999,
          10442.48,
          5201838.892,
          0,
          0,
          0,
          0,
          0,
          0,
          0,
          0,
          109359.19,
          13325907.719999999,
          1878251.8699999999,
          0,
          2254853.94,
          1651279.48,
          1208276.78,
          847936.12,
          1731216.08,
          3212664.0800000005,
          0,
          3253291.29,
          4360170.01,
          698513.94,
          2526192.7600000002,
          1412381.8800000001,
          1216212.22,
          0,
          4065446.818,
          1660851.88,
          11327760.74,
          0,
          0,
          0,
          0,
          0,
          11838912.02,
          14507.97,
          1721594.1300000001,
          3171615.46,
          2072624.24,
          1050188,
          260903.02000000002,
          2320633.54,
          0,
          329125.99,
          2583007.97,
          1235463.02,
          3971161.27,
          1492476.89,
          1646788.93,
          594.01,
          28512.36,
          6318261.61,
          1786979.88,
          23075772.19,
          2498500.1299999994,
          0,
          0,
          0,
          0,
          0,
          0,
          12129918.93,
          494360.23000000004,
          2384254.8,
          1225559.96,
          0,
          219990.3000000001,
          1818470.24,
          240238.28999999998,
          629241.87,
          1544919.54,
          1356190.07,
          869285.4099999999,
          4071620.56,
          1373816.77,
          4630562.49,
          756653.32,
          1704210.7,
          2322270.565,
          9787010.799999999,
          0,
          0,
          0,
          0,
          0,
          5579341.87,
          0,
          51753.96,
          383582.29,
          659346.74,
          592392.9199999999,
          1238159.93,
          1374295.6699999997,
          271392.43,
          37641.745,
          1529294.24,
          71263.31,
          14569272.389999999,
          0,
          0,
          0,
          0,
          0,
          8680976.690000001,
          2014435.8900000001,
          211915.77,
          545824.99,
          1361088.34,
          3135148.96,
          169494.36,
          2790923.17,
          1813856.91,
          3315049.09,
          3210613.67,
          742261.46,
          126488.09,
          76721.24000000009,
          965180.11,
          55255.1,
          21606363.94,
          2851942.5,
          3994327.5100000002
         ]
        }
       ],
       "layout": {
        "autosize": true,
        "legend": {
         "x": 0.01,
         "y": 0.99
        },
        "margin": {
         "b": 0,
         "l": 0,
         "r": 0,
         "t": 0
        },
        "template": {
         "data": {
          "bar": [
           {
            "error_x": {
             "color": "#2a3f5f"
            },
            "error_y": {
             "color": "#2a3f5f"
            },
            "marker": {
             "line": {
              "color": "#E5ECF6",
              "width": 0.5
             },
             "pattern": {
              "fillmode": "overlay",
              "size": 10,
              "solidity": 0.2
             }
            },
            "type": "bar"
           }
          ],
          "barpolar": [
           {
            "marker": {
             "line": {
              "color": "#E5ECF6",
              "width": 0.5
             },
             "pattern": {
              "fillmode": "overlay",
              "size": 10,
              "solidity": 0.2
             }
            },
            "type": "barpolar"
           }
          ],
          "carpet": [
           {
            "aaxis": {
             "endlinecolor": "#2a3f5f",
             "gridcolor": "white",
             "linecolor": "white",
             "minorgridcolor": "white",
             "startlinecolor": "#2a3f5f"
            },
            "baxis": {
             "endlinecolor": "#2a3f5f",
             "gridcolor": "white",
             "linecolor": "white",
             "minorgridcolor": "white",
             "startlinecolor": "#2a3f5f"
            },
            "type": "carpet"
           }
          ],
          "choropleth": [
           {
            "colorbar": {
             "outlinewidth": 0,
             "ticks": ""
            },
            "type": "choropleth"
           }
          ],
          "contour": [
           {
            "colorbar": {
             "outlinewidth": 0,
             "ticks": ""
            },
            "colorscale": [
             [
              0,
              "#0d0887"
             ],
             [
              0.1111111111111111,
              "#46039f"
             ],
             [
              0.2222222222222222,
              "#7201a8"
             ],
             [
              0.3333333333333333,
              "#9c179e"
             ],
             [
              0.4444444444444444,
              "#bd3786"
             ],
             [
              0.5555555555555556,
              "#d8576b"
             ],
             [
              0.6666666666666666,
              "#ed7953"
             ],
             [
              0.7777777777777778,
              "#fb9f3a"
             ],
             [
              0.8888888888888888,
              "#fdca26"
             ],
             [
              1,
              "#f0f921"
             ]
            ],
            "type": "contour"
           }
          ],
          "contourcarpet": [
           {
            "colorbar": {
             "outlinewidth": 0,
             "ticks": ""
            },
            "type": "contourcarpet"
           }
          ],
          "heatmap": [
           {
            "colorbar": {
             "outlinewidth": 0,
             "ticks": ""
            },
            "colorscale": [
             [
              0,
              "#0d0887"
             ],
             [
              0.1111111111111111,
              "#46039f"
             ],
             [
              0.2222222222222222,
              "#7201a8"
             ],
             [
              0.3333333333333333,
              "#9c179e"
             ],
             [
              0.4444444444444444,
              "#bd3786"
             ],
             [
              0.5555555555555556,
              "#d8576b"
             ],
             [
              0.6666666666666666,
              "#ed7953"
             ],
             [
              0.7777777777777778,
              "#fb9f3a"
             ],
             [
              0.8888888888888888,
              "#fdca26"
             ],
             [
              1,
              "#f0f921"
             ]
            ],
            "type": "heatmap"
           }
          ],
          "heatmapgl": [
           {
            "colorbar": {
             "outlinewidth": 0,
             "ticks": ""
            },
            "colorscale": [
             [
              0,
              "#0d0887"
             ],
             [
              0.1111111111111111,
              "#46039f"
             ],
             [
              0.2222222222222222,
              "#7201a8"
             ],
             [
              0.3333333333333333,
              "#9c179e"
             ],
             [
              0.4444444444444444,
              "#bd3786"
             ],
             [
              0.5555555555555556,
              "#d8576b"
             ],
             [
              0.6666666666666666,
              "#ed7953"
             ],
             [
              0.7777777777777778,
              "#fb9f3a"
             ],
             [
              0.8888888888888888,
              "#fdca26"
             ],
             [
              1,
              "#f0f921"
             ]
            ],
            "type": "heatmapgl"
           }
          ],
          "histogram": [
           {
            "marker": {
             "pattern": {
              "fillmode": "overlay",
              "size": 10,
              "solidity": 0.2
             }
            },
            "type": "histogram"
           }
          ],
          "histogram2d": [
           {
            "colorbar": {
             "outlinewidth": 0,
             "ticks": ""
            },
            "colorscale": [
             [
              0,
              "#0d0887"
             ],
             [
              0.1111111111111111,
              "#46039f"
             ],
             [
              0.2222222222222222,
              "#7201a8"
             ],
             [
              0.3333333333333333,
              "#9c179e"
             ],
             [
              0.4444444444444444,
              "#bd3786"
             ],
             [
              0.5555555555555556,
              "#d8576b"
             ],
             [
              0.6666666666666666,
              "#ed7953"
             ],
             [
              0.7777777777777778,
              "#fb9f3a"
             ],
             [
              0.8888888888888888,
              "#fdca26"
             ],
             [
              1,
              "#f0f921"
             ]
            ],
            "type": "histogram2d"
           }
          ],
          "histogram2dcontour": [
           {
            "colorbar": {
             "outlinewidth": 0,
             "ticks": ""
            },
            "colorscale": [
             [
              0,
              "#0d0887"
             ],
             [
              0.1111111111111111,
              "#46039f"
             ],
             [
              0.2222222222222222,
              "#7201a8"
             ],
             [
              0.3333333333333333,
              "#9c179e"
             ],
             [
              0.4444444444444444,
              "#bd3786"
             ],
             [
              0.5555555555555556,
              "#d8576b"
             ],
             [
              0.6666666666666666,
              "#ed7953"
             ],
             [
              0.7777777777777778,
              "#fb9f3a"
             ],
             [
              0.8888888888888888,
              "#fdca26"
             ],
             [
              1,
              "#f0f921"
             ]
            ],
            "type": "histogram2dcontour"
           }
          ],
          "mesh3d": [
           {
            "colorbar": {
             "outlinewidth": 0,
             "ticks": ""
            },
            "type": "mesh3d"
           }
          ],
          "parcoords": [
           {
            "line": {
             "colorbar": {
              "outlinewidth": 0,
              "ticks": ""
             }
            },
            "type": "parcoords"
           }
          ],
          "pie": [
           {
            "automargin": true,
            "type": "pie"
           }
          ],
          "scatter": [
           {
            "fillpattern": {
             "fillmode": "overlay",
             "size": 10,
             "solidity": 0.2
            },
            "type": "scatter"
           }
          ],
          "scatter3d": [
           {
            "line": {
             "colorbar": {
              "outlinewidth": 0,
              "ticks": ""
             }
            },
            "marker": {
             "colorbar": {
              "outlinewidth": 0,
              "ticks": ""
             }
            },
            "type": "scatter3d"
           }
          ],
          "scattercarpet": [
           {
            "marker": {
             "colorbar": {
              "outlinewidth": 0,
              "ticks": ""
             }
            },
            "type": "scattercarpet"
           }
          ],
          "scattergeo": [
           {
            "marker": {
             "colorbar": {
              "outlinewidth": 0,
              "ticks": ""
             }
            },
            "type": "scattergeo"
           }
          ],
          "scattergl": [
           {
            "marker": {
             "colorbar": {
              "outlinewidth": 0,
              "ticks": ""
             }
            },
            "type": "scattergl"
           }
          ],
          "scattermapbox": [
           {
            "marker": {
             "colorbar": {
              "outlinewidth": 0,
              "ticks": ""
             }
            },
            "type": "scattermapbox"
           }
          ],
          "scatterpolar": [
           {
            "marker": {
             "colorbar": {
              "outlinewidth": 0,
              "ticks": ""
             }
            },
            "type": "scatterpolar"
           }
          ],
          "scatterpolargl": [
           {
            "marker": {
             "colorbar": {
              "outlinewidth": 0,
              "ticks": ""
             }
            },
            "type": "scatterpolargl"
           }
          ],
          "scatterternary": [
           {
            "marker": {
             "colorbar": {
              "outlinewidth": 0,
              "ticks": ""
             }
            },
            "type": "scatterternary"
           }
          ],
          "surface": [
           {
            "colorbar": {
             "outlinewidth": 0,
             "ticks": ""
            },
            "colorscale": [
             [
              0,
              "#0d0887"
             ],
             [
              0.1111111111111111,
              "#46039f"
             ],
             [
              0.2222222222222222,
              "#7201a8"
             ],
             [
              0.3333333333333333,
              "#9c179e"
             ],
             [
              0.4444444444444444,
              "#bd3786"
             ],
             [
              0.5555555555555556,
              "#d8576b"
             ],
             [
              0.6666666666666666,
              "#ed7953"
             ],
             [
              0.7777777777777778,
              "#fb9f3a"
             ],
             [
              0.8888888888888888,
              "#fdca26"
             ],
             [
              1,
              "#f0f921"
             ]
            ],
            "type": "surface"
           }
          ],
          "table": [
           {
            "cells": {
             "fill": {
              "color": "#EBF0F8"
             },
             "line": {
              "color": "white"
             }
            },
            "header": {
             "fill": {
              "color": "#C8D4E3"
             },
             "line": {
              "color": "white"
             }
            },
            "type": "table"
           }
          ]
         },
         "layout": {
          "annotationdefaults": {
           "arrowcolor": "#2a3f5f",
           "arrowhead": 0,
           "arrowwidth": 1
          },
          "autotypenumbers": "strict",
          "coloraxis": {
           "colorbar": {
            "outlinewidth": 0,
            "ticks": ""
           }
          },
          "colorscale": {
           "diverging": [
            [
             0,
             "#8e0152"
            ],
            [
             0.1,
             "#c51b7d"
            ],
            [
             0.2,
             "#de77ae"
            ],
            [
             0.3,
             "#f1b6da"
            ],
            [
             0.4,
             "#fde0ef"
            ],
            [
             0.5,
             "#f7f7f7"
            ],
            [
             0.6,
             "#e6f5d0"
            ],
            [
             0.7,
             "#b8e186"
            ],
            [
             0.8,
             "#7fbc41"
            ],
            [
             0.9,
             "#4d9221"
            ],
            [
             1,
             "#276419"
            ]
           ],
           "sequential": [
            [
             0,
             "#0d0887"
            ],
            [
             0.1111111111111111,
             "#46039f"
            ],
            [
             0.2222222222222222,
             "#7201a8"
            ],
            [
             0.3333333333333333,
             "#9c179e"
            ],
            [
             0.4444444444444444,
             "#bd3786"
            ],
            [
             0.5555555555555556,
             "#d8576b"
            ],
            [
             0.6666666666666666,
             "#ed7953"
            ],
            [
             0.7777777777777778,
             "#fb9f3a"
            ],
            [
             0.8888888888888888,
             "#fdca26"
            ],
            [
             1,
             "#f0f921"
            ]
           ],
           "sequentialminus": [
            [
             0,
             "#0d0887"
            ],
            [
             0.1111111111111111,
             "#46039f"
            ],
            [
             0.2222222222222222,
             "#7201a8"
            ],
            [
             0.3333333333333333,
             "#9c179e"
            ],
            [
             0.4444444444444444,
             "#bd3786"
            ],
            [
             0.5555555555555556,
             "#d8576b"
            ],
            [
             0.6666666666666666,
             "#ed7953"
            ],
            [
             0.7777777777777778,
             "#fb9f3a"
            ],
            [
             0.8888888888888888,
             "#fdca26"
            ],
            [
             1,
             "#f0f921"
            ]
           ]
          },
          "colorway": [
           "#636efa",
           "#EF553B",
           "#00cc96",
           "#ab63fa",
           "#FFA15A",
           "#19d3f3",
           "#FF6692",
           "#B6E880",
           "#FF97FF",
           "#FECB52"
          ],
          "font": {
           "color": "#2a3f5f"
          },
          "geo": {
           "bgcolor": "white",
           "lakecolor": "white",
           "landcolor": "#E5ECF6",
           "showlakes": true,
           "showland": true,
           "subunitcolor": "white"
          },
          "hoverlabel": {
           "align": "left"
          },
          "hovermode": "closest",
          "mapbox": {
           "style": "light"
          },
          "paper_bgcolor": "white",
          "plot_bgcolor": "#E5ECF6",
          "polar": {
           "angularaxis": {
            "gridcolor": "white",
            "linecolor": "white",
            "ticks": ""
           },
           "bgcolor": "#E5ECF6",
           "radialaxis": {
            "gridcolor": "white",
            "linecolor": "white",
            "ticks": ""
           }
          },
          "scene": {
           "xaxis": {
            "backgroundcolor": "#E5ECF6",
            "gridcolor": "white",
            "gridwidth": 2,
            "linecolor": "white",
            "showbackground": true,
            "ticks": "",
            "zerolinecolor": "white"
           },
           "yaxis": {
            "backgroundcolor": "#E5ECF6",
            "gridcolor": "white",
            "gridwidth": 2,
            "linecolor": "white",
            "showbackground": true,
            "ticks": "",
            "zerolinecolor": "white"
           },
           "zaxis": {
            "backgroundcolor": "#E5ECF6",
            "gridcolor": "white",
            "gridwidth": 2,
            "linecolor": "white",
            "showbackground": true,
            "ticks": "",
            "zerolinecolor": "white"
           }
          },
          "shapedefaults": {
           "line": {
            "color": "#2a3f5f"
           }
          },
          "ternary": {
           "aaxis": {
            "gridcolor": "white",
            "linecolor": "white",
            "ticks": ""
           },
           "baxis": {
            "gridcolor": "white",
            "linecolor": "white",
            "ticks": ""
           },
           "bgcolor": "#E5ECF6",
           "caxis": {
            "gridcolor": "white",
            "linecolor": "white",
            "ticks": ""
           }
          },
          "title": {
           "x": 0.05
          },
          "xaxis": {
           "automargin": true,
           "gridcolor": "white",
           "linecolor": "white",
           "ticks": "",
           "title": {
            "standoff": 15
           },
           "zerolinecolor": "white",
           "zerolinewidth": 2
          },
          "yaxis": {
           "automargin": true,
           "gridcolor": "white",
           "linecolor": "white",
           "ticks": "",
           "title": {
            "standoff": 15
           },
           "zerolinecolor": "white",
           "zerolinewidth": 2
          }
         }
        },
        "xaxis": {
         "dtick": "M12",
         "range": [
          "2022-10-01",
          "2023-09-30"
         ],
         "title": {
          "text": "Fiscal Months"
         },
         "type": "date"
        },
        "yaxis": {
         "autorange": true,
         "range": [
          -3688278.54888889,
          55516519.228888884
         ],
         "title": {
          "text": "Value (K)"
         },
         "type": "linear"
        }
       }
      },
      "image/png": "[encoded data removed]",
      "text/html": [
       "<div>                            <div id=\"8b4f3f2b-3c18-4882-b585-94bfe11892ad\" class=\"plotly-graph-div\" style=\"height:680px; width:100%;\"></div>            <script type=\"text/javascript\">                require([\"plotly\"], function(Plotly) {                    window.PLOTLYENV=window.PLOTLYENV || {};                                    if (document.getElementById(\"8b4f3f2b-3c18-4882-b585-94bfe11892ad\")) {                    Plotly.newPlot(                        \"8b4f3f2b-3c18-4882-b585-94bfe11892ad\",                        [{\"mode\":\"lines\",\"name\":\"New Order\",\"x\":[\"2017-10-31\",\"2017-11-30\",\"2017-12-31\",\"2018-01-31\",\"2018-02-28\",\"2018-03-31\",\"2018-04-29\",\"2018-04-30\",\"2018-05-06\",\"2018-05-20\",\"2018-05-27\",\"2018-05-31\",\"2018-06-30\",\"2018-07-31\",\"2018-08-31\",\"2018-10-14\",\"2018-10-21\",\"2018-10-28\",\"2018-10-31\",\"2018-11-11\",\"2018-11-18\",\"2018-11-30\",\"2018-12-09\",\"2018-12-16\",\"2018-12-23\",\"2018-12-30\",\"2018-12-31\",\"2019-01-06\",\"2019-01-13\",\"2019-01-20\",\"2019-01-27\",\"2019-01-31\",\"2019-02-03\",\"2019-02-17\",\"2019-02-24\",\"2019-02-28\",\"2019-03-10\",\"2019-03-17\",\"2019-03-24\",\"2019-03-31\",\"2019-04-14\",\"2019-04-21\",\"2019-04-28\",\"2019-04-30\",\"2019-05-12\",\"2019-05-19\",\"2019-05-26\",\"2019-05-31\",\"2019-06-09\",\"2019-06-16\",\"2019-06-23\",\"2019-06-30\",\"2019-07-07\",\"2019-07-21\",\"2019-07-28\",\"2019-07-31\",\"2019-08-11\",\"2019-08-18\",\"2019-08-25\",\"2019-08-31\",\"2019-09-08\",\"2019-09-15\",\"2019-09-22\",\"2019-09-29\",\"2019-09-30\",\"2019-10-13\",\"2019-10-20\",\"2019-10-27\",\"2019-10-31\",\"2019-11-03\",\"2019-11-10\",\"2019-11-17\",\"2019-11-24\",\"2019-11-30\",\"2019-12-08\",\"2019-12-15\",\"2019-12-22\",\"2019-12-29\",\"2019-12-31\",\"2020-01-05\",\"2020-01-12\",\"2020-01-19\",\"2020-01-26\",\"2020-01-31\",\"2020-02-09\",\"2020-02-16\",\"2020-02-23\",\"2020-02-29\",\"2020-03-08\",\"2020-03-15\",\"2020-03-22\",\"2020-03-29\",\"2020-03-31\",\"2020-04-05\",\"2020-04-12\",\"2020-04-19\",\"2020-04-26\",\"2020-04-30\",\"2020-05-10\",\"2020-05-17\",\"2020-05-24\",\"2020-05-31\",\"2020-06-07\",\"2020-06-14\",\"2020-06-21\",\"2020-06-28\",\"2020-06-30\",\"2020-07-05\",\"2020-07-12\",\"2020-07-19\",\"2020-07-26\",\"2020-07-31\",\"2020-08-09\",\"2020-08-16\",\"2020-08-23\",\"2020-08-30\",\"2020-08-31\",\"2020-09-06\",\"2020-09-13\",\"2020-09-20\",\"2020-09-27\",\"2020-09-30\",\"2020-10-11\",\"2020-10-18\",\"2020-10-25\",\"2020-10-31\",\"2020-11-08\",\"2020-11-15\",\"2020-11-22\",\"2020-11-29\",\"2020-11-30\",\"2020-12-06\",\"2020-12-13\",\"2020-12-20\",\"2020-12-27\",\"2020-12-31\",\"2021-01-10\",\"2021-01-17\",\"2021-01-24\",\"2021-01-31\",\"2021-02-07\",\"2021-02-14\",\"2021-02-21\",\"2021-02-28\",\"2021-03-07\",\"2021-03-14\",\"2021-03-21\",\"2021-03-28\",\"2021-03-31\",\"2021-04-04\",\"2021-04-11\",\"2021-04-18\",\"2021-04-25\",\"2021-04-30\",\"2021-05-09\",\"2021-05-16\",\"2021-05-23\",\"2021-05-30\",\"2021-05-31\",\"2021-06-06\",\"2021-06-13\",\"2021-06-20\",\"2021-06-27\",\"2021-06-30\",\"2021-07-04\",\"2021-07-11\",\"2021-07-18\",\"2021-07-25\",\"2021-07-31\",\"2021-08-08\",\"2021-08-15\",\"2021-08-22\",\"2021-08-29\",\"2021-08-31\",\"2021-09-05\",\"2021-09-12\",\"2021-09-19\",\"2021-09-26\",\"2021-09-30\",\"2021-10-03\",\"2021-10-10\",\"2021-10-17\",\"2021-10-24\",\"2021-10-31\",\"2021-11-07\",\"2021-11-14\",\"2021-11-21\",\"2021-11-28\",\"2021-11-30\",\"2021-12-05\",\"2021-12-12\",\"2021-12-19\",\"2021-12-26\",\"2021-12-31\",\"2022-01-09\",\"2022-01-16\",\"2022-01-23\",\"2022-01-30\",\"2022-01-31\",\"2022-02-13\",\"2022-02-20\",\"2022-02-27\",\"2022-02-28\",\"2022-03-06\",\"2022-03-13\",\"2022-03-20\",\"2022-03-27\",\"2022-03-31\",\"2022-04-03\",\"2022-04-10\",\"2022-04-17\",\"2022-04-24\",\"2022-04-30\",\"2022-05-01\",\"2022-05-08\",\"2022-05-15\",\"2022-05-22\",\"2022-05-29\",\"2022-05-31\",\"2022-06-05\",\"2022-06-12\",\"2022-06-19\",\"2022-06-26\",\"2022-06-30\",\"2022-07-03\",\"2022-07-10\",\"2022-07-17\",\"2022-07-24\",\"2022-07-31\",\"2022-08-07\",\"2022-08-14\",\"2022-08-21\",\"2022-08-28\",\"2022-08-31\",\"2022-09-04\",\"2022-09-11\",\"2022-09-18\",\"2022-09-25\",\"2022-09-30\",\"2022-10-01\",\"2022-10-08\",\"2022-10-09\",\"2022-10-10\",\"2022-10-12\",\"2022-10-13\",\"2022-10-14\",\"2022-10-15\",\"2022-10-16\",\"2022-10-17\",\"2022-10-18\",\"2022-10-19\",\"2022-10-20\",\"2022-10-21\",\"2022-10-24\",\"2022-10-25\",\"2022-10-26\",\"2022-10-27\",\"2022-10-28\",\"2022-10-29\",\"2022-10-30\",\"2022-10-31\",\"2022-11-01\",\"2022-11-02\",\"2022-11-03\",\"2022-11-04\",\"2022-11-07\",\"2022-11-08\",\"2022-11-09\",\"2022-11-10\",\"2022-11-11\",\"2022-11-12\",\"2022-11-13\",\"2022-11-14\",\"2022-11-15\",\"2022-11-16\",\"2022-11-17\",\"2022-11-18\",\"2022-11-19\",\"2022-11-20\",\"2022-11-21\",\"2022-11-22\",\"2022-11-23\",\"2022-11-24\",\"2022-11-25\",\"2022-11-26\",\"2022-11-27\",\"2022-11-28\",\"2022-11-29\",\"2022-11-30\",\"2022-12-01\",\"2022-12-02\",\"2022-12-05\",\"2022-12-06\",\"2022-12-07\",\"2022-12-08\",\"2022-12-09\",\"2022-12-10\",\"2022-12-11\",\"2022-12-12\",\"2022-12-13\",\"2022-12-14\",\"2022-12-15\",\"2022-12-16\",\"2022-12-17\",\"2022-12-18\",\"2022-12-19\",\"2022-12-20\",\"2022-12-21\",\"2022-12-22\",\"2022-12-23\",\"2022-12-24\",\"2022-12-25\",\"2022-12-27\",\"2022-12-28\",\"2022-12-29\",\"2022-12-30\",\"2022-12-31\",\"2023-01-03\",\"2023-01-04\",\"2023-01-05\",\"2023-01-06\",\"2023-01-09\",\"2023-01-10\",\"2023-01-12\",\"2023-01-13\",\"2023-01-14\",\"2023-01-15\",\"2023-01-16\",\"2023-01-17\",\"2023-01-18\",\"2023-01-19\",\"2023-01-20\",\"2023-01-21\",\"2023-01-22\",\"2023-01-28\",\"2023-01-29\",\"2023-01-30\",\"2023-01-31\",\"2023-02-01\",\"2023-02-02\",\"2023-02-03\",\"2023-02-06\",\"2023-02-07\",\"2023-02-08\",\"2023-02-09\",\"2023-02-10\",\"2023-02-11\",\"2023-02-12\",\"2023-02-13\",\"2023-02-14\",\"2023-02-15\",\"2023-02-16\",\"2023-02-17\",\"2023-02-18\",\"2023-02-19\",\"2023-02-20\",\"2023-02-21\",\"2023-02-22\",\"2023-02-23\",\"2023-02-24\",\"2023-02-25\",\"2023-02-26\",\"2023-02-27\",\"2023-02-28\",\"2023-03-01\",\"2023-03-02\",\"2023-03-03\",\"2023-03-06\",\"2023-03-07\",\"2023-03-08\",\"2023-03-09\",\"2023-03-10\",\"2023-03-11\",\"2023-03-12\",\"2023-03-14\",\"2023-03-15\",\"2023-03-16\",\"2023-03-17\",\"2023-03-19\",\"2023-03-20\",\"2023-03-21\",\"2023-03-22\",\"2023-03-23\",\"2023-03-24\",\"2023-03-25\",\"2023-03-26\",\"2023-03-27\",\"2023-03-28\",\"2023-03-29\",\"2023-03-30\",\"2023-03-31\",\"2023-04-04\",\"2023-04-06\",\"2023-04-07\",\"2023-04-10\",\"2023-04-11\",\"2023-04-12\",\"2023-04-13\",\"2023-04-14\",\"2023-04-15\",\"2023-04-16\",\"2023-04-17\",\"2023-04-18\",\"2023-04-19\",\"2023-04-20\",\"2023-04-21\",\"2023-04-22\",\"2023-04-23\",\"2023-04-24\",\"2023-04-25\",\"2023-04-26\",\"2023-04-27\",\"2023-04-28\",\"2023-04-30\",\"2023-05-04\",\"2023-05-05\",\"2023-05-06\",\"2023-05-09\",\"2023-05-11\",\"2023-05-13\",\"2023-05-14\",\"2023-05-15\",\"2023-05-16\",\"2023-05-17\",\"2023-05-18\",\"2023-05-19\",\"2023-05-22\",\"2023-05-23\",\"2023-05-24\",\"2023-05-25\",\"2023-05-26\",\"2023-05-27\",\"2023-05-28\",\"2023-05-29\",\"2023-05-30\",\"2023-05-31\",\"2023-06-02\",\"2023-06-05\",\"2023-06-06\",\"2023-06-07\",\"2023-06-09\",\"2023-06-11\",\"2023-06-12\",\"2023-06-13\",\"2023-06-14\",\"2023-06-15\",\"2023-06-16\",\"2023-06-17\",\"2023-06-18\",\"2023-06-19\",\"2023-06-20\",\"2023-06-21\",\"2023-06-22\",\"2023-06-23\",\"2023-06-25\",\"2023-06-26\",\"2023-06-27\",\"2023-06-28\",\"2023-06-29\",\"2023-06-30\",\"2023-07-03\",\"2023-07-04\",\"2023-07-05\",\"2023-07-06\",\"2023-07-07\",\"2023-07-10\",\"2023-07-11\",\"2023-07-12\",\"2023-07-13\",\"2023-07-14\",\"2023-07-15\",\"2023-07-16\",\"2023-07-17\",\"2023-07-18\",\"2023-07-19\",\"2023-07-20\",\"2023-07-21\",\"2023-07-22\",\"2023-07-23\",\"2023-07-24\",\"2023-07-25\",\"2023-07-26\",\"2023-07-27\",\"2023-07-28\",\"2023-07-29\",\"2023-07-30\",\"2023-07-31\",\"2023-08-01\",\"2023-08-03\",\"2023-08-04\",\"2023-08-07\",\"2023-08-08\",\"2023-08-09\",\"2023-08-10\",\"2023-08-11\",\"2023-08-12\",\"2023-08-13\",\"2023-08-14\",\"2023-08-15\",\"2023-08-16\",\"2023-08-17\",\"2023-08-18\",\"2023-08-19\",\"2023-08-20\",\"2023-08-21\",\"2023-08-22\",\"2023-08-23\",\"2023-08-24\",\"2023-08-25\",\"2023-08-26\",\"2023-08-27\",\"2023-08-28\",\"2023-08-29\",\"2023-08-30\",\"2023-08-31\",\"2023-09-01\",\"2023-09-04\",\"2023-09-05\",\"2023-09-06\",\"2023-09-07\",\"2023-09-08\",\"2023-09-10\",\"2023-09-11\",\"2023-09-12\",\"2023-09-13\",\"2023-09-14\",\"2023-09-15\",\"2023-09-16\",\"2023-09-17\",\"2023-09-18\",\"2023-09-19\",\"2023-09-20\",\"2023-09-21\",\"2023-09-22\",\"2023-09-23\",\"2023-09-24\",\"2023-09-25\",\"2023-09-26\",\"2023-09-27\",\"2023-09-28\",\"2023-09-29\",\"2023-09-30\",\"2023-10-07\",\"2023-10-08\",\"2023-10-09\",\"2023-10-10\",\"2023-10-11\",\"2023-10-12\",\"2023-10-13\",\"2023-10-14\",\"2023-10-15\",\"2023-10-16\",\"2023-10-17\",\"2023-10-18\",\"2023-10-19\",\"2023-10-20\",\"2023-10-21\",\"2023-10-23\",\"2023-10-24\",\"2023-10-25\",\"2023-10-26\",\"2023-10-27\",\"2023-10-28\",\"2023-10-29\",\"2023-10-30\",\"2023-10-31\",\"2023-11-01\",\"2023-11-02\",\"2023-11-03\",\"2023-11-04\",\"2023-11-06\",\"2023-11-07\",\"2023-11-08\",\"2023-11-09\",\"2023-11-10\",\"2023-11-11\",\"2023-11-12\",\"2023-11-13\",\"2023-11-14\",\"2023-11-15\",\"2023-11-16\",\"2023-11-17\",\"2023-11-18\",\"2023-11-19\",\"2023-11-20\",\"2023-11-21\",\"2023-11-22\",\"2023-11-23\",\"2023-11-24\",\"2023-11-25\",\"2023-11-26\",\"2023-11-27\",\"2023-11-28\",\"2023-11-29\",\"2023-11-30\",\"2023-12-01\",\"2023-12-04\",\"2023-12-05\",\"2023-12-06\",\"2023-12-08\",\"2023-12-10\",\"2023-12-11\",\"2023-12-12\",\"2023-12-13\",\"2023-12-14\",\"2023-12-15\",\"2023-12-16\",\"2023-12-17\",\"2023-12-18\",\"2023-12-19\",\"2023-12-20\",\"2023-12-21\",\"2023-12-22\",\"2023-12-23\",\"2023-12-24\",\"2023-12-26\",\"2023-12-27\",\"2023-12-28\",\"2023-12-29\",\"2023-12-30\",\"2023-12-31\",\"2024-01-02\",\"2024-01-03\",\"2024-01-04\",\"2024-01-05\",\"2024-01-09\",\"2024-01-10\",\"2024-01-11\",\"2024-01-12\",\"2024-01-13\",\"2024-01-14\",\"2024-01-15\",\"2024-01-16\",\"2024-01-17\",\"2024-01-18\",\"2024-01-19\",\"2024-01-20\",\"2024-01-21\",\"2024-01-23\",\"2024-01-24\",\"2024-01-25\",\"2024-01-26\",\"2024-01-27\",\"2024-01-28\",\"2024-01-30\",\"2024-01-31\",\"2024-02-01\",\"2024-02-02\",\"2024-02-04\",\"2024-02-05\",\"2024-02-07\",\"2024-02-10\",\"2024-02-18\",\"2024-02-19\",\"2024-02-20\",\"2024-02-21\",\"2024-02-22\",\"2024-02-23\",\"2024-02-24\",\"2024-02-25\",\"2024-02-26\",\"2024-02-27\",\"2024-02-28\",\"2024-02-29\",\"2024-03-01\",\"2024-03-04\",\"2024-03-05\",\"2024-03-07\",\"2024-03-08\",\"2024-03-11\",\"2024-03-12\",\"2024-03-13\",\"2024-03-14\",\"2024-03-15\",\"2024-03-16\",\"2024-03-17\",\"2024-03-19\",\"2024-03-20\",\"2024-03-21\",\"2024-03-22\",\"2024-03-23\",\"2024-03-24\",\"2024-03-25\",\"2024-03-26\",\"2024-03-27\",\"2024-03-28\",\"2024-03-29\",\"2024-03-31\"],\"y\":[9768948.67,26614725.44,19296155.52,25276674.18,15833965.65,27856201.7,17428.12,21732970.44,142199.03999999998,179170.87,1208538.15,22214993.35,22208970.31,16102515.74,12373474.22,36646.55,288096.37,57376.450000000004,15631330.14,168130.61000000002,436835.45999999996,33667667.86,3941170.52,936545.8200000001,409248.57,448120.21,20198850.64,189620.69,65421.920000000006,0.02,203025.72,25664461.04,1296336.21,106015.83,96277.01,10586984.372,79893.23999999999,160321.46,1037890.33,23236922.51,1878.84,315776.99,242836.2,27561356.05,8814.16,186216.81,388058.78,24242553.080000002,113416.53,288507.03,8318.52,26752954.142,28938.05,503016.56,-0.12,29606253.18,552498.13,130877.35999999999,651811.13,19767544.78,2769.91,98084.93,1415950.37,133669.05,31364649.99,575.47,216976.97999999998,338450.74,8473501.52,308352.6,361851.55,3819555.45,2373227.08,32271557.87,4167041.13,317214.56,541853.25,6826685.14,26134643.259999998,372344.0,224949.04,138176.35,629340.62,13696264.47,56881.99,917875.9,1338860.28,3713965.9020000002,363193.37,782408.29,2858515.13,524073.23,34759467.54,1503082.82,-412954.47000000003,873666.62,927689.0999999999,16602404.07,242710.58000000002,2503028.8,2239445.96,20611594.29,161420.38999999998,1819783.73,1215447.0,1996545.59,19954021.9,586043.94,6617545.94,3689659.29,2338029.96,7869522.9,692345.188,5111062.38,9184661.75,7399588.53,1854170.194,61914.21000000001,9957939.82,9663620.34,7327302.01,10194028.23,217267.25999999998,1137014.1500000001,3453408.9,3347286.2199999997,348659.9,12711747.29,11604100.92,19919617.0,4633044.0600000005,6840279.57,13058873.93,8607684.12,4675352.34,7067823.65,246547.17,5533134.67,7984113.88,7643396.04,715258.73,6181846.32,6965616.4,6688597.42,2240687.71,7836503.48,7427389.6899999995,4190020.62,5608936.45,1243333.188,2094815.76,8464377.0,6049915.54,6063101.18,394619.14999999997,7535248.92,14514539.92,8463645.370000001,230834.33,167475.21000000002,10044517.83,6998933.55,8724123.42,3418361.88,594009.43,6504682.17,12197163.88,9639498.07,7772844.47,4124779.85,15632581.02,11807576.82,5980879.89,1355033.81,2857004.93,2545324.57,19861207.02,265137.42,2726580.75,934114.26,3771293.25,68061.6,9638427.49,12482633.014,5726037.64,22506195.14,11698701.846,11184066.384,7066748.58,2577285.3600000003,11460815.77,5784684.78,7947676.63,14327288.395,3638544.6,12167383.84,8849096.5,10171442.28,1765486.18,5964268.642,10010940.36,16493140.81,1329582.4000000001,-43109.590000000026,20175366.71,18083831.080000002,14479545.226,15000349.42,2480914.27,1699152.9900000002,13438592.104,11543408.94,21886465.84,38426.44,4811948.58,52556279.339999996,11124699.47,15168111.23,5889986.24,225450.5,10709195.58,6525487.2,9985792.46,5351596.434,995703.99,3252786.82,14307945.47,4265564.43,10697462.1,2249653.398,2054841.91,10808190.942,717415.03,11309417.0,89926.28,3654.85,31995.89,-47522.12,946659.7999999999,36385200.769999996,98310.80000000002,1151018.54,453914.53,1007773.51,146952.88,231271.15999999997,0.0,0.0,179000.33000000002,2921453.1,1222763.52,2036649.82,12041.440000000002,4154959.2700000005,3524469.6,6222750.580000001,10470037.379999999,6883994.510000001,0.0,0.0,1972940.2900000005,1249199.07,3553109.2800000003,5010667.509999999,13388472.810000002,2461709.4399999995,5322432.52,128195.02000000002,10591312.719999999,3985689.099999999,166.22,0.0,2103785.23,3698614.7,3137924.9699999993,9272065.21,4320631.550000002,0.0,0.0,519507.63,10123169.100000003,2654657.130000001,6052049.47,0.0,0.0,0.0,6717661.890000002,8354478.1000000015,15220657.17,6059961.0,318671.87000000005,1336189.3000000003,2617669.12,8511909.49,6892578.219999999,1323649.55,0.0,0.0,2734885.92,493083.5,4296359.669999999,4685772.750000001,5141730.58,0.0,0.0,290633.92,17080965.960000005,10478240.430000002,749629.5,5572009.31,0.0,0.0,0.0,5091777.689999999,6255451.21,6304091.899999997,8838765.19,507156.86,10485474.409999996,1419879.000000001,20013.72,5520553.68,1903613.8700000003,1493461.6,193304.41999999998,0.0,0.0,7295921.550000006,2358175.149999999,727640.5599999999,517343.45,277103.07,0.0,0.0,1188769.3299999996,95158.77,3011947.839999999,5013032.13,10316458.14,3006455.64,613073.2,1143145.35,3484254.64,487972.52,1093792.0700000012,120515.05,1.1641532182693481e-10,0.0,3286446.3800000013,1804103.0899999999,4409024.030000002,678970.8,28775.468,0.0,0.0,1140829.5099999998,1857761.21,49621.229999999996,125474.87000000001,0.0,381929.0,0.0,11069256.4,15200647.43,60416.380000000005,186190.32,74813.54199999999,278125.86,162632.33,104507.55,44277.369999999995,3693127.630000001,0.0,0.0,17221.46,73103.0,297190.51000000007,96387.04,0.0,21566.37,817251.9999999999,241558.59,1417060.9000000013,251492.43,0.0,0.0,0.0,4890279.960000001,3029631.410000002,6531695.370000001,6176435.250000001,1004170.7399999998,61494.240000000005,116619.25,1804930.8199999996,340299.04,512775.7599999998,0.0,4133274.100000001,0.0,0.0,1769409.729999999,64477.630000000005,580124.17,0.0,673954.0599999998,0.0,45741.430000000015,531116.29,362196.66000000003,3204182.810000001,78759.94,3054722.65,2396523.2600000007,35128.93,1478967.5199999998,359377.67000000004,160798.13,5316170.070000001,1790986.69,0.0,0.0,1838557.19,255455.45,51386.76,185454.52,265835.56,35128.93,2036472.048,0.0,2073972.759999998,0.0,0.0,355877.92000000004,44024.10999999998,4395591.37,1426255.41,-238769.18000000005,567221.2299999999,210742.16999999998,490152.98999999993,0.0,6948472.12,248409.91,0.0,53421.79000000001,414609.93,0.0,0.0,41650.45,2069040.0,0.0,0.0,0.0,899068.3400000001,0.0,298681.32,1257772.1399999997,64356.189999999995,4114822.83,-227470.59,-39536.22,143492.29,118602.76999999999,104459.88999999998,-84472.40000000001,219982.7,421145.61,718677.3599999999,-127454.4,0.0,0.0,128899.84999999999,955071.0200000004,397078.43,1229757.0799999998,99209.54000000001,0.0,0.0,4160059.63,1230.09,460299.74,675215.1799999999,134543.71,0.0,0.0,1765412.49,49764.57999999999,232479.89,361425.6499999999,1076104.0100000005,560489.3000000004,2172386.32,1180619.319999998,-264044.99,0.0,0.0,173114.63000000006,42440.18000000004,1795383.7399999998,3816.0,213623.44999999998,0.0,0.0,880907.77,502406.42999999993,46200.01000000012,604755.49,0.060000000055879354,0.0,0.0,297357.58,-244338.82,-10844.839999999997,798495.4900000001,451224.89,623590.2000000001,1249123.8299999996,1278505.2100000002,423953.07000000007,185861.71999999997,0.0,1382487.14,121361.64,317747.68,1040364.9099999998,686233.14,0.0,0.0,1377817.63,458015.26999999996,0.0,0.0,0.0,0.0,0.0,114531.49999999999,44151.08,409106.54000000004,106652.49999999999,0.0,2310030.61,510611.06000000006,1623582.98,317437.15,359799.57999999996,73442.49,83291.17,438391.01,0.0,0.0,1862645.749999998,690427.6899999998,33999.819999999985,1077338.5899999999,183491.50999999998,0.0,805434.53,1522232.38,38434.81,85852.12,13628716.91,0.0,0.0,1275036.61,10986631.170000004,134894.23,2575246.4499999997,514306.8,81732.14,109911.51,402998.2,1335637.0300000003,858236.6000000001,2524441.9,0.0,0.0,444531.8,117354.85999999999,158434.0,899617.2799999999,7545616.63,0.0,0.0,23281.28,2783244.0,720298.93,245694.56,419953.2,0.0,0.0,0.0,2183253.12,0.0,13305740.8,530327.66,2082137.17,15592398.819999991,71770.18,4681541.81,0.0,1533978.38,8641932.760000002,115969.54000000001,4396168.179999999,3390560.299999999,0.0,0.0,-59540.00000000003,4865492.869999999,6935279.37,691330.72,4115623.19,0.0,0.0,93359.76,1640434.0500000003,475509.70999999996,0.0,0.0,2498500.13,201530.7,20129.77,3832292.8000000007,7687429.449999996,1689445.46,970477.37,374019.43000000005,2101376.66,0.0,0.0,173617.86000000002,1301426.02,398.85999999999694,0.0,154650.04,0.0,0.0,979780.6799999999,218776.58,368307.14,583186.47,0.0,0.0,525769.15,13273209.24,377776.25,22434.14,6617634.87,129637.13,261205.2,0.0,942522.2799999998,123764.78000000001,357340.93000000005,706210.9099999999,3558287.9799999995,-728038.6600000011,0.0,0.0,99121.54,2159892.4099999997,255730.40000000005,399076.97999999975,95221.23999999999,299816.54000000004,178993.79,20371.11,-45631.869999999995,245283.02,2911677.660000001,4964600.2700000005,58056.47,3303565.27,0.0,0.0,5778987.64,60963.72,0.0,1987930.1099999999,0.0,0.0,0.0,1999210.7900000007,0.0,29578.26,0.0,3994327.51],\"type\":\"scatter\"},{\"mode\":\"lines\",\"name\":\"Turnover\",\"x\":[\"2017-10-31\",\"2017-11-30\",\"2017-12-31\",\"2018-01-31\",\"2018-02-28\",\"2018-03-31\",\"2018-04-29\",\"2018-04-30\",\"2018-05-06\",\"2018-05-20\",\"2018-05-27\",\"2018-05-31\",\"2018-06-30\",\"2018-07-31\",\"2018-08-31\",\"2018-10-14\",\"2018-10-21\",\"2018-10-28\",\"2018-10-31\",\"2018-11-11\",\"2018-11-18\",\"2018-11-30\",\"2018-12-09\",\"2018-12-16\",\"2018-12-23\",\"2018-12-30\",\"2018-12-31\",\"2019-01-06\",\"2019-01-13\",\"2019-01-20\",\"2019-01-27\",\"2019-01-31\",\"2019-02-03\",\"2019-02-17\",\"2019-02-24\",\"2019-02-28\",\"2019-03-10\",\"2019-03-17\",\"2019-03-24\",\"2019-03-31\",\"2019-04-14\",\"2019-04-21\",\"2019-04-28\",\"2019-04-30\",\"2019-05-12\",\"2019-05-19\",\"2019-05-26\",\"2019-05-31\",\"2019-06-09\",\"2019-06-16\",\"2019-06-23\",\"2019-06-30\",\"2019-07-07\",\"2019-07-21\",\"2019-07-28\",\"2019-07-31\",\"2019-08-11\",\"2019-08-18\",\"2019-08-25\",\"2019-08-31\",\"2019-09-08\",\"2019-09-15\",\"2019-09-22\",\"2019-09-29\",\"2019-09-30\",\"2019-10-13\",\"2019-10-20\",\"2019-10-27\",\"2019-10-31\",\"2019-11-03\",\"2019-11-10\",\"2019-11-17\",\"2019-11-24\",\"2019-11-30\",\"2019-12-08\",\"2019-12-15\",\"2019-12-22\",\"2019-12-29\",\"2019-12-31\",\"2020-01-05\",\"2020-01-12\",\"2020-01-19\",\"2020-01-26\",\"2020-01-31\",\"2020-02-09\",\"2020-02-16\",\"2020-02-23\",\"2020-02-29\",\"2020-03-08\",\"2020-03-15\",\"2020-03-22\",\"2020-03-29\",\"2020-03-31\",\"2020-04-05\",\"2020-04-12\",\"2020-04-19\",\"2020-04-26\",\"2020-04-30\",\"2020-05-10\",\"2020-05-17\",\"2020-05-24\",\"2020-05-31\",\"2020-06-07\",\"2020-06-14\",\"2020-06-21\",\"2020-06-28\",\"2020-06-30\",\"2020-07-05\",\"2020-07-12\",\"2020-07-19\",\"2020-07-26\",\"2020-07-31\",\"2020-08-09\",\"2020-08-16\",\"2020-08-23\",\"2020-08-30\",\"2020-08-31\",\"2020-09-06\",\"2020-09-13\",\"2020-09-20\",\"2020-09-27\",\"2020-09-30\",\"2020-10-11\",\"2020-10-18\",\"2020-10-25\",\"2020-10-31\",\"2020-11-08\",\"2020-11-15\",\"2020-11-22\",\"2020-11-29\",\"2020-11-30\",\"2020-12-06\",\"2020-12-13\",\"2020-12-20\",\"2020-12-27\",\"2020-12-31\",\"2021-01-10\",\"2021-01-17\",\"2021-01-24\",\"2021-01-31\",\"2021-02-07\",\"2021-02-14\",\"2021-02-21\",\"2021-02-28\",\"2021-03-07\",\"2021-03-14\",\"2021-03-21\",\"2021-03-28\",\"2021-03-31\",\"2021-04-04\",\"2021-04-11\",\"2021-04-18\",\"2021-04-25\",\"2021-04-30\",\"2021-05-09\",\"2021-05-16\",\"2021-05-23\",\"2021-05-30\",\"2021-05-31\",\"2021-06-06\",\"2021-06-13\",\"2021-06-20\",\"2021-06-27\",\"2021-06-30\",\"2021-07-04\",\"2021-07-11\",\"2021-07-18\",\"2021-07-25\",\"2021-07-31\",\"2021-08-08\",\"2021-08-15\",\"2021-08-22\",\"2021-08-29\",\"2021-08-31\",\"2021-09-05\",\"2021-09-12\",\"2021-09-19\",\"2021-09-26\",\"2021-09-30\",\"2021-10-03\",\"2021-10-10\",\"2021-10-17\",\"2021-10-24\",\"2021-10-31\",\"2021-11-07\",\"2021-11-14\",\"2021-11-21\",\"2021-11-28\",\"2021-11-30\",\"2021-12-05\",\"2021-12-12\",\"2021-12-19\",\"2021-12-26\",\"2021-12-31\",\"2022-01-09\",\"2022-01-16\",\"2022-01-23\",\"2022-01-30\",\"2022-01-31\",\"2022-02-13\",\"2022-02-20\",\"2022-02-27\",\"2022-02-28\",\"2022-03-06\",\"2022-03-13\",\"2022-03-20\",\"2022-03-27\",\"2022-03-31\",\"2022-04-03\",\"2022-04-10\",\"2022-04-17\",\"2022-04-24\",\"2022-04-30\",\"2022-05-01\",\"2022-05-08\",\"2022-05-15\",\"2022-05-22\",\"2022-05-29\",\"2022-05-31\",\"2022-06-05\",\"2022-06-12\",\"2022-06-19\",\"2022-06-26\",\"2022-06-30\",\"2022-07-03\",\"2022-07-10\",\"2022-07-17\",\"2022-07-24\",\"2022-07-31\",\"2022-08-07\",\"2022-08-14\",\"2022-08-21\",\"2022-08-28\",\"2022-08-31\",\"2022-09-04\",\"2022-09-11\",\"2022-09-18\",\"2022-09-25\",\"2022-09-30\",\"2022-10-01\",\"2022-10-08\",\"2022-10-09\",\"2022-10-10\",\"2022-10-12\",\"2022-10-13\",\"2022-10-14\",\"2022-10-15\",\"2022-10-16\",\"2022-10-17\",\"2022-10-18\",\"2022-10-19\",\"2022-10-20\",\"2022-10-21\",\"2022-10-24\",\"2022-10-25\",\"2022-10-26\",\"2022-10-27\",\"2022-10-28\",\"2022-10-29\",\"2022-10-30\",\"2022-10-31\",\"2022-11-01\",\"2022-11-02\",\"2022-11-03\",\"2022-11-04\",\"2022-11-07\",\"2022-11-08\",\"2022-11-09\",\"2022-11-10\",\"2022-11-11\",\"2022-11-12\",\"2022-11-13\",\"2022-11-14\",\"2022-11-15\",\"2022-11-16\",\"2022-11-17\",\"2022-11-18\",\"2022-11-19\",\"2022-11-20\",\"2022-11-21\",\"2022-11-22\",\"2022-11-23\",\"2022-11-24\",\"2022-11-25\",\"2022-11-26\",\"2022-11-27\",\"2022-11-28\",\"2022-11-29\",\"2022-11-30\",\"2022-12-01\",\"2022-12-02\",\"2022-12-05\",\"2022-12-06\",\"2022-12-07\",\"2022-12-08\",\"2022-12-09\",\"2022-12-10\",\"2022-12-11\",\"2022-12-12\",\"2022-12-13\",\"2022-12-14\",\"2022-12-15\",\"2022-12-16\",\"2022-12-17\",\"2022-12-18\",\"2022-12-19\",\"2022-12-20\",\"2022-12-21\",\"2022-12-22\",\"2022-12-23\",\"2022-12-24\",\"2022-12-25\",\"2022-12-27\",\"2022-12-28\",\"2022-12-29\",\"2022-12-30\",\"2022-12-31\",\"2023-01-03\",\"2023-01-04\",\"2023-01-05\",\"2023-01-06\",\"2023-01-09\",\"2023-01-10\",\"2023-01-12\",\"2023-01-13\",\"2023-01-14\",\"2023-01-15\",\"2023-01-16\",\"2023-01-17\",\"2023-01-18\",\"2023-01-19\",\"2023-01-20\",\"2023-01-21\",\"2023-01-22\",\"2023-01-28\",\"2023-01-29\",\"2023-01-30\",\"2023-01-31\",\"2023-02-01\",\"2023-02-02\",\"2023-02-03\",\"2023-02-06\",\"2023-02-07\",\"2023-02-08\",\"2023-02-09\",\"2023-02-10\",\"2023-02-11\",\"2023-02-12\",\"2023-02-13\",\"2023-02-14\",\"2023-02-15\",\"2023-02-16\",\"2023-02-17\",\"2023-02-18\",\"2023-02-19\",\"2023-02-20\",\"2023-02-21\",\"2023-02-22\",\"2023-02-23\",\"2023-02-24\",\"2023-02-25\",\"2023-02-26\",\"2023-02-27\",\"2023-02-28\",\"2023-03-01\",\"2023-03-02\",\"2023-03-03\",\"2023-03-06\",\"2023-03-07\",\"2023-03-08\",\"2023-03-09\",\"2023-03-10\",\"2023-03-11\",\"2023-03-12\",\"2023-03-14\",\"2023-03-15\",\"2023-03-16\",\"2023-03-17\",\"2023-03-19\",\"2023-03-20\",\"2023-03-21\",\"2023-03-22\",\"2023-03-23\",\"2023-03-24\",\"2023-03-25\",\"2023-03-26\",\"2023-03-27\",\"2023-03-28\",\"2023-03-29\",\"2023-03-30\",\"2023-03-31\",\"2023-04-04\",\"2023-04-06\",\"2023-04-07\",\"2023-04-10\",\"2023-04-11\",\"2023-04-12\",\"2023-04-13\",\"2023-04-14\",\"2023-04-15\",\"2023-04-16\",\"2023-04-17\",\"2023-04-18\",\"2023-04-19\",\"2023-04-20\",\"2023-04-21\",\"2023-04-22\",\"2023-04-23\",\"2023-04-24\",\"2023-04-25\",\"2023-04-26\",\"2023-04-27\",\"2023-04-28\",\"2023-04-30\",\"2023-05-04\",\"2023-05-05\",\"2023-05-06\",\"2023-05-09\",\"2023-05-11\",\"2023-05-13\",\"2023-05-14\",\"2023-05-15\",\"2023-05-16\",\"2023-05-17\",\"2023-05-18\",\"2023-05-19\",\"2023-05-22\",\"2023-05-23\",\"2023-05-24\",\"2023-05-25\",\"2023-05-26\",\"2023-05-27\",\"2023-05-28\",\"2023-05-29\",\"2023-05-30\",\"2023-05-31\",\"2023-06-02\",\"2023-06-05\",\"2023-06-06\",\"2023-06-07\",\"2023-06-09\",\"2023-06-11\",\"2023-06-12\",\"2023-06-13\",\"2023-06-14\",\"2023-06-15\",\"2023-06-16\",\"2023-06-17\",\"2023-06-18\",\"2023-06-19\",\"2023-06-20\",\"2023-06-21\",\"2023-06-22\",\"2023-06-23\",\"2023-06-25\",\"2023-06-26\",\"2023-06-27\",\"2023-06-28\",\"2023-06-29\",\"2023-06-30\",\"2023-07-03\",\"2023-07-04\",\"2023-07-05\",\"2023-07-06\",\"2023-07-07\",\"2023-07-10\",\"2023-07-11\",\"2023-07-12\",\"2023-07-13\",\"2023-07-14\",\"2023-07-15\",\"2023-07-16\",\"2023-07-17\",\"2023-07-18\",\"2023-07-19\",\"2023-07-20\",\"2023-07-21\",\"2023-07-22\",\"2023-07-23\",\"2023-07-24\",\"2023-07-25\",\"2023-07-26\",\"2023-07-27\",\"2023-07-28\",\"2023-07-29\",\"2023-07-30\",\"2023-07-31\",\"2023-08-01\",\"2023-08-03\",\"2023-08-04\",\"2023-08-07\",\"2023-08-08\",\"2023-08-09\",\"2023-08-10\",\"2023-08-11\",\"2023-08-12\",\"2023-08-13\",\"2023-08-14\",\"2023-08-15\",\"2023-08-16\",\"2023-08-17\",\"2023-08-18\",\"2023-08-19\",\"2023-08-20\",\"2023-08-21\",\"2023-08-22\",\"2023-08-23\",\"2023-08-24\",\"2023-08-25\",\"2023-08-26\",\"2023-08-27\",\"2023-08-28\",\"2023-08-29\",\"2023-08-30\",\"2023-08-31\",\"2023-09-01\",\"2023-09-04\",\"2023-09-05\",\"2023-09-06\",\"2023-09-07\",\"2023-09-08\",\"2023-09-10\",\"2023-09-11\",\"2023-09-12\",\"2023-09-13\",\"2023-09-14\",\"2023-09-15\",\"2023-09-16\",\"2023-09-17\",\"2023-09-18\",\"2023-09-19\",\"2023-09-20\",\"2023-09-21\",\"2023-09-22\",\"2023-09-23\",\"2023-09-24\",\"2023-09-25\",\"2023-09-26\",\"2023-09-27\",\"2023-09-28\",\"2023-09-29\",\"2023-09-30\",\"2023-10-07\",\"2023-10-08\",\"2023-10-09\",\"2023-10-10\",\"2023-10-11\",\"2023-10-12\",\"2023-10-13\",\"2023-10-14\",\"2023-10-15\",\"2023-10-16\",\"2023-10-17\",\"2023-10-18\",\"2023-10-19\",\"2023-10-20\",\"2023-10-21\",\"2023-10-23\",\"2023-10-24\",\"2023-10-25\",\"2023-10-26\",\"2023-10-27\",\"2023-10-28\",\"2023-10-29\",\"2023-10-30\",\"2023-10-31\",\"2023-11-01\",\"2023-11-02\",\"2023-11-03\",\"2023-11-04\",\"2023-11-06\",\"2023-11-07\",\"2023-11-08\",\"2023-11-09\",\"2023-11-10\",\"2023-11-11\",\"2023-11-12\",\"2023-11-13\",\"2023-11-14\",\"2023-11-15\",\"2023-11-16\",\"2023-11-17\",\"2023-11-18\",\"2023-11-19\",\"2023-11-20\",\"2023-11-21\",\"2023-11-22\",\"2023-11-23\",\"2023-11-24\",\"2023-11-25\",\"2023-11-26\",\"2023-11-27\",\"2023-11-28\",\"2023-11-29\",\"2023-11-30\",\"2023-12-01\",\"2023-12-04\",\"2023-12-05\",\"2023-12-06\",\"2023-12-08\",\"2023-12-10\",\"2023-12-11\",\"2023-12-12\",\"2023-12-13\",\"2023-12-14\",\"2023-12-15\",\"2023-12-16\",\"2023-12-17\",\"2023-12-18\",\"2023-12-19\",\"2023-12-20\",\"2023-12-21\",\"2023-12-22\",\"2023-12-23\",\"2023-12-24\",\"2023-12-26\",\"2023-12-27\",\"2023-12-28\",\"2023-12-29\",\"2023-12-30\",\"2023-12-31\",\"2024-01-02\",\"2024-01-03\",\"2024-01-04\",\"2024-01-05\",\"2024-01-09\",\"2024-01-10\",\"2024-01-11\",\"2024-01-12\",\"2024-01-13\",\"2024-01-14\",\"2024-01-15\",\"2024-01-16\",\"2024-01-17\",\"2024-01-18\",\"2024-01-19\",\"2024-01-20\",\"2024-01-21\",\"2024-01-23\",\"2024-01-24\",\"2024-01-25\",\"2024-01-26\",\"2024-01-27\",\"2024-01-28\",\"2024-01-30\",\"2024-01-31\",\"2024-02-01\",\"2024-02-02\",\"2024-02-04\",\"2024-02-05\",\"2024-02-07\",\"2024-02-10\",\"2024-02-18\",\"2024-02-19\",\"2024-02-20\",\"2024-02-21\",\"2024-02-22\",\"2024-02-23\",\"2024-02-24\",\"2024-02-25\",\"2024-02-26\",\"2024-02-27\",\"2024-02-28\",\"2024-02-29\",\"2024-03-01\",\"2024-03-04\",\"2024-03-05\",\"2024-03-07\",\"2024-03-08\",\"2024-03-11\",\"2024-03-12\",\"2024-03-13\",\"2024-03-14\",\"2024-03-15\",\"2024-03-16\",\"2024-03-17\",\"2024-03-19\",\"2024-03-20\",\"2024-03-21\",\"2024-03-22\",\"2024-03-23\",\"2024-03-24\",\"2024-03-25\",\"2024-03-26\",\"2024-03-27\",\"2024-03-28\",\"2024-03-29\",\"2024-03-31\"],\"y\":[9768948.67,26614725.44,19296155.52,25276674.18,15833965.65,27856201.7,17428.12,21732970.44,142199.03999999998,179170.87,1208538.15,22214993.35,22208970.31,16102515.74,12373474.22,0.0,0.0,0.0,15840638.26,0.0,0.0,34071388.44,0.0,0.0,0.0,0.0,24125069.44,0.0,0.0,0.0,0.0,26849899.1,0.0,0.0,94328.73,11960092.272,0.0,174314.25,0.0,25248187.2,0.0,0.0,0.0,28651931.88,0.0,0.0,0.0,25439214.21,0.0,0.0,0.0,27043070.02,0.0,0.0,0.0,30687752.46,0.0,0.0,0.0,20920709.35,0.0,0.0,0.0,0.0,32231195.15,0.0,0.0,0.0,16189820.61,0.0,0.0,212328.91,0.0,35515524.23,0.0,0.0,0.0,0.0,31874595.14,0.0,0.0,0.0,0.0,18743364.86,0.0,0.0,0.0,3203683.332,0.0,0.0,0.0,0.0,38648365.56,0.0,0.0,0.0,0.0,20385100.93,0.0,2500562.59,216352.72999999998,23542359.1,0.0,1951138.4,1018152.58,945556.87,28578866.0,0.0,5425345.41,3502444.14,2348306.79,10167783.74,0.0,9533135.56,7328557.63,4893175.54,4670494.276,0.0,9391642.89,8665362.8,986483.85,2305265.836,0.0,0.0,3704011.95,10874465.09,0.0,12405874.67,9060242.94,19125924.04,3833963.61,0.0,7978934.86,9609655.87,4499018.48,8830950.03,0.0,6631730.0,5625880.27,15055250.99,0.0,6224241.75,6419064.12,8824411.35,0.0,8026149.33,4999225.83,3335706.59,8901782.64,0.0,0.0,9877647.32,6716628.43,10105547.92,0.0,7288798.43,10665656.26,9985294.91,2062470.328,0.0,6180931.72,3160459.76,6781094.41,12776291.56,0.0,6174849.06,5333579.75,2771813.02,16279889.12,0.0,5897211.72,6092759.58,12509854.36,5025833.09,0.0,0.0,10938262.4,5040421.71,20750804.51,0.0,0.0,0.0,4376880.39,7188405.46,0.0,13105167.58,10969121.93,7731695.31,6767920.412,0.0,4471432.66,3675296.06,3436569.75,19898635.543,0.0,9083244.52,4207319.4,6115801.02,2770860.4020000002,5753750.63,8815237.94,13923641.32,3991782.99,58366.15,15133092.23,11909850.36,10887339.72,16994254.704,130528.63,97804.97,9736447.03,7782797.55,12033583.258,0.0,0.0,12092887.07,8789397.32,17241225.33,11556367.742,0.0,10334691.95,5606852.08,11100038.33,15844757.586,0.0,0.0,17895661.62,9399987.3,19555445.904,0.0,10362385.53,7522598.86,10958611.43,23971828.918,0.0,7353852.96,2930370.1799999997,14309610.85,9421202.164,0.0,0.0,0.0,0.0,0.0,0.0,0.0,23732059.562000003,2543174.094,0.0,2880891.082,2387210.2,2132490.9899999998,4250784.484,0.0,6236261.38,968382.1000000001,1470080.2500000002,1679924.22,3828595.88,5954563.954,0.0,0.0,0.0,0.0,0.0,0.0,0.0,0.0,14994101.072,2031137.224,2156276.05,302095.52,0.0,2933463.142,1090510.93,4959142.852,2839629.284,3271284.276,370001.5,0.0,2076599.59,1268295.8699999999,1654256.4599999997,1132581.69,1580672.56,388236.42,80664.41,2443133.37,19842666.259999998,0.0,0.0,0.0,0.0,0.0,0.0,0.0,20946964.144,462569.1,4316.88,3141935.0,768240.85,0.0,0.0,8144580.53,4183566.07,0.0,417908.00999999995,-8.09,8268622.159999999,4990430.5200000005,1368488.06,765959.1599999999,50640.0,0.0,7236790.0200000005,17074622.11,7626563.83,0.0,0.0,0.0,0.0,0.0,0.0,15387978.101,1556015.6,655701.28,411457.43000000005,271006.58,2528954.95,2704756.09,2863075.27,596061.69,131400.8,900280.0300000004,0.0,1398612.3900000001,3075695.12,11947892.447,0.0,0.0,0.0,0.0,0.0,0.0,0.0,11046276.036,3808572.702,3058093.7399999998,0.0,4412584.399999999,1005629.12,3265572.8449999997,4470154.87,2930416.53,656133.43,0.0,2520182.38,1799981.99,2806272.425,3683057.6,1278370.5,1625264.6399999997,0.0,18460432.706,0.0,0.0,0.0,0.0,0.0,0.0,7141.59,15946666.25,2066216.4200000002,575956.67,375087.38,4478187.7020000005,2473052.37,653689.41,8781075.034,0.0,6245389.54,2349669.93,4145105.41,2263595.79,794827.1900000001,339666.906,72327.43999999999,1835312.7899999998,2130379.548,2897402.1799999997,18773464.386,0.0,0.0,0.0,0.0,0.0,0.0,243575.22999999998,16892842.63,1454005.68,1034609.5499999999,29211.46,1020139.3,1424407.24,1594481.93,2271014.0500000003,1988355.255,324864.66,1155936.155,606039.7,2995106.27,1266187.77,6463375.916,2396523.2600000002,0.0,0.0,0.0,0.0,10668199.42,2032599.76,1442201.49,738857.99,1161016.5799999998,2406116.098,1648748.77,2413765.76,0.0,1951185.5300000003,3308108.34,1234793.0599999998,2566522.85,3086216.21,233883.68000000002,0.0,3555042.926,8872746.102,0.0,0.0,0.0,0.0,0.0,15735838.91,44217.95,1278098.56,1817296.57,5890651.56,2029400.7,2853227.62,2026164.09,0.0,5080451.14,2657894.09,1559839.03,437594.04,0.0,0.0,6529198.92,2722802.96,682111.99,8774952.110000001,0.0,0.0,0.0,0.0,0.0,0.0,184723.02,15423968.808,1986724.7499999995,1245123.3,3193269.2399999998,700834.65,0.0,2492635.1999999997,2300325.6999999997,1325151.57,1915880.0,1044552.71,657866.19,3488794.15,2889758.0100000002,2227524.9800000004,1185968.8699999999,972690.62,2557960.57,3296699.938,1711917.8100000003,0.0,0.0,0.0,0.0,0.0,2794.0,19721124.126000002,2780305.64,1344821.4,747259.84,0.0,3984163.6,1657503.47,602164.96,4036308.3499999996,3084799.53,693426.9600000002,0.0,4427079.91,2914136.079999999,3726636.31,7942846.949999999,1462214.67,2862631.0800000005,15309.74,3266942.09,6805581.26,4488458.592,0.0,0.0,0.0,0.0,0.0,0.0,14216591.382,3448713.48,826857.8200000001,2604284.23,2633280.11,2856256.65,4916704.0,726413.21,0.0,3500006.17,2677355.828,1644636.48,3442763.95,2625193.6399999997,1216655.99,-18495.57,4070056.2199999997,730965.6900000001,2780278.16,7076103.328000001,2310030.6100000003,0.0,0.0,0.0,0.0,0.0,0.0,817580.3499999999,14100123.755,198825.41,0.0,1415171.57,3516676.26,2259807.802,3300963.3699999996,6894.08,3114.0,4809659.625,1380177.23,1458601.5599999998,1761300.73,1991821.58,1480475.1199999999,10442.48,5201838.892,0.0,0.0,0.0,0.0,0.0,0.0,0.0,0.0,109359.19,13325907.719999999,1878251.8699999999,0.0,2254853.94,1651279.48,1208276.78,847936.12,1731216.08,3212664.0800000005,0.0,3253291.29,4360170.01,698513.94,2526192.7600000002,1412381.8800000001,1216212.22,0.0,4065446.818,1660851.88,11327760.74,0.0,0.0,0.0,0.0,0.0,11838912.02,14507.97,1721594.1300000001,3171615.46,2072624.24,1050188.0,260903.02000000002,2320633.54,0.0,329125.99,2583007.97,1235463.02,3971161.27,1492476.89,1646788.93,594.01,28512.36,6318261.61,1786979.88,23075772.19,2498500.1299999994,0.0,0.0,0.0,0.0,0.0,0.0,12129918.93,494360.23000000004,2384254.8,1225559.96,0.0,219990.3000000001,1818470.24,240238.28999999998,629241.87,1544919.54,1356190.07,869285.4099999999,4071620.56,1373816.77,4630562.49,756653.32,1704210.7,2322270.565,9787010.799999999,0.0,0.0,0.0,0.0,0.0,5579341.87,0.0,51753.96,383582.29,659346.74,592392.9199999999,1238159.93,1374295.6699999997,271392.43,37641.745,1529294.24,71263.31,14569272.389999999,0.0,0.0,0.0,0.0,0.0,8680976.690000001,2014435.8900000001,211915.77,545824.99,1361088.34,3135148.96,169494.36,2790923.17,1813856.91,3315049.09,3210613.67,742261.46,126488.09,76721.24000000009,965180.11,55255.1,21606363.94,2851942.5,3994327.5100000002],\"type\":\"scatter\"}],                        {\"template\":{\"data\":{\"histogram2dcontour\":[{\"type\":\"histogram2dcontour\",\"colorbar\":{\"outlinewidth\":0,\"ticks\":\"\"},\"colorscale\":[[0.0,\"#0d0887\"],[0.1111111111111111,\"#46039f\"],[0.2222222222222222,\"#7201a8\"],[0.3333333333333333,\"#9c179e\"],[0.4444444444444444,\"#bd3786\"],[0.5555555555555556,\"#d8576b\"],[0.6666666666666666,\"#ed7953\"],[0.7777777777777778,\"#fb9f3a\"],[0.8888888888888888,\"#fdca26\"],[1.0,\"#f0f921\"]]}],\"choropleth\":[{\"type\":\"choropleth\",\"colorbar\":{\"outlinewidth\":0,\"ticks\":\"\"}}],\"histogram2d\":[{\"type\":\"histogram2d\",\"colorbar\":{\"outlinewidth\":0,\"ticks\":\"\"},\"colorscale\":[[0.0,\"#0d0887\"],[0.1111111111111111,\"#46039f\"],[0.2222222222222222,\"#7201a8\"],[0.3333333333333333,\"#9c179e\"],[0.4444444444444444,\"#bd3786\"],[0.5555555555555556,\"#d8576b\"],[0.6666666666666666,\"#ed7953\"],[0.7777777777777778,\"#fb9f3a\"],[0.8888888888888888,\"#fdca26\"],[1.0,\"#f0f921\"]]}],\"heatmap\":[{\"type\":\"heatmap\",\"colorbar\":{\"outlinewidth\":0,\"ticks\":\"\"},\"colorscale\":[[0.0,\"#0d0887\"],[0.1111111111111111,\"#46039f\"],[0.2222222222222222,\"#7201a8\"],[0.3333333333333333,\"#9c179e\"],[0.4444444444444444,\"#bd3786\"],[0.5555555555555556,\"#d8576b\"],[0.6666666666666666,\"#ed7953\"],[0.7777777777777778,\"#fb9f3a\"],[0.8888888888888888,\"#fdca26\"],[1.0,\"#f0f921\"]]}],\"heatmapgl\":[{\"type\":\"heatmapgl\",\"colorbar\":{\"outlinewidth\":0,\"ticks\":\"\"},\"colorscale\":[[0.0,\"#0d0887\"],[0.1111111111111111,\"#46039f\"],[0.2222222222222222,\"#7201a8\"],[0.3333333333333333,\"#9c179e\"],[0.4444444444444444,\"#bd3786\"],[0.5555555555555556,\"#d8576b\"],[0.6666666666666666,\"#ed7953\"],[0.7777777777777778,\"#fb9f3a\"],[0.8888888888888888,\"#fdca26\"],[1.0,\"#f0f921\"]]}],\"contourcarpet\":[{\"type\":\"contourcarpet\",\"colorbar\":{\"outlinewidth\":0,\"ticks\":\"\"}}],\"contour\":[{\"type\":\"contour\",\"colorbar\":{\"outlinewidth\":0,\"ticks\":\"\"},\"colorscale\":[[0.0,\"#0d0887\"],[0.1111111111111111,\"#46039f\"],[0.2222222222222222,\"#7201a8\"],[0.3333333333333333,\"#9c179e\"],[0.4444444444444444,\"#bd3786\"],[0.5555555555555556,\"#d8576b\"],[0.6666666666666666,\"#ed7953\"],[0.7777777777777778,\"#fb9f3a\"],[0.8888888888888888,\"#fdca26\"],[1.0,\"#f0f921\"]]}],\"surface\":[{\"type\":\"surface\",\"colorbar\":{\"outlinewidth\":0,\"ticks\":\"\"},\"colorscale\":[[0.0,\"#0d0887\"],[0.1111111111111111,\"#46039f\"],[0.2222222222222222,\"#7201a8\"],[0.3333333333333333,\"#9c179e\"],[0.4444444444444444,\"#bd3786\"],[0.5555555555555556,\"#d8576b\"],[0.6666666666666666,\"#ed7953\"],[0.7777777777777778,\"#fb9f3a\"],[0.8888888888888888,\"#fdca26\"],[1.0,\"#f0f921\"]]}],\"mesh3d\":[{\"type\":\"mesh3d\",\"colorbar\":{\"outlinewidth\":0,\"ticks\":\"\"}}],\"scatter\":[{\"fillpattern\":{\"fillmode\":\"overlay\",\"size\":10,\"solidity\":0.2},\"type\":\"scatter\"}],\"parcoords\":[{\"type\":\"parcoords\",\"line\":{\"colorbar\":{\"outlinewidth\":0,\"ticks\":\"\"}}}],\"scatterpolargl\":[{\"type\":\"scatterpolargl\",\"marker\":{\"colorbar\":{\"outlinewidth\":0,\"ticks\":\"\"}}}],\"bar\":[{\"error_x\":{\"color\":\"#2a3f5f\"},\"error_y\":{\"color\":\"#2a3f5f\"},\"marker\":{\"line\":{\"color\":\"#E5ECF6\",\"width\":0.5},\"pattern\":{\"fillmode\":\"overlay\",\"size\":10,\"solidity\":0.2}},\"type\":\"bar\"}],\"scattergeo\":[{\"type\":\"scattergeo\",\"marker\":{\"colorbar\":{\"outlinewidth\":0,\"ticks\":\"\"}}}],\"scatterpolar\":[{\"type\":\"scatterpolar\",\"marker\":{\"colorbar\":{\"outlinewidth\":0,\"ticks\":\"\"}}}],\"histogram\":[{\"marker\":{\"pattern\":{\"fillmode\":\"overlay\",\"size\":10,\"solidity\":0.2}},\"type\":\"histogram\"}],\"scattergl\":[{\"type\":\"scattergl\",\"marker\":{\"colorbar\":{\"outlinewidth\":0,\"ticks\":\"\"}}}],\"scatter3d\":[{\"type\":\"scatter3d\",\"line\":{\"colorbar\":{\"outlinewidth\":0,\"ticks\":\"\"}},\"marker\":{\"colorbar\":{\"outlinewidth\":0,\"ticks\":\"\"}}}],\"scattermapbox\":[{\"type\":\"scattermapbox\",\"marker\":{\"colorbar\":{\"outlinewidth\":0,\"ticks\":\"\"}}}],\"scatterternary\":[{\"type\":\"scatterternary\",\"marker\":{\"colorbar\":{\"outlinewidth\":0,\"ticks\":\"\"}}}],\"scattercarpet\":[{\"type\":\"scattercarpet\",\"marker\":{\"colorbar\":{\"outlinewidth\":0,\"ticks\":\"\"}}}],\"carpet\":[{\"aaxis\":{\"endlinecolor\":\"#2a3f5f\",\"gridcolor\":\"white\",\"linecolor\":\"white\",\"minorgridcolor\":\"white\",\"startlinecolor\":\"#2a3f5f\"},\"baxis\":{\"endlinecolor\":\"#2a3f5f\",\"gridcolor\":\"white\",\"linecolor\":\"white\",\"minorgridcolor\":\"white\",\"startlinecolor\":\"#2a3f5f\"},\"type\":\"carpet\"}],\"table\":[{\"cells\":{\"fill\":{\"color\":\"#EBF0F8\"},\"line\":{\"color\":\"white\"}},\"header\":{\"fill\":{\"color\":\"#C8D4E3\"},\"line\":{\"color\":\"white\"}},\"type\":\"table\"}],\"barpolar\":[{\"marker\":{\"line\":{\"color\":\"#E5ECF6\",\"width\":0.5},\"pattern\":{\"fillmode\":\"overlay\",\"size\":10,\"solidity\":0.2}},\"type\":\"barpolar\"}],\"pie\":[{\"automargin\":true,\"type\":\"pie\"}]},\"layout\":{\"autotypenumbers\":\"strict\",\"colorway\":[\"#636efa\",\"#EF553B\",\"#00cc96\",\"#ab63fa\",\"#FFA15A\",\"#19d3f3\",\"#FF6692\",\"#B6E880\",\"#FF97FF\",\"#FECB52\"],\"font\":{\"color\":\"#2a3f5f\"},\"hovermode\":\"closest\",\"hoverlabel\":{\"align\":\"left\"},\"paper_bgcolor\":\"white\",\"plot_bgcolor\":\"#E5ECF6\",\"polar\":{\"bgcolor\":\"#E5ECF6\",\"angularaxis\":{\"gridcolor\":\"white\",\"linecolor\":\"white\",\"ticks\":\"\"},\"radialaxis\":{\"gridcolor\":\"white\",\"linecolor\":\"white\",\"ticks\":\"\"}},\"ternary\":{\"bgcolor\":\"#E5ECF6\",\"aaxis\":{\"gridcolor\":\"white\",\"linecolor\":\"white\",\"ticks\":\"\"},\"baxis\":{\"gridcolor\":\"white\",\"linecolor\":\"white\",\"ticks\":\"\"},\"caxis\":{\"gridcolor\":\"white\",\"linecolor\":\"white\",\"ticks\":\"\"}},\"coloraxis\":{\"colorbar\":{\"outlinewidth\":0,\"ticks\":\"\"}},\"colorscale\":{\"sequential\":[[0.0,\"#0d0887\"],[0.1111111111111111,\"#46039f\"],[0.2222222222222222,\"#7201a8\"],[0.3333333333333333,\"#9c179e\"],[0.4444444444444444,\"#bd3786\"],[0.5555555555555556,\"#d8576b\"],[0.6666666666666666,\"#ed7953\"],[0.7777777777777778,\"#fb9f3a\"],[0.8888888888888888,\"#fdca26\"],[1.0,\"#f0f921\"]],\"sequentialminus\":[[0.0,\"#0d0887\"],[0.1111111111111111,\"#46039f\"],[0.2222222222222222,\"#7201a8\"],[0.3333333333333333,\"#9c179e\"],[0.4444444444444444,\"#bd3786\"],[0.5555555555555556,\"#d8576b\"],[0.6666666666666666,\"#ed7953\"],[0.7777777777777778,\"#fb9f3a\"],[0.8888888888888888,\"#fdca26\"],[1.0,\"#f0f921\"]],\"diverging\":[[0,\"#8e0152\"],[0.1,\"#c51b7d\"],[0.2,\"#de77ae\"],[0.3,\"#f1b6da\"],[0.4,\"#fde0ef\"],[0.5,\"#f7f7f7\"],[0.6,\"#e6f5d0\"],[0.7,\"#b8e186\"],[0.8,\"#7fbc41\"],[0.9,\"#4d9221\"],[1,\"#276419\"]]},\"xaxis\":{\"gridcolor\":\"white\",\"linecolor\":\"white\",\"ticks\":\"\",\"title\":{\"standoff\":15},\"zerolinecolor\":\"white\",\"automargin\":true,\"zerolinewidth\":2},\"yaxis\":{\"gridcolor\":\"white\",\"linecolor\":\"white\",\"ticks\":\"\",\"title\":{\"standoff\":15},\"zerolinecolor\":\"white\",\"automargin\":true,\"zerolinewidth\":2},\"scene\":{\"xaxis\":{\"backgroundcolor\":\"#E5ECF6\",\"gridcolor\":\"white\",\"linecolor\":\"white\",\"showbackground\":true,\"ticks\":\"\",\"zerolinecolor\":\"white\",\"gridwidth\":2},\"yaxis\":{\"backgroundcolor\":\"#E5ECF6\",\"gridcolor\":\"white\",\"linecolor\":\"white\",\"showbackground\":true,\"ticks\":\"\",\"zerolinecolor\":\"white\",\"gridwidth\":2},\"zaxis\":{\"backgroundcolor\":\"#E5ECF6\",\"gridcolor\":\"white\",\"linecolor\":\"white\",\"showbackground\":true,\"ticks\":\"\",\"zerolinecolor\":\"white\",\"gridwidth\":2}},\"shapedefaults\":{\"line\":{\"color\":\"#2a3f5f\"}},\"annotationdefaults\":{\"arrowcolor\":\"#2a3f5f\",\"arrowhead\":0,\"arrowwidth\":1},\"geo\":{\"bgcolor\":\"white\",\"landcolor\":\"#E5ECF6\",\"subunitcolor\":\"white\",\"showland\":true,\"showlakes\":true,\"lakecolor\":\"white\"},\"title\":{\"x\":0.05},\"mapbox\":{\"style\":\"light\"}}},\"margin\":{\"t\":0,\"b\":0,\"l\":0,\"r\":0},\"xaxis\":{\"title\":{\"text\":\"Fiscal Months\"},\"dtick\":\"M12\",\"range\":[\"2022-10-01\",\"2023-09-30\"]},\"legend\":{\"x\":0.01,\"y\":0.99},\"height\":680,\"yaxis\":{\"title\":{\"text\":\"Value (K)\"}}},                        {\"responsive\": true}                    ).then(function(){\n",
       "                            \n",
       "var gd = document.getElementById('8b4f3f2b-3c18-4882-b585-94bfe11892ad');\n",
       "var x = new MutationObserver(function (mutations, observer) {{\n",
       "        var display = window.getComputedStyle(gd).display;\n",
       "        if (!display || display === 'none') {{\n",
       "            console.log([gd, 'removed!']);\n",
       "            Plotly.purge(gd);\n",
       "            observer.disconnect();\n",
       "        }}\n",
       "}});\n",
       "\n",
       "// Listen for the removal of the full notebook cells\n",
       "var notebookContainer = gd.closest('#notebook-container');\n",
       "if (notebookContainer) {{\n",
       "    x.observe(notebookContainer, {childList: true});\n",
       "}}\n",
       "\n",
       "// Listen for the clearing of the current output cell\n",
       "var outputEl = gd.closest('.output');\n",
       "if (outputEl) {{\n",
       "    x.observe(outputEl, {childList: true});\n",
       "}}\n",
       "\n",
       "                        })                };                });            </script>        </div>"
      ]
     },
     "metadata": {},
     "output_type": "display_data"
    }
   ],
   "source": [
    "neworder = orders.groupby('PostDate')['OR'].sum()\n",
    "turnover = orders.groupby('PostDate')['TO'].sum()\n",
    "x = neworder.index\n",
    "\n",
    "plot_order = go.Scatter(x=x, y=neworder, mode='lines', name='New Order')\n",
    "plot_turnover = go.Scatter(x=x, y=turnover, mode='lines', name='Turnover')\n",
    "fig = go.Figure([plot_order, plot_turnover])\n",
    "fig.update_layout(\n",
    "    height=680, margin={'t':0, 'b':0, 'l':0, 'r':0},\n",
    "    xaxis=dict(title=\"Fiscal Months\", dtick='M12', range=['2022-10-01','2023-09-30']),\n",
    "    yaxis=dict(title=\"Value (K)\"),\n",
    "    legend=dict(x=0.01, y=0.99)\n",
    ")\n",
    "fig.show()"
   ]
  },
  {
   "cell_type": "code",
   "execution_count": 18,
   "id": "f5221b57-b35b-4c44-b18b-2ababf513472",
   "metadata": {},
   "outputs": [
    {
     "data": {
      "text/plain": [
       "(688,)"
      ]
     },
     "execution_count": 18,
     "metadata": {},
     "output_type": "execute_result"
    }
   ],
   "source": [
    "neworder.shape"
   ]
  },
  {
   "cell_type": "code",
   "execution_count": null,
   "id": "2250731f-def5-4689-be7f-5fb464e195d0",
   "metadata": {},
   "outputs": [],
   "source": []
  }
 ],
 "metadata": {
  "kernelspec": {
   "display_name": "Python 3 (ipykernel)",
   "language": "python",
   "name": "python3"
  },
  "language_info": {
   "codemirror_mode": {
    "name": "ipython",
    "version": 3
   },
   "file_extension": ".py",
   "mimetype": "text/x-python",
   "name": "python",
   "nbconvert_exporter": "python",
   "pygments_lexer": "ipython3",
   "version": "3.11.5"
  }
 },
 "nbformat": 4,
 "nbformat_minor": 5
}
