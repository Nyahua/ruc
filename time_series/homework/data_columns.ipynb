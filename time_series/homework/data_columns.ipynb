{
 "cells": [
  {
   "cell_type": "code",
   "execution_count": 1,
   "id": "148e8d68-1bd0-4693-a782-614fa46e3e90",
   "metadata": {},
   "outputs": [],
   "source": [
    "import pandas as pd"
   ]
  },
  {
   "cell_type": "code",
   "execution_count": 7,
   "id": "fb165fc5-5cd8-431a-ad2c-6192cd4f317c",
   "metadata": {},
   "outputs": [
    {
     "data": {
      "text/html": [
       "<div>\n",
       "<style scoped>\n",
       "    .dataframe tbody tr th:only-of-type {\n",
       "        vertical-align: middle;\n",
       "    }\n",
       "\n",
       "    .dataframe tbody tr th {\n",
       "        vertical-align: top;\n",
       "    }\n",
       "\n",
       "    .dataframe thead th {\n",
       "        text-align: right;\n",
       "    }\n",
       "</style>\n",
       "<table border=\"1\" class=\"dataframe\">\n",
       "  <thead>\n",
       "    <tr style=\"text-align: right;\">\n",
       "      <th></th>\n",
       "      <th>PostDate</th>\n",
       "      <th>month</th>\n",
       "      <th>FiscalYear</th>\n",
       "      <th>AssignType</th>\n",
       "      <th>channel</th>\n",
       "      <th>BuyerType</th>\n",
       "      <th>OrderNum</th>\n",
       "      <th>ProductLine</th>\n",
       "      <th>Territory</th>\n",
       "      <th>Sales</th>\n",
       "      <th>Buyer</th>\n",
       "      <th>AssignedCustomer</th>\n",
       "      <th>OR</th>\n",
       "      <th>TO</th>\n",
       "    </tr>\n",
       "  </thead>\n",
       "  <tbody>\n",
       "    <tr>\n",
       "      <th>0</th>\n",
       "      <td>2017-10-31</td>\n",
       "      <td>2017-10</td>\n",
       "      <td>FY18</td>\n",
       "      <td>Assign_TO</td>\n",
       "      <td>CHA00000003</td>\n",
       "      <td>Dealer</td>\n",
       "      <td>ORD00000033</td>\n",
       "      <td>PRO00000001</td>\n",
       "      <td>TER00000005</td>\n",
       "      <td>SAL00000001</td>\n",
       "      <td>BUY00000019</td>\n",
       "      <td>ASS00001348</td>\n",
       "      <td>74629.79</td>\n",
       "      <td>74629.79</td>\n",
       "    </tr>\n",
       "    <tr>\n",
       "      <th>1</th>\n",
       "      <td>2017-10-31</td>\n",
       "      <td>2017-10</td>\n",
       "      <td>FY18</td>\n",
       "      <td>Assign_TO</td>\n",
       "      <td>CHA00000003</td>\n",
       "      <td>Dealer</td>\n",
       "      <td>ORD00000034</td>\n",
       "      <td>PRO00000001</td>\n",
       "      <td>TER00000004</td>\n",
       "      <td>SAL00000046</td>\n",
       "      <td>BUY00000048</td>\n",
       "      <td>ASS00001789</td>\n",
       "      <td>23405.08</td>\n",
       "      <td>23405.08</td>\n",
       "    </tr>\n",
       "    <tr>\n",
       "      <th>2</th>\n",
       "      <td>2017-10-31</td>\n",
       "      <td>2017-10</td>\n",
       "      <td>FY18</td>\n",
       "      <td>Assign_TO</td>\n",
       "      <td>CHA00000003</td>\n",
       "      <td>Dealer</td>\n",
       "      <td>ORD00000036</td>\n",
       "      <td>PRO00000000</td>\n",
       "      <td>TER00000003</td>\n",
       "      <td>SAL00000021</td>\n",
       "      <td>BUY00000048</td>\n",
       "      <td>ASS00000395</td>\n",
       "      <td>15310.63</td>\n",
       "      <td>15310.63</td>\n",
       "    </tr>\n",
       "    <tr>\n",
       "      <th>3</th>\n",
       "      <td>2017-10-31</td>\n",
       "      <td>2017-10</td>\n",
       "      <td>FY18</td>\n",
       "      <td>Assign_TO</td>\n",
       "      <td>CHA00000003</td>\n",
       "      <td>Dealer</td>\n",
       "      <td>ORD00000036</td>\n",
       "      <td>PRO00000000</td>\n",
       "      <td>TER00000004</td>\n",
       "      <td>SAL00000046</td>\n",
       "      <td>BUY00000048</td>\n",
       "      <td>ASS00001789</td>\n",
       "      <td>2841.88</td>\n",
       "      <td>2841.88</td>\n",
       "    </tr>\n",
       "    <tr>\n",
       "      <th>4</th>\n",
       "      <td>2017-10-31</td>\n",
       "      <td>2017-10</td>\n",
       "      <td>FY18</td>\n",
       "      <td>Assign_TO</td>\n",
       "      <td>CHA00000003</td>\n",
       "      <td>OEM</td>\n",
       "      <td>ORD00000037</td>\n",
       "      <td>PRO00000000</td>\n",
       "      <td>TER00000003</td>\n",
       "      <td>SAL00000043</td>\n",
       "      <td>BUY00000048</td>\n",
       "      <td>ASS00000474</td>\n",
       "      <td>4702.64</td>\n",
       "      <td>4702.64</td>\n",
       "    </tr>\n",
       "  </tbody>\n",
       "</table>\n",
       "</div>"
      ],
      "text/plain": [
       "     PostDate    month FiscalYear AssignType      channel BuyerType  \\\n",
       "0  2017-10-31  2017-10       FY18  Assign_TO  CHA00000003    Dealer   \n",
       "1  2017-10-31  2017-10       FY18  Assign_TO  CHA00000003    Dealer   \n",
       "2  2017-10-31  2017-10       FY18  Assign_TO  CHA00000003    Dealer   \n",
       "3  2017-10-31  2017-10       FY18  Assign_TO  CHA00000003    Dealer   \n",
       "4  2017-10-31  2017-10       FY18  Assign_TO  CHA00000003       OEM   \n",
       "\n",
       "      OrderNum  ProductLine    Territory        Sales        Buyer  \\\n",
       "0  ORD00000033  PRO00000001  TER00000005  SAL00000001  BUY00000019   \n",
       "1  ORD00000034  PRO00000001  TER00000004  SAL00000046  BUY00000048   \n",
       "2  ORD00000036  PRO00000000  TER00000003  SAL00000021  BUY00000048   \n",
       "3  ORD00000036  PRO00000000  TER00000004  SAL00000046  BUY00000048   \n",
       "4  ORD00000037  PRO00000000  TER00000003  SAL00000043  BUY00000048   \n",
       "\n",
       "  AssignedCustomer        OR        TO  \n",
       "0      ASS00001348  74629.79  74629.79  \n",
       "1      ASS00001789  23405.08  23405.08  \n",
       "2      ASS00000395  15310.63  15310.63  \n",
       "3      ASS00001789   2841.88   2841.88  \n",
       "4      ASS00000474   4702.64   4702.64  "
      ]
     },
     "execution_count": 7,
     "metadata": {},
     "output_type": "execute_result"
    }
   ],
   "source": [
    "df = pd.read_csv(\"data/orders_encoded.csv\")\n",
    "df.head()"
   ]
  },
  {
   "cell_type": "code",
   "execution_count": 8,
   "id": "5ed4c998-08cf-4dc5-835a-9430a1b3e0df",
   "metadata": {},
   "outputs": [
    {
     "data": {
      "text/plain": [
       "array(['Assign_TO', 'Reassign_TO', 'Rebalance_TO', 'Direct', 'Balance_TO'],\n",
       "      dtype=object)"
      ]
     },
     "execution_count": 8,
     "metadata": {},
     "output_type": "execute_result"
    }
   ],
   "source": [
    "df.AssignType.unique()"
   ]
  },
  {
   "cell_type": "code",
   "execution_count": 9,
   "id": "c37b8f66-025b-454e-87b7-96e106ba3d41",
   "metadata": {},
   "outputs": [
    {
     "data": {
      "text/plain": [
       "array(['CHA00000003', 'CHA00000000', 'CHA00000001', 'CHA00000004',\n",
       "       'CHA00000002'], dtype=object)"
      ]
     },
     "execution_count": 9,
     "metadata": {},
     "output_type": "execute_result"
    }
   ],
   "source": [
    "df.channel.unique()"
   ]
  },
  {
   "cell_type": "code",
   "execution_count": 10,
   "id": "8b6fbe3c-2ac7-4fc9-a52b-14541f816408",
   "metadata": {},
   "outputs": [
    {
     "data": {
      "text/plain": [
       "array(['Dealer', 'OEM', 'End-User'], dtype=object)"
      ]
     },
     "execution_count": 10,
     "metadata": {},
     "output_type": "execute_result"
    }
   ],
   "source": [
    "df.BuyerType.unique()"
   ]
  },
  {
   "cell_type": "code",
   "execution_count": 11,
   "id": "2ea15c9d-0146-42e7-8357-9b01c062927f",
   "metadata": {},
   "outputs": [
    {
     "data": {
      "text/plain": [
       "array(['TER00000005', 'TER00000004', 'TER00000003', 'TER00000006',\n",
       "       'TER00000007', 'TER00000000', 'TER00000002', 'TER00000001'],\n",
       "      dtype=object)"
      ]
     },
     "execution_count": 11,
     "metadata": {},
     "output_type": "execute_result"
    }
   ],
   "source": [
    "df.Territory.unique()"
   ]
  },
  {
   "cell_type": "code",
   "execution_count": 12,
   "id": "61cc8909-2742-4930-b22f-fec6cbe72f60",
   "metadata": {},
   "outputs": [
    {
     "data": {
      "text/plain": [
       "array(['PRO00000001', 'PRO00000000', 'PRO00000003', 'PRO00000002',\n",
       "       'PRO00000005', 'PRO00000009', 'PRO00000011', 'PRO00000012',\n",
       "       'PRO00000010', 'PRO00000006', 'PRO00000004', 'PRO00000007',\n",
       "       'PRO00000008'], dtype=object)"
      ]
     },
     "execution_count": 12,
     "metadata": {},
     "output_type": "execute_result"
    }
   ],
   "source": [
    "df.ProductLine.unique()"
   ]
  },
  {
   "cell_type": "code",
   "execution_count": null,
   "id": "24f70eb8-4297-4f18-80ec-5a65a9b2c4b7",
   "metadata": {},
   "outputs": [],
   "source": []
  }
 ],
 "metadata": {
  "kernelspec": {
   "display_name": "Python 3 (ipykernel)",
   "language": "python",
   "name": "python3"
  },
  "language_info": {
   "codemirror_mode": {
    "name": "ipython",
    "version": 3
   },
   "file_extension": ".py",
   "mimetype": "text/x-python",
   "name": "python",
   "nbconvert_exporter": "python",
   "pygments_lexer": "ipython3",
   "version": "3.11.7"
  }
 },
 "nbformat": 4,
 "nbformat_minor": 5
}
