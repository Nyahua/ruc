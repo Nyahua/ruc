import pandas as pd


df = pd.read_csv("data/orders_encoded.csv")
df.head()


df.AssignType.unique()


df.channel.unique()


df.BuyerType.unique()


df.Territory.unique()


df.ProductLine.unique()



