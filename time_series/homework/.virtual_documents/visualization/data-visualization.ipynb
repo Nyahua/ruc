


import pandas as pd
import numpy as np
import plotly.graph_objects as go

color_red = "#DE3163"
color_orange = "#FF7F50"
color_blue = "#6495ED"
color_yellow = "#DFFF00"
color_green = "#9FE2BF"
color_purple = "#CCCCFF"

df = pd.read_csv("data/orders_encoded.csv")
df.head()





ts = df.groupby('month')[['OR', 'TO']].sum()
x, y1, y2 = ts.index, ts.OR, ts.TO
plot_order = go.Scatter(x=x, y=y1, mode='lines', name='新订单', line_color=color_blue)
plot_turnover = go.Scatter(x=x, y=y2, mode='lines', name='收入', line_color=color_red)

fig = go.Figure([plot_order, plot_turnover])
fig.update_layout(
    height=680, margin={'t':50, 'b':0, 'l':0, 'r':0},
    xaxis=dict(title="Months", dtick='M12', range=['2017-07-01','2024-06-30']),
    yaxis=dict(title="Value (K)"),
    legend=dict(x=0.01, y=0.99), 
    title='月度订单与收入', title_x=0.5
)
fig.show()

# ! pip install kaleido
fig.write_image(r"img/00-Order_line_chart.png", width=1200, height=600)





pivot = df.pivot_table(
    index='FiscalYear', columns='BuyerType', 
    values='OR', aggfunc='sum'
) 
pivot = pivot / pivot.sum(axis=1).values.reshape(len(pivot),1)
text = pivot.map(lambda x: f"{x:.0%}")


# customer type percentage
pivot = df.pivot_table(
    index='FiscalYear', columns='BuyerType', 
    values='OR', aggfunc='sum'
) 
pivot = pivot / pivot.sum(axis=1).values.reshape(len(pivot),1)
text = pivot.map(lambda x: f"{x:.0%}")
x = pivot.index
fig = go.Figure()
for col in pivot.columns:
    fig.add_trace(go.Bar(x=x, y=pivot[col], name=col, text=text[col]))
fig.update_layout(
    barmode='stack', xaxis_title='year', yaxis_title='customer type %', 
    plot_bgcolor='rgba(0,0,0,0)', height=600,
    title='订单客户类型年度占比', title_x=0.5,
    legend=dict(orientation="h", x=1, y=1.1, xanchor="right", yanchor="top")
)
fig.update_yaxes(tickformat=".0%")    
fig.show()
fig.write_image(r"img/01-Order_by_customer-type.png", width=1200, height=600)


# ts decomposition
from plotly.subplots import make_subplots
import plotly.graph_objects as go
from statsmodels.tsa.seasonal import seasonal_decompose, STL
ts = df.groupby('month')['OR'].sum()
decomposition_or = STL(ts, period=12).fit()

fig = make_subplots(
    rows=4, cols=1,
    shared_xaxes=True,
    vertical_spacing=0.05,
    subplot_titles=['observed', 'trend', 'seasonal', 'resid']    
)
x = ts.index
fig.add_trace(go.Scatter(x=x, y=decomposition_or.observed), row=1, col=1)
fig.add_trace(go.Scatter(x=x, y=decomposition_or.trend), row=2, col=1)
fig.add_trace(go.Scatter(x=x, y=decomposition_or.seasonal), row=3, col=1)
fig.add_trace(go.Scatter(x=x, y=decomposition_or.resid), row=4, col=1)

fig.update_layout(
    height=1200, margin={'t':75, 'b':0, 'l':0, 'r':0},
    xaxis4=dict(title="Month", dtick='M12', range=['2017-07-01','2024-06-30']),
    showlegend=False,
    title='订单时间序列分解', title_x=0.5
)
fig.show()
fig.write_image(r"img/03-Order_decompostion.png", width=1200, height=1200)





# customer type percentage
pivot = df.pivot_table(
    index='FiscalYear', columns='BuyerType', 
    values='TO', aggfunc='sum'
) 
pivot = pivot / pivot.sum(axis=1).values.reshape(len(pivot),1)
text = pivot.map(lambda x: f"{x:.0%}")
x = pivot.index
fig = go.Figure()
for col in pivot.columns:
    fig.add_trace(go.Bar(x=x, y=pivot[col], name=col, text=text[col]))
fig.update_layout(
    barmode='stack', xaxis_title='year', yaxis_title='customer type %', 
    plot_bgcolor='rgba(0,0,0,0)', height=600,
    title='销售收入客户类型年度占比', title_x=0.5,
    legend=dict(orientation="h", x=1, y=1.1, xanchor="right", yanchor="top")
)
fig.update_yaxes(tickformat=".0%")    
fig.show()
fig.write_image(r"img/04-TurnOver_by_customer-type.png", width=1200, height=600)

# decomposition
ts = df.groupby('month')['TO'].sum()
decomposition_to = STL(ts, period=12).fit()

fig = make_subplots(
    rows=4, cols=1,
    shared_xaxes=True,
    vertical_spacing=0.05,
    subplot_titles=['observed', 'trend', 'seasonal', 'resid']    
)
x = ts.index
fig.add_trace(go.Scatter(x=x, y=decomposition_to.observed), row=1, col=1)
fig.add_trace(go.Scatter(x=x, y=decomposition_to.trend), row=2, col=1)
fig.add_trace(go.Scatter(x=x, y=decomposition_to.seasonal), row=3, col=1)
fig.add_trace(go.Scatter(x=x, y=decomposition_to.resid), row=4, col=1)

or_color = 'rgba(177, 177, 177, 0.5)'
fig.add_trace(go.Scatter(x=x, y=decomposition_or.observed, line_color=or_color), row=1, col=1)
fig.add_trace(go.Scatter(x=x, y=decomposition_or.trend, line_color=or_color), row=2, col=1)
fig.add_trace(go.Scatter(x=x, y=decomposition_or.seasonal, line_color=or_color), row=3, col=1)
fig.add_trace(go.Scatter(x=x, y=decomposition_or.resid, line_color=or_color), row=4, col=1)


fig.update_layout(
    height=1200, margin={'t':75, 'b':0, 'l':0, 'r':0},
    xaxis4=dict(title="Month", dtick='M12', range=['2017-07-01','2024-06-30']),
    showlegend=False,
    title='销售收入时间序列分解', title_x=0.5
)
fig.show()
fig.write_image(r"img/05-TurnOver_decompostion.png", width=1200, height=1200)





# data uncensored
df = pd.read_csv("data/orders.csv")
pivot = df.loc[
    df.FiscalYear.isin(['FY23'])
    & df.BuyerType.isin(['OEM', 'End-User']) 
].groupby('AssignedCustomer')[['TO']].sum()/1e6
pivot = pivot.loc[pivot.TO > 1]
pivot = pivot.sort_values(ascending=False, by='TO').reset_index()
pivot['percent'] = pivot.TO / pivot.TO.sum()
pivot['cumsum'] = pivot.percent.values.cumsum()

x = pivot.index
y1 = pivot['percent']
y2 = pivot['cumsum']

fig = go.Figure()
fig.add_trace(
    go.Bar(x=x, y=y1, name='Customers Percentage', marker_color=color_blue)
)
fig.add_trace(
    go.Scatter(
        x=x, y=y2, yaxis= "y2", line_color=color_orange,
        mode='lines+markers', name='Cumulative Percentage')
)

fig.update_layout(
    plot_bgcolor='rgba(0,0,0,0)', height=600,
    title='重点客户销售收入占比（FY23）', title_x=0.5,
    legend=dict(orientation="h", x=1, y=1.1, xanchor="right", yanchor="top"),
    xaxis_title='customers', yaxis_title='percentage', 
    yaxis_tickformat='.0%', yaxis2=dict(side='right', overlaying='y', tickformat=".0%")
)
fig.show()
fig.write_image(r"img/06-TurnOver_by_Customer.png", width=1200, height=800)
