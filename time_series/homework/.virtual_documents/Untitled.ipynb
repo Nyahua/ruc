import pandas as pd
import numpy as np
import plotly.graph_objects as go

df = pd.read_csv("data/orders_encoded.csv")
df.head()


ts = df.groupby('month')[['OR', 'TO']].sum()
x, y1, y2 = ts.index, ts.OR, ts.TO
plot_order = go.Scatter(x=x, y=y1, mode='lines', name='新订单')
plot_turnover = go.Scatter(x=x, y=y2, mode='lines', name='收入')

fig = go.Figure([plot_order, plot_turnover])
fig.update_layout(
    height=680, margin={'t':50, 'b':0, 'l':0, 'r':0},
    xaxis=dict(title="Months", dtick='M12', range=['2017-07-01','2024-06-30']),
    yaxis=dict(title="Value (K)"),
    legend=dict(x=0.01, y=0.99), 
    title='月度订单与收入', title_x=0.5
)
fig.show()

# ! pip install kaleido
fig.write_image("img/00-Order_line_chart.png", width=1200, height=900)





from plotly.subplots import make_subplots
import plotly.graph_objects as go
from statsmodels.tsa.seasonal import seasonal_decompose, STL
decomposition = STL(y1, period=12).fit()

fig = make_subplots(
    rows=4, cols=1,
    shared_xaxes=True,
    vertical_spacing=0.05,
    subplot_titles=['observed', 'trend', 'seasonal', 'resid']    
)

fig.add_trace(go.Scatter(x=x, y=decomposition.observed), row=1, col=1)
fig.add_trace(go.Scatter(x=x, y=decomposition.trend), row=2, col=1)
fig.add_trace(go.Scatter(x=x, y=decomposition.seasonal), row=3, col=1)
fig.add_trace(go.Scatter(x=x, y=decomposition.resid), row=4, col=1)

fig.update_layout(
    height=1200, margin={'t':75, 'b':0, 'l':0, 'r':0},
    xaxis4=dict(title="Month", dtick='M12', range=['2017-07-01','2024-06-30']),
    showlegend=False,
    title='订单时间序列分解', title_x=0.5
)
fig.show()



