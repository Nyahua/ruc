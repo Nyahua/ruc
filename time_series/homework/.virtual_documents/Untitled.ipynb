


import arviz as az
import matplotlib.pyplot as plt
import numpy as np
import pandas as pd
from arviz.labels import MapLabeller

from pymc_marketing import clv
from sklearn import preprocessing 





cust_list = pd.read_excel('restricted/trustit/cust_list.xlsx', skiprows=4, engine='calamine')
existing_customers = cust_list.loc[
    cust_list['Company Role'].isin(['OEM', 'End-Account']), 'Company Name (CN)'
].unique()
orders = pd.read_csv('data/orders.csv')
orders = orders.loc[orders.AssignedCustomer.isin(existing_customers)]

label_encoder = preprocessing.LabelEncoder()
orders['custID'] = label_encoder.fit_transform(orders['AssignedCustomer'])
map_cust = {k:v for k, v in orders[['custID', 'AssignedCustomer']].drop_duplicates().values}
orders = orders.groupby(['PostDate', 'custID'])[['OR']].sum().reset_index()


rfm_data = clv.utils.rfm_summary(
    orders,
    customer_id_col='custID',
    monetary_value_col='OR',
    datetime_col='PostDate',
    time_unit = "W"
)
rfm_data





fig, ax = plt.subplots(figsize=(10, 5))
(
    rfm_data
    .sample(n=100, random_state=42)
    .sort_values(["recency", "T"])
    .pipe(clv.plot_customer_exposure, ax=ax, linewidth=0.5, size=0.75)
);


model_config = {
    'a_prior': {'dist': 'HalfNormal',
                'kwargs': {'sigma': 10}},
    'b_prior': {'dist': 'HalfNormal',
                'kwargs': {'sigma': 10}},
    'alpha_prior': {'dist': 'HalfNormal',
                'kwargs': {'sigma': 10}},
    'r_prior': {'dist': 'HalfNormal',
                'kwargs': {'sigma': 10}},
}
bgm = clv.BetaGeoModel(
    model_config = model_config,
    data = rfm_data
)
bgm.build_model()
bgm.fit()
bgm.fit_summary()


clv.plot_frequency_recency_matrix(bgm);


clv.plot_probability_alive_matrix(bgm);


num_purchases = bgm.expected_num_purchases(
    customer_id=rfm_data["customer_id"],
    t=1,
    frequency=rfm_data["frequency"],
    recency=rfm_data["recency"],
    T=rfm_data["T"]
)

sdata = rfm_data.copy()
sdata["expected_purchases"] = num_purchases.mean(("chain", "draw")).values
sdata['customer_name'] = sdata.customer_id.map(map_cust)
sdata.sort_values(by="expected_purchases").tail(10)




