


# pip install python-calamine
import pandas as pd
from pathlib import Path
from sklearn import preprocessing 
import plotly.graph_objects as go
label_encoder = preprocessing.LabelEncoder()


ts = dict()
DATAFOLDER = Path('restricted/yearend/')
filenames = [f for f in DATAFOLDER.glob('FY*.xlsx')]

for fn in filenames:
    fy = fn.name[:4]
    print(f"{fy}+++++++++++++++++++++")
    df = pd.read_excel(fn, sheet_name='Sheet1', skiprows=0, engine='calamine')
    df.rename(
        columns={'BU Segment': 'BUSegment', "SO number":"AKZ", "Customer CN Name": "CustomerChineseName"}, 
        inplace=True)
    print('rows in df:', len(df))
    df = df.loc[df.BUSegment.fillna('').str.contains('FA Product')]
    print('rows in df (filtered "FA Product"):', len(df))
    cols = ['PostDate', 'AKZ', 'Territory', 'GBK', 'VBEZ', 'CompanyName',
            'CustomerChineseName', 'AssignedCustomerType', 'AssignedCustomerName', 'AssignType']
    grp = df.groupby(cols)[['OR', 'TO']].sum().reset_index()
    print('grouped rows:', len(grp))
    grp = grp.loc[(grp[['OR', 'TO']]!=0).any(axis=1)]
    print('grouped rows without all Zero:', len(grp))
    grp['PostDate'] = pd.to_datetime(grp.PostDate)
    ts[fy] = grp
ts = pd.concat(ts.values(), keys=ts.keys()).droplevel(-1).reset_index()
ts





ts['month'] = ts['PostDate'].dt.strftime('%Y-%m')

order = ts.groupby('month')['OR'].sum()
turnover = ts.groupby('month')['TO'].sum()

plot_order = go.Scatter(x=order.index, y=order, mode='lines', name='New Order')
plot_turnover = go.Scatter(x=turnover.index, y=turnover, mode='lines', name='Turnover')

fig = go.Figure([plot_order, plot_turnover])
fig.update_layout(
    height=680, margin={'t':0, 'b':0, 'l':0, 'r':0},
    xaxis=dict(title="Fiscal Months", dtick='M12', range=['2017-07-01','2024-06-30']),
    yaxis=dict(title="Value (K)"),
    legend=dict(x=0.01, y=0.99)
)
fig.show()





from plotly.subplots import make_subplots
import plotly.graph_objects as go
from statsmodels.tsa.seasonal import seasonal_decompose, STL
decomposition = STL(order, period=12).fit()

fig = make_subplots(
    rows=4, cols=1,
    shared_xaxes=True,
    vertical_spacing=0.05,
    subplot_titles=['observed', 'trend', 'seasonal', 'resid']
)

x = order.index
fig.add_trace(go.Scatter(x=x, y=decomposition.observed), row=1, col=1)
fig.add_trace(go.Scatter(x=x, y=decomposition.trend), row=2, col=1)
fig.add_trace(go.Scatter(x=x, y=decomposition.seasonal), row=3, col=1)
fig.add_trace(go.Scatter(x=x, y=decomposition.resid), row=4, col=1)

fig.update_layout(
    height=1200, margin={'t':20, 'b':0, 'l':0, 'r':0},
    xaxis4=dict(title="Fiscal Months", dtick='M12', range=['2017-07-01','2024-06-30']),
    showlegend=False
)
fig.show()


ts['BuyerType'] = 'Dealer'
ts.loc[ts.AssignedCustomerType.astype(str).str.contains('End'), 'BuyerType'] = 'End-User'
ts.loc[ts.AssignedCustomerType.astype(str).str.contains('OEM'), 'BuyerType'] = 'OEM'

# Encodeding restricted Columns
# lab_cols = ['AKZ', 'Territory', 'VBEZ', 'GBK', 'CustomerChineseName', 'AssignedCustomerName']
# for col in lab_cols:
#     ts[col] = label_encoder.fit_transform(ts[col])
#     ts[col] = ts[col].apply(lambda x: col[:3].upper()+f"{x:08}")
    
ts.rename(columns={
    'index':'FiscalYear',
    'AKZ':'OrderNum',
    'GBK':'ProductLine',
    'VBEZ':'Sales',
    'CustomerChineseName':'Buyer',
    'AssignedCustomerName':'AssignedCustomer',
    'CompanyName': 'channel'
    }, inplace=True)

cols = ['PostDate', 'month', 'FiscalYear', 'AssignType', 'channel', 'BuyerType', 'OrderNum', 'ProductLine', 'Territory', 'Sales', 'Buyer', 'AssignedCustomer', 'OR', 'TO']
ts[cols].to_csv('data/orders.csv', index=False)


# Encodeding restricted Columns
lab_cols = ['OrderNum', 'channel', 'Territory', 'Sales', 'ProductLine', 'Buyer', 'AssignedCustomer']
for col in lab_cols:
    ts[col] = label_encoder.fit_transform(ts[col])
    ts[col] = ts[col].apply(lambda x: col[:3].upper()+f"{x:08}")

ts[cols].to_csv('data/orders_encoded.csv', index=False)



