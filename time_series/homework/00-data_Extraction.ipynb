{
 "cells": [
  {
   "cell_type": "markdown",
   "id": "332f5881-5c63-4ff6-bf71-93fe79b3acb9",
   "metadata": {},
   "source": [
    "# Data Extraction and cleaning\n",
    "\n",
    "- get data from restricted folder\n"
   ]
  },
  {
   "cell_type": "code",
   "execution_count": 4,
   "id": "a5ef5d5c-6786-4d5c-96e2-7ba443a1cbdb",
   "metadata": {},
   "outputs": [],
   "source": [
    "# pip install python-calamine\n",
    "import pandas as pd\n",
    "from pathlib import Path\n",
    "from sklearn import preprocessing \n",
    "import plotly.graph_objects as go\n",
    "label_encoder = preprocessing.LabelEncoder()"
   ]
  },
  {
   "cell_type": "code",
   "execution_count": 5,
   "id": "c71098d7-136d-406a-a123-431b895c3a50",
   "metadata": {},
   "outputs": [
    {
     "name": "stdout",
     "output_type": "stream",
     "text": [
      "FY18+++++++++++++++++++++\n",
      "rows in df: 35956\n",
      "rows in df (filtered \"FA Product\"): 12859\n",
      "grouped rows: 5370\n",
      "grouped rows without all Zero: 5370\n",
      "FY19+++++++++++++++++++++\n",
      "rows in df: 37570\n",
      "rows in df (filtered \"FA Product\"): 13977\n",
      "grouped rows: 6840\n",
      "grouped rows without all Zero: 6826\n",
      "FY20+++++++++++++++++++++\n",
      "rows in df: 53193\n",
      "rows in df (filtered \"FA Product\"): 24172\n",
      "grouped rows: 13804\n",
      "grouped rows without all Zero: 13781\n",
      "FY21+++++++++++++++++++++\n",
      "rows in df: 61237\n",
      "rows in df (filtered \"FA Product\"): 28302\n",
      "grouped rows: 15805\n",
      "grouped rows without all Zero: 15781\n",
      "FY22+++++++++++++++++++++\n",
      "rows in df: 94512\n",
      "rows in df (filtered \"FA Product\"): 51299\n",
      "grouped rows: 19975\n",
      "grouped rows without all Zero: 19853\n",
      "FY23+++++++++++++++++++++\n",
      "rows in df: 121717\n",
      "rows in df (filtered \"FA Product\"): 49609\n",
      "grouped rows: 46591\n",
      "grouped rows without all Zero: 38860\n",
      "FY24+++++++++++++++++++++\n",
      "rows in df: 39599\n",
      "rows in df (filtered \"FA Product\"): 12893\n",
      "grouped rows: 12480\n",
      "grouped rows without all Zero: 10630\n"
     ]
    },
    {
     "data": {
      "text/html": [
       "<div>\n",
       "<style scoped>\n",
       "    .dataframe tbody tr th:only-of-type {\n",
       "        vertical-align: middle;\n",
       "    }\n",
       "\n",
       "    .dataframe tbody tr th {\n",
       "        vertical-align: top;\n",
       "    }\n",
       "\n",
       "    .dataframe thead th {\n",
       "        text-align: right;\n",
       "    }\n",
       "</style>\n",
       "<table border=\"1\" class=\"dataframe\">\n",
       "  <thead>\n",
       "    <tr style=\"text-align: right;\">\n",
       "      <th></th>\n",
       "      <th>index</th>\n",
       "      <th>PostDate</th>\n",
       "      <th>AKZ</th>\n",
       "      <th>Territory</th>\n",
       "      <th>GBK</th>\n",
       "      <th>VBEZ</th>\n",
       "      <th>CompanyName</th>\n",
       "      <th>CustomerChineseName</th>\n",
       "      <th>AssignedCustomerType</th>\n",
       "      <th>AssignedCustomerName</th>\n",
       "      <th>AssignType</th>\n",
       "      <th>OR</th>\n",
       "      <th>TO</th>\n",
       "    </tr>\n",
       "  </thead>\n",
       "  <tbody>\n",
       "    <tr>\n",
       "      <th>0</th>\n",
       "      <td>FY18</td>\n",
       "      <td>2017-10-31</td>\n",
       "      <td>3004120993</td>\n",
       "      <td>RNE-LNN&amp;IME</td>\n",
       "      <td>R115</td>\n",
       "      <td>200TM000</td>\n",
       "      <td>SLC</td>\n",
       "      <td>北京天拓四方科技有限公司</td>\n",
       "      <td>System Integrator/VA Partner</td>\n",
       "      <td>沈阳紫电科技有限公司</td>\n",
       "      <td>Assign_TO</td>\n",
       "      <td>74629.79</td>\n",
       "      <td>74629.79</td>\n",
       "    </tr>\n",
       "    <tr>\n",
       "      <th>1</th>\n",
       "      <td>FY18</td>\n",
       "      <td>2017-10-31</td>\n",
       "      <td>3004125453</td>\n",
       "      <td>RNE-JL</td>\n",
       "      <td>R115</td>\n",
       "      <td>22012004</td>\n",
       "      <td>SLC</td>\n",
       "      <td>哈尔滨宇龙自动化有限公司</td>\n",
       "      <td>System Integrator/VA Partner</td>\n",
       "      <td>长春北方化工罐装设备有限公司</td>\n",
       "      <td>Assign_TO</td>\n",
       "      <td>23405.08</td>\n",
       "      <td>23405.08</td>\n",
       "    </tr>\n",
       "    <tr>\n",
       "      <th>2</th>\n",
       "      <td>FY18</td>\n",
       "      <td>2017-10-31</td>\n",
       "      <td>3004131929</td>\n",
       "      <td>RNE-HLJ</td>\n",
       "      <td>R111</td>\n",
       "      <td>21009006</td>\n",
       "      <td>SLC</td>\n",
       "      <td>哈尔滨宇龙自动化有限公司</td>\n",
       "      <td>System Integrator/VA Partner</td>\n",
       "      <td>哈尔滨天源自动化控制技术有限责任公司</td>\n",
       "      <td>Assign_TO</td>\n",
       "      <td>15310.63</td>\n",
       "      <td>15310.63</td>\n",
       "    </tr>\n",
       "    <tr>\n",
       "      <th>3</th>\n",
       "      <td>FY18</td>\n",
       "      <td>2017-10-31</td>\n",
       "      <td>3004131929</td>\n",
       "      <td>RNE-JL</td>\n",
       "      <td>R111</td>\n",
       "      <td>22012004</td>\n",
       "      <td>SLC</td>\n",
       "      <td>哈尔滨宇龙自动化有限公司</td>\n",
       "      <td>System Integrator/VA Partner</td>\n",
       "      <td>长春北方化工罐装设备有限公司</td>\n",
       "      <td>Assign_TO</td>\n",
       "      <td>2841.88</td>\n",
       "      <td>2841.88</td>\n",
       "    </tr>\n",
       "    <tr>\n",
       "      <th>4</th>\n",
       "      <td>FY18</td>\n",
       "      <td>2017-10-31</td>\n",
       "      <td>3004133247</td>\n",
       "      <td>RNE-HLJ</td>\n",
       "      <td>R111</td>\n",
       "      <td>22009005</td>\n",
       "      <td>SLC</td>\n",
       "      <td>哈尔滨宇龙自动化有限公司</td>\n",
       "      <td>OEM</td>\n",
       "      <td>哈尔滨研奥科技有限公司</td>\n",
       "      <td>Assign_TO</td>\n",
       "      <td>4702.64</td>\n",
       "      <td>4702.64</td>\n",
       "    </tr>\n",
       "    <tr>\n",
       "      <th>...</th>\n",
       "      <td>...</td>\n",
       "      <td>...</td>\n",
       "      <td>...</td>\n",
       "      <td>...</td>\n",
       "      <td>...</td>\n",
       "      <td>...</td>\n",
       "      <td>...</td>\n",
       "      <td>...</td>\n",
       "      <td>...</td>\n",
       "      <td>...</td>\n",
       "      <td>...</td>\n",
       "      <td>...</td>\n",
       "      <td>...</td>\n",
       "    </tr>\n",
       "    <tr>\n",
       "      <th>111096</th>\n",
       "      <td>FY24</td>\n",
       "      <td>2024-04-08</td>\n",
       "      <td>3008936966</td>\n",
       "      <td>RNE-LNN&amp;IME</td>\n",
       "      <td>R152</td>\n",
       "      <td>2V1A04K2</td>\n",
       "      <td>SLC</td>\n",
       "      <td>华晨宝马汽车有限公司</td>\n",
       "      <td>End-Customer</td>\n",
       "      <td>华晨宝马汽车有限公司</td>\n",
       "      <td>Direct</td>\n",
       "      <td>4791.61</td>\n",
       "      <td>0.00</td>\n",
       "    </tr>\n",
       "    <tr>\n",
       "      <th>111097</th>\n",
       "      <td>FY24</td>\n",
       "      <td>2024-04-08</td>\n",
       "      <td>3008993790</td>\n",
       "      <td>RNE-LNN&amp;IME</td>\n",
       "      <td>R132</td>\n",
       "      <td>2V1A04K2</td>\n",
       "      <td>SLC</td>\n",
       "      <td>华晨宝马汽车有限公司</td>\n",
       "      <td>End-Customer</td>\n",
       "      <td>华晨宝马汽车有限公司</td>\n",
       "      <td>Direct</td>\n",
       "      <td>808.10</td>\n",
       "      <td>0.00</td>\n",
       "    </tr>\n",
       "    <tr>\n",
       "      <th>111098</th>\n",
       "      <td>FY24</td>\n",
       "      <td>2024-04-08</td>\n",
       "      <td>3009011257</td>\n",
       "      <td>RNE-LNS</td>\n",
       "      <td>R141</td>\n",
       "      <td>2PPDT900</td>\n",
       "      <td>SLC</td>\n",
       "      <td>大连四星电子技术开发有限公司</td>\n",
       "      <td>-</td>\n",
       "      <td>大连四星电子技术开发有限公司</td>\n",
       "      <td>Direct</td>\n",
       "      <td>10457.53</td>\n",
       "      <td>0.00</td>\n",
       "    </tr>\n",
       "    <tr>\n",
       "      <th>111099</th>\n",
       "      <td>FY24</td>\n",
       "      <td>2024-04-08</td>\n",
       "      <td>3009011257</td>\n",
       "      <td>RNE-LNS</td>\n",
       "      <td>R151</td>\n",
       "      <td>2PPDT900</td>\n",
       "      <td>SLC</td>\n",
       "      <td>大连四星电子技术开发有限公司</td>\n",
       "      <td>-</td>\n",
       "      <td>大连四星电子技术开发有限公司</td>\n",
       "      <td>Direct</td>\n",
       "      <td>27100.75</td>\n",
       "      <td>0.00</td>\n",
       "    </tr>\n",
       "    <tr>\n",
       "      <th>111100</th>\n",
       "      <td>FY24</td>\n",
       "      <td>2024-04-09</td>\n",
       "      <td>3008914702</td>\n",
       "      <td>RNE-LNS</td>\n",
       "      <td>R151</td>\n",
       "      <td>2PPDT900</td>\n",
       "      <td>SLC</td>\n",
       "      <td>大连四星电子技术开发有限公司</td>\n",
       "      <td>-</td>\n",
       "      <td>大连四星电子技术开发有限公司</td>\n",
       "      <td>Direct</td>\n",
       "      <td>4556.00</td>\n",
       "      <td>0.00</td>\n",
       "    </tr>\n",
       "  </tbody>\n",
       "</table>\n",
       "<p>111101 rows × 13 columns</p>\n",
       "</div>"
      ],
      "text/plain": [
       "       index   PostDate         AKZ    Territory   GBK      VBEZ CompanyName  \\\n",
       "0       FY18 2017-10-31  3004120993  RNE-LNN&IME  R115  200TM000         SLC   \n",
       "1       FY18 2017-10-31  3004125453       RNE-JL  R115  22012004         SLC   \n",
       "2       FY18 2017-10-31  3004131929      RNE-HLJ  R111  21009006         SLC   \n",
       "3       FY18 2017-10-31  3004131929       RNE-JL  R111  22012004         SLC   \n",
       "4       FY18 2017-10-31  3004133247      RNE-HLJ  R111  22009005         SLC   \n",
       "...      ...        ...         ...          ...   ...       ...         ...   \n",
       "111096  FY24 2024-04-08  3008936966  RNE-LNN&IME  R152  2V1A04K2         SLC   \n",
       "111097  FY24 2024-04-08  3008993790  RNE-LNN&IME  R132  2V1A04K2         SLC   \n",
       "111098  FY24 2024-04-08  3009011257      RNE-LNS  R141  2PPDT900         SLC   \n",
       "111099  FY24 2024-04-08  3009011257      RNE-LNS  R151  2PPDT900         SLC   \n",
       "111100  FY24 2024-04-09  3008914702      RNE-LNS  R151  2PPDT900         SLC   \n",
       "\n",
       "       CustomerChineseName          AssignedCustomerType AssignedCustomerName  \\\n",
       "0             北京天拓四方科技有限公司  System Integrator/VA Partner           沈阳紫电科技有限公司   \n",
       "1             哈尔滨宇龙自动化有限公司  System Integrator/VA Partner       长春北方化工罐装设备有限公司   \n",
       "2             哈尔滨宇龙自动化有限公司  System Integrator/VA Partner   哈尔滨天源自动化控制技术有限责任公司   \n",
       "3             哈尔滨宇龙自动化有限公司  System Integrator/VA Partner       长春北方化工罐装设备有限公司   \n",
       "4             哈尔滨宇龙自动化有限公司                           OEM          哈尔滨研奥科技有限公司   \n",
       "...                    ...                           ...                  ...   \n",
       "111096          华晨宝马汽车有限公司                  End-Customer           华晨宝马汽车有限公司   \n",
       "111097          华晨宝马汽车有限公司                  End-Customer           华晨宝马汽车有限公司   \n",
       "111098      大连四星电子技术开发有限公司                             -       大连四星电子技术开发有限公司   \n",
       "111099      大连四星电子技术开发有限公司                             -       大连四星电子技术开发有限公司   \n",
       "111100      大连四星电子技术开发有限公司                             -       大连四星电子技术开发有限公司   \n",
       "\n",
       "       AssignType        OR        TO  \n",
       "0       Assign_TO  74629.79  74629.79  \n",
       "1       Assign_TO  23405.08  23405.08  \n",
       "2       Assign_TO  15310.63  15310.63  \n",
       "3       Assign_TO   2841.88   2841.88  \n",
       "4       Assign_TO   4702.64   4702.64  \n",
       "...           ...       ...       ...  \n",
       "111096     Direct   4791.61      0.00  \n",
       "111097     Direct    808.10      0.00  \n",
       "111098     Direct  10457.53      0.00  \n",
       "111099     Direct  27100.75      0.00  \n",
       "111100     Direct   4556.00      0.00  \n",
       "\n",
       "[111101 rows x 13 columns]"
      ]
     },
     "execution_count": 5,
     "metadata": {},
     "output_type": "execute_result"
    }
   ],
   "source": [
    "ts = dict()\n",
    "DATAFOLDER = Path('restricted/yearend/')\n",
    "filenames = [f for f in DATAFOLDER.glob('FY*.xlsx')]\n",
    "\n",
    "for fn in filenames:\n",
    "    fy = fn.name[:4]\n",
    "    print(f\"{fy}+++++++++++++++++++++\")\n",
    "    df = pd.read_excel(fn, sheet_name='Sheet1', skiprows=0, engine='calamine')\n",
    "    df.rename(\n",
    "        columns={'BU Segment': 'BUSegment', \"SO number\":\"AKZ\", \"Customer CN Name\": \"CustomerChineseName\"}, \n",
    "        inplace=True)\n",
    "    print('rows in df:', len(df))\n",
    "    df = df.loc[df.BUSegment.fillna('').str.contains('FA Product')]\n",
    "    print('rows in df (filtered \"FA Product\"):', len(df))\n",
    "    cols = ['PostDate', 'AKZ', 'Territory', 'GBK', 'VBEZ', 'CompanyName',\n",
    "            'CustomerChineseName', 'AssignedCustomerType', 'AssignedCustomerName', 'AssignType']\n",
    "    grp = df.groupby(cols)[['OR', 'TO']].sum().reset_index()\n",
    "    print('grouped rows:', len(grp))\n",
    "    grp = grp.loc[(grp[['OR', 'TO']]!=0).any(axis=1)]\n",
    "    print('grouped rows without all Zero:', len(grp))\n",
    "    grp['PostDate'] = pd.to_datetime(grp.PostDate)\n",
    "    ts[fy] = grp\n",
    "ts = pd.concat(ts.values(), keys=ts.keys()).droplevel(-1).reset_index()\n",
    "ts"
   ]
  },
  {
   "cell_type": "code",
   "execution_count": 13,
   "id": "e511cb2f-ec6d-4f2c-8b6f-373c6285fbbb",
   "metadata": {},
   "outputs": [
    {
     "data": {
      "application/vnd.plotly.v1+json": {
       "config": {
        "plotlyServerURL": "https://plot.ly"
       },
       "data": [
        {
         "mode": "lines",
         "name": "New Order",
         "type": "scatter",
         "x": [
          "2017-10",
          "2017-11",
          "2017-12",
          "2018-01",
          "2018-02",
          "2018-03",
          "2018-04",
          "2018-05",
          "2018-06",
          "2018-07",
          "2018-08",
          "2018-10",
          "2018-11",
          "2018-12",
          "2019-01",
          "2019-02",
          "2019-03",
          "2019-04",
          "2019-05",
          "2019-06",
          "2019-07",
          "2019-08",
          "2019-09",
          "2019-10",
          "2019-11",
          "2019-12",
          "2020-01",
          "2020-02",
          "2020-03",
          "2020-04",
          "2020-05",
          "2020-06",
          "2020-07",
          "2020-08",
          "2020-09",
          "2020-10",
          "2020-11",
          "2020-12",
          "2021-01",
          "2021-02",
          "2021-03",
          "2021-04",
          "2021-05",
          "2021-06",
          "2021-07",
          "2021-08",
          "2021-09",
          "2021-10",
          "2021-11",
          "2021-12",
          "2022-01",
          "2022-02",
          "2022-03",
          "2022-04",
          "2022-05",
          "2022-06",
          "2022-07",
          "2022-08",
          "2022-09",
          "2022-10",
          "2022-11",
          "2022-12",
          "2023-01",
          "2023-02",
          "2023-03",
          "2023-04",
          "2023-05",
          "2023-06",
          "2023-07",
          "2023-08",
          "2023-09",
          "2023-10",
          "2023-11",
          "2023-12",
          "2024-01",
          "2024-02",
          "2024-03",
          "2024-04"
         ],
         "y": [
          9768948.67,
          26614725.44,
          19296155.52,
          25276674.18,
          15833965.65,
          27856201.7,
          21750398.56,
          23744901.41,
          22208970.31,
          16102515.74,
          12373474.22,
          16013449.51,
          34272633.93,
          25933935.76,
          26122529.39,
          12085613.422,
          24515027.54,
          28121848.080000002,
          24825642.830000002,
          27163196.222,
          30138207.67,
          21102731.4,
          33015124.25,
          9029504.709999999,
          39134544.55,
          37987437.34,
          15061074.48,
          6027584.072,
          39287657.56,
          19493888.14,
          25596779.63,
          25147218.61,
          21100802.03,
          24241828.042,
          37204804.61,
          8154976.53,
          49217169.17,
          40250013.61,
          21407191.76,
          20551318.87,
          27303537.95,
          23915542.668,
          31138887.69,
          29353411.89,
          36708198.02,
          38900851.39,
          28255254.69,
          26894529.614,
          58181749.589999996,
          42097750.935,
          36591953.4,
          33797932.212,
          67695982.846,
          51048534.144,
          89589451.3,
          32797522.174,
          33519462.81,
          27139518.28,
          1024714.7,
          79075502.03,
          117866155.84,
          105074026.08,
          42028549.410000004,
          60298506.028000005,
          28464965.272000007,
          20734772.580000002,
          20679185.628,
          18865907.64,
          11254203.77,
          10472541.249999998,
          12580758.559999999,
          35596797.330000006,
          37384425.32,
          62292774.59999999,
          34455823.68,
          15282597.139999999,
          25882951.53,
          10013579.840000002
         ]
        },
        {
         "mode": "lines",
         "name": "Turnover",
         "type": "scatter",
         "x": [
          "2017-10",
          "2017-11",
          "2017-12",
          "2018-01",
          "2018-02",
          "2018-03",
          "2018-04",
          "2018-05",
          "2018-06",
          "2018-07",
          "2018-08",
          "2018-10",
          "2018-11",
          "2018-12",
          "2019-01",
          "2019-02",
          "2019-03",
          "2019-04",
          "2019-05",
          "2019-06",
          "2019-07",
          "2019-08",
          "2019-09",
          "2019-10",
          "2019-11",
          "2019-12",
          "2020-01",
          "2020-02",
          "2020-03",
          "2020-04",
          "2020-05",
          "2020-06",
          "2020-07",
          "2020-08",
          "2020-09",
          "2020-10",
          "2020-11",
          "2020-12",
          "2021-01",
          "2021-02",
          "2021-03",
          "2021-04",
          "2021-05",
          "2021-06",
          "2021-07",
          "2021-08",
          "2021-09",
          "2021-10",
          "2021-11",
          "2021-12",
          "2022-01",
          "2022-02",
          "2022-03",
          "2022-04",
          "2022-05",
          "2022-06",
          "2022-07",
          "2022-08",
          "2022-09",
          "2022-10",
          "2022-11",
          "2022-12",
          "2023-01",
          "2023-02",
          "2023-03",
          "2023-04",
          "2023-05",
          "2023-06",
          "2023-07",
          "2023-08",
          "2023-09",
          "2023-10",
          "2023-11",
          "2023-12",
          "2024-01",
          "2024-02",
          "2024-03",
          "2024-04"
         ],
         "y": [
          9768948.67,
          26614725.44,
          19296155.52,
          25276674.18,
          15833965.65,
          27856201.7,
          21750398.56,
          23744901.41,
          22208970.31,
          16102515.74,
          12373474.22,
          15840638.26,
          34071388.44,
          24125069.44,
          26849899.1,
          12054421.002,
          25422501.45,
          28651931.88,
          25439214.21,
          27043070.02,
          30687752.46,
          20920709.35,
          32231195.15,
          16189820.61,
          35727853.14,
          31874595.14,
          18743364.86,
          3203683.332,
          38648365.56,
          20385100.93,
          26259274.419999998,
          32493713.85,
          21443880.08,
          26425363.006,
          21348755.376,
          14578477.04,
          44426005.26,
          30918559.24,
          27312861.26,
          21467717.22,
          25262864.39,
          26699823.669999998,
          30002219.928,
          28898777.45,
          30560130.95,
          29525658.75,
          36729488.62,
          11565285.85,
          38573905.232,
          31481934.013,
          22177225.342,
          32484412.88,
          54982903.164,
          29781161.438,
          49679877.462,
          42886339.946,
          46851094.824,
          52815424.738,
          34015036.154,
          58064418.196,
          65414748.48,
          85452188.354,
          44428887.778,
          66826995.914,
          77204213.936,
          43160676.056,
          47320004.566,
          60119740.24,
          50802370.086,
          76566508.558,
          64284651.378,
          43713473.814,
          56740566.798,
          67417622.63,
          47558574.845,
          26357737.494999997,
          57667867.79,
          0
         ]
        }
       ],
       "layout": {
        "autosize": true,
        "legend": {
         "x": 0.01,
         "y": 0.99
        },
        "margin": {
         "b": 0,
         "l": 0,
         "r": 0,
         "t": 0
        },
        "template": {
         "data": {
          "bar": [
           {
            "error_x": {
             "color": "#2a3f5f"
            },
            "error_y": {
             "color": "#2a3f5f"
            },
            "marker": {
             "line": {
              "color": "#E5ECF6",
              "width": 0.5
             },
             "pattern": {
              "fillmode": "overlay",
              "size": 10,
              "solidity": 0.2
             }
            },
            "type": "bar"
           }
          ],
          "barpolar": [
           {
            "marker": {
             "line": {
              "color": "#E5ECF6",
              "width": 0.5
             },
             "pattern": {
              "fillmode": "overlay",
              "size": 10,
              "solidity": 0.2
             }
            },
            "type": "barpolar"
           }
          ],
          "carpet": [
           {
            "aaxis": {
             "endlinecolor": "#2a3f5f",
             "gridcolor": "white",
             "linecolor": "white",
             "minorgridcolor": "white",
             "startlinecolor": "#2a3f5f"
            },
            "baxis": {
             "endlinecolor": "#2a3f5f",
             "gridcolor": "white",
             "linecolor": "white",
             "minorgridcolor": "white",
             "startlinecolor": "#2a3f5f"
            },
            "type": "carpet"
           }
          ],
          "choropleth": [
           {
            "colorbar": {
             "outlinewidth": 0,
             "ticks": ""
            },
            "type": "choropleth"
           }
          ],
          "contour": [
           {
            "colorbar": {
             "outlinewidth": 0,
             "ticks": ""
            },
            "colorscale": [
             [
              0,
              "#0d0887"
             ],
             [
              0.1111111111111111,
              "#46039f"
             ],
             [
              0.2222222222222222,
              "#7201a8"
             ],
             [
              0.3333333333333333,
              "#9c179e"
             ],
             [
              0.4444444444444444,
              "#bd3786"
             ],
             [
              0.5555555555555556,
              "#d8576b"
             ],
             [
              0.6666666666666666,
              "#ed7953"
             ],
             [
              0.7777777777777778,
              "#fb9f3a"
             ],
             [
              0.8888888888888888,
              "#fdca26"
             ],
             [
              1,
              "#f0f921"
             ]
            ],
            "type": "contour"
           }
          ],
          "contourcarpet": [
           {
            "colorbar": {
             "outlinewidth": 0,
             "ticks": ""
            },
            "type": "contourcarpet"
           }
          ],
          "heatmap": [
           {
            "colorbar": {
             "outlinewidth": 0,
             "ticks": ""
            },
            "colorscale": [
             [
              0,
              "#0d0887"
             ],
             [
              0.1111111111111111,
              "#46039f"
             ],
             [
              0.2222222222222222,
              "#7201a8"
             ],
             [
              0.3333333333333333,
              "#9c179e"
             ],
             [
              0.4444444444444444,
              "#bd3786"
             ],
             [
              0.5555555555555556,
              "#d8576b"
             ],
             [
              0.6666666666666666,
              "#ed7953"
             ],
             [
              0.7777777777777778,
              "#fb9f3a"
             ],
             [
              0.8888888888888888,
              "#fdca26"
             ],
             [
              1,
              "#f0f921"
             ]
            ],
            "type": "heatmap"
           }
          ],
          "heatmapgl": [
           {
            "colorbar": {
             "outlinewidth": 0,
             "ticks": ""
            },
            "colorscale": [
             [
              0,
              "#0d0887"
             ],
             [
              0.1111111111111111,
              "#46039f"
             ],
             [
              0.2222222222222222,
              "#7201a8"
             ],
             [
              0.3333333333333333,
              "#9c179e"
             ],
             [
              0.4444444444444444,
              "#bd3786"
             ],
             [
              0.5555555555555556,
              "#d8576b"
             ],
             [
              0.6666666666666666,
              "#ed7953"
             ],
             [
              0.7777777777777778,
              "#fb9f3a"
             ],
             [
              0.8888888888888888,
              "#fdca26"
             ],
             [
              1,
              "#f0f921"
             ]
            ],
            "type": "heatmapgl"
           }
          ],
          "histogram": [
           {
            "marker": {
             "pattern": {
              "fillmode": "overlay",
              "size": 10,
              "solidity": 0.2
             }
            },
            "type": "histogram"
           }
          ],
          "histogram2d": [
           {
            "colorbar": {
             "outlinewidth": 0,
             "ticks": ""
            },
            "colorscale": [
             [
              0,
              "#0d0887"
             ],
             [
              0.1111111111111111,
              "#46039f"
             ],
             [
              0.2222222222222222,
              "#7201a8"
             ],
             [
              0.3333333333333333,
              "#9c179e"
             ],
             [
              0.4444444444444444,
              "#bd3786"
             ],
             [
              0.5555555555555556,
              "#d8576b"
             ],
             [
              0.6666666666666666,
              "#ed7953"
             ],
             [
              0.7777777777777778,
              "#fb9f3a"
             ],
             [
              0.8888888888888888,
              "#fdca26"
             ],
             [
              1,
              "#f0f921"
             ]
            ],
            "type": "histogram2d"
           }
          ],
          "histogram2dcontour": [
           {
            "colorbar": {
             "outlinewidth": 0,
             "ticks": ""
            },
            "colorscale": [
             [
              0,
              "#0d0887"
             ],
             [
              0.1111111111111111,
              "#46039f"
             ],
             [
              0.2222222222222222,
              "#7201a8"
             ],
             [
              0.3333333333333333,
              "#9c179e"
             ],
             [
              0.4444444444444444,
              "#bd3786"
             ],
             [
              0.5555555555555556,
              "#d8576b"
             ],
             [
              0.6666666666666666,
              "#ed7953"
             ],
             [
              0.7777777777777778,
              "#fb9f3a"
             ],
             [
              0.8888888888888888,
              "#fdca26"
             ],
             [
              1,
              "#f0f921"
             ]
            ],
            "type": "histogram2dcontour"
           }
          ],
          "mesh3d": [
           {
            "colorbar": {
             "outlinewidth": 0,
             "ticks": ""
            },
            "type": "mesh3d"
           }
          ],
          "parcoords": [
           {
            "line": {
             "colorbar": {
              "outlinewidth": 0,
              "ticks": ""
             }
            },
            "type": "parcoords"
           }
          ],
          "pie": [
           {
            "automargin": true,
            "type": "pie"
           }
          ],
          "scatter": [
           {
            "fillpattern": {
             "fillmode": "overlay",
             "size": 10,
             "solidity": 0.2
            },
            "type": "scatter"
           }
          ],
          "scatter3d": [
           {
            "line": {
             "colorbar": {
              "outlinewidth": 0,
              "ticks": ""
             }
            },
            "marker": {
             "colorbar": {
              "outlinewidth": 0,
              "ticks": ""
             }
            },
            "type": "scatter3d"
           }
          ],
          "scattercarpet": [
           {
            "marker": {
             "colorbar": {
              "outlinewidth": 0,
              "ticks": ""
             }
            },
            "type": "scattercarpet"
           }
          ],
          "scattergeo": [
           {
            "marker": {
             "colorbar": {
              "outlinewidth": 0,
              "ticks": ""
             }
            },
            "type": "scattergeo"
           }
          ],
          "scattergl": [
           {
            "marker": {
             "colorbar": {
              "outlinewidth": 0,
              "ticks": ""
             }
            },
            "type": "scattergl"
           }
          ],
          "scattermapbox": [
           {
            "marker": {
             "colorbar": {
              "outlinewidth": 0,
              "ticks": ""
             }
            },
            "type": "scattermapbox"
           }
          ],
          "scatterpolar": [
           {
            "marker": {
             "colorbar": {
              "outlinewidth": 0,
              "ticks": ""
             }
            },
            "type": "scatterpolar"
           }
          ],
          "scatterpolargl": [
           {
            "marker": {
             "colorbar": {
              "outlinewidth": 0,
              "ticks": ""
             }
            },
            "type": "scatterpolargl"
           }
          ],
          "scatterternary": [
           {
            "marker": {
             "colorbar": {
              "outlinewidth": 0,
              "ticks": ""
             }
            },
            "type": "scatterternary"
           }
          ],
          "surface": [
           {
            "colorbar": {
             "outlinewidth": 0,
             "ticks": ""
            },
            "colorscale": [
             [
              0,
              "#0d0887"
             ],
             [
              0.1111111111111111,
              "#46039f"
             ],
             [
              0.2222222222222222,
              "#7201a8"
             ],
             [
              0.3333333333333333,
              "#9c179e"
             ],
             [
              0.4444444444444444,
              "#bd3786"
             ],
             [
              0.5555555555555556,
              "#d8576b"
             ],
             [
              0.6666666666666666,
              "#ed7953"
             ],
             [
              0.7777777777777778,
              "#fb9f3a"
             ],
             [
              0.8888888888888888,
              "#fdca26"
             ],
             [
              1,
              "#f0f921"
             ]
            ],
            "type": "surface"
           }
          ],
          "table": [
           {
            "cells": {
             "fill": {
              "color": "#EBF0F8"
             },
             "line": {
              "color": "white"
             }
            },
            "header": {
             "fill": {
              "color": "#C8D4E3"
             },
             "line": {
              "color": "white"
             }
            },
            "type": "table"
           }
          ]
         },
         "layout": {
          "annotationdefaults": {
           "arrowcolor": "#2a3f5f",
           "arrowhead": 0,
           "arrowwidth": 1
          },
          "autotypenumbers": "strict",
          "coloraxis": {
           "colorbar": {
            "outlinewidth": 0,
            "ticks": ""
           }
          },
          "colorscale": {
           "diverging": [
            [
             0,
             "#8e0152"
            ],
            [
             0.1,
             "#c51b7d"
            ],
            [
             0.2,
             "#de77ae"
            ],
            [
             0.3,
             "#f1b6da"
            ],
            [
             0.4,
             "#fde0ef"
            ],
            [
             0.5,
             "#f7f7f7"
            ],
            [
             0.6,
             "#e6f5d0"
            ],
            [
             0.7,
             "#b8e186"
            ],
            [
             0.8,
             "#7fbc41"
            ],
            [
             0.9,
             "#4d9221"
            ],
            [
             1,
             "#276419"
            ]
           ],
           "sequential": [
            [
             0,
             "#0d0887"
            ],
            [
             0.1111111111111111,
             "#46039f"
            ],
            [
             0.2222222222222222,
             "#7201a8"
            ],
            [
             0.3333333333333333,
             "#9c179e"
            ],
            [
             0.4444444444444444,
             "#bd3786"
            ],
            [
             0.5555555555555556,
             "#d8576b"
            ],
            [
             0.6666666666666666,
             "#ed7953"
            ],
            [
             0.7777777777777778,
             "#fb9f3a"
            ],
            [
             0.8888888888888888,
             "#fdca26"
            ],
            [
             1,
             "#f0f921"
            ]
           ],
           "sequentialminus": [
            [
             0,
             "#0d0887"
            ],
            [
             0.1111111111111111,
             "#46039f"
            ],
            [
             0.2222222222222222,
             "#7201a8"
            ],
            [
             0.3333333333333333,
             "#9c179e"
            ],
            [
             0.4444444444444444,
             "#bd3786"
            ],
            [
             0.5555555555555556,
             "#d8576b"
            ],
            [
             0.6666666666666666,
             "#ed7953"
            ],
            [
             0.7777777777777778,
             "#fb9f3a"
            ],
            [
             0.8888888888888888,
             "#fdca26"
            ],
            [
             1,
             "#f0f921"
            ]
           ]
          },
          "colorway": [
           "#636efa",
           "#EF553B",
           "#00cc96",
           "#ab63fa",
           "#FFA15A",
           "#19d3f3",
           "#FF6692",
           "#B6E880",
           "#FF97FF",
           "#FECB52"
          ],
          "font": {
           "color": "#2a3f5f"
          },
          "geo": {
           "bgcolor": "white",
           "lakecolor": "white",
           "landcolor": "#E5ECF6",
           "showlakes": true,
           "showland": true,
           "subunitcolor": "white"
          },
          "hoverlabel": {
           "align": "left"
          },
          "hovermode": "closest",
          "mapbox": {
           "style": "light"
          },
          "paper_bgcolor": "white",
          "plot_bgcolor": "#E5ECF6",
          "polar": {
           "angularaxis": {
            "gridcolor": "white",
            "linecolor": "white",
            "ticks": ""
           },
           "bgcolor": "#E5ECF6",
           "radialaxis": {
            "gridcolor": "white",
            "linecolor": "white",
            "ticks": ""
           }
          },
          "scene": {
           "xaxis": {
            "backgroundcolor": "#E5ECF6",
            "gridcolor": "white",
            "gridwidth": 2,
            "linecolor": "white",
            "showbackground": true,
            "ticks": "",
            "zerolinecolor": "white"
           },
           "yaxis": {
            "backgroundcolor": "#E5ECF6",
            "gridcolor": "white",
            "gridwidth": 2,
            "linecolor": "white",
            "showbackground": true,
            "ticks": "",
            "zerolinecolor": "white"
           },
           "zaxis": {
            "backgroundcolor": "#E5ECF6",
            "gridcolor": "white",
            "gridwidth": 2,
            "linecolor": "white",
            "showbackground": true,
            "ticks": "",
            "zerolinecolor": "white"
           }
          },
          "shapedefaults": {
           "line": {
            "color": "#2a3f5f"
           }
          },
          "ternary": {
           "aaxis": {
            "gridcolor": "white",
            "linecolor": "white",
            "ticks": ""
           },
           "baxis": {
            "gridcolor": "white",
            "linecolor": "white",
            "ticks": ""
           },
           "bgcolor": "#E5ECF6",
           "caxis": {
            "gridcolor": "white",
            "linecolor": "white",
            "ticks": ""
           }
          },
          "title": {
           "x": 0.05
          },
          "xaxis": {
           "automargin": true,
           "gridcolor": "white",
           "linecolor": "white",
           "ticks": "",
           "title": {
            "standoff": 15
           },
           "zerolinecolor": "white",
           "zerolinewidth": 2
          },
          "yaxis": {
           "automargin": true,
           "gridcolor": "white",
           "linecolor": "white",
           "ticks": "",
           "title": {
            "standoff": 15
           },
           "zerolinecolor": "white",
           "zerolinewidth": 2
          }
         }
        },
        "xaxis": {
         "dtick": "M12",
         "range": [
          "2017-07-01",
          "2024-06-30"
         ],
         "title": {
          "text": "Fiscal Months"
         },
         "type": "date"
        },
        "yaxis": {
         "autorange": true,
         "range": [
          -6548119.768888889,
          124414275.6088889
         ],
         "title": {
          "text": "Value (K)"
         },
         "type": "linear"
        }
       }
      },
      "image/png": "[encoded data removed]",
      "text/html": [
       "<div>                            <div id=\"efe04003-7c9a-430e-8562-c13f6111b485\" class=\"plotly-graph-div\" style=\"height:680px; width:100%;\"></div>            <script type=\"text/javascript\">                require([\"plotly\"], function(Plotly) {                    window.PLOTLYENV=window.PLOTLYENV || {};                                    if (document.getElementById(\"efe04003-7c9a-430e-8562-c13f6111b485\")) {                    Plotly.newPlot(                        \"efe04003-7c9a-430e-8562-c13f6111b485\",                        [{\"mode\":\"lines\",\"name\":\"New Order\",\"x\":[\"2017-10\",\"2017-11\",\"2017-12\",\"2018-01\",\"2018-02\",\"2018-03\",\"2018-04\",\"2018-05\",\"2018-06\",\"2018-07\",\"2018-08\",\"2018-10\",\"2018-11\",\"2018-12\",\"2019-01\",\"2019-02\",\"2019-03\",\"2019-04\",\"2019-05\",\"2019-06\",\"2019-07\",\"2019-08\",\"2019-09\",\"2019-10\",\"2019-11\",\"2019-12\",\"2020-01\",\"2020-02\",\"2020-03\",\"2020-04\",\"2020-05\",\"2020-06\",\"2020-07\",\"2020-08\",\"2020-09\",\"2020-10\",\"2020-11\",\"2020-12\",\"2021-01\",\"2021-02\",\"2021-03\",\"2021-04\",\"2021-05\",\"2021-06\",\"2021-07\",\"2021-08\",\"2021-09\",\"2021-10\",\"2021-11\",\"2021-12\",\"2022-01\",\"2022-02\",\"2022-03\",\"2022-04\",\"2022-05\",\"2022-06\",\"2022-07\",\"2022-08\",\"2022-09\",\"2022-10\",\"2022-11\",\"2022-12\",\"2023-01\",\"2023-02\",\"2023-03\",\"2023-04\",\"2023-05\",\"2023-06\",\"2023-07\",\"2023-08\",\"2023-09\",\"2023-10\",\"2023-11\",\"2023-12\",\"2024-01\",\"2024-02\",\"2024-03\",\"2024-04\"],\"y\":[9768948.67,26614725.44,19296155.52,25276674.18,15833965.65,27856201.7,21750398.56,23744901.41,22208970.31,16102515.74,12373474.22,16013449.51,34272633.93,25933935.76,26122529.39,12085613.422,24515027.54,28121848.080000002,24825642.830000002,27163196.222,30138207.67,21102731.4,33015124.25,9029504.709999999,39134544.55,37987437.34,15061074.48,6027584.072,39287657.56,19493888.14,25596779.63,25147218.61,21100802.03,24241828.042,37204804.61,8154976.53,49217169.17,40250013.61,21407191.76,20551318.87,27303537.95,23915542.668,31138887.69,29353411.89,36708198.02,38900851.39,28255254.69,26894529.614,58181749.589999996,42097750.935,36591953.4,33797932.212,67695982.846,51048534.144,89589451.3,32797522.174,33519462.81,27139518.28,1024714.7,79075502.03,117866155.84,105074026.08,42028549.410000004,60298506.028000005,28464965.272000007,20734772.580000002,20679185.628,18865907.64,11254203.77,10472541.249999998,12580758.559999999,35596797.330000006,37384425.32,62292774.59999999,34455823.68,15282597.139999999,25882951.53,10013579.840000002],\"type\":\"scatter\"},{\"mode\":\"lines\",\"name\":\"Turnover\",\"x\":[\"2017-10\",\"2017-11\",\"2017-12\",\"2018-01\",\"2018-02\",\"2018-03\",\"2018-04\",\"2018-05\",\"2018-06\",\"2018-07\",\"2018-08\",\"2018-10\",\"2018-11\",\"2018-12\",\"2019-01\",\"2019-02\",\"2019-03\",\"2019-04\",\"2019-05\",\"2019-06\",\"2019-07\",\"2019-08\",\"2019-09\",\"2019-10\",\"2019-11\",\"2019-12\",\"2020-01\",\"2020-02\",\"2020-03\",\"2020-04\",\"2020-05\",\"2020-06\",\"2020-07\",\"2020-08\",\"2020-09\",\"2020-10\",\"2020-11\",\"2020-12\",\"2021-01\",\"2021-02\",\"2021-03\",\"2021-04\",\"2021-05\",\"2021-06\",\"2021-07\",\"2021-08\",\"2021-09\",\"2021-10\",\"2021-11\",\"2021-12\",\"2022-01\",\"2022-02\",\"2022-03\",\"2022-04\",\"2022-05\",\"2022-06\",\"2022-07\",\"2022-08\",\"2022-09\",\"2022-10\",\"2022-11\",\"2022-12\",\"2023-01\",\"2023-02\",\"2023-03\",\"2023-04\",\"2023-05\",\"2023-06\",\"2023-07\",\"2023-08\",\"2023-09\",\"2023-10\",\"2023-11\",\"2023-12\",\"2024-01\",\"2024-02\",\"2024-03\",\"2024-04\"],\"y\":[9768948.67,26614725.44,19296155.52,25276674.18,15833965.65,27856201.7,21750398.56,23744901.41,22208970.31,16102515.74,12373474.22,15840638.26,34071388.44,24125069.44,26849899.1,12054421.002,25422501.45,28651931.88,25439214.21,27043070.02,30687752.46,20920709.35,32231195.15,16189820.61,35727853.14,31874595.14,18743364.86,3203683.332,38648365.56,20385100.93,26259274.419999998,32493713.85,21443880.08,26425363.006,21348755.376,14578477.04,44426005.26,30918559.24,27312861.26,21467717.22,25262864.39,26699823.669999998,30002219.928,28898777.45,30560130.95,29525658.75,36729488.62,11565285.85,38573905.232,31481934.013,22177225.342,32484412.88,54982903.164,29781161.438,49679877.462,42886339.946,46851094.824,52815424.738,34015036.154,58064418.196,65414748.48,85452188.354,44428887.778,66826995.914,77204213.936,43160676.056,47320004.566,60119740.24,50802370.086,76566508.558,64284651.378,43713473.814,56740566.798,67417622.63,47558574.845,26357737.494999997,57667867.79,0.0],\"type\":\"scatter\"}],                        {\"template\":{\"data\":{\"histogram2dcontour\":[{\"type\":\"histogram2dcontour\",\"colorbar\":{\"outlinewidth\":0,\"ticks\":\"\"},\"colorscale\":[[0.0,\"#0d0887\"],[0.1111111111111111,\"#46039f\"],[0.2222222222222222,\"#7201a8\"],[0.3333333333333333,\"#9c179e\"],[0.4444444444444444,\"#bd3786\"],[0.5555555555555556,\"#d8576b\"],[0.6666666666666666,\"#ed7953\"],[0.7777777777777778,\"#fb9f3a\"],[0.8888888888888888,\"#fdca26\"],[1.0,\"#f0f921\"]]}],\"choropleth\":[{\"type\":\"choropleth\",\"colorbar\":{\"outlinewidth\":0,\"ticks\":\"\"}}],\"histogram2d\":[{\"type\":\"histogram2d\",\"colorbar\":{\"outlinewidth\":0,\"ticks\":\"\"},\"colorscale\":[[0.0,\"#0d0887\"],[0.1111111111111111,\"#46039f\"],[0.2222222222222222,\"#7201a8\"],[0.3333333333333333,\"#9c179e\"],[0.4444444444444444,\"#bd3786\"],[0.5555555555555556,\"#d8576b\"],[0.6666666666666666,\"#ed7953\"],[0.7777777777777778,\"#fb9f3a\"],[0.8888888888888888,\"#fdca26\"],[1.0,\"#f0f921\"]]}],\"heatmap\":[{\"type\":\"heatmap\",\"colorbar\":{\"outlinewidth\":0,\"ticks\":\"\"},\"colorscale\":[[0.0,\"#0d0887\"],[0.1111111111111111,\"#46039f\"],[0.2222222222222222,\"#7201a8\"],[0.3333333333333333,\"#9c179e\"],[0.4444444444444444,\"#bd3786\"],[0.5555555555555556,\"#d8576b\"],[0.6666666666666666,\"#ed7953\"],[0.7777777777777778,\"#fb9f3a\"],[0.8888888888888888,\"#fdca26\"],[1.0,\"#f0f921\"]]}],\"heatmapgl\":[{\"type\":\"heatmapgl\",\"colorbar\":{\"outlinewidth\":0,\"ticks\":\"\"},\"colorscale\":[[0.0,\"#0d0887\"],[0.1111111111111111,\"#46039f\"],[0.2222222222222222,\"#7201a8\"],[0.3333333333333333,\"#9c179e\"],[0.4444444444444444,\"#bd3786\"],[0.5555555555555556,\"#d8576b\"],[0.6666666666666666,\"#ed7953\"],[0.7777777777777778,\"#fb9f3a\"],[0.8888888888888888,\"#fdca26\"],[1.0,\"#f0f921\"]]}],\"contourcarpet\":[{\"type\":\"contourcarpet\",\"colorbar\":{\"outlinewidth\":0,\"ticks\":\"\"}}],\"contour\":[{\"type\":\"contour\",\"colorbar\":{\"outlinewidth\":0,\"ticks\":\"\"},\"colorscale\":[[0.0,\"#0d0887\"],[0.1111111111111111,\"#46039f\"],[0.2222222222222222,\"#7201a8\"],[0.3333333333333333,\"#9c179e\"],[0.4444444444444444,\"#bd3786\"],[0.5555555555555556,\"#d8576b\"],[0.6666666666666666,\"#ed7953\"],[0.7777777777777778,\"#fb9f3a\"],[0.8888888888888888,\"#fdca26\"],[1.0,\"#f0f921\"]]}],\"surface\":[{\"type\":\"surface\",\"colorbar\":{\"outlinewidth\":0,\"ticks\":\"\"},\"colorscale\":[[0.0,\"#0d0887\"],[0.1111111111111111,\"#46039f\"],[0.2222222222222222,\"#7201a8\"],[0.3333333333333333,\"#9c179e\"],[0.4444444444444444,\"#bd3786\"],[0.5555555555555556,\"#d8576b\"],[0.6666666666666666,\"#ed7953\"],[0.7777777777777778,\"#fb9f3a\"],[0.8888888888888888,\"#fdca26\"],[1.0,\"#f0f921\"]]}],\"mesh3d\":[{\"type\":\"mesh3d\",\"colorbar\":{\"outlinewidth\":0,\"ticks\":\"\"}}],\"scatter\":[{\"fillpattern\":{\"fillmode\":\"overlay\",\"size\":10,\"solidity\":0.2},\"type\":\"scatter\"}],\"parcoords\":[{\"type\":\"parcoords\",\"line\":{\"colorbar\":{\"outlinewidth\":0,\"ticks\":\"\"}}}],\"scatterpolargl\":[{\"type\":\"scatterpolargl\",\"marker\":{\"colorbar\":{\"outlinewidth\":0,\"ticks\":\"\"}}}],\"bar\":[{\"error_x\":{\"color\":\"#2a3f5f\"},\"error_y\":{\"color\":\"#2a3f5f\"},\"marker\":{\"line\":{\"color\":\"#E5ECF6\",\"width\":0.5},\"pattern\":{\"fillmode\":\"overlay\",\"size\":10,\"solidity\":0.2}},\"type\":\"bar\"}],\"scattergeo\":[{\"type\":\"scattergeo\",\"marker\":{\"colorbar\":{\"outlinewidth\":0,\"ticks\":\"\"}}}],\"scatterpolar\":[{\"type\":\"scatterpolar\",\"marker\":{\"colorbar\":{\"outlinewidth\":0,\"ticks\":\"\"}}}],\"histogram\":[{\"marker\":{\"pattern\":{\"fillmode\":\"overlay\",\"size\":10,\"solidity\":0.2}},\"type\":\"histogram\"}],\"scattergl\":[{\"type\":\"scattergl\",\"marker\":{\"colorbar\":{\"outlinewidth\":0,\"ticks\":\"\"}}}],\"scatter3d\":[{\"type\":\"scatter3d\",\"line\":{\"colorbar\":{\"outlinewidth\":0,\"ticks\":\"\"}},\"marker\":{\"colorbar\":{\"outlinewidth\":0,\"ticks\":\"\"}}}],\"scattermapbox\":[{\"type\":\"scattermapbox\",\"marker\":{\"colorbar\":{\"outlinewidth\":0,\"ticks\":\"\"}}}],\"scatterternary\":[{\"type\":\"scatterternary\",\"marker\":{\"colorbar\":{\"outlinewidth\":0,\"ticks\":\"\"}}}],\"scattercarpet\":[{\"type\":\"scattercarpet\",\"marker\":{\"colorbar\":{\"outlinewidth\":0,\"ticks\":\"\"}}}],\"carpet\":[{\"aaxis\":{\"endlinecolor\":\"#2a3f5f\",\"gridcolor\":\"white\",\"linecolor\":\"white\",\"minorgridcolor\":\"white\",\"startlinecolor\":\"#2a3f5f\"},\"baxis\":{\"endlinecolor\":\"#2a3f5f\",\"gridcolor\":\"white\",\"linecolor\":\"white\",\"minorgridcolor\":\"white\",\"startlinecolor\":\"#2a3f5f\"},\"type\":\"carpet\"}],\"table\":[{\"cells\":{\"fill\":{\"color\":\"#EBF0F8\"},\"line\":{\"color\":\"white\"}},\"header\":{\"fill\":{\"color\":\"#C8D4E3\"},\"line\":{\"color\":\"white\"}},\"type\":\"table\"}],\"barpolar\":[{\"marker\":{\"line\":{\"color\":\"#E5ECF6\",\"width\":0.5},\"pattern\":{\"fillmode\":\"overlay\",\"size\":10,\"solidity\":0.2}},\"type\":\"barpolar\"}],\"pie\":[{\"automargin\":true,\"type\":\"pie\"}]},\"layout\":{\"autotypenumbers\":\"strict\",\"colorway\":[\"#636efa\",\"#EF553B\",\"#00cc96\",\"#ab63fa\",\"#FFA15A\",\"#19d3f3\",\"#FF6692\",\"#B6E880\",\"#FF97FF\",\"#FECB52\"],\"font\":{\"color\":\"#2a3f5f\"},\"hovermode\":\"closest\",\"hoverlabel\":{\"align\":\"left\"},\"paper_bgcolor\":\"white\",\"plot_bgcolor\":\"#E5ECF6\",\"polar\":{\"bgcolor\":\"#E5ECF6\",\"angularaxis\":{\"gridcolor\":\"white\",\"linecolor\":\"white\",\"ticks\":\"\"},\"radialaxis\":{\"gridcolor\":\"white\",\"linecolor\":\"white\",\"ticks\":\"\"}},\"ternary\":{\"bgcolor\":\"#E5ECF6\",\"aaxis\":{\"gridcolor\":\"white\",\"linecolor\":\"white\",\"ticks\":\"\"},\"baxis\":{\"gridcolor\":\"white\",\"linecolor\":\"white\",\"ticks\":\"\"},\"caxis\":{\"gridcolor\":\"white\",\"linecolor\":\"white\",\"ticks\":\"\"}},\"coloraxis\":{\"colorbar\":{\"outlinewidth\":0,\"ticks\":\"\"}},\"colorscale\":{\"sequential\":[[0.0,\"#0d0887\"],[0.1111111111111111,\"#46039f\"],[0.2222222222222222,\"#7201a8\"],[0.3333333333333333,\"#9c179e\"],[0.4444444444444444,\"#bd3786\"],[0.5555555555555556,\"#d8576b\"],[0.6666666666666666,\"#ed7953\"],[0.7777777777777778,\"#fb9f3a\"],[0.8888888888888888,\"#fdca26\"],[1.0,\"#f0f921\"]],\"sequentialminus\":[[0.0,\"#0d0887\"],[0.1111111111111111,\"#46039f\"],[0.2222222222222222,\"#7201a8\"],[0.3333333333333333,\"#9c179e\"],[0.4444444444444444,\"#bd3786\"],[0.5555555555555556,\"#d8576b\"],[0.6666666666666666,\"#ed7953\"],[0.7777777777777778,\"#fb9f3a\"],[0.8888888888888888,\"#fdca26\"],[1.0,\"#f0f921\"]],\"diverging\":[[0,\"#8e0152\"],[0.1,\"#c51b7d\"],[0.2,\"#de77ae\"],[0.3,\"#f1b6da\"],[0.4,\"#fde0ef\"],[0.5,\"#f7f7f7\"],[0.6,\"#e6f5d0\"],[0.7,\"#b8e186\"],[0.8,\"#7fbc41\"],[0.9,\"#4d9221\"],[1,\"#276419\"]]},\"xaxis\":{\"gridcolor\":\"white\",\"linecolor\":\"white\",\"ticks\":\"\",\"title\":{\"standoff\":15},\"zerolinecolor\":\"white\",\"automargin\":true,\"zerolinewidth\":2},\"yaxis\":{\"gridcolor\":\"white\",\"linecolor\":\"white\",\"ticks\":\"\",\"title\":{\"standoff\":15},\"zerolinecolor\":\"white\",\"automargin\":true,\"zerolinewidth\":2},\"scene\":{\"xaxis\":{\"backgroundcolor\":\"#E5ECF6\",\"gridcolor\":\"white\",\"linecolor\":\"white\",\"showbackground\":true,\"ticks\":\"\",\"zerolinecolor\":\"white\",\"gridwidth\":2},\"yaxis\":{\"backgroundcolor\":\"#E5ECF6\",\"gridcolor\":\"white\",\"linecolor\":\"white\",\"showbackground\":true,\"ticks\":\"\",\"zerolinecolor\":\"white\",\"gridwidth\":2},\"zaxis\":{\"backgroundcolor\":\"#E5ECF6\",\"gridcolor\":\"white\",\"linecolor\":\"white\",\"showbackground\":true,\"ticks\":\"\",\"zerolinecolor\":\"white\",\"gridwidth\":2}},\"shapedefaults\":{\"line\":{\"color\":\"#2a3f5f\"}},\"annotationdefaults\":{\"arrowcolor\":\"#2a3f5f\",\"arrowhead\":0,\"arrowwidth\":1},\"geo\":{\"bgcolor\":\"white\",\"landcolor\":\"#E5ECF6\",\"subunitcolor\":\"white\",\"showland\":true,\"showlakes\":true,\"lakecolor\":\"white\"},\"title\":{\"x\":0.05},\"mapbox\":{\"style\":\"light\"}}},\"margin\":{\"t\":0,\"b\":0,\"l\":0,\"r\":0},\"xaxis\":{\"title\":{\"text\":\"Fiscal Months\"},\"dtick\":\"M12\",\"range\":[\"2017-07-01\",\"2024-06-30\"]},\"legend\":{\"x\":0.01,\"y\":0.99},\"height\":680,\"yaxis\":{\"title\":{\"text\":\"Value (K)\"}}},                        {\"responsive\": true}                    ).then(function(){\n",
       "                            \n",
       "var gd = document.getElementById('efe04003-7c9a-430e-8562-c13f6111b485');\n",
       "var x = new MutationObserver(function (mutations, observer) {{\n",
       "        var display = window.getComputedStyle(gd).display;\n",
       "        if (!display || display === 'none') {{\n",
       "            console.log([gd, 'removed!']);\n",
       "            Plotly.purge(gd);\n",
       "            observer.disconnect();\n",
       "        }}\n",
       "}});\n",
       "\n",
       "// Listen for the removal of the full notebook cells\n",
       "var notebookContainer = gd.closest('#notebook-container');\n",
       "if (notebookContainer) {{\n",
       "    x.observe(notebookContainer, {childList: true});\n",
       "}}\n",
       "\n",
       "// Listen for the clearing of the current output cell\n",
       "var outputEl = gd.closest('.output');\n",
       "if (outputEl) {{\n",
       "    x.observe(outputEl, {childList: true});\n",
       "}}\n",
       "\n",
       "                        })                };                });            </script>        </div>"
      ]
     },
     "metadata": {},
     "output_type": "display_data"
    }
   ],
   "source": [
    "ts['month'] = ts['PostDate'].dt.strftime('%Y-%m')\n",
    "\n",
    "order = ts.groupby('month')['OR'].sum()\n",
    "turnover = ts.groupby('month')['TO'].sum()\n",
    "\n",
    "plot_order = go.Scatter(x=order.index, y=order, mode='lines', name='New Order')\n",
    "plot_turnover = go.Scatter(x=turnover.index, y=turnover, mode='lines', name='Turnover')\n",
    "\n",
    "fig = go.Figure([plot_order, plot_turnover])\n",
    "fig.update_layout(\n",
    "    height=680, margin={'t':0, 'b':0, 'l':0, 'r':0},\n",
    "    xaxis=dict(title=\"Fiscal Months\", dtick='M12', range=['2017-07-01','2024-06-30']),\n",
    "    yaxis=dict(title=\"Value (K)\"),\n",
    "    legend=dict(x=0.01, y=0.99)\n",
    ")\n",
    "fig.show()"
   ]
  },
  {
   "cell_type": "code",
   "execution_count": 14,
   "id": "e82faa67-f698-415e-9061-3661067a65a3",
   "metadata": {},
   "outputs": [
    {
     "data": {
      "application/vnd.plotly.v1+json": {
       "config": {
        "plotlyServerURL": "https://plot.ly"
       },
       "data": [
        {
         "type": "scatter",
         "x": [
          "2017-10",
          "2017-11",
          "2017-12",
          "2018-01",
          "2018-02",
          "2018-03",
          "2018-04",
          "2018-05",
          "2018-06",
          "2018-07",
          "2018-08",
          "2018-10",
          "2018-11",
          "2018-12",
          "2019-01",
          "2019-02",
          "2019-03",
          "2019-04",
          "2019-05",
          "2019-06",
          "2019-07",
          "2019-08",
          "2019-09",
          "2019-10",
          "2019-11",
          "2019-12",
          "2020-01",
          "2020-02",
          "2020-03",
          "2020-04",
          "2020-05",
          "2020-06",
          "2020-07",
          "2020-08",
          "2020-09",
          "2020-10",
          "2020-11",
          "2020-12",
          "2021-01",
          "2021-02",
          "2021-03",
          "2021-04",
          "2021-05",
          "2021-06",
          "2021-07",
          "2021-08",
          "2021-09",
          "2021-10",
          "2021-11",
          "2021-12",
          "2022-01",
          "2022-02",
          "2022-03",
          "2022-04",
          "2022-05",
          "2022-06",
          "2022-07",
          "2022-08",
          "2022-09",
          "2022-10",
          "2022-11",
          "2022-12",
          "2023-01",
          "2023-02",
          "2023-03",
          "2023-04",
          "2023-05",
          "2023-06",
          "2023-07",
          "2023-08",
          "2023-09",
          "2023-10",
          "2023-11",
          "2023-12",
          "2024-01",
          "2024-02",
          "2024-03",
          "2024-04"
         ],
         "xaxis": "x",
         "y": [
          9768948.67,
          26614725.44,
          19296155.52,
          25276674.18,
          15833965.65,
          27856201.7,
          21750398.56,
          23744901.41,
          22208970.31,
          16102515.74,
          12373474.22,
          16013449.51,
          34272633.93,
          25933935.76,
          26122529.39,
          12085613.422,
          24515027.54,
          28121848.080000002,
          24825642.830000002,
          27163196.222,
          30138207.67,
          21102731.4,
          33015124.25,
          9029504.709999999,
          39134544.55,
          37987437.34,
          15061074.48,
          6027584.072,
          39287657.56,
          19493888.14,
          25596779.63,
          25147218.61,
          21100802.03,
          24241828.042,
          37204804.61,
          8154976.53,
          49217169.17,
          40250013.61,
          21407191.76,
          20551318.87,
          27303537.95,
          23915542.668,
          31138887.69,
          29353411.89,
          36708198.02,
          38900851.39,
          28255254.69,
          26894529.614,
          58181749.589999996,
          42097750.935,
          36591953.4,
          33797932.212,
          67695982.846,
          51048534.144,
          89589451.3,
          32797522.174,
          33519462.81,
          27139518.28,
          1024714.7,
          79075502.03,
          117866155.84,
          105074026.08,
          42028549.410000004,
          60298506.028000005,
          28464965.272000007,
          20734772.580000002,
          20679185.628,
          18865907.64,
          11254203.77,
          10472541.249999998,
          12580758.559999999,
          35596797.330000006,
          37384425.32,
          62292774.59999999,
          34455823.68,
          15282597.139999999,
          25882951.53,
          10013579.840000002
         ],
         "yaxis": "y"
        },
        {
         "type": "scatter",
         "x": [
          "2017-10",
          "2017-11",
          "2017-12",
          "2018-01",
          "2018-02",
          "2018-03",
          "2018-04",
          "2018-05",
          "2018-06",
          "2018-07",
          "2018-08",
          "2018-10",
          "2018-11",
          "2018-12",
          "2019-01",
          "2019-02",
          "2019-03",
          "2019-04",
          "2019-05",
          "2019-06",
          "2019-07",
          "2019-08",
          "2019-09",
          "2019-10",
          "2019-11",
          "2019-12",
          "2020-01",
          "2020-02",
          "2020-03",
          "2020-04",
          "2020-05",
          "2020-06",
          "2020-07",
          "2020-08",
          "2020-09",
          "2020-10",
          "2020-11",
          "2020-12",
          "2021-01",
          "2021-02",
          "2021-03",
          "2021-04",
          "2021-05",
          "2021-06",
          "2021-07",
          "2021-08",
          "2021-09",
          "2021-10",
          "2021-11",
          "2021-12",
          "2022-01",
          "2022-02",
          "2022-03",
          "2022-04",
          "2022-05",
          "2022-06",
          "2022-07",
          "2022-08",
          "2022-09",
          "2022-10",
          "2022-11",
          "2022-12",
          "2023-01",
          "2023-02",
          "2023-03",
          "2023-04",
          "2023-05",
          "2023-06",
          "2023-07",
          "2023-08",
          "2023-09",
          "2023-10",
          "2023-11",
          "2023-12",
          "2024-01",
          "2024-02",
          "2024-03",
          "2024-04"
         ],
         "xaxis": "x2",
         "y": [
          18677630.946799662,
          18980753.794259597,
          19284893.165548827,
          19594276.773860496,
          19912714.09510007,
          20240374.548026845,
          20576273.1789536,
          20916945.649689615,
          21253964.00422478,
          21571862.845586054,
          21840444.566171426,
          22019101.996973816,
          22332511.43971324,
          22747325.697263326,
          23231806.906704225,
          23730039.665326983,
          24210187.433649153,
          24605365.485639986,
          24852882.100876115,
          24982493.50704963,
          25025014.494369954,
          25021842.65202801,
          25035346.70770073,
          25053148.623411804,
          25065301.98897584,
          25118243.123776138,
          25179522.915314797,
          25236456.36671527,
          25297911.27568098,
          25390764.014916133,
          25536823.41488176,
          25723722.274528198,
          25939965.15392317,
          26176438.620569214,
          26465886.154409368,
          26897352.592839394,
          27518972.91567534,
          28306875.471932974,
          29186342.06977114,
          30047931.31256804,
          30735354.394454073,
          31247795.20056209,
          31703970.42561664,
          32313858.53761782,
          33296591.222699538,
          34792215.47234371,
          36677621.966084145,
          38750673.29142085,
          40737239.45450703,
          42387183.276762106,
          43729770.872710794,
          45004379.900434904,
          46426192.325237535,
          48047083.93729161,
          49839979.76898065,
          51557955.26382526,
          52825268.84108178,
          53300574.18899773,
          52867270.54331541,
          51636175.19712207,
          49907921.36577146,
          48051617.4729287,
          46201318.757055424,
          44307762.54983294,
          42263892.438985266,
          39956231.76470624,
          37245056.33548357,
          34491861.284036286,
          31997474.56651944,
          29605955.883312676,
          27280112.500398215,
          25003196.817120843,
          22758798.177531015,
          20540349.778281815,
          18352236.06969517,
          16200588.246083084,
          14088387.051882956,
          12019288.102748198
         ],
         "yaxis": "y2"
        },
        {
         "type": "scatter",
         "x": [
          "2017-10",
          "2017-11",
          "2017-12",
          "2018-01",
          "2018-02",
          "2018-03",
          "2018-04",
          "2018-05",
          "2018-06",
          "2018-07",
          "2018-08",
          "2018-10",
          "2018-11",
          "2018-12",
          "2019-01",
          "2019-02",
          "2019-03",
          "2019-04",
          "2019-05",
          "2019-06",
          "2019-07",
          "2019-08",
          "2019-09",
          "2019-10",
          "2019-11",
          "2019-12",
          "2020-01",
          "2020-02",
          "2020-03",
          "2020-04",
          "2020-05",
          "2020-06",
          "2020-07",
          "2020-08",
          "2020-09",
          "2020-10",
          "2020-11",
          "2020-12",
          "2021-01",
          "2021-02",
          "2021-03",
          "2021-04",
          "2021-05",
          "2021-06",
          "2021-07",
          "2021-08",
          "2021-09",
          "2021-10",
          "2021-11",
          "2021-12",
          "2022-01",
          "2022-02",
          "2022-03",
          "2022-04",
          "2022-05",
          "2022-06",
          "2022-07",
          "2022-08",
          "2022-09",
          "2022-10",
          "2022-11",
          "2022-12",
          "2023-01",
          "2023-02",
          "2023-03",
          "2023-04",
          "2023-05",
          "2023-06",
          "2023-07",
          "2023-08",
          "2023-09",
          "2023-10",
          "2023-11",
          "2023-12",
          "2024-01",
          "2024-02",
          "2024-03",
          "2024-04"
         ],
         "xaxis": "x3",
         "y": [
          -3608186.0478779785,
          5670440.028172583,
          998052.9415837239,
          -2882544.1752685257,
          -1526807.043352967,
          6180579.995146308,
          -1299217.2169046402,
          4356394.246835153,
          3233530.541101199,
          -4186395.260978186,
          1361178.4736142813,
          -12116557.891849421,
          4831477.455553333,
          7362386.807198555,
          -1873337.9138110308,
          -6364586.564436641,
          1450877.5709456068,
          2392758.681284242,
          662020.5481947043,
          1331451.1008788215,
          1137392.6829715266,
          -3592598.7654086514,
          29827.908498526966,
          -12161007.755482651,
          13460359.711655796,
          9278459.867591955,
          -4409341.878835343,
          -9045157.989113282,
          4029893.5704890573,
          -1162948.4855089881,
          3769199.328510537,
          -2159681.5975651415,
          -1239345.6670837838,
          -3860495.805500794,
          -3335429.2639434775,
          -10536087.869458368,
          22167660.74132877,
          12546743.746419307,
          -6928325.2779809125,
          -10258222.357493889,
          6496746.468199038,
          -4674759.632011948,
          8077588.166185132,
          -7507526.191251113,
          -7170893.268719902,
          -8760027.67544982,
          -14085041.811840994,
          -2193975.481535651,
          28333694.928448908,
          23983720.564579718,
          -3151786.27377235,
          -4429485.779706974,
          4300927.255945676,
          -6793531.034028753,
          5327706.5926606385,
          -13211098.717462683,
          -14401406.19273923,
          -15603296.086958323,
          -23444182.92732433,
          7986105.059508467,
          31556961.536829654,
          34297975.34586786,
          1992872.22261398,
          510031.69731061475,
          3843364.6406742325,
          -7601390.161912857,
          2964154.036790777,
          -19230727.150303505,
          -22283429.345610425,
          -23523389.120281506,
          -33296027.502331782,
          19056144.55157347,
          35105069.54850591,
          45908704.34804268,
          7660396.25342433,
          5808000.80565318,
          3035644.585151408,
          -8584571.489732435
         ],
         "yaxis": "y3"
        },
        {
         "type": "scatter",
         "x": [
          "2017-10",
          "2017-11",
          "2017-12",
          "2018-01",
          "2018-02",
          "2018-03",
          "2018-04",
          "2018-05",
          "2018-06",
          "2018-07",
          "2018-08",
          "2018-10",
          "2018-11",
          "2018-12",
          "2019-01",
          "2019-02",
          "2019-03",
          "2019-04",
          "2019-05",
          "2019-06",
          "2019-07",
          "2019-08",
          "2019-09",
          "2019-10",
          "2019-11",
          "2019-12",
          "2020-01",
          "2020-02",
          "2020-03",
          "2020-04",
          "2020-05",
          "2020-06",
          "2020-07",
          "2020-08",
          "2020-09",
          "2020-10",
          "2020-11",
          "2020-12",
          "2021-01",
          "2021-02",
          "2021-03",
          "2021-04",
          "2021-05",
          "2021-06",
          "2021-07",
          "2021-08",
          "2021-09",
          "2021-10",
          "2021-11",
          "2021-12",
          "2022-01",
          "2022-02",
          "2022-03",
          "2022-04",
          "2022-05",
          "2022-06",
          "2022-07",
          "2022-08",
          "2022-09",
          "2022-10",
          "2022-11",
          "2022-12",
          "2023-01",
          "2023-02",
          "2023-03",
          "2023-04",
          "2023-05",
          "2023-06",
          "2023-07",
          "2023-08",
          "2023-09",
          "2023-10",
          "2023-11",
          "2023-12",
          "2024-01",
          "2024-02",
          "2024-03",
          "2024-04"
         ],
         "xaxis": "x4",
         "y": [
          -5300496.2289216835,
          1963531.6175678223,
          -986790.5871325508,
          8564941.581408031,
          -2551941.401747104,
          1435247.1568268463,
          2473342.5979510397,
          -1528438.4865247682,
          -2278524.235325981,
          -1282951.8446078673,
          -10828148.819785707,
          6110905.404875603,
          7108645.034733426,
          -4175776.744461879,
          4764060.397106808,
          -5279839.67889034,
          -1146037.464594759,
          1123723.913075775,
          -689259.819070816,
          849251.614071548,
          3975800.492658522,
          -326512.48661936074,
          7949949.633800745,
          -3862636.1579291523,
          608882.8493683599,
          3590734.348631911,
          -5709106.556479454,
          -10163714.305601988,
          9959852.713829964,
          -4733927.389407143,
          -3709243.113392297,
          1583177.933036942,
          -3599817.4568393826,
          1925885.2269315794,
          14074347.71953411,
          -8206288.193381026,
          -469464.487004105,
          -603605.6083522812,
          -850825.0317902267,
          761609.9149258509,
          -9928562.91265311,
          -2657492.900550142,
          -8642670.901801772,
          4547079.543633293,
          10582500.06602037,
          12868663.593106106,
          5662674.535756849,
          -9662168.195885196,
          -10889184.792955942,
          -24273152.90634182,
          -3986031.1989384443,
          -6776961.908727936,
          16968863.26481679,
          9794981.240737148,
          34421764.93835871,
          -5549334.372362576,
          -4904399.838342555,
          -10557759.82203941,
          -28398372.915991083,
          19453221.77336946,
          36401272.937398896,
          22724433.261203438,
          -6165641.569669403,
          15480711.780856453,
          -17642291.807659492,
          -11620069.022793382,
          -19530024.74427435,
          3604773.50626722,
          1540158.5490909852,
          4389974.4869688265,
          18596673.561933566,
          -8462544.038694307,
          -20479442.406036925,
          -4156279.5263245106,
          8443191.356880497,
          -6725991.911736265,
          8758919.892965637,
          6578863.226984238
         ],
         "yaxis": "y4"
        }
       ],
       "layout": {
        "annotations": [
         {
          "font": {
           "size": 16
          },
          "showarrow": false,
          "text": "observed",
          "x": 0.5,
          "xanchor": "center",
          "xref": "paper",
          "y": 1,
          "yanchor": "bottom",
          "yref": "paper"
         },
         {
          "font": {
           "size": 16
          },
          "showarrow": false,
          "text": "trend",
          "x": 0.5,
          "xanchor": "center",
          "xref": "paper",
          "y": 0.7375,
          "yanchor": "bottom",
          "yref": "paper"
         },
         {
          "font": {
           "size": 16
          },
          "showarrow": false,
          "text": "seasonal",
          "x": 0.5,
          "xanchor": "center",
          "xref": "paper",
          "y": 0.475,
          "yanchor": "bottom",
          "yref": "paper"
         },
         {
          "font": {
           "size": 16
          },
          "showarrow": false,
          "text": "resid",
          "x": 0.5,
          "xanchor": "center",
          "xref": "paper",
          "y": 0.2125,
          "yanchor": "bottom",
          "yref": "paper"
         }
        ],
        "autosize": true,
        "margin": {
         "b": 0,
         "l": 0,
         "r": 0,
         "t": 20
        },
        "showlegend": false,
        "template": {
         "data": {
          "bar": [
           {
            "error_x": {
             "color": "#2a3f5f"
            },
            "error_y": {
             "color": "#2a3f5f"
            },
            "marker": {
             "line": {
              "color": "#E5ECF6",
              "width": 0.5
             },
             "pattern": {
              "fillmode": "overlay",
              "size": 10,
              "solidity": 0.2
             }
            },
            "type": "bar"
           }
          ],
          "barpolar": [
           {
            "marker": {
             "line": {
              "color": "#E5ECF6",
              "width": 0.5
             },
             "pattern": {
              "fillmode": "overlay",
              "size": 10,
              "solidity": 0.2
             }
            },
            "type": "barpolar"
           }
          ],
          "carpet": [
           {
            "aaxis": {
             "endlinecolor": "#2a3f5f",
             "gridcolor": "white",
             "linecolor": "white",
             "minorgridcolor": "white",
             "startlinecolor": "#2a3f5f"
            },
            "baxis": {
             "endlinecolor": "#2a3f5f",
             "gridcolor": "white",
             "linecolor": "white",
             "minorgridcolor": "white",
             "startlinecolor": "#2a3f5f"
            },
            "type": "carpet"
           }
          ],
          "choropleth": [
           {
            "colorbar": {
             "outlinewidth": 0,
             "ticks": ""
            },
            "type": "choropleth"
           }
          ],
          "contour": [
           {
            "colorbar": {
             "outlinewidth": 0,
             "ticks": ""
            },
            "colorscale": [
             [
              0,
              "#0d0887"
             ],
             [
              0.1111111111111111,
              "#46039f"
             ],
             [
              0.2222222222222222,
              "#7201a8"
             ],
             [
              0.3333333333333333,
              "#9c179e"
             ],
             [
              0.4444444444444444,
              "#bd3786"
             ],
             [
              0.5555555555555556,
              "#d8576b"
             ],
             [
              0.6666666666666666,
              "#ed7953"
             ],
             [
              0.7777777777777778,
              "#fb9f3a"
             ],
             [
              0.8888888888888888,
              "#fdca26"
             ],
             [
              1,
              "#f0f921"
             ]
            ],
            "type": "contour"
           }
          ],
          "contourcarpet": [
           {
            "colorbar": {
             "outlinewidth": 0,
             "ticks": ""
            },
            "type": "contourcarpet"
           }
          ],
          "heatmap": [
           {
            "colorbar": {
             "outlinewidth": 0,
             "ticks": ""
            },
            "colorscale": [
             [
              0,
              "#0d0887"
             ],
             [
              0.1111111111111111,
              "#46039f"
             ],
             [
              0.2222222222222222,
              "#7201a8"
             ],
             [
              0.3333333333333333,
              "#9c179e"
             ],
             [
              0.4444444444444444,
              "#bd3786"
             ],
             [
              0.5555555555555556,
              "#d8576b"
             ],
             [
              0.6666666666666666,
              "#ed7953"
             ],
             [
              0.7777777777777778,
              "#fb9f3a"
             ],
             [
              0.8888888888888888,
              "#fdca26"
             ],
             [
              1,
              "#f0f921"
             ]
            ],
            "type": "heatmap"
           }
          ],
          "heatmapgl": [
           {
            "colorbar": {
             "outlinewidth": 0,
             "ticks": ""
            },
            "colorscale": [
             [
              0,
              "#0d0887"
             ],
             [
              0.1111111111111111,
              "#46039f"
             ],
             [
              0.2222222222222222,
              "#7201a8"
             ],
             [
              0.3333333333333333,
              "#9c179e"
             ],
             [
              0.4444444444444444,
              "#bd3786"
             ],
             [
              0.5555555555555556,
              "#d8576b"
             ],
             [
              0.6666666666666666,
              "#ed7953"
             ],
             [
              0.7777777777777778,
              "#fb9f3a"
             ],
             [
              0.8888888888888888,
              "#fdca26"
             ],
             [
              1,
              "#f0f921"
             ]
            ],
            "type": "heatmapgl"
           }
          ],
          "histogram": [
           {
            "marker": {
             "pattern": {
              "fillmode": "overlay",
              "size": 10,
              "solidity": 0.2
             }
            },
            "type": "histogram"
           }
          ],
          "histogram2d": [
           {
            "colorbar": {
             "outlinewidth": 0,
             "ticks": ""
            },
            "colorscale": [
             [
              0,
              "#0d0887"
             ],
             [
              0.1111111111111111,
              "#46039f"
             ],
             [
              0.2222222222222222,
              "#7201a8"
             ],
             [
              0.3333333333333333,
              "#9c179e"
             ],
             [
              0.4444444444444444,
              "#bd3786"
             ],
             [
              0.5555555555555556,
              "#d8576b"
             ],
             [
              0.6666666666666666,
              "#ed7953"
             ],
             [
              0.7777777777777778,
              "#fb9f3a"
             ],
             [
              0.8888888888888888,
              "#fdca26"
             ],
             [
              1,
              "#f0f921"
             ]
            ],
            "type": "histogram2d"
           }
          ],
          "histogram2dcontour": [
           {
            "colorbar": {
             "outlinewidth": 0,
             "ticks": ""
            },
            "colorscale": [
             [
              0,
              "#0d0887"
             ],
             [
              0.1111111111111111,
              "#46039f"
             ],
             [
              0.2222222222222222,
              "#7201a8"
             ],
             [
              0.3333333333333333,
              "#9c179e"
             ],
             [
              0.4444444444444444,
              "#bd3786"
             ],
             [
              0.5555555555555556,
              "#d8576b"
             ],
             [
              0.6666666666666666,
              "#ed7953"
             ],
             [
              0.7777777777777778,
              "#fb9f3a"
             ],
             [
              0.8888888888888888,
              "#fdca26"
             ],
             [
              1,
              "#f0f921"
             ]
            ],
            "type": "histogram2dcontour"
           }
          ],
          "mesh3d": [
           {
            "colorbar": {
             "outlinewidth": 0,
             "ticks": ""
            },
            "type": "mesh3d"
           }
          ],
          "parcoords": [
           {
            "line": {
             "colorbar": {
              "outlinewidth": 0,
              "ticks": ""
             }
            },
            "type": "parcoords"
           }
          ],
          "pie": [
           {
            "automargin": true,
            "type": "pie"
           }
          ],
          "scatter": [
           {
            "fillpattern": {
             "fillmode": "overlay",
             "size": 10,
             "solidity": 0.2
            },
            "type": "scatter"
           }
          ],
          "scatter3d": [
           {
            "line": {
             "colorbar": {
              "outlinewidth": 0,
              "ticks": ""
             }
            },
            "marker": {
             "colorbar": {
              "outlinewidth": 0,
              "ticks": ""
             }
            },
            "type": "scatter3d"
           }
          ],
          "scattercarpet": [
           {
            "marker": {
             "colorbar": {
              "outlinewidth": 0,
              "ticks": ""
             }
            },
            "type": "scattercarpet"
           }
          ],
          "scattergeo": [
           {
            "marker": {
             "colorbar": {
              "outlinewidth": 0,
              "ticks": ""
             }
            },
            "type": "scattergeo"
           }
          ],
          "scattergl": [
           {
            "marker": {
             "colorbar": {
              "outlinewidth": 0,
              "ticks": ""
             }
            },
            "type": "scattergl"
           }
          ],
          "scattermapbox": [
           {
            "marker": {
             "colorbar": {
              "outlinewidth": 0,
              "ticks": ""
             }
            },
            "type": "scattermapbox"
           }
          ],
          "scatterpolar": [
           {
            "marker": {
             "colorbar": {
              "outlinewidth": 0,
              "ticks": ""
             }
            },
            "type": "scatterpolar"
           }
          ],
          "scatterpolargl": [
           {
            "marker": {
             "colorbar": {
              "outlinewidth": 0,
              "ticks": ""
             }
            },
            "type": "scatterpolargl"
           }
          ],
          "scatterternary": [
           {
            "marker": {
             "colorbar": {
              "outlinewidth": 0,
              "ticks": ""
             }
            },
            "type": "scatterternary"
           }
          ],
          "surface": [
           {
            "colorbar": {
             "outlinewidth": 0,
             "ticks": ""
            },
            "colorscale": [
             [
              0,
              "#0d0887"
             ],
             [
              0.1111111111111111,
              "#46039f"
             ],
             [
              0.2222222222222222,
              "#7201a8"
             ],
             [
              0.3333333333333333,
              "#9c179e"
             ],
             [
              0.4444444444444444,
              "#bd3786"
             ],
             [
              0.5555555555555556,
              "#d8576b"
             ],
             [
              0.6666666666666666,
              "#ed7953"
             ],
             [
              0.7777777777777778,
              "#fb9f3a"
             ],
             [
              0.8888888888888888,
              "#fdca26"
             ],
             [
              1,
              "#f0f921"
             ]
            ],
            "type": "surface"
           }
          ],
          "table": [
           {
            "cells": {
             "fill": {
              "color": "#EBF0F8"
             },
             "line": {
              "color": "white"
             }
            },
            "header": {
             "fill": {
              "color": "#C8D4E3"
             },
             "line": {
              "color": "white"
             }
            },
            "type": "table"
           }
          ]
         },
         "layout": {
          "annotationdefaults": {
           "arrowcolor": "#2a3f5f",
           "arrowhead": 0,
           "arrowwidth": 1
          },
          "autotypenumbers": "strict",
          "coloraxis": {
           "colorbar": {
            "outlinewidth": 0,
            "ticks": ""
           }
          },
          "colorscale": {
           "diverging": [
            [
             0,
             "#8e0152"
            ],
            [
             0.1,
             "#c51b7d"
            ],
            [
             0.2,
             "#de77ae"
            ],
            [
             0.3,
             "#f1b6da"
            ],
            [
             0.4,
             "#fde0ef"
            ],
            [
             0.5,
             "#f7f7f7"
            ],
            [
             0.6,
             "#e6f5d0"
            ],
            [
             0.7,
             "#b8e186"
            ],
            [
             0.8,
             "#7fbc41"
            ],
            [
             0.9,
             "#4d9221"
            ],
            [
             1,
             "#276419"
            ]
           ],
           "sequential": [
            [
             0,
             "#0d0887"
            ],
            [
             0.1111111111111111,
             "#46039f"
            ],
            [
             0.2222222222222222,
             "#7201a8"
            ],
            [
             0.3333333333333333,
             "#9c179e"
            ],
            [
             0.4444444444444444,
             "#bd3786"
            ],
            [
             0.5555555555555556,
             "#d8576b"
            ],
            [
             0.6666666666666666,
             "#ed7953"
            ],
            [
             0.7777777777777778,
             "#fb9f3a"
            ],
            [
             0.8888888888888888,
             "#fdca26"
            ],
            [
             1,
             "#f0f921"
            ]
           ],
           "sequentialminus": [
            [
             0,
             "#0d0887"
            ],
            [
             0.1111111111111111,
             "#46039f"
            ],
            [
             0.2222222222222222,
             "#7201a8"
            ],
            [
             0.3333333333333333,
             "#9c179e"
            ],
            [
             0.4444444444444444,
             "#bd3786"
            ],
            [
             0.5555555555555556,
             "#d8576b"
            ],
            [
             0.6666666666666666,
             "#ed7953"
            ],
            [
             0.7777777777777778,
             "#fb9f3a"
            ],
            [
             0.8888888888888888,
             "#fdca26"
            ],
            [
             1,
             "#f0f921"
            ]
           ]
          },
          "colorway": [
           "#636efa",
           "#EF553B",
           "#00cc96",
           "#ab63fa",
           "#FFA15A",
           "#19d3f3",
           "#FF6692",
           "#B6E880",
           "#FF97FF",
           "#FECB52"
          ],
          "font": {
           "color": "#2a3f5f"
          },
          "geo": {
           "bgcolor": "white",
           "lakecolor": "white",
           "landcolor": "#E5ECF6",
           "showlakes": true,
           "showland": true,
           "subunitcolor": "white"
          },
          "hoverlabel": {
           "align": "left"
          },
          "hovermode": "closest",
          "mapbox": {
           "style": "light"
          },
          "paper_bgcolor": "white",
          "plot_bgcolor": "#E5ECF6",
          "polar": {
           "angularaxis": {
            "gridcolor": "white",
            "linecolor": "white",
            "ticks": ""
           },
           "bgcolor": "#E5ECF6",
           "radialaxis": {
            "gridcolor": "white",
            "linecolor": "white",
            "ticks": ""
           }
          },
          "scene": {
           "xaxis": {
            "backgroundcolor": "#E5ECF6",
            "gridcolor": "white",
            "gridwidth": 2,
            "linecolor": "white",
            "showbackground": true,
            "ticks": "",
            "zerolinecolor": "white"
           },
           "yaxis": {
            "backgroundcolor": "#E5ECF6",
            "gridcolor": "white",
            "gridwidth": 2,
            "linecolor": "white",
            "showbackground": true,
            "ticks": "",
            "zerolinecolor": "white"
           },
           "zaxis": {
            "backgroundcolor": "#E5ECF6",
            "gridcolor": "white",
            "gridwidth": 2,
            "linecolor": "white",
            "showbackground": true,
            "ticks": "",
            "zerolinecolor": "white"
           }
          },
          "shapedefaults": {
           "line": {
            "color": "#2a3f5f"
           }
          },
          "ternary": {
           "aaxis": {
            "gridcolor": "white",
            "linecolor": "white",
            "ticks": ""
           },
           "baxis": {
            "gridcolor": "white",
            "linecolor": "white",
            "ticks": ""
           },
           "bgcolor": "#E5ECF6",
           "caxis": {
            "gridcolor": "white",
            "linecolor": "white",
            "ticks": ""
           }
          },
          "title": {
           "x": 0.05
          },
          "xaxis": {
           "automargin": true,
           "gridcolor": "white",
           "linecolor": "white",
           "ticks": "",
           "title": {
            "standoff": 15
           },
           "zerolinecolor": "white",
           "zerolinewidth": 2
          },
          "yaxis": {
           "automargin": true,
           "gridcolor": "white",
           "linecolor": "white",
           "ticks": "",
           "title": {
            "standoff": 15
           },
           "zerolinecolor": "white",
           "zerolinewidth": 2
          }
         }
        },
        "xaxis": {
         "anchor": "y",
         "domain": [
          0,
          1
         ],
         "matches": "x4",
         "showticklabels": false,
         "type": "date"
        },
        "xaxis2": {
         "anchor": "y2",
         "domain": [
          0,
          1
         ],
         "matches": "x4",
         "showticklabels": false,
         "type": "date"
        },
        "xaxis3": {
         "anchor": "y3",
         "domain": [
          0,
          1
         ],
         "matches": "x4",
         "showticklabels": false,
         "type": "date"
        },
        "xaxis4": {
         "anchor": "y4",
         "domain": [
          0,
          1
         ],
         "dtick": "M12",
         "range": [
          "2017-07-01",
          "2024-06-30"
         ],
         "title": {
          "text": "Fiscal Months"
         },
         "type": "date"
        },
        "yaxis": {
         "anchor": "x",
         "autorange": true,
         "domain": [
          0.7875,
          1
         ],
         "range": [
          -5466476.474444444,
          124357347.01444444
         ],
         "type": "linear"
        },
        "yaxis2": {
         "anchor": "x2",
         "autorange": true,
         "domain": [
          0.525,
          0.7375
         ],
         "range": [
          9725883.32017878,
          55593978.97156715
         ],
         "type": "linear"
        },
        "yaxis3": {
         "anchor": "x3",
         "autorange": true,
         "domain": [
          0.2625,
          0.475
         ],
         "range": [
          -37696290.38290814,
          50308967.22861904
         ],
         "type": "linear"
        },
        "yaxis4": {
         "anchor": "x4",
         "autorange": true,
         "domain": [
          0,
          0.2125
         ],
         "range": [
          -31998353.241179414,
          40001253.26258723
         ],
         "type": "linear"
        }
       }
      },
      "image/png": "[encoded data removed]",
      "text/html": [
       "<div>                            <div id=\"4e4d4946-d7ec-474d-8ab4-28a776e3e7d9\" class=\"plotly-graph-div\" style=\"height:1200px; width:100%;\"></div>            <script type=\"text/javascript\">                require([\"plotly\"], function(Plotly) {                    window.PLOTLYENV=window.PLOTLYENV || {};                                    if (document.getElementById(\"4e4d4946-d7ec-474d-8ab4-28a776e3e7d9\")) {                    Plotly.newPlot(                        \"4e4d4946-d7ec-474d-8ab4-28a776e3e7d9\",                        [{\"x\":[\"2017-10\",\"2017-11\",\"2017-12\",\"2018-01\",\"2018-02\",\"2018-03\",\"2018-04\",\"2018-05\",\"2018-06\",\"2018-07\",\"2018-08\",\"2018-10\",\"2018-11\",\"2018-12\",\"2019-01\",\"2019-02\",\"2019-03\",\"2019-04\",\"2019-05\",\"2019-06\",\"2019-07\",\"2019-08\",\"2019-09\",\"2019-10\",\"2019-11\",\"2019-12\",\"2020-01\",\"2020-02\",\"2020-03\",\"2020-04\",\"2020-05\",\"2020-06\",\"2020-07\",\"2020-08\",\"2020-09\",\"2020-10\",\"2020-11\",\"2020-12\",\"2021-01\",\"2021-02\",\"2021-03\",\"2021-04\",\"2021-05\",\"2021-06\",\"2021-07\",\"2021-08\",\"2021-09\",\"2021-10\",\"2021-11\",\"2021-12\",\"2022-01\",\"2022-02\",\"2022-03\",\"2022-04\",\"2022-05\",\"2022-06\",\"2022-07\",\"2022-08\",\"2022-09\",\"2022-10\",\"2022-11\",\"2022-12\",\"2023-01\",\"2023-02\",\"2023-03\",\"2023-04\",\"2023-05\",\"2023-06\",\"2023-07\",\"2023-08\",\"2023-09\",\"2023-10\",\"2023-11\",\"2023-12\",\"2024-01\",\"2024-02\",\"2024-03\",\"2024-04\"],\"y\":[9768948.67,26614725.44,19296155.52,25276674.18,15833965.65,27856201.7,21750398.56,23744901.41,22208970.31,16102515.74,12373474.22,16013449.51,34272633.93,25933935.76,26122529.39,12085613.422,24515027.54,28121848.080000002,24825642.830000002,27163196.222,30138207.67,21102731.4,33015124.25,9029504.709999999,39134544.55,37987437.34,15061074.48,6027584.072,39287657.56,19493888.14,25596779.63,25147218.61,21100802.03,24241828.042,37204804.61,8154976.53,49217169.17,40250013.61,21407191.76,20551318.87,27303537.95,23915542.668,31138887.69,29353411.89,36708198.02,38900851.39,28255254.69,26894529.614,58181749.589999996,42097750.935,36591953.4,33797932.212,67695982.846,51048534.144,89589451.3,32797522.174,33519462.81,27139518.28,1024714.7,79075502.03,117866155.84,105074026.08,42028549.410000004,60298506.028000005,28464965.272000007,20734772.580000002,20679185.628,18865907.64,11254203.77,10472541.249999998,12580758.559999999,35596797.330000006,37384425.32,62292774.59999999,34455823.68,15282597.139999999,25882951.53,10013579.840000002],\"type\":\"scatter\",\"xaxis\":\"x\",\"yaxis\":\"y\"},{\"x\":[\"2017-10\",\"2017-11\",\"2017-12\",\"2018-01\",\"2018-02\",\"2018-03\",\"2018-04\",\"2018-05\",\"2018-06\",\"2018-07\",\"2018-08\",\"2018-10\",\"2018-11\",\"2018-12\",\"2019-01\",\"2019-02\",\"2019-03\",\"2019-04\",\"2019-05\",\"2019-06\",\"2019-07\",\"2019-08\",\"2019-09\",\"2019-10\",\"2019-11\",\"2019-12\",\"2020-01\",\"2020-02\",\"2020-03\",\"2020-04\",\"2020-05\",\"2020-06\",\"2020-07\",\"2020-08\",\"2020-09\",\"2020-10\",\"2020-11\",\"2020-12\",\"2021-01\",\"2021-02\",\"2021-03\",\"2021-04\",\"2021-05\",\"2021-06\",\"2021-07\",\"2021-08\",\"2021-09\",\"2021-10\",\"2021-11\",\"2021-12\",\"2022-01\",\"2022-02\",\"2022-03\",\"2022-04\",\"2022-05\",\"2022-06\",\"2022-07\",\"2022-08\",\"2022-09\",\"2022-10\",\"2022-11\",\"2022-12\",\"2023-01\",\"2023-02\",\"2023-03\",\"2023-04\",\"2023-05\",\"2023-06\",\"2023-07\",\"2023-08\",\"2023-09\",\"2023-10\",\"2023-11\",\"2023-12\",\"2024-01\",\"2024-02\",\"2024-03\",\"2024-04\"],\"y\":[18677630.946799662,18980753.794259597,19284893.165548827,19594276.773860496,19912714.09510007,20240374.548026845,20576273.1789536,20916945.649689615,21253964.00422478,21571862.845586054,21840444.566171426,22019101.996973816,22332511.43971324,22747325.697263326,23231806.906704225,23730039.665326983,24210187.433649153,24605365.485639986,24852882.100876115,24982493.50704963,25025014.494369954,25021842.65202801,25035346.70770073,25053148.623411804,25065301.98897584,25118243.123776138,25179522.915314797,25236456.36671527,25297911.27568098,25390764.014916133,25536823.41488176,25723722.274528198,25939965.15392317,26176438.620569214,26465886.154409368,26897352.592839394,27518972.91567534,28306875.471932974,29186342.06977114,30047931.31256804,30735354.394454073,31247795.20056209,31703970.42561664,32313858.53761782,33296591.222699538,34792215.47234371,36677621.966084145,38750673.29142085,40737239.45450703,42387183.276762106,43729770.872710794,45004379.900434904,46426192.325237535,48047083.93729161,49839979.76898065,51557955.26382526,52825268.84108178,53300574.18899773,52867270.54331541,51636175.19712207,49907921.36577146,48051617.4729287,46201318.757055424,44307762.54983294,42263892.438985266,39956231.76470624,37245056.33548357,34491861.284036286,31997474.56651944,29605955.883312676,27280112.500398215,25003196.817120843,22758798.177531015,20540349.778281815,18352236.06969517,16200588.246083084,14088387.051882956,12019288.102748198],\"type\":\"scatter\",\"xaxis\":\"x2\",\"yaxis\":\"y2\"},{\"x\":[\"2017-10\",\"2017-11\",\"2017-12\",\"2018-01\",\"2018-02\",\"2018-03\",\"2018-04\",\"2018-05\",\"2018-06\",\"2018-07\",\"2018-08\",\"2018-10\",\"2018-11\",\"2018-12\",\"2019-01\",\"2019-02\",\"2019-03\",\"2019-04\",\"2019-05\",\"2019-06\",\"2019-07\",\"2019-08\",\"2019-09\",\"2019-10\",\"2019-11\",\"2019-12\",\"2020-01\",\"2020-02\",\"2020-03\",\"2020-04\",\"2020-05\",\"2020-06\",\"2020-07\",\"2020-08\",\"2020-09\",\"2020-10\",\"2020-11\",\"2020-12\",\"2021-01\",\"2021-02\",\"2021-03\",\"2021-04\",\"2021-05\",\"2021-06\",\"2021-07\",\"2021-08\",\"2021-09\",\"2021-10\",\"2021-11\",\"2021-12\",\"2022-01\",\"2022-02\",\"2022-03\",\"2022-04\",\"2022-05\",\"2022-06\",\"2022-07\",\"2022-08\",\"2022-09\",\"2022-10\",\"2022-11\",\"2022-12\",\"2023-01\",\"2023-02\",\"2023-03\",\"2023-04\",\"2023-05\",\"2023-06\",\"2023-07\",\"2023-08\",\"2023-09\",\"2023-10\",\"2023-11\",\"2023-12\",\"2024-01\",\"2024-02\",\"2024-03\",\"2024-04\"],\"y\":[-3608186.0478779785,5670440.028172583,998052.9415837239,-2882544.1752685257,-1526807.043352967,6180579.995146308,-1299217.2169046402,4356394.246835153,3233530.541101199,-4186395.260978186,1361178.4736142813,-12116557.891849421,4831477.455553333,7362386.807198555,-1873337.9138110308,-6364586.564436641,1450877.5709456068,2392758.681284242,662020.5481947043,1331451.1008788215,1137392.6829715266,-3592598.7654086514,29827.908498526966,-12161007.755482651,13460359.711655796,9278459.867591955,-4409341.878835343,-9045157.989113282,4029893.5704890573,-1162948.4855089881,3769199.328510537,-2159681.5975651415,-1239345.6670837838,-3860495.805500794,-3335429.2639434775,-10536087.869458368,22167660.74132877,12546743.746419307,-6928325.2779809125,-10258222.357493889,6496746.468199038,-4674759.632011948,8077588.166185132,-7507526.191251113,-7170893.268719902,-8760027.67544982,-14085041.811840994,-2193975.481535651,28333694.928448908,23983720.564579718,-3151786.27377235,-4429485.779706974,4300927.255945676,-6793531.034028753,5327706.5926606385,-13211098.717462683,-14401406.19273923,-15603296.086958323,-23444182.92732433,7986105.059508467,31556961.536829654,34297975.34586786,1992872.22261398,510031.69731061475,3843364.6406742325,-7601390.161912857,2964154.036790777,-19230727.150303505,-22283429.345610425,-23523389.120281506,-33296027.502331782,19056144.55157347,35105069.54850591,45908704.34804268,7660396.25342433,5808000.80565318,3035644.585151408,-8584571.489732435],\"type\":\"scatter\",\"xaxis\":\"x3\",\"yaxis\":\"y3\"},{\"x\":[\"2017-10\",\"2017-11\",\"2017-12\",\"2018-01\",\"2018-02\",\"2018-03\",\"2018-04\",\"2018-05\",\"2018-06\",\"2018-07\",\"2018-08\",\"2018-10\",\"2018-11\",\"2018-12\",\"2019-01\",\"2019-02\",\"2019-03\",\"2019-04\",\"2019-05\",\"2019-06\",\"2019-07\",\"2019-08\",\"2019-09\",\"2019-10\",\"2019-11\",\"2019-12\",\"2020-01\",\"2020-02\",\"2020-03\",\"2020-04\",\"2020-05\",\"2020-06\",\"2020-07\",\"2020-08\",\"2020-09\",\"2020-10\",\"2020-11\",\"2020-12\",\"2021-01\",\"2021-02\",\"2021-03\",\"2021-04\",\"2021-05\",\"2021-06\",\"2021-07\",\"2021-08\",\"2021-09\",\"2021-10\",\"2021-11\",\"2021-12\",\"2022-01\",\"2022-02\",\"2022-03\",\"2022-04\",\"2022-05\",\"2022-06\",\"2022-07\",\"2022-08\",\"2022-09\",\"2022-10\",\"2022-11\",\"2022-12\",\"2023-01\",\"2023-02\",\"2023-03\",\"2023-04\",\"2023-05\",\"2023-06\",\"2023-07\",\"2023-08\",\"2023-09\",\"2023-10\",\"2023-11\",\"2023-12\",\"2024-01\",\"2024-02\",\"2024-03\",\"2024-04\"],\"y\":[-5300496.2289216835,1963531.6175678223,-986790.5871325508,8564941.581408031,-2551941.401747104,1435247.1568268463,2473342.5979510397,-1528438.4865247682,-2278524.235325981,-1282951.8446078673,-10828148.819785707,6110905.404875603,7108645.034733426,-4175776.744461879,4764060.397106808,-5279839.67889034,-1146037.464594759,1123723.913075775,-689259.819070816,849251.614071548,3975800.492658522,-326512.48661936074,7949949.633800745,-3862636.1579291523,608882.8493683599,3590734.348631911,-5709106.556479454,-10163714.305601988,9959852.713829964,-4733927.389407143,-3709243.113392297,1583177.933036942,-3599817.4568393826,1925885.2269315794,14074347.71953411,-8206288.193381026,-469464.487004105,-603605.6083522812,-850825.0317902267,761609.9149258509,-9928562.91265311,-2657492.900550142,-8642670.901801772,4547079.543633293,10582500.06602037,12868663.593106106,5662674.535756849,-9662168.195885196,-10889184.792955942,-24273152.90634182,-3986031.1989384443,-6776961.908727936,16968863.26481679,9794981.240737148,34421764.93835871,-5549334.372362576,-4904399.838342555,-10557759.82203941,-28398372.915991083,19453221.77336946,36401272.937398896,22724433.261203438,-6165641.569669403,15480711.780856453,-17642291.807659492,-11620069.022793382,-19530024.74427435,3604773.50626722,1540158.5490909852,4389974.4869688265,18596673.561933566,-8462544.038694307,-20479442.406036925,-4156279.5263245106,8443191.356880497,-6725991.911736265,8758919.892965637,6578863.226984238],\"type\":\"scatter\",\"xaxis\":\"x4\",\"yaxis\":\"y4\"}],                        {\"template\":{\"data\":{\"histogram2dcontour\":[{\"type\":\"histogram2dcontour\",\"colorbar\":{\"outlinewidth\":0,\"ticks\":\"\"},\"colorscale\":[[0.0,\"#0d0887\"],[0.1111111111111111,\"#46039f\"],[0.2222222222222222,\"#7201a8\"],[0.3333333333333333,\"#9c179e\"],[0.4444444444444444,\"#bd3786\"],[0.5555555555555556,\"#d8576b\"],[0.6666666666666666,\"#ed7953\"],[0.7777777777777778,\"#fb9f3a\"],[0.8888888888888888,\"#fdca26\"],[1.0,\"#f0f921\"]]}],\"choropleth\":[{\"type\":\"choropleth\",\"colorbar\":{\"outlinewidth\":0,\"ticks\":\"\"}}],\"histogram2d\":[{\"type\":\"histogram2d\",\"colorbar\":{\"outlinewidth\":0,\"ticks\":\"\"},\"colorscale\":[[0.0,\"#0d0887\"],[0.1111111111111111,\"#46039f\"],[0.2222222222222222,\"#7201a8\"],[0.3333333333333333,\"#9c179e\"],[0.4444444444444444,\"#bd3786\"],[0.5555555555555556,\"#d8576b\"],[0.6666666666666666,\"#ed7953\"],[0.7777777777777778,\"#fb9f3a\"],[0.8888888888888888,\"#fdca26\"],[1.0,\"#f0f921\"]]}],\"heatmap\":[{\"type\":\"heatmap\",\"colorbar\":{\"outlinewidth\":0,\"ticks\":\"\"},\"colorscale\":[[0.0,\"#0d0887\"],[0.1111111111111111,\"#46039f\"],[0.2222222222222222,\"#7201a8\"],[0.3333333333333333,\"#9c179e\"],[0.4444444444444444,\"#bd3786\"],[0.5555555555555556,\"#d8576b\"],[0.6666666666666666,\"#ed7953\"],[0.7777777777777778,\"#fb9f3a\"],[0.8888888888888888,\"#fdca26\"],[1.0,\"#f0f921\"]]}],\"heatmapgl\":[{\"type\":\"heatmapgl\",\"colorbar\":{\"outlinewidth\":0,\"ticks\":\"\"},\"colorscale\":[[0.0,\"#0d0887\"],[0.1111111111111111,\"#46039f\"],[0.2222222222222222,\"#7201a8\"],[0.3333333333333333,\"#9c179e\"],[0.4444444444444444,\"#bd3786\"],[0.5555555555555556,\"#d8576b\"],[0.6666666666666666,\"#ed7953\"],[0.7777777777777778,\"#fb9f3a\"],[0.8888888888888888,\"#fdca26\"],[1.0,\"#f0f921\"]]}],\"contourcarpet\":[{\"type\":\"contourcarpet\",\"colorbar\":{\"outlinewidth\":0,\"ticks\":\"\"}}],\"contour\":[{\"type\":\"contour\",\"colorbar\":{\"outlinewidth\":0,\"ticks\":\"\"},\"colorscale\":[[0.0,\"#0d0887\"],[0.1111111111111111,\"#46039f\"],[0.2222222222222222,\"#7201a8\"],[0.3333333333333333,\"#9c179e\"],[0.4444444444444444,\"#bd3786\"],[0.5555555555555556,\"#d8576b\"],[0.6666666666666666,\"#ed7953\"],[0.7777777777777778,\"#fb9f3a\"],[0.8888888888888888,\"#fdca26\"],[1.0,\"#f0f921\"]]}],\"surface\":[{\"type\":\"surface\",\"colorbar\":{\"outlinewidth\":0,\"ticks\":\"\"},\"colorscale\":[[0.0,\"#0d0887\"],[0.1111111111111111,\"#46039f\"],[0.2222222222222222,\"#7201a8\"],[0.3333333333333333,\"#9c179e\"],[0.4444444444444444,\"#bd3786\"],[0.5555555555555556,\"#d8576b\"],[0.6666666666666666,\"#ed7953\"],[0.7777777777777778,\"#fb9f3a\"],[0.8888888888888888,\"#fdca26\"],[1.0,\"#f0f921\"]]}],\"mesh3d\":[{\"type\":\"mesh3d\",\"colorbar\":{\"outlinewidth\":0,\"ticks\":\"\"}}],\"scatter\":[{\"fillpattern\":{\"fillmode\":\"overlay\",\"size\":10,\"solidity\":0.2},\"type\":\"scatter\"}],\"parcoords\":[{\"type\":\"parcoords\",\"line\":{\"colorbar\":{\"outlinewidth\":0,\"ticks\":\"\"}}}],\"scatterpolargl\":[{\"type\":\"scatterpolargl\",\"marker\":{\"colorbar\":{\"outlinewidth\":0,\"ticks\":\"\"}}}],\"bar\":[{\"error_x\":{\"color\":\"#2a3f5f\"},\"error_y\":{\"color\":\"#2a3f5f\"},\"marker\":{\"line\":{\"color\":\"#E5ECF6\",\"width\":0.5},\"pattern\":{\"fillmode\":\"overlay\",\"size\":10,\"solidity\":0.2}},\"type\":\"bar\"}],\"scattergeo\":[{\"type\":\"scattergeo\",\"marker\":{\"colorbar\":{\"outlinewidth\":0,\"ticks\":\"\"}}}],\"scatterpolar\":[{\"type\":\"scatterpolar\",\"marker\":{\"colorbar\":{\"outlinewidth\":0,\"ticks\":\"\"}}}],\"histogram\":[{\"marker\":{\"pattern\":{\"fillmode\":\"overlay\",\"size\":10,\"solidity\":0.2}},\"type\":\"histogram\"}],\"scattergl\":[{\"type\":\"scattergl\",\"marker\":{\"colorbar\":{\"outlinewidth\":0,\"ticks\":\"\"}}}],\"scatter3d\":[{\"type\":\"scatter3d\",\"line\":{\"colorbar\":{\"outlinewidth\":0,\"ticks\":\"\"}},\"marker\":{\"colorbar\":{\"outlinewidth\":0,\"ticks\":\"\"}}}],\"scattermapbox\":[{\"type\":\"scattermapbox\",\"marker\":{\"colorbar\":{\"outlinewidth\":0,\"ticks\":\"\"}}}],\"scatterternary\":[{\"type\":\"scatterternary\",\"marker\":{\"colorbar\":{\"outlinewidth\":0,\"ticks\":\"\"}}}],\"scattercarpet\":[{\"type\":\"scattercarpet\",\"marker\":{\"colorbar\":{\"outlinewidth\":0,\"ticks\":\"\"}}}],\"carpet\":[{\"aaxis\":{\"endlinecolor\":\"#2a3f5f\",\"gridcolor\":\"white\",\"linecolor\":\"white\",\"minorgridcolor\":\"white\",\"startlinecolor\":\"#2a3f5f\"},\"baxis\":{\"endlinecolor\":\"#2a3f5f\",\"gridcolor\":\"white\",\"linecolor\":\"white\",\"minorgridcolor\":\"white\",\"startlinecolor\":\"#2a3f5f\"},\"type\":\"carpet\"}],\"table\":[{\"cells\":{\"fill\":{\"color\":\"#EBF0F8\"},\"line\":{\"color\":\"white\"}},\"header\":{\"fill\":{\"color\":\"#C8D4E3\"},\"line\":{\"color\":\"white\"}},\"type\":\"table\"}],\"barpolar\":[{\"marker\":{\"line\":{\"color\":\"#E5ECF6\",\"width\":0.5},\"pattern\":{\"fillmode\":\"overlay\",\"size\":10,\"solidity\":0.2}},\"type\":\"barpolar\"}],\"pie\":[{\"automargin\":true,\"type\":\"pie\"}]},\"layout\":{\"autotypenumbers\":\"strict\",\"colorway\":[\"#636efa\",\"#EF553B\",\"#00cc96\",\"#ab63fa\",\"#FFA15A\",\"#19d3f3\",\"#FF6692\",\"#B6E880\",\"#FF97FF\",\"#FECB52\"],\"font\":{\"color\":\"#2a3f5f\"},\"hovermode\":\"closest\",\"hoverlabel\":{\"align\":\"left\"},\"paper_bgcolor\":\"white\",\"plot_bgcolor\":\"#E5ECF6\",\"polar\":{\"bgcolor\":\"#E5ECF6\",\"angularaxis\":{\"gridcolor\":\"white\",\"linecolor\":\"white\",\"ticks\":\"\"},\"radialaxis\":{\"gridcolor\":\"white\",\"linecolor\":\"white\",\"ticks\":\"\"}},\"ternary\":{\"bgcolor\":\"#E5ECF6\",\"aaxis\":{\"gridcolor\":\"white\",\"linecolor\":\"white\",\"ticks\":\"\"},\"baxis\":{\"gridcolor\":\"white\",\"linecolor\":\"white\",\"ticks\":\"\"},\"caxis\":{\"gridcolor\":\"white\",\"linecolor\":\"white\",\"ticks\":\"\"}},\"coloraxis\":{\"colorbar\":{\"outlinewidth\":0,\"ticks\":\"\"}},\"colorscale\":{\"sequential\":[[0.0,\"#0d0887\"],[0.1111111111111111,\"#46039f\"],[0.2222222222222222,\"#7201a8\"],[0.3333333333333333,\"#9c179e\"],[0.4444444444444444,\"#bd3786\"],[0.5555555555555556,\"#d8576b\"],[0.6666666666666666,\"#ed7953\"],[0.7777777777777778,\"#fb9f3a\"],[0.8888888888888888,\"#fdca26\"],[1.0,\"#f0f921\"]],\"sequentialminus\":[[0.0,\"#0d0887\"],[0.1111111111111111,\"#46039f\"],[0.2222222222222222,\"#7201a8\"],[0.3333333333333333,\"#9c179e\"],[0.4444444444444444,\"#bd3786\"],[0.5555555555555556,\"#d8576b\"],[0.6666666666666666,\"#ed7953\"],[0.7777777777777778,\"#fb9f3a\"],[0.8888888888888888,\"#fdca26\"],[1.0,\"#f0f921\"]],\"diverging\":[[0,\"#8e0152\"],[0.1,\"#c51b7d\"],[0.2,\"#de77ae\"],[0.3,\"#f1b6da\"],[0.4,\"#fde0ef\"],[0.5,\"#f7f7f7\"],[0.6,\"#e6f5d0\"],[0.7,\"#b8e186\"],[0.8,\"#7fbc41\"],[0.9,\"#4d9221\"],[1,\"#276419\"]]},\"xaxis\":{\"gridcolor\":\"white\",\"linecolor\":\"white\",\"ticks\":\"\",\"title\":{\"standoff\":15},\"zerolinecolor\":\"white\",\"automargin\":true,\"zerolinewidth\":2},\"yaxis\":{\"gridcolor\":\"white\",\"linecolor\":\"white\",\"ticks\":\"\",\"title\":{\"standoff\":15},\"zerolinecolor\":\"white\",\"automargin\":true,\"zerolinewidth\":2},\"scene\":{\"xaxis\":{\"backgroundcolor\":\"#E5ECF6\",\"gridcolor\":\"white\",\"linecolor\":\"white\",\"showbackground\":true,\"ticks\":\"\",\"zerolinecolor\":\"white\",\"gridwidth\":2},\"yaxis\":{\"backgroundcolor\":\"#E5ECF6\",\"gridcolor\":\"white\",\"linecolor\":\"white\",\"showbackground\":true,\"ticks\":\"\",\"zerolinecolor\":\"white\",\"gridwidth\":2},\"zaxis\":{\"backgroundcolor\":\"#E5ECF6\",\"gridcolor\":\"white\",\"linecolor\":\"white\",\"showbackground\":true,\"ticks\":\"\",\"zerolinecolor\":\"white\",\"gridwidth\":2}},\"shapedefaults\":{\"line\":{\"color\":\"#2a3f5f\"}},\"annotationdefaults\":{\"arrowcolor\":\"#2a3f5f\",\"arrowhead\":0,\"arrowwidth\":1},\"geo\":{\"bgcolor\":\"white\",\"landcolor\":\"#E5ECF6\",\"subunitcolor\":\"white\",\"showland\":true,\"showlakes\":true,\"lakecolor\":\"white\"},\"title\":{\"x\":0.05},\"mapbox\":{\"style\":\"light\"}}},\"xaxis\":{\"anchor\":\"y\",\"domain\":[0.0,1.0],\"matches\":\"x4\",\"showticklabels\":false},\"yaxis\":{\"anchor\":\"x\",\"domain\":[0.7875,1.0]},\"xaxis2\":{\"anchor\":\"y2\",\"domain\":[0.0,1.0],\"matches\":\"x4\",\"showticklabels\":false},\"yaxis2\":{\"anchor\":\"x2\",\"domain\":[0.525,0.7375]},\"xaxis3\":{\"anchor\":\"y3\",\"domain\":[0.0,1.0],\"matches\":\"x4\",\"showticklabels\":false},\"yaxis3\":{\"anchor\":\"x3\",\"domain\":[0.2625,0.475]},\"xaxis4\":{\"anchor\":\"y4\",\"domain\":[0.0,1.0],\"title\":{\"text\":\"Fiscal Months\"},\"dtick\":\"M12\",\"range\":[\"2017-07-01\",\"2024-06-30\"]},\"yaxis4\":{\"anchor\":\"x4\",\"domain\":[0.0,0.2125]},\"annotations\":[{\"font\":{\"size\":16},\"showarrow\":false,\"text\":\"observed\",\"x\":0.5,\"xanchor\":\"center\",\"xref\":\"paper\",\"y\":1.0,\"yanchor\":\"bottom\",\"yref\":\"paper\"},{\"font\":{\"size\":16},\"showarrow\":false,\"text\":\"trend\",\"x\":0.5,\"xanchor\":\"center\",\"xref\":\"paper\",\"y\":0.7375,\"yanchor\":\"bottom\",\"yref\":\"paper\"},{\"font\":{\"size\":16},\"showarrow\":false,\"text\":\"seasonal\",\"x\":0.5,\"xanchor\":\"center\",\"xref\":\"paper\",\"y\":0.475,\"yanchor\":\"bottom\",\"yref\":\"paper\"},{\"font\":{\"size\":16},\"showarrow\":false,\"text\":\"resid\",\"x\":0.5,\"xanchor\":\"center\",\"xref\":\"paper\",\"y\":0.2125,\"yanchor\":\"bottom\",\"yref\":\"paper\"}],\"margin\":{\"t\":20,\"b\":0,\"l\":0,\"r\":0},\"height\":1200,\"showlegend\":false},                        {\"responsive\": true}                    ).then(function(){\n",
       "                            \n",
       "var gd = document.getElementById('4e4d4946-d7ec-474d-8ab4-28a776e3e7d9');\n",
       "var x = new MutationObserver(function (mutations, observer) {{\n",
       "        var display = window.getComputedStyle(gd).display;\n",
       "        if (!display || display === 'none') {{\n",
       "            console.log([gd, 'removed!']);\n",
       "            Plotly.purge(gd);\n",
       "            observer.disconnect();\n",
       "        }}\n",
       "}});\n",
       "\n",
       "// Listen for the removal of the full notebook cells\n",
       "var notebookContainer = gd.closest('#notebook-container');\n",
       "if (notebookContainer) {{\n",
       "    x.observe(notebookContainer, {childList: true});\n",
       "}}\n",
       "\n",
       "// Listen for the clearing of the current output cell\n",
       "var outputEl = gd.closest('.output');\n",
       "if (outputEl) {{\n",
       "    x.observe(outputEl, {childList: true});\n",
       "}}\n",
       "\n",
       "                        })                };                });            </script>        </div>"
      ]
     },
     "metadata": {},
     "output_type": "display_data"
    }
   ],
   "source": [
    "from plotly.subplots import make_subplots\n",
    "import plotly.graph_objects as go\n",
    "from statsmodels.tsa.seasonal import seasonal_decompose, STL\n",
    "decomposition = STL(order, period=12).fit()\n",
    "\n",
    "fig = make_subplots(\n",
    "    rows=4, cols=1,\n",
    "    shared_xaxes=True,\n",
    "    vertical_spacing=0.05,\n",
    "    subplot_titles=['observed', 'trend', 'seasonal', 'resid']\n",
    ")\n",
    "\n",
    "x = order.index\n",
    "fig.add_trace(go.Scatter(x=x, y=decomposition.observed), row=1, col=1)\n",
    "fig.add_trace(go.Scatter(x=x, y=decomposition.trend), row=2, col=1)\n",
    "fig.add_trace(go.Scatter(x=x, y=decomposition.seasonal), row=3, col=1)\n",
    "fig.add_trace(go.Scatter(x=x, y=decomposition.resid), row=4, col=1)\n",
    "\n",
    "fig.update_layout(\n",
    "    height=1200, margin={'t':20, 'b':0, 'l':0, 'r':0},\n",
    "    xaxis4=dict(title=\"Fiscal Months\", dtick='M12', range=['2017-07-01','2024-06-30']),\n",
    "    showlegend=False\n",
    ")\n",
    "fig.show()"
   ]
  },
  {
   "cell_type": "code",
   "execution_count": 15,
   "id": "91f2b264-dd6d-4482-91ae-116bdb29b33a",
   "metadata": {},
   "outputs": [
    {
     "data": {
      "text/html": [
       "<div>\n",
       "<style scoped>\n",
       "    .dataframe tbody tr th:only-of-type {\n",
       "        vertical-align: middle;\n",
       "    }\n",
       "\n",
       "    .dataframe tbody tr th {\n",
       "        vertical-align: top;\n",
       "    }\n",
       "\n",
       "    .dataframe thead th {\n",
       "        text-align: right;\n",
       "    }\n",
       "</style>\n",
       "<table border=\"1\" class=\"dataframe\">\n",
       "  <thead>\n",
       "    <tr style=\"text-align: right;\">\n",
       "      <th></th>\n",
       "      <th>PostDate</th>\n",
       "      <th>month</th>\n",
       "      <th>FiscalYear</th>\n",
       "      <th>AssignType</th>\n",
       "      <th>channel</th>\n",
       "      <th>BuyerType</th>\n",
       "      <th>OrderNum</th>\n",
       "      <th>ProductLine</th>\n",
       "      <th>Territory</th>\n",
       "      <th>Sales</th>\n",
       "      <th>Buyer</th>\n",
       "      <th>AssignedCustomer</th>\n",
       "      <th>OR</th>\n",
       "      <th>TO</th>\n",
       "    </tr>\n",
       "  </thead>\n",
       "  <tbody>\n",
       "    <tr>\n",
       "      <th>0</th>\n",
       "      <td>2017-10-31</td>\n",
       "      <td>2017-10</td>\n",
       "      <td>FY18</td>\n",
       "      <td>Assign_TO</td>\n",
       "      <td>SLC</td>\n",
       "      <td>Dealer</td>\n",
       "      <td>3004120993</td>\n",
       "      <td>R115</td>\n",
       "      <td>RNE-LNN&amp;IME</td>\n",
       "      <td>200TM000</td>\n",
       "      <td>北京天拓四方科技有限公司</td>\n",
       "      <td>沈阳紫电科技有限公司</td>\n",
       "      <td>74629.79</td>\n",
       "      <td>74629.79</td>\n",
       "    </tr>\n",
       "    <tr>\n",
       "      <th>1</th>\n",
       "      <td>2017-10-31</td>\n",
       "      <td>2017-10</td>\n",
       "      <td>FY18</td>\n",
       "      <td>Assign_TO</td>\n",
       "      <td>SLC</td>\n",
       "      <td>Dealer</td>\n",
       "      <td>3004125453</td>\n",
       "      <td>R115</td>\n",
       "      <td>RNE-JL</td>\n",
       "      <td>22012004</td>\n",
       "      <td>哈尔滨宇龙自动化有限公司</td>\n",
       "      <td>长春北方化工罐装设备有限公司</td>\n",
       "      <td>23405.08</td>\n",
       "      <td>23405.08</td>\n",
       "    </tr>\n",
       "    <tr>\n",
       "      <th>2</th>\n",
       "      <td>2017-10-31</td>\n",
       "      <td>2017-10</td>\n",
       "      <td>FY18</td>\n",
       "      <td>Assign_TO</td>\n",
       "      <td>SLC</td>\n",
       "      <td>Dealer</td>\n",
       "      <td>3004131929</td>\n",
       "      <td>R111</td>\n",
       "      <td>RNE-HLJ</td>\n",
       "      <td>21009006</td>\n",
       "      <td>哈尔滨宇龙自动化有限公司</td>\n",
       "      <td>哈尔滨天源自动化控制技术有限责任公司</td>\n",
       "      <td>15310.63</td>\n",
       "      <td>15310.63</td>\n",
       "    </tr>\n",
       "    <tr>\n",
       "      <th>3</th>\n",
       "      <td>2017-10-31</td>\n",
       "      <td>2017-10</td>\n",
       "      <td>FY18</td>\n",
       "      <td>Assign_TO</td>\n",
       "      <td>SLC</td>\n",
       "      <td>Dealer</td>\n",
       "      <td>3004131929</td>\n",
       "      <td>R111</td>\n",
       "      <td>RNE-JL</td>\n",
       "      <td>22012004</td>\n",
       "      <td>哈尔滨宇龙自动化有限公司</td>\n",
       "      <td>长春北方化工罐装设备有限公司</td>\n",
       "      <td>2841.88</td>\n",
       "      <td>2841.88</td>\n",
       "    </tr>\n",
       "    <tr>\n",
       "      <th>4</th>\n",
       "      <td>2017-10-31</td>\n",
       "      <td>2017-10</td>\n",
       "      <td>FY18</td>\n",
       "      <td>Assign_TO</td>\n",
       "      <td>SLC</td>\n",
       "      <td>OEM</td>\n",
       "      <td>3004133247</td>\n",
       "      <td>R111</td>\n",
       "      <td>RNE-HLJ</td>\n",
       "      <td>22009005</td>\n",
       "      <td>哈尔滨宇龙自动化有限公司</td>\n",
       "      <td>哈尔滨研奥科技有限公司</td>\n",
       "      <td>4702.64</td>\n",
       "      <td>4702.64</td>\n",
       "    </tr>\n",
       "    <tr>\n",
       "      <th>...</th>\n",
       "      <td>...</td>\n",
       "      <td>...</td>\n",
       "      <td>...</td>\n",
       "      <td>...</td>\n",
       "      <td>...</td>\n",
       "      <td>...</td>\n",
       "      <td>...</td>\n",
       "      <td>...</td>\n",
       "      <td>...</td>\n",
       "      <td>...</td>\n",
       "      <td>...</td>\n",
       "      <td>...</td>\n",
       "      <td>...</td>\n",
       "      <td>...</td>\n",
       "    </tr>\n",
       "    <tr>\n",
       "      <th>111096</th>\n",
       "      <td>2024-04-08</td>\n",
       "      <td>2024-04</td>\n",
       "      <td>FY24</td>\n",
       "      <td>Direct</td>\n",
       "      <td>SLC</td>\n",
       "      <td>End-User</td>\n",
       "      <td>3008936966</td>\n",
       "      <td>R152</td>\n",
       "      <td>RNE-LNN&amp;IME</td>\n",
       "      <td>2V1A04K2</td>\n",
       "      <td>华晨宝马汽车有限公司</td>\n",
       "      <td>华晨宝马汽车有限公司</td>\n",
       "      <td>4791.61</td>\n",
       "      <td>0.00</td>\n",
       "    </tr>\n",
       "    <tr>\n",
       "      <th>111097</th>\n",
       "      <td>2024-04-08</td>\n",
       "      <td>2024-04</td>\n",
       "      <td>FY24</td>\n",
       "      <td>Direct</td>\n",
       "      <td>SLC</td>\n",
       "      <td>End-User</td>\n",
       "      <td>3008993790</td>\n",
       "      <td>R132</td>\n",
       "      <td>RNE-LNN&amp;IME</td>\n",
       "      <td>2V1A04K2</td>\n",
       "      <td>华晨宝马汽车有限公司</td>\n",
       "      <td>华晨宝马汽车有限公司</td>\n",
       "      <td>808.10</td>\n",
       "      <td>0.00</td>\n",
       "    </tr>\n",
       "    <tr>\n",
       "      <th>111098</th>\n",
       "      <td>2024-04-08</td>\n",
       "      <td>2024-04</td>\n",
       "      <td>FY24</td>\n",
       "      <td>Direct</td>\n",
       "      <td>SLC</td>\n",
       "      <td>Dealer</td>\n",
       "      <td>3009011257</td>\n",
       "      <td>R141</td>\n",
       "      <td>RNE-LNS</td>\n",
       "      <td>2PPDT900</td>\n",
       "      <td>大连四星电子技术开发有限公司</td>\n",
       "      <td>大连四星电子技术开发有限公司</td>\n",
       "      <td>10457.53</td>\n",
       "      <td>0.00</td>\n",
       "    </tr>\n",
       "    <tr>\n",
       "      <th>111099</th>\n",
       "      <td>2024-04-08</td>\n",
       "      <td>2024-04</td>\n",
       "      <td>FY24</td>\n",
       "      <td>Direct</td>\n",
       "      <td>SLC</td>\n",
       "      <td>Dealer</td>\n",
       "      <td>3009011257</td>\n",
       "      <td>R151</td>\n",
       "      <td>RNE-LNS</td>\n",
       "      <td>2PPDT900</td>\n",
       "      <td>大连四星电子技术开发有限公司</td>\n",
       "      <td>大连四星电子技术开发有限公司</td>\n",
       "      <td>27100.75</td>\n",
       "      <td>0.00</td>\n",
       "    </tr>\n",
       "    <tr>\n",
       "      <th>111100</th>\n",
       "      <td>2024-04-09</td>\n",
       "      <td>2024-04</td>\n",
       "      <td>FY24</td>\n",
       "      <td>Direct</td>\n",
       "      <td>SLC</td>\n",
       "      <td>Dealer</td>\n",
       "      <td>3008914702</td>\n",
       "      <td>R151</td>\n",
       "      <td>RNE-LNS</td>\n",
       "      <td>2PPDT900</td>\n",
       "      <td>大连四星电子技术开发有限公司</td>\n",
       "      <td>大连四星电子技术开发有限公司</td>\n",
       "      <td>4556.00</td>\n",
       "      <td>0.00</td>\n",
       "    </tr>\n",
       "  </tbody>\n",
       "</table>\n",
       "<p>111101 rows × 14 columns</p>\n",
       "</div>"
      ],
      "text/plain": [
       "         PostDate    month FiscalYear AssignType channel BuyerType  \\\n",
       "0      2017-10-31  2017-10       FY18  Assign_TO     SLC    Dealer   \n",
       "1      2017-10-31  2017-10       FY18  Assign_TO     SLC    Dealer   \n",
       "2      2017-10-31  2017-10       FY18  Assign_TO     SLC    Dealer   \n",
       "3      2017-10-31  2017-10       FY18  Assign_TO     SLC    Dealer   \n",
       "4      2017-10-31  2017-10       FY18  Assign_TO     SLC       OEM   \n",
       "...           ...      ...        ...        ...     ...       ...   \n",
       "111096 2024-04-08  2024-04       FY24     Direct     SLC  End-User   \n",
       "111097 2024-04-08  2024-04       FY24     Direct     SLC  End-User   \n",
       "111098 2024-04-08  2024-04       FY24     Direct     SLC    Dealer   \n",
       "111099 2024-04-08  2024-04       FY24     Direct     SLC    Dealer   \n",
       "111100 2024-04-09  2024-04       FY24     Direct     SLC    Dealer   \n",
       "\n",
       "          OrderNum ProductLine    Territory     Sales           Buyer  \\\n",
       "0       3004120993        R115  RNE-LNN&IME  200TM000    北京天拓四方科技有限公司   \n",
       "1       3004125453        R115       RNE-JL  22012004    哈尔滨宇龙自动化有限公司   \n",
       "2       3004131929        R111      RNE-HLJ  21009006    哈尔滨宇龙自动化有限公司   \n",
       "3       3004131929        R111       RNE-JL  22012004    哈尔滨宇龙自动化有限公司   \n",
       "4       3004133247        R111      RNE-HLJ  22009005    哈尔滨宇龙自动化有限公司   \n",
       "...            ...         ...          ...       ...             ...   \n",
       "111096  3008936966        R152  RNE-LNN&IME  2V1A04K2      华晨宝马汽车有限公司   \n",
       "111097  3008993790        R132  RNE-LNN&IME  2V1A04K2      华晨宝马汽车有限公司   \n",
       "111098  3009011257        R141      RNE-LNS  2PPDT900  大连四星电子技术开发有限公司   \n",
       "111099  3009011257        R151      RNE-LNS  2PPDT900  大连四星电子技术开发有限公司   \n",
       "111100  3008914702        R151      RNE-LNS  2PPDT900  大连四星电子技术开发有限公司   \n",
       "\n",
       "          AssignedCustomer        OR        TO  \n",
       "0               沈阳紫电科技有限公司  74629.79  74629.79  \n",
       "1           长春北方化工罐装设备有限公司  23405.08  23405.08  \n",
       "2       哈尔滨天源自动化控制技术有限责任公司  15310.63  15310.63  \n",
       "3           长春北方化工罐装设备有限公司   2841.88   2841.88  \n",
       "4              哈尔滨研奥科技有限公司   4702.64   4702.64  \n",
       "...                    ...       ...       ...  \n",
       "111096          华晨宝马汽车有限公司   4791.61      0.00  \n",
       "111097          华晨宝马汽车有限公司    808.10      0.00  \n",
       "111098      大连四星电子技术开发有限公司  10457.53      0.00  \n",
       "111099      大连四星电子技术开发有限公司  27100.75      0.00  \n",
       "111100      大连四星电子技术开发有限公司   4556.00      0.00  \n",
       "\n",
       "[111101 rows x 14 columns]"
      ]
     },
     "execution_count": 15,
     "metadata": {},
     "output_type": "execute_result"
    }
   ],
   "source": [
    "ts['BuyerType'] = 'Dealer'\n",
    "ts.loc[ts.AssignedCustomerType.astype(str).str.contains('End'), 'BuyerType'] = 'End-User'\n",
    "ts.loc[ts.AssignedCustomerType.astype(str).str.contains('OEM'), 'BuyerType'] = 'OEM'\n",
    "\n",
    "# Encodeding restricted Columns\n",
    "# lab_cols = ['AKZ', 'Territory', 'VBEZ', 'GBK', 'CustomerChineseName', 'AssignedCustomerName']\n",
    "# for col in lab_cols:\n",
    "#     ts[col] = label_encoder.fit_transform(ts[col])\n",
    "#     ts[col] = ts[col].apply(lambda x: col[:3].upper()+f\"{x:08}\")\n",
    "    \n",
    "ts.rename(columns={\n",
    "    'index':'FiscalYear',\n",
    "    'AKZ':'OrderNum',\n",
    "    'GBK':'ProductLine',\n",
    "    'VBEZ':'Sales',\n",
    "    'CustomerChineseName':'Buyer',\n",
    "    'AssignedCustomerName':'AssignedCustomer',\n",
    "    'CompanyName': 'channel'\n",
    "    }, inplace=True)\n",
    "\n",
    "cols = ['PostDate', 'month', 'FiscalYear', 'AssignType', 'channel', 'BuyerType', 'OrderNum', 'ProductLine', 'Territory', 'Sales', 'Buyer', 'AssignedCustomer', 'OR', 'TO']\n",
    "ts[cols]"
   ]
  },
  {
   "cell_type": "code",
   "execution_count": 16,
   "id": "0b603e02-9b7b-44aa-8025-7850f7f00907",
   "metadata": {},
   "outputs": [],
   "source": [
    "ts[cols].to_csv('data/orders.csv', index=False)"
   ]
  }
 ],
 "metadata": {
  "kernelspec": {
   "display_name": "Python 3 (ipykernel)",
   "language": "python",
   "name": "python3"
  },
  "language_info": {
   "codemirror_mode": {
    "name": "ipython",
    "version": 3
   },
   "file_extension": ".py",
   "mimetype": "text/x-python",
   "name": "python",
   "nbconvert_exporter": "python",
   "pygments_lexer": "ipython3",
   "version": "3.11.5"
  }
 },
 "nbformat": 4,
 "nbformat_minor": 5
}
