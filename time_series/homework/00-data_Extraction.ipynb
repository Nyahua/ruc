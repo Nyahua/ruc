{
 "cells": [
  {
   "cell_type": "markdown",
   "id": "332f5881-5c63-4ff6-bf71-93fe79b3acb9",
   "metadata": {},
   "source": [
    "# Data Extraction and cleaning\n",
    "\n",
    "- get data from restricted folder\n"
   ]
  },
  {
   "cell_type": "code",
   "execution_count": 109,
   "id": "a5ef5d5c-6786-4d5c-96e2-7ba443a1cbdb",
   "metadata": {},
   "outputs": [],
   "source": [
    "# pip install python-calamine\n",
    "import pandas as pd\n",
    "from pathlib import Path\n",
    "from sklearn import preprocessing \n",
    "label_encoder = preprocessing.LabelEncoder()\n",
    "\n"
   ]
  },
  {
   "cell_type": "code",
   "execution_count": 201,
   "id": "c71098d7-136d-406a-a123-431b895c3a50",
   "metadata": {},
   "outputs": [
    {
     "name": "stdout",
     "output_type": "stream",
     "text": [
      "FY18+++++++++++++++++++++\n",
      "rows in df: 35956\n",
      "rows in df (filtered \"FA Product\"): 12859\n",
      "grouped rows: 12813\n",
      "grouped rows without all Zero: 12705\n",
      "FY19+++++++++++++++++++++\n",
      "rows in df: 37570\n",
      "rows in df (filtered \"FA Product\"): 13977\n",
      "grouped rows: 13971\n",
      "grouped rows without all Zero: 13771\n",
      "FY20+++++++++++++++++++++\n",
      "rows in df: 53193\n",
      "rows in df (filtered \"FA Product\"): 24172\n",
      "grouped rows: 22120\n",
      "grouped rows without all Zero: 21962\n",
      "FY21+++++++++++++++++++++\n",
      "rows in df: 61237\n",
      "rows in df (filtered \"FA Product\"): 28302\n",
      "grouped rows: 25602\n",
      "grouped rows without all Zero: 25497\n",
      "FY22+++++++++++++++++++++\n",
      "rows in df: 94512\n",
      "rows in df (filtered \"FA Product\"): 51299\n",
      "grouped rows: 48256\n",
      "grouped rows without all Zero: 47123\n",
      "FY23+++++++++++++++++++++\n",
      "rows in df: 121717\n",
      "rows in df (filtered \"FA Product\"): 49609\n",
      "grouped rows: 46591\n",
      "grouped rows without all Zero: 38860\n"
     ]
    },
    {
     "data": {
      "text/html": [
       "<div>\n",
       "<style scoped>\n",
       "    .dataframe tbody tr th:only-of-type {\n",
       "        vertical-align: middle;\n",
       "    }\n",
       "\n",
       "    .dataframe tbody tr th {\n",
       "        vertical-align: top;\n",
       "    }\n",
       "\n",
       "    .dataframe thead th {\n",
       "        text-align: right;\n",
       "    }\n",
       "</style>\n",
       "<table border=\"1\" class=\"dataframe\">\n",
       "  <thead>\n",
       "    <tr style=\"text-align: right;\">\n",
       "      <th></th>\n",
       "      <th>index</th>\n",
       "      <th>PostDate</th>\n",
       "      <th>AKZ</th>\n",
       "      <th>Territory</th>\n",
       "      <th>GBK</th>\n",
       "      <th>VBEZ</th>\n",
       "      <th>CustomerChineseName</th>\n",
       "      <th>SoldToPartyCustomerType</th>\n",
       "      <th>AssignedCustomerName</th>\n",
       "      <th>AssignType</th>\n",
       "      <th>OR</th>\n",
       "      <th>TO</th>\n",
       "    </tr>\n",
       "  </thead>\n",
       "  <tbody>\n",
       "    <tr>\n",
       "      <th>0</th>\n",
       "      <td>FY18</td>\n",
       "      <td>2017-10-15</td>\n",
       "      <td>3004206200</td>\n",
       "      <td>RNE-HLJ</td>\n",
       "      <td>R111</td>\n",
       "      <td>280TL000</td>\n",
       "      <td>哈尔滨宇龙自动化有限公司</td>\n",
       "      <td>Wholesaler/Distributor(EWT)</td>\n",
       "      <td>哈尔滨宇龙自动化有限公司</td>\n",
       "      <td>Direct</td>\n",
       "      <td>1259296.25</td>\n",
       "      <td>0.0</td>\n",
       "    </tr>\n",
       "    <tr>\n",
       "      <th>1</th>\n",
       "      <td>FY18</td>\n",
       "      <td>2017-10-15</td>\n",
       "      <td>3004206200</td>\n",
       "      <td>RNE-HLJ</td>\n",
       "      <td>R119</td>\n",
       "      <td>280TL000</td>\n",
       "      <td>哈尔滨宇龙自动化有限公司</td>\n",
       "      <td>Wholesaler/Distributor(EWT)</td>\n",
       "      <td>哈尔滨宇龙自动化有限公司</td>\n",
       "      <td>Direct</td>\n",
       "      <td>668811.00</td>\n",
       "      <td>0.0</td>\n",
       "    </tr>\n",
       "    <tr>\n",
       "      <th>2</th>\n",
       "      <td>FY18</td>\n",
       "      <td>2017-10-15</td>\n",
       "      <td>3004209402</td>\n",
       "      <td>RNE-LNS</td>\n",
       "      <td>R111</td>\n",
       "      <td>280TN000</td>\n",
       "      <td>大连中巨控制系统有限公司</td>\n",
       "      <td>Wholesaler/Distributor(EWT)</td>\n",
       "      <td>大连中巨控制系统有限公司</td>\n",
       "      <td>Direct</td>\n",
       "      <td>129168.39</td>\n",
       "      <td>0.0</td>\n",
       "    </tr>\n",
       "    <tr>\n",
       "      <th>3</th>\n",
       "      <td>FY18</td>\n",
       "      <td>2017-10-15</td>\n",
       "      <td>3004209452</td>\n",
       "      <td>RNE-LNS</td>\n",
       "      <td>R111</td>\n",
       "      <td>280TN000</td>\n",
       "      <td>大连中巨控制系统有限公司</td>\n",
       "      <td>Wholesaler/Distributor(EWT)</td>\n",
       "      <td>大连中巨控制系统有限公司</td>\n",
       "      <td>Direct</td>\n",
       "      <td>113177.36</td>\n",
       "      <td>0.0</td>\n",
       "    </tr>\n",
       "    <tr>\n",
       "      <th>4</th>\n",
       "      <td>FY18</td>\n",
       "      <td>2017-10-15</td>\n",
       "      <td>3004209452</td>\n",
       "      <td>RNE-LNS</td>\n",
       "      <td>R119</td>\n",
       "      <td>280TN000</td>\n",
       "      <td>大连中巨控制系统有限公司</td>\n",
       "      <td>Wholesaler/Distributor(EWT)</td>\n",
       "      <td>大连中巨控制系统有限公司</td>\n",
       "      <td>Direct</td>\n",
       "      <td>27336.48</td>\n",
       "      <td>0.0</td>\n",
       "    </tr>\n",
       "    <tr>\n",
       "      <th>...</th>\n",
       "      <td>...</td>\n",
       "      <td>...</td>\n",
       "      <td>...</td>\n",
       "      <td>...</td>\n",
       "      <td>...</td>\n",
       "      <td>...</td>\n",
       "      <td>...</td>\n",
       "      <td>...</td>\n",
       "      <td>...</td>\n",
       "      <td>...</td>\n",
       "      <td>...</td>\n",
       "      <td>...</td>\n",
       "    </tr>\n",
       "    <tr>\n",
       "      <th>159913</th>\n",
       "      <td>FY23</td>\n",
       "      <td>2023-09-30</td>\n",
       "      <td>3008615210</td>\n",
       "      <td>RNE-LNN&amp;IME</td>\n",
       "      <td>R132</td>\n",
       "      <td>2V2M0404</td>\n",
       "      <td>北京天拓四方科技股份有限公司</td>\n",
       "      <td>0</td>\n",
       "      <td>本溪钢铁（集团）信息自动化有限责任公司</td>\n",
       "      <td>Assign_TO</td>\n",
       "      <td>118724.22</td>\n",
       "      <td>0.0</td>\n",
       "    </tr>\n",
       "    <tr>\n",
       "      <th>159914</th>\n",
       "      <td>FY23</td>\n",
       "      <td>2023-09-30</td>\n",
       "      <td>3008620826</td>\n",
       "      <td>RNE-HLJ</td>\n",
       "      <td>R133</td>\n",
       "      <td>2PPDT700</td>\n",
       "      <td>哈尔滨宇龙智云科技有限公司</td>\n",
       "      <td>Wholeseller, Distributor</td>\n",
       "      <td>哈尔滨宇龙智云科技有限公司</td>\n",
       "      <td>Balance_TO</td>\n",
       "      <td>-7930.54</td>\n",
       "      <td>0.0</td>\n",
       "    </tr>\n",
       "    <tr>\n",
       "      <th>159915</th>\n",
       "      <td>FY23</td>\n",
       "      <td>2023-09-30</td>\n",
       "      <td>3008620826</td>\n",
       "      <td>RNE-LNN&amp;IME</td>\n",
       "      <td>R133</td>\n",
       "      <td>2PPM0401</td>\n",
       "      <td>哈尔滨宇龙智云科技有限公司</td>\n",
       "      <td>Wholeseller, Distributor</td>\n",
       "      <td>沈阳乾宏自动化设备有限公司</td>\n",
       "      <td>Assign_TO</td>\n",
       "      <td>7930.54</td>\n",
       "      <td>0.0</td>\n",
       "    </tr>\n",
       "    <tr>\n",
       "      <th>159916</th>\n",
       "      <td>FY23</td>\n",
       "      <td>2023-09-30</td>\n",
       "      <td>3008623231</td>\n",
       "      <td>RNE-JL</td>\n",
       "      <td>R151</td>\n",
       "      <td>2E001203</td>\n",
       "      <td>北京进步创新高科技有限公司</td>\n",
       "      <td>0</td>\n",
       "      <td>长春超维智能设备制造有限公司</td>\n",
       "      <td>Assign_TO</td>\n",
       "      <td>5187.60</td>\n",
       "      <td>0.0</td>\n",
       "    </tr>\n",
       "    <tr>\n",
       "      <th>159917</th>\n",
       "      <td>FY23</td>\n",
       "      <td>2023-09-30</td>\n",
       "      <td>3008623691</td>\n",
       "      <td>RNE-LNN&amp;IME</td>\n",
       "      <td>R152</td>\n",
       "      <td>2E100410</td>\n",
       "      <td>北京进步创新高科技有限公司</td>\n",
       "      <td>0</td>\n",
       "      <td>沈阳维忠旋转机械有限责任公司</td>\n",
       "      <td>Assign_TO</td>\n",
       "      <td>13647.93</td>\n",
       "      <td>0.0</td>\n",
       "    </tr>\n",
       "  </tbody>\n",
       "</table>\n",
       "<p>159918 rows × 12 columns</p>\n",
       "</div>"
      ],
      "text/plain": [
       "       index   PostDate         AKZ    Territory   GBK      VBEZ  \\\n",
       "0       FY18 2017-10-15  3004206200      RNE-HLJ  R111  280TL000   \n",
       "1       FY18 2017-10-15  3004206200      RNE-HLJ  R119  280TL000   \n",
       "2       FY18 2017-10-15  3004209402      RNE-LNS  R111  280TN000   \n",
       "3       FY18 2017-10-15  3004209452      RNE-LNS  R111  280TN000   \n",
       "4       FY18 2017-10-15  3004209452      RNE-LNS  R119  280TN000   \n",
       "...      ...        ...         ...          ...   ...       ...   \n",
       "159913  FY23 2023-09-30  3008615210  RNE-LNN&IME  R132  2V2M0404   \n",
       "159914  FY23 2023-09-30  3008620826      RNE-HLJ  R133  2PPDT700   \n",
       "159915  FY23 2023-09-30  3008620826  RNE-LNN&IME  R133  2PPM0401   \n",
       "159916  FY23 2023-09-30  3008623231       RNE-JL  R151  2E001203   \n",
       "159917  FY23 2023-09-30  3008623691  RNE-LNN&IME  R152  2E100410   \n",
       "\n",
       "       CustomerChineseName      SoldToPartyCustomerType AssignedCustomerName  \\\n",
       "0             哈尔滨宇龙自动化有限公司  Wholesaler/Distributor(EWT)         哈尔滨宇龙自动化有限公司   \n",
       "1             哈尔滨宇龙自动化有限公司  Wholesaler/Distributor(EWT)         哈尔滨宇龙自动化有限公司   \n",
       "2             大连中巨控制系统有限公司  Wholesaler/Distributor(EWT)         大连中巨控制系统有限公司   \n",
       "3             大连中巨控制系统有限公司  Wholesaler/Distributor(EWT)         大连中巨控制系统有限公司   \n",
       "4             大连中巨控制系统有限公司  Wholesaler/Distributor(EWT)         大连中巨控制系统有限公司   \n",
       "...                    ...                          ...                  ...   \n",
       "159913      北京天拓四方科技股份有限公司                            0  本溪钢铁（集团）信息自动化有限责任公司   \n",
       "159914       哈尔滨宇龙智云科技有限公司     Wholeseller, Distributor        哈尔滨宇龙智云科技有限公司   \n",
       "159915       哈尔滨宇龙智云科技有限公司     Wholeseller, Distributor        沈阳乾宏自动化设备有限公司   \n",
       "159916       北京进步创新高科技有限公司                            0       长春超维智能设备制造有限公司   \n",
       "159917       北京进步创新高科技有限公司                            0       沈阳维忠旋转机械有限责任公司   \n",
       "\n",
       "        AssignType          OR   TO  \n",
       "0           Direct  1259296.25  0.0  \n",
       "1           Direct   668811.00  0.0  \n",
       "2           Direct   129168.39  0.0  \n",
       "3           Direct   113177.36  0.0  \n",
       "4           Direct    27336.48  0.0  \n",
       "...            ...         ...  ...  \n",
       "159913   Assign_TO   118724.22  0.0  \n",
       "159914  Balance_TO    -7930.54  0.0  \n",
       "159915   Assign_TO     7930.54  0.0  \n",
       "159916   Assign_TO     5187.60  0.0  \n",
       "159917   Assign_TO    13647.93  0.0  \n",
       "\n",
       "[159918 rows x 12 columns]"
      ]
     },
     "execution_count": 201,
     "metadata": {},
     "output_type": "execute_result"
    }
   ],
   "source": [
    "ts = dict()\n",
    "DATAFOLDER = Path('restricted/yearend/')\n",
    "filenames = [f for f in DATAFOLDER.glob('FY*.xlsx')]\n",
    "\n",
    "for fn in filenames:\n",
    "    fy = fn.name[:4]\n",
    "    print(f\"{fy}+++++++++++++++++++++\")\n",
    "    df = pd.read_excel(fn, sheet_name='Sheet1', skiprows=0, engine='calamine')\n",
    "    print('rows in df:', len(df))\n",
    "    df = df.loc[df.BUSegment.fillna('').str.contains('FA Product')]\n",
    "    print('rows in df (filtered \"FA Product\"):', len(df))\n",
    "    cols = ['PostDate', 'AKZ', 'Territory', 'GBK', 'VBEZ', \n",
    "            'CustomerChineseName', 'SoldToPartyCustomerType', 'AssignedCustomerName', 'AssignType']\n",
    "    grp = df.groupby(cols)[['OR', 'TO']].sum().reset_index()\n",
    "    print('grouped rows:', len(grp))\n",
    "    grp = grp.loc[(grp[['OR', 'TO']]!=0).any(axis=1)]\n",
    "    print('grouped rows without all Zero:', len(grp))\n",
    "    grp['PostDate'] = pd.to_datetime(grp.PostDate)\n",
    "    ts[fy] = grp\n",
    "ts = pd.concat(ts.values(), keys=ts.keys()).droplevel(-1).reset_index()\n",
    "ts"
   ]
  },
  {
   "cell_type": "code",
   "execution_count": 208,
   "id": "cd43fe6a-1f5b-4b69-9c5a-a2f8154cb233",
   "metadata": {},
   "outputs": [
    {
     "data": {
      "text/plain": [
       "index  BuyerType\n",
       "FY18   Dealer       357.298542\n",
       "       End-User       0.156479\n",
       "       OME            1.488998\n",
       "FY19   Dealer       369.166842\n",
       "       End-User       0.096085\n",
       "       OME            5.184262\n",
       "FY20   Dealer       315.875793\n",
       "       End-User       0.329666\n",
       "       OME            1.904207\n",
       "FY21   Dealer       450.971462\n",
       "       End-User       0.147381\n",
       "       OME            3.562811\n",
       "FY22   Dealer       809.434995\n",
       "       End-User      26.238256\n",
       "       OME          104.135537\n",
       "FY23   Dealer       488.954539\n",
       "       End-User       9.633486\n",
       "       OME           28.807049\n",
       "Name: OR, dtype: float64"
      ]
     },
     "execution_count": 208,
     "metadata": {},
     "output_type": "execute_result"
    }
   ],
   "source": [
    "ts['BuyerType'] = 'Dealer'\n",
    "ts.loc[ts.SoldToPartyCustomerType.astype(str).str.contains('End'), 'BuyerType'] = 'End-User'\n",
    "ts.loc[ts.SoldToPartyCustomerType.astype(str).str.contains('OEM'), 'BuyerType'] = 'OME'\n",
    "\n",
    "ts.groupby(['index', 'BuyerType'])['OR'].sum()/1e6"
   ]
  },
  {
   "cell_type": "code",
   "execution_count": 221,
   "id": "c7f657a8-e970-485d-9834-730d3c77af14",
   "metadata": {},
   "outputs": [],
   "source": [
    "lab_cols = ['AKZ', 'Territory', 'VBEZ', 'GBK', 'CustomerChineseName', 'AssignedCustomerName']\n",
    "for col in lab_cols:\n",
    "    ts[col] = label_encoder.fit_transform(ts[col])\n",
    "    ts[col] = ts[col].apply(lambda x: col[:3].upper()+f\"{x:08}\")"
   ]
  },
  {
   "cell_type": "code",
   "execution_count": 232,
   "id": "7a41ee1f-5c43-4933-8eed-db714a6a8e48",
   "metadata": {},
   "outputs": [],
   "source": [
    "ts.rename(columns={\n",
    "    'index':'FiscalYear',\n",
    "    'AKZ':'OrderNum',\n",
    "    'GBK':'ProductLine',\n",
    "    'VBEZ':'Sales',\n",
    "    'CustomerChineseName':'Buyer',\n",
    "    'AssignedCustomerName':'AssignedCustomer',\n",
    "    }, inplace=True)\n",
    "\n",
    "ts[['year', 'week', 'day']] = ts['PostDate'].dt.isocalendar() \n",
    "ts['month'] = ts['PostDate'].dt.strftime('%Y-%m')"
   ]
  },
  {
   "cell_type": "code",
   "execution_count": 234,
   "id": "4b691e32-c123-435f-a9fe-41578569a3e3",
   "metadata": {},
   "outputs": [
    {
     "data": {
      "text/html": [
       "<div>\n",
       "<style scoped>\n",
       "    .dataframe tbody tr th:only-of-type {\n",
       "        vertical-align: middle;\n",
       "    }\n",
       "\n",
       "    .dataframe tbody tr th {\n",
       "        vertical-align: top;\n",
       "    }\n",
       "\n",
       "    .dataframe thead th {\n",
       "        text-align: right;\n",
       "    }\n",
       "</style>\n",
       "<table border=\"1\" class=\"dataframe\">\n",
       "  <thead>\n",
       "    <tr style=\"text-align: right;\">\n",
       "      <th></th>\n",
       "      <th>FiscalYear</th>\n",
       "      <th>PostDate</th>\n",
       "      <th>OrderNum</th>\n",
       "      <th>Territory</th>\n",
       "      <th>ProductLine</th>\n",
       "      <th>Sales</th>\n",
       "      <th>Buyer</th>\n",
       "      <th>SoldToPartyCustomerType</th>\n",
       "      <th>AssignedCustomer</th>\n",
       "      <th>AssignType</th>\n",
       "      <th>OR</th>\n",
       "      <th>TO</th>\n",
       "      <th>BuyerType</th>\n",
       "      <th>year</th>\n",
       "      <th>week</th>\n",
       "      <th>day</th>\n",
       "      <th>month</th>\n",
       "    </tr>\n",
       "  </thead>\n",
       "  <tbody>\n",
       "    <tr>\n",
       "      <th>0</th>\n",
       "      <td>FY18</td>\n",
       "      <td>2017-10-15</td>\n",
       "      <td>AKZ00000169</td>\n",
       "      <td>TER00000002</td>\n",
       "      <td>GBK00000000</td>\n",
       "      <td>VBE00000097</td>\n",
       "      <td>CUS00000051</td>\n",
       "      <td>Wholesaler/Distributor(EWT)</td>\n",
       "      <td>ASS00000398</td>\n",
       "      <td>Direct</td>\n",
       "      <td>1259296.25</td>\n",
       "      <td>0.0</td>\n",
       "      <td>Dealer</td>\n",
       "      <td>2017</td>\n",
       "      <td>41</td>\n",
       "      <td>7</td>\n",
       "      <td>2017-10</td>\n",
       "    </tr>\n",
       "    <tr>\n",
       "      <th>1</th>\n",
       "      <td>FY18</td>\n",
       "      <td>2017-10-15</td>\n",
       "      <td>AKZ00000169</td>\n",
       "      <td>TER00000002</td>\n",
       "      <td>GBK00000003</td>\n",
       "      <td>VBE00000097</td>\n",
       "      <td>CUS00000051</td>\n",
       "      <td>Wholesaler/Distributor(EWT)</td>\n",
       "      <td>ASS00000398</td>\n",
       "      <td>Direct</td>\n",
       "      <td>668811.00</td>\n",
       "      <td>0.0</td>\n",
       "      <td>Dealer</td>\n",
       "      <td>2017</td>\n",
       "      <td>41</td>\n",
       "      <td>7</td>\n",
       "      <td>2017-10</td>\n",
       "    </tr>\n",
       "    <tr>\n",
       "      <th>2</th>\n",
       "      <td>FY18</td>\n",
       "      <td>2017-10-15</td>\n",
       "      <td>AKZ00000198</td>\n",
       "      <td>TER00000005</td>\n",
       "      <td>GBK00000000</td>\n",
       "      <td>VBE00000099</td>\n",
       "      <td>CUS00000055</td>\n",
       "      <td>Wholesaler/Distributor(EWT)</td>\n",
       "      <td>ASS00000582</td>\n",
       "      <td>Direct</td>\n",
       "      <td>129168.39</td>\n",
       "      <td>0.0</td>\n",
       "      <td>Dealer</td>\n",
       "      <td>2017</td>\n",
       "      <td>41</td>\n",
       "      <td>7</td>\n",
       "      <td>2017-10</td>\n",
       "    </tr>\n",
       "    <tr>\n",
       "      <th>3</th>\n",
       "      <td>FY18</td>\n",
       "      <td>2017-10-15</td>\n",
       "      <td>AKZ00000199</td>\n",
       "      <td>TER00000005</td>\n",
       "      <td>GBK00000000</td>\n",
       "      <td>VBE00000099</td>\n",
       "      <td>CUS00000055</td>\n",
       "      <td>Wholesaler/Distributor(EWT)</td>\n",
       "      <td>ASS00000582</td>\n",
       "      <td>Direct</td>\n",
       "      <td>113177.36</td>\n",
       "      <td>0.0</td>\n",
       "      <td>Dealer</td>\n",
       "      <td>2017</td>\n",
       "      <td>41</td>\n",
       "      <td>7</td>\n",
       "      <td>2017-10</td>\n",
       "    </tr>\n",
       "    <tr>\n",
       "      <th>4</th>\n",
       "      <td>FY18</td>\n",
       "      <td>2017-10-15</td>\n",
       "      <td>AKZ00000199</td>\n",
       "      <td>TER00000005</td>\n",
       "      <td>GBK00000003</td>\n",
       "      <td>VBE00000099</td>\n",
       "      <td>CUS00000055</td>\n",
       "      <td>Wholesaler/Distributor(EWT)</td>\n",
       "      <td>ASS00000582</td>\n",
       "      <td>Direct</td>\n",
       "      <td>27336.48</td>\n",
       "      <td>0.0</td>\n",
       "      <td>Dealer</td>\n",
       "      <td>2017</td>\n",
       "      <td>41</td>\n",
       "      <td>7</td>\n",
       "      <td>2017-10</td>\n",
       "    </tr>\n",
       "    <tr>\n",
       "      <th>...</th>\n",
       "      <td>...</td>\n",
       "      <td>...</td>\n",
       "      <td>...</td>\n",
       "      <td>...</td>\n",
       "      <td>...</td>\n",
       "      <td>...</td>\n",
       "      <td>...</td>\n",
       "      <td>...</td>\n",
       "      <td>...</td>\n",
       "      <td>...</td>\n",
       "      <td>...</td>\n",
       "      <td>...</td>\n",
       "      <td>...</td>\n",
       "      <td>...</td>\n",
       "      <td>...</td>\n",
       "      <td>...</td>\n",
       "      <td>...</td>\n",
       "    </tr>\n",
       "    <tr>\n",
       "      <th>159913</th>\n",
       "      <td>FY23</td>\n",
       "      <td>2023-09-30</td>\n",
       "      <td>AKZ00013307</td>\n",
       "      <td>TER00000004</td>\n",
       "      <td>GBK00000005</td>\n",
       "      <td>VBE00000211</td>\n",
       "      <td>CUS00000021</td>\n",
       "      <td>0</td>\n",
       "      <td>ASS00000969</td>\n",
       "      <td>Assign_TO</td>\n",
       "      <td>118724.22</td>\n",
       "      <td>0.0</td>\n",
       "      <td>Dealer</td>\n",
       "      <td>2023</td>\n",
       "      <td>39</td>\n",
       "      <td>6</td>\n",
       "      <td>2023-09</td>\n",
       "    </tr>\n",
       "    <tr>\n",
       "      <th>159914</th>\n",
       "      <td>FY23</td>\n",
       "      <td>2023-09-30</td>\n",
       "      <td>AKZ00013309</td>\n",
       "      <td>TER00000002</td>\n",
       "      <td>GBK00000006</td>\n",
       "      <td>VBE00000166</td>\n",
       "      <td>CUS00000050</td>\n",
       "      <td>Wholeseller, Distributor</td>\n",
       "      <td>ASS00000397</td>\n",
       "      <td>Balance_TO</td>\n",
       "      <td>-7930.54</td>\n",
       "      <td>0.0</td>\n",
       "      <td>Dealer</td>\n",
       "      <td>2023</td>\n",
       "      <td>39</td>\n",
       "      <td>6</td>\n",
       "      <td>2023-09</td>\n",
       "    </tr>\n",
       "    <tr>\n",
       "      <th>159915</th>\n",
       "      <td>FY23</td>\n",
       "      <td>2023-09-30</td>\n",
       "      <td>AKZ00013309</td>\n",
       "      <td>TER00000004</td>\n",
       "      <td>GBK00000006</td>\n",
       "      <td>VBE00000170</td>\n",
       "      <td>CUS00000050</td>\n",
       "      <td>Wholeseller, Distributor</td>\n",
       "      <td>ASS00001027</td>\n",
       "      <td>Assign_TO</td>\n",
       "      <td>7930.54</td>\n",
       "      <td>0.0</td>\n",
       "      <td>Dealer</td>\n",
       "      <td>2023</td>\n",
       "      <td>39</td>\n",
       "      <td>6</td>\n",
       "      <td>2023-09</td>\n",
       "    </tr>\n",
       "    <tr>\n",
       "      <th>159916</th>\n",
       "      <td>FY23</td>\n",
       "      <td>2023-09-30</td>\n",
       "      <td>AKZ00013311</td>\n",
       "      <td>TER00000003</td>\n",
       "      <td>GBK00000011</td>\n",
       "      <td>VBE00000135</td>\n",
       "      <td>CUS00000029</td>\n",
       "      <td>0</td>\n",
       "      <td>ASS00001890</td>\n",
       "      <td>Assign_TO</td>\n",
       "      <td>5187.60</td>\n",
       "      <td>0.0</td>\n",
       "      <td>Dealer</td>\n",
       "      <td>2023</td>\n",
       "      <td>39</td>\n",
       "      <td>6</td>\n",
       "      <td>2023-09</td>\n",
       "    </tr>\n",
       "    <tr>\n",
       "      <th>159917</th>\n",
       "      <td>FY23</td>\n",
       "      <td>2023-09-30</td>\n",
       "      <td>AKZ00013312</td>\n",
       "      <td>TER00000004</td>\n",
       "      <td>GBK00000012</td>\n",
       "      <td>VBE00000148</td>\n",
       "      <td>CUS00000029</td>\n",
       "      <td>0</td>\n",
       "      <td>ASS00001339</td>\n",
       "      <td>Assign_TO</td>\n",
       "      <td>13647.93</td>\n",
       "      <td>0.0</td>\n",
       "      <td>Dealer</td>\n",
       "      <td>2023</td>\n",
       "      <td>39</td>\n",
       "      <td>6</td>\n",
       "      <td>2023-09</td>\n",
       "    </tr>\n",
       "  </tbody>\n",
       "</table>\n",
       "<p>159918 rows × 17 columns</p>\n",
       "</div>"
      ],
      "text/plain": [
       "       FiscalYear   PostDate     OrderNum    Territory  ProductLine  \\\n",
       "0            FY18 2017-10-15  AKZ00000169  TER00000002  GBK00000000   \n",
       "1            FY18 2017-10-15  AKZ00000169  TER00000002  GBK00000003   \n",
       "2            FY18 2017-10-15  AKZ00000198  TER00000005  GBK00000000   \n",
       "3            FY18 2017-10-15  AKZ00000199  TER00000005  GBK00000000   \n",
       "4            FY18 2017-10-15  AKZ00000199  TER00000005  GBK00000003   \n",
       "...           ...        ...          ...          ...          ...   \n",
       "159913       FY23 2023-09-30  AKZ00013307  TER00000004  GBK00000005   \n",
       "159914       FY23 2023-09-30  AKZ00013309  TER00000002  GBK00000006   \n",
       "159915       FY23 2023-09-30  AKZ00013309  TER00000004  GBK00000006   \n",
       "159916       FY23 2023-09-30  AKZ00013311  TER00000003  GBK00000011   \n",
       "159917       FY23 2023-09-30  AKZ00013312  TER00000004  GBK00000012   \n",
       "\n",
       "              Sales        Buyer      SoldToPartyCustomerType  \\\n",
       "0       VBE00000097  CUS00000051  Wholesaler/Distributor(EWT)   \n",
       "1       VBE00000097  CUS00000051  Wholesaler/Distributor(EWT)   \n",
       "2       VBE00000099  CUS00000055  Wholesaler/Distributor(EWT)   \n",
       "3       VBE00000099  CUS00000055  Wholesaler/Distributor(EWT)   \n",
       "4       VBE00000099  CUS00000055  Wholesaler/Distributor(EWT)   \n",
       "...             ...          ...                          ...   \n",
       "159913  VBE00000211  CUS00000021                            0   \n",
       "159914  VBE00000166  CUS00000050     Wholeseller, Distributor   \n",
       "159915  VBE00000170  CUS00000050     Wholeseller, Distributor   \n",
       "159916  VBE00000135  CUS00000029                            0   \n",
       "159917  VBE00000148  CUS00000029                            0   \n",
       "\n",
       "       AssignedCustomer  AssignType          OR   TO BuyerType  year  week  \\\n",
       "0           ASS00000398      Direct  1259296.25  0.0    Dealer  2017    41   \n",
       "1           ASS00000398      Direct   668811.00  0.0    Dealer  2017    41   \n",
       "2           ASS00000582      Direct   129168.39  0.0    Dealer  2017    41   \n",
       "3           ASS00000582      Direct   113177.36  0.0    Dealer  2017    41   \n",
       "4           ASS00000582      Direct    27336.48  0.0    Dealer  2017    41   \n",
       "...                 ...         ...         ...  ...       ...   ...   ...   \n",
       "159913      ASS00000969   Assign_TO   118724.22  0.0    Dealer  2023    39   \n",
       "159914      ASS00000397  Balance_TO    -7930.54  0.0    Dealer  2023    39   \n",
       "159915      ASS00001027   Assign_TO     7930.54  0.0    Dealer  2023    39   \n",
       "159916      ASS00001890   Assign_TO     5187.60  0.0    Dealer  2023    39   \n",
       "159917      ASS00001339   Assign_TO    13647.93  0.0    Dealer  2023    39   \n",
       "\n",
       "        day    month  \n",
       "0         7  2017-10  \n",
       "1         7  2017-10  \n",
       "2         7  2017-10  \n",
       "3         7  2017-10  \n",
       "4         7  2017-10  \n",
       "...     ...      ...  \n",
       "159913    6  2023-09  \n",
       "159914    6  2023-09  \n",
       "159915    6  2023-09  \n",
       "159916    6  2023-09  \n",
       "159917    6  2023-09  \n",
       "\n",
       "[159918 rows x 17 columns]"
      ]
     },
     "execution_count": 234,
     "metadata": {},
     "output_type": "execute_result"
    }
   ],
   "source": [
    "ts"
   ]
  },
  {
   "cell_type": "code",
   "execution_count": 243,
   "id": "e511cb2f-ec6d-4f2c-8b6f-373c6285fbbb",
   "metadata": {},
   "outputs": [
    {
     "data": {
      "application/vnd.plotly.v1+json": {
       "config": {
        "plotlyServerURL": "https://plot.ly"
       },
       "data": [
        {
         "mode": "lines",
         "name": "New Order",
         "type": "scatter",
         "x": [
          "2017-10",
          "2017-11",
          "2017-12",
          "2018-01",
          "2018-02",
          "2018-03",
          "2018-04",
          "2018-05",
          "2018-06",
          "2018-07",
          "2018-08",
          "2018-09",
          "2018-10",
          "2018-11",
          "2018-12",
          "2019-01",
          "2019-02",
          "2019-03",
          "2019-04",
          "2019-05",
          "2019-06",
          "2019-07",
          "2019-08",
          "2019-09",
          "2019-10",
          "2019-11",
          "2019-12",
          "2020-01",
          "2020-02",
          "2020-03",
          "2020-04",
          "2020-05",
          "2020-06",
          "2020-07",
          "2020-08",
          "2020-09",
          "2020-10",
          "2020-11",
          "2020-12",
          "2021-01",
          "2021-02",
          "2021-03",
          "2021-04",
          "2021-05",
          "2021-06",
          "2021-07",
          "2021-08",
          "2021-09",
          "2021-10",
          "2021-11",
          "2021-12",
          "2022-01",
          "2022-02",
          "2022-03",
          "2022-04",
          "2022-05",
          "2022-06",
          "2022-07",
          "2022-08",
          "2022-09",
          "2022-10",
          "2022-11",
          "2022-12",
          "2023-01",
          "2023-02",
          "2023-03",
          "2023-04",
          "2023-05",
          "2023-06",
          "2023-07",
          "2023-08",
          "2023-09"
         ],
         "y": [
          39491797.29,
          44712520.774,
          29825743,
          27784117.63,
          14965130.79,
          30368926.419999998,
          30836035.035,
          25224683.391,
          20814764.53,
          31999011.98,
          28189578.15,
          34731710.03,
          22634429.79,
          84224544.49,
          22034878.94,
          18450432.05,
          17136104.772,
          24120854.778,
          24508788.830000002,
          22393012.03,
          28384787.692,
          26266445.2,
          35762596.83,
          48530314.01,
          30941391.78,
          37725406.53,
          37963422.5,
          21785111.15,
          17098299.192,
          26109979.54,
          28976135.77,
          14670616.54,
          25270484.18,
          20564257.46,
          32950272.052,
          24054289.68,
          28541727.34,
          60505671.44,
          39727977.53,
          24824147.68,
          13015924.36,
          26965546.8,
          34467772.567999996,
          28433912.64,
          37915485,
          56077405.35,
          57658713.09,
          46547370.43,
          81387943.924,
          117925320.54,
          94712341.215,
          67695280.84,
          37954011.392,
          102844103.106,
          73422679.094,
          195084091.37,
          54235975.504,
          60308815.63,
          47473492.78,
          6764732.5200000005,
          79075502.03,
          117866155.84,
          105074026.08,
          42028549.410000004,
          60298506.028000005,
          28464965.272000007,
          20734772.580000002,
          20679185.628,
          18865907.64,
          11254203.77,
          10472541.249999998,
          12580758.559999999
         ]
        },
        {
         "mode": "lines",
         "name": "Turnover",
         "type": "scatter",
         "x": [
          "2017-10",
          "2017-11",
          "2017-12",
          "2018-01",
          "2018-02",
          "2018-03",
          "2018-04",
          "2018-05",
          "2018-06",
          "2018-07",
          "2018-08",
          "2018-09",
          "2018-10",
          "2018-11",
          "2018-12",
          "2019-01",
          "2019-02",
          "2019-03",
          "2019-04",
          "2019-05",
          "2019-06",
          "2019-07",
          "2019-08",
          "2019-09",
          "2019-10",
          "2019-11",
          "2019-12",
          "2020-01",
          "2020-02",
          "2020-03",
          "2020-04",
          "2020-05",
          "2020-06",
          "2020-07",
          "2020-08",
          "2020-09",
          "2020-10",
          "2020-11",
          "2020-12",
          "2021-01",
          "2021-02",
          "2021-03",
          "2021-04",
          "2021-05",
          "2021-06",
          "2021-07",
          "2021-08",
          "2021-09",
          "2021-10",
          "2021-11",
          "2021-12",
          "2022-01",
          "2022-02",
          "2022-03",
          "2022-04",
          "2022-05",
          "2022-06",
          "2022-07",
          "2022-08",
          "2022-09",
          "2022-10",
          "2022-11",
          "2022-12",
          "2023-01",
          "2023-02",
          "2023-03",
          "2023-04",
          "2023-05",
          "2023-06",
          "2023-07",
          "2023-08",
          "2023-09"
         ],
         "y": [
          24078767.13,
          33018256.75,
          24023750.146,
          39272837.048,
          20310834.490000002,
          32212993.61,
          29895311.095,
          23713755.24,
          29389289.805999998,
          25214219.085,
          33764874.83,
          38234438.12,
          24959839.44,
          39422906.89,
          34361376.839999996,
          27551229.78,
          17323792.742,
          31267050.08,
          30007109.892,
          24150805.706,
          28161907.83,
          27922291.240000002,
          31778719.57,
          48434074.79,
          29786312.94,
          32941302.47,
          32068129.34,
          20539386.852,
          6945992.052,
          36221745.49,
          29872111.82,
          22875954.400000002,
          31253217.45,
          19765480.419999998,
          31699672.106,
          33868734.816,
          25288128.29,
          41617933.05,
          34843265.34,
          30609850.46,
          20771774.07,
          25786261.13,
          30044655.2,
          26610137.518,
          30188112.14,
          33034994.61,
          31595073.68,
          39190671.03,
          31381085.4,
          52830129.422,
          58662740.373,
          42025874.342,
          48439557.73,
          68433987.304,
          46804728.128,
          58137464.822,
          49858963.966,
          63220213.734,
          69977149.02,
          54377059.064,
          58064418.196,
          65414748.48,
          85452188.354,
          44428887.778,
          66826995.914,
          77204213.936,
          43160676.056,
          47320004.566,
          60119740.24,
          50802370.086,
          76566508.558,
          64284651.378
         ]
        }
       ],
       "layout": {
        "autosize": true,
        "legend": {
         "x": 0.01,
         "y": 0.99
        },
        "margin": {
         "b": 0,
         "l": 0,
         "r": 0,
         "t": 0
        },
        "template": {
         "data": {
          "bar": [
           {
            "error_x": {
             "color": "#2a3f5f"
            },
            "error_y": {
             "color": "#2a3f5f"
            },
            "marker": {
             "line": {
              "color": "#E5ECF6",
              "width": 0.5
             },
             "pattern": {
              "fillmode": "overlay",
              "size": 10,
              "solidity": 0.2
             }
            },
            "type": "bar"
           }
          ],
          "barpolar": [
           {
            "marker": {
             "line": {
              "color": "#E5ECF6",
              "width": 0.5
             },
             "pattern": {
              "fillmode": "overlay",
              "size": 10,
              "solidity": 0.2
             }
            },
            "type": "barpolar"
           }
          ],
          "carpet": [
           {
            "aaxis": {
             "endlinecolor": "#2a3f5f",
             "gridcolor": "white",
             "linecolor": "white",
             "minorgridcolor": "white",
             "startlinecolor": "#2a3f5f"
            },
            "baxis": {
             "endlinecolor": "#2a3f5f",
             "gridcolor": "white",
             "linecolor": "white",
             "minorgridcolor": "white",
             "startlinecolor": "#2a3f5f"
            },
            "type": "carpet"
           }
          ],
          "choropleth": [
           {
            "colorbar": {
             "outlinewidth": 0,
             "ticks": ""
            },
            "type": "choropleth"
           }
          ],
          "contour": [
           {
            "colorbar": {
             "outlinewidth": 0,
             "ticks": ""
            },
            "colorscale": [
             [
              0,
              "#0d0887"
             ],
             [
              0.1111111111111111,
              "#46039f"
             ],
             [
              0.2222222222222222,
              "#7201a8"
             ],
             [
              0.3333333333333333,
              "#9c179e"
             ],
             [
              0.4444444444444444,
              "#bd3786"
             ],
             [
              0.5555555555555556,
              "#d8576b"
             ],
             [
              0.6666666666666666,
              "#ed7953"
             ],
             [
              0.7777777777777778,
              "#fb9f3a"
             ],
             [
              0.8888888888888888,
              "#fdca26"
             ],
             [
              1,
              "#f0f921"
             ]
            ],
            "type": "contour"
           }
          ],
          "contourcarpet": [
           {
            "colorbar": {
             "outlinewidth": 0,
             "ticks": ""
            },
            "type": "contourcarpet"
           }
          ],
          "heatmap": [
           {
            "colorbar": {
             "outlinewidth": 0,
             "ticks": ""
            },
            "colorscale": [
             [
              0,
              "#0d0887"
             ],
             [
              0.1111111111111111,
              "#46039f"
             ],
             [
              0.2222222222222222,
              "#7201a8"
             ],
             [
              0.3333333333333333,
              "#9c179e"
             ],
             [
              0.4444444444444444,
              "#bd3786"
             ],
             [
              0.5555555555555556,
              "#d8576b"
             ],
             [
              0.6666666666666666,
              "#ed7953"
             ],
             [
              0.7777777777777778,
              "#fb9f3a"
             ],
             [
              0.8888888888888888,
              "#fdca26"
             ],
             [
              1,
              "#f0f921"
             ]
            ],
            "type": "heatmap"
           }
          ],
          "heatmapgl": [
           {
            "colorbar": {
             "outlinewidth": 0,
             "ticks": ""
            },
            "colorscale": [
             [
              0,
              "#0d0887"
             ],
             [
              0.1111111111111111,
              "#46039f"
             ],
             [
              0.2222222222222222,
              "#7201a8"
             ],
             [
              0.3333333333333333,
              "#9c179e"
             ],
             [
              0.4444444444444444,
              "#bd3786"
             ],
             [
              0.5555555555555556,
              "#d8576b"
             ],
             [
              0.6666666666666666,
              "#ed7953"
             ],
             [
              0.7777777777777778,
              "#fb9f3a"
             ],
             [
              0.8888888888888888,
              "#fdca26"
             ],
             [
              1,
              "#f0f921"
             ]
            ],
            "type": "heatmapgl"
           }
          ],
          "histogram": [
           {
            "marker": {
             "pattern": {
              "fillmode": "overlay",
              "size": 10,
              "solidity": 0.2
             }
            },
            "type": "histogram"
           }
          ],
          "histogram2d": [
           {
            "colorbar": {
             "outlinewidth": 0,
             "ticks": ""
            },
            "colorscale": [
             [
              0,
              "#0d0887"
             ],
             [
              0.1111111111111111,
              "#46039f"
             ],
             [
              0.2222222222222222,
              "#7201a8"
             ],
             [
              0.3333333333333333,
              "#9c179e"
             ],
             [
              0.4444444444444444,
              "#bd3786"
             ],
             [
              0.5555555555555556,
              "#d8576b"
             ],
             [
              0.6666666666666666,
              "#ed7953"
             ],
             [
              0.7777777777777778,
              "#fb9f3a"
             ],
             [
              0.8888888888888888,
              "#fdca26"
             ],
             [
              1,
              "#f0f921"
             ]
            ],
            "type": "histogram2d"
           }
          ],
          "histogram2dcontour": [
           {
            "colorbar": {
             "outlinewidth": 0,
             "ticks": ""
            },
            "colorscale": [
             [
              0,
              "#0d0887"
             ],
             [
              0.1111111111111111,
              "#46039f"
             ],
             [
              0.2222222222222222,
              "#7201a8"
             ],
             [
              0.3333333333333333,
              "#9c179e"
             ],
             [
              0.4444444444444444,
              "#bd3786"
             ],
             [
              0.5555555555555556,
              "#d8576b"
             ],
             [
              0.6666666666666666,
              "#ed7953"
             ],
             [
              0.7777777777777778,
              "#fb9f3a"
             ],
             [
              0.8888888888888888,
              "#fdca26"
             ],
             [
              1,
              "#f0f921"
             ]
            ],
            "type": "histogram2dcontour"
           }
          ],
          "mesh3d": [
           {
            "colorbar": {
             "outlinewidth": 0,
             "ticks": ""
            },
            "type": "mesh3d"
           }
          ],
          "parcoords": [
           {
            "line": {
             "colorbar": {
              "outlinewidth": 0,
              "ticks": ""
             }
            },
            "type": "parcoords"
           }
          ],
          "pie": [
           {
            "automargin": true,
            "type": "pie"
           }
          ],
          "scatter": [
           {
            "fillpattern": {
             "fillmode": "overlay",
             "size": 10,
             "solidity": 0.2
            },
            "type": "scatter"
           }
          ],
          "scatter3d": [
           {
            "line": {
             "colorbar": {
              "outlinewidth": 0,
              "ticks": ""
             }
            },
            "marker": {
             "colorbar": {
              "outlinewidth": 0,
              "ticks": ""
             }
            },
            "type": "scatter3d"
           }
          ],
          "scattercarpet": [
           {
            "marker": {
             "colorbar": {
              "outlinewidth": 0,
              "ticks": ""
             }
            },
            "type": "scattercarpet"
           }
          ],
          "scattergeo": [
           {
            "marker": {
             "colorbar": {
              "outlinewidth": 0,
              "ticks": ""
             }
            },
            "type": "scattergeo"
           }
          ],
          "scattergl": [
           {
            "marker": {
             "colorbar": {
              "outlinewidth": 0,
              "ticks": ""
             }
            },
            "type": "scattergl"
           }
          ],
          "scattermapbox": [
           {
            "marker": {
             "colorbar": {
              "outlinewidth": 0,
              "ticks": ""
             }
            },
            "type": "scattermapbox"
           }
          ],
          "scatterpolar": [
           {
            "marker": {
             "colorbar": {
              "outlinewidth": 0,
              "ticks": ""
             }
            },
            "type": "scatterpolar"
           }
          ],
          "scatterpolargl": [
           {
            "marker": {
             "colorbar": {
              "outlinewidth": 0,
              "ticks": ""
             }
            },
            "type": "scatterpolargl"
           }
          ],
          "scatterternary": [
           {
            "marker": {
             "colorbar": {
              "outlinewidth": 0,
              "ticks": ""
             }
            },
            "type": "scatterternary"
           }
          ],
          "surface": [
           {
            "colorbar": {
             "outlinewidth": 0,
             "ticks": ""
            },
            "colorscale": [
             [
              0,
              "#0d0887"
             ],
             [
              0.1111111111111111,
              "#46039f"
             ],
             [
              0.2222222222222222,
              "#7201a8"
             ],
             [
              0.3333333333333333,
              "#9c179e"
             ],
             [
              0.4444444444444444,
              "#bd3786"
             ],
             [
              0.5555555555555556,
              "#d8576b"
             ],
             [
              0.6666666666666666,
              "#ed7953"
             ],
             [
              0.7777777777777778,
              "#fb9f3a"
             ],
             [
              0.8888888888888888,
              "#fdca26"
             ],
             [
              1,
              "#f0f921"
             ]
            ],
            "type": "surface"
           }
          ],
          "table": [
           {
            "cells": {
             "fill": {
              "color": "#EBF0F8"
             },
             "line": {
              "color": "white"
             }
            },
            "header": {
             "fill": {
              "color": "#C8D4E3"
             },
             "line": {
              "color": "white"
             }
            },
            "type": "table"
           }
          ]
         },
         "layout": {
          "annotationdefaults": {
           "arrowcolor": "#2a3f5f",
           "arrowhead": 0,
           "arrowwidth": 1
          },
          "autotypenumbers": "strict",
          "coloraxis": {
           "colorbar": {
            "outlinewidth": 0,
            "ticks": ""
           }
          },
          "colorscale": {
           "diverging": [
            [
             0,
             "#8e0152"
            ],
            [
             0.1,
             "#c51b7d"
            ],
            [
             0.2,
             "#de77ae"
            ],
            [
             0.3,
             "#f1b6da"
            ],
            [
             0.4,
             "#fde0ef"
            ],
            [
             0.5,
             "#f7f7f7"
            ],
            [
             0.6,
             "#e6f5d0"
            ],
            [
             0.7,
             "#b8e186"
            ],
            [
             0.8,
             "#7fbc41"
            ],
            [
             0.9,
             "#4d9221"
            ],
            [
             1,
             "#276419"
            ]
           ],
           "sequential": [
            [
             0,
             "#0d0887"
            ],
            [
             0.1111111111111111,
             "#46039f"
            ],
            [
             0.2222222222222222,
             "#7201a8"
            ],
            [
             0.3333333333333333,
             "#9c179e"
            ],
            [
             0.4444444444444444,
             "#bd3786"
            ],
            [
             0.5555555555555556,
             "#d8576b"
            ],
            [
             0.6666666666666666,
             "#ed7953"
            ],
            [
             0.7777777777777778,
             "#fb9f3a"
            ],
            [
             0.8888888888888888,
             "#fdca26"
            ],
            [
             1,
             "#f0f921"
            ]
           ],
           "sequentialminus": [
            [
             0,
             "#0d0887"
            ],
            [
             0.1111111111111111,
             "#46039f"
            ],
            [
             0.2222222222222222,
             "#7201a8"
            ],
            [
             0.3333333333333333,
             "#9c179e"
            ],
            [
             0.4444444444444444,
             "#bd3786"
            ],
            [
             0.5555555555555556,
             "#d8576b"
            ],
            [
             0.6666666666666666,
             "#ed7953"
            ],
            [
             0.7777777777777778,
             "#fb9f3a"
            ],
            [
             0.8888888888888888,
             "#fdca26"
            ],
            [
             1,
             "#f0f921"
            ]
           ]
          },
          "colorway": [
           "#636efa",
           "#EF553B",
           "#00cc96",
           "#ab63fa",
           "#FFA15A",
           "#19d3f3",
           "#FF6692",
           "#B6E880",
           "#FF97FF",
           "#FECB52"
          ],
          "font": {
           "color": "#2a3f5f"
          },
          "geo": {
           "bgcolor": "white",
           "lakecolor": "white",
           "landcolor": "#E5ECF6",
           "showlakes": true,
           "showland": true,
           "subunitcolor": "white"
          },
          "hoverlabel": {
           "align": "left"
          },
          "hovermode": "closest",
          "mapbox": {
           "style": "light"
          },
          "paper_bgcolor": "white",
          "plot_bgcolor": "#E5ECF6",
          "polar": {
           "angularaxis": {
            "gridcolor": "white",
            "linecolor": "white",
            "ticks": ""
           },
           "bgcolor": "#E5ECF6",
           "radialaxis": {
            "gridcolor": "white",
            "linecolor": "white",
            "ticks": ""
           }
          },
          "scene": {
           "xaxis": {
            "backgroundcolor": "#E5ECF6",
            "gridcolor": "white",
            "gridwidth": 2,
            "linecolor": "white",
            "showbackground": true,
            "ticks": "",
            "zerolinecolor": "white"
           },
           "yaxis": {
            "backgroundcolor": "#E5ECF6",
            "gridcolor": "white",
            "gridwidth": 2,
            "linecolor": "white",
            "showbackground": true,
            "ticks": "",
            "zerolinecolor": "white"
           },
           "zaxis": {
            "backgroundcolor": "#E5ECF6",
            "gridcolor": "white",
            "gridwidth": 2,
            "linecolor": "white",
            "showbackground": true,
            "ticks": "",
            "zerolinecolor": "white"
           }
          },
          "shapedefaults": {
           "line": {
            "color": "#2a3f5f"
           }
          },
          "ternary": {
           "aaxis": {
            "gridcolor": "white",
            "linecolor": "white",
            "ticks": ""
           },
           "baxis": {
            "gridcolor": "white",
            "linecolor": "white",
            "ticks": ""
           },
           "bgcolor": "#E5ECF6",
           "caxis": {
            "gridcolor": "white",
            "linecolor": "white",
            "ticks": ""
           }
          },
          "title": {
           "x": 0.05
          },
          "xaxis": {
           "automargin": true,
           "gridcolor": "white",
           "linecolor": "white",
           "ticks": "",
           "title": {
            "standoff": 15
           },
           "zerolinecolor": "white",
           "zerolinewidth": 2
          },
          "yaxis": {
           "automargin": true,
           "gridcolor": "white",
           "linecolor": "white",
           "ticks": "",
           "title": {
            "standoff": 15
           },
           "zerolinecolor": "white",
           "zerolinewidth": 2
          }
         }
        },
        "xaxis": {
         "dtick": "M12",
         "range": [
          "2017-07-01",
          "2023-12-31"
         ],
         "title": {
          "text": "Fiscal Months"
         },
         "type": "date"
        },
        "yaxis": {
         "autorange": true,
         "range": [
          -3697454.0827777768,
          205546277.97277778
         ],
         "title": {
          "text": "Value (K)"
         },
         "type": "linear"
        }
       }
      },
      "image/png": "[encoded data removed]",
      "text/html": [
       "<div>                            <div id=\"7630bc66-67c2-48ae-b389-a2c8657432cf\" class=\"plotly-graph-div\" style=\"height:680px; width:100%;\"></div>            <script type=\"text/javascript\">                require([\"plotly\"], function(Plotly) {                    window.PLOTLYENV=window.PLOTLYENV || {};                                    if (document.getElementById(\"7630bc66-67c2-48ae-b389-a2c8657432cf\")) {                    Plotly.newPlot(                        \"7630bc66-67c2-48ae-b389-a2c8657432cf\",                        [{\"mode\":\"lines\",\"name\":\"New Order\",\"x\":[\"2017-10\",\"2017-11\",\"2017-12\",\"2018-01\",\"2018-02\",\"2018-03\",\"2018-04\",\"2018-05\",\"2018-06\",\"2018-07\",\"2018-08\",\"2018-09\",\"2018-10\",\"2018-11\",\"2018-12\",\"2019-01\",\"2019-02\",\"2019-03\",\"2019-04\",\"2019-05\",\"2019-06\",\"2019-07\",\"2019-08\",\"2019-09\",\"2019-10\",\"2019-11\",\"2019-12\",\"2020-01\",\"2020-02\",\"2020-03\",\"2020-04\",\"2020-05\",\"2020-06\",\"2020-07\",\"2020-08\",\"2020-09\",\"2020-10\",\"2020-11\",\"2020-12\",\"2021-01\",\"2021-02\",\"2021-03\",\"2021-04\",\"2021-05\",\"2021-06\",\"2021-07\",\"2021-08\",\"2021-09\",\"2021-10\",\"2021-11\",\"2021-12\",\"2022-01\",\"2022-02\",\"2022-03\",\"2022-04\",\"2022-05\",\"2022-06\",\"2022-07\",\"2022-08\",\"2022-09\",\"2022-10\",\"2022-11\",\"2022-12\",\"2023-01\",\"2023-02\",\"2023-03\",\"2023-04\",\"2023-05\",\"2023-06\",\"2023-07\",\"2023-08\",\"2023-09\"],\"y\":[39491797.29,44712520.774,29825743.0,27784117.63,14965130.79,30368926.419999998,30836035.035,25224683.391,20814764.53,31999011.98,28189578.15,34731710.03,22634429.79,84224544.49,22034878.94,18450432.05,17136104.772,24120854.778,24508788.830000002,22393012.03,28384787.692,26266445.2,35762596.83,48530314.01,30941391.78,37725406.53,37963422.5,21785111.15,17098299.192,26109979.54,28976135.77,14670616.54,25270484.18,20564257.46,32950272.052,24054289.68,28541727.34,60505671.44,39727977.53,24824147.68,13015924.36,26965546.8,34467772.567999996,28433912.64,37915485.0,56077405.35,57658713.09,46547370.43,81387943.924,117925320.54,94712341.215,67695280.84,37954011.392,102844103.106,73422679.094,195084091.37,54235975.504,60308815.63,47473492.78,6764732.5200000005,79075502.03,117866155.84,105074026.08,42028549.410000004,60298506.028000005,28464965.272000007,20734772.580000002,20679185.628,18865907.64,11254203.77,10472541.249999998,12580758.559999999],\"type\":\"scatter\"},{\"mode\":\"lines\",\"name\":\"Turnover\",\"x\":[\"2017-10\",\"2017-11\",\"2017-12\",\"2018-01\",\"2018-02\",\"2018-03\",\"2018-04\",\"2018-05\",\"2018-06\",\"2018-07\",\"2018-08\",\"2018-09\",\"2018-10\",\"2018-11\",\"2018-12\",\"2019-01\",\"2019-02\",\"2019-03\",\"2019-04\",\"2019-05\",\"2019-06\",\"2019-07\",\"2019-08\",\"2019-09\",\"2019-10\",\"2019-11\",\"2019-12\",\"2020-01\",\"2020-02\",\"2020-03\",\"2020-04\",\"2020-05\",\"2020-06\",\"2020-07\",\"2020-08\",\"2020-09\",\"2020-10\",\"2020-11\",\"2020-12\",\"2021-01\",\"2021-02\",\"2021-03\",\"2021-04\",\"2021-05\",\"2021-06\",\"2021-07\",\"2021-08\",\"2021-09\",\"2021-10\",\"2021-11\",\"2021-12\",\"2022-01\",\"2022-02\",\"2022-03\",\"2022-04\",\"2022-05\",\"2022-06\",\"2022-07\",\"2022-08\",\"2022-09\",\"2022-10\",\"2022-11\",\"2022-12\",\"2023-01\",\"2023-02\",\"2023-03\",\"2023-04\",\"2023-05\",\"2023-06\",\"2023-07\",\"2023-08\",\"2023-09\"],\"y\":[24078767.13,33018256.75,24023750.146,39272837.048,20310834.490000002,32212993.61,29895311.095,23713755.24,29389289.805999998,25214219.085,33764874.83,38234438.12,24959839.44,39422906.89,34361376.839999996,27551229.78,17323792.742,31267050.08,30007109.892,24150805.706,28161907.83,27922291.240000002,31778719.57,48434074.79,29786312.94,32941302.47,32068129.34,20539386.852,6945992.052,36221745.49,29872111.82,22875954.400000002,31253217.45,19765480.419999998,31699672.106,33868734.816,25288128.29,41617933.05,34843265.34,30609850.46,20771774.07,25786261.13,30044655.2,26610137.518,30188112.14,33034994.61,31595073.68,39190671.03,31381085.4,52830129.422,58662740.373,42025874.342,48439557.73,68433987.304,46804728.128,58137464.822,49858963.966,63220213.734,69977149.02,54377059.064,58064418.196,65414748.48,85452188.354,44428887.778,66826995.914,77204213.936,43160676.056,47320004.566,60119740.24,50802370.086,76566508.558,64284651.378],\"type\":\"scatter\"}],                        {\"template\":{\"data\":{\"histogram2dcontour\":[{\"type\":\"histogram2dcontour\",\"colorbar\":{\"outlinewidth\":0,\"ticks\":\"\"},\"colorscale\":[[0.0,\"#0d0887\"],[0.1111111111111111,\"#46039f\"],[0.2222222222222222,\"#7201a8\"],[0.3333333333333333,\"#9c179e\"],[0.4444444444444444,\"#bd3786\"],[0.5555555555555556,\"#d8576b\"],[0.6666666666666666,\"#ed7953\"],[0.7777777777777778,\"#fb9f3a\"],[0.8888888888888888,\"#fdca26\"],[1.0,\"#f0f921\"]]}],\"choropleth\":[{\"type\":\"choropleth\",\"colorbar\":{\"outlinewidth\":0,\"ticks\":\"\"}}],\"histogram2d\":[{\"type\":\"histogram2d\",\"colorbar\":{\"outlinewidth\":0,\"ticks\":\"\"},\"colorscale\":[[0.0,\"#0d0887\"],[0.1111111111111111,\"#46039f\"],[0.2222222222222222,\"#7201a8\"],[0.3333333333333333,\"#9c179e\"],[0.4444444444444444,\"#bd3786\"],[0.5555555555555556,\"#d8576b\"],[0.6666666666666666,\"#ed7953\"],[0.7777777777777778,\"#fb9f3a\"],[0.8888888888888888,\"#fdca26\"],[1.0,\"#f0f921\"]]}],\"heatmap\":[{\"type\":\"heatmap\",\"colorbar\":{\"outlinewidth\":0,\"ticks\":\"\"},\"colorscale\":[[0.0,\"#0d0887\"],[0.1111111111111111,\"#46039f\"],[0.2222222222222222,\"#7201a8\"],[0.3333333333333333,\"#9c179e\"],[0.4444444444444444,\"#bd3786\"],[0.5555555555555556,\"#d8576b\"],[0.6666666666666666,\"#ed7953\"],[0.7777777777777778,\"#fb9f3a\"],[0.8888888888888888,\"#fdca26\"],[1.0,\"#f0f921\"]]}],\"heatmapgl\":[{\"type\":\"heatmapgl\",\"colorbar\":{\"outlinewidth\":0,\"ticks\":\"\"},\"colorscale\":[[0.0,\"#0d0887\"],[0.1111111111111111,\"#46039f\"],[0.2222222222222222,\"#7201a8\"],[0.3333333333333333,\"#9c179e\"],[0.4444444444444444,\"#bd3786\"],[0.5555555555555556,\"#d8576b\"],[0.6666666666666666,\"#ed7953\"],[0.7777777777777778,\"#fb9f3a\"],[0.8888888888888888,\"#fdca26\"],[1.0,\"#f0f921\"]]}],\"contourcarpet\":[{\"type\":\"contourcarpet\",\"colorbar\":{\"outlinewidth\":0,\"ticks\":\"\"}}],\"contour\":[{\"type\":\"contour\",\"colorbar\":{\"outlinewidth\":0,\"ticks\":\"\"},\"colorscale\":[[0.0,\"#0d0887\"],[0.1111111111111111,\"#46039f\"],[0.2222222222222222,\"#7201a8\"],[0.3333333333333333,\"#9c179e\"],[0.4444444444444444,\"#bd3786\"],[0.5555555555555556,\"#d8576b\"],[0.6666666666666666,\"#ed7953\"],[0.7777777777777778,\"#fb9f3a\"],[0.8888888888888888,\"#fdca26\"],[1.0,\"#f0f921\"]]}],\"surface\":[{\"type\":\"surface\",\"colorbar\":{\"outlinewidth\":0,\"ticks\":\"\"},\"colorscale\":[[0.0,\"#0d0887\"],[0.1111111111111111,\"#46039f\"],[0.2222222222222222,\"#7201a8\"],[0.3333333333333333,\"#9c179e\"],[0.4444444444444444,\"#bd3786\"],[0.5555555555555556,\"#d8576b\"],[0.6666666666666666,\"#ed7953\"],[0.7777777777777778,\"#fb9f3a\"],[0.8888888888888888,\"#fdca26\"],[1.0,\"#f0f921\"]]}],\"mesh3d\":[{\"type\":\"mesh3d\",\"colorbar\":{\"outlinewidth\":0,\"ticks\":\"\"}}],\"scatter\":[{\"fillpattern\":{\"fillmode\":\"overlay\",\"size\":10,\"solidity\":0.2},\"type\":\"scatter\"}],\"parcoords\":[{\"type\":\"parcoords\",\"line\":{\"colorbar\":{\"outlinewidth\":0,\"ticks\":\"\"}}}],\"scatterpolargl\":[{\"type\":\"scatterpolargl\",\"marker\":{\"colorbar\":{\"outlinewidth\":0,\"ticks\":\"\"}}}],\"bar\":[{\"error_x\":{\"color\":\"#2a3f5f\"},\"error_y\":{\"color\":\"#2a3f5f\"},\"marker\":{\"line\":{\"color\":\"#E5ECF6\",\"width\":0.5},\"pattern\":{\"fillmode\":\"overlay\",\"size\":10,\"solidity\":0.2}},\"type\":\"bar\"}],\"scattergeo\":[{\"type\":\"scattergeo\",\"marker\":{\"colorbar\":{\"outlinewidth\":0,\"ticks\":\"\"}}}],\"scatterpolar\":[{\"type\":\"scatterpolar\",\"marker\":{\"colorbar\":{\"outlinewidth\":0,\"ticks\":\"\"}}}],\"histogram\":[{\"marker\":{\"pattern\":{\"fillmode\":\"overlay\",\"size\":10,\"solidity\":0.2}},\"type\":\"histogram\"}],\"scattergl\":[{\"type\":\"scattergl\",\"marker\":{\"colorbar\":{\"outlinewidth\":0,\"ticks\":\"\"}}}],\"scatter3d\":[{\"type\":\"scatter3d\",\"line\":{\"colorbar\":{\"outlinewidth\":0,\"ticks\":\"\"}},\"marker\":{\"colorbar\":{\"outlinewidth\":0,\"ticks\":\"\"}}}],\"scattermapbox\":[{\"type\":\"scattermapbox\",\"marker\":{\"colorbar\":{\"outlinewidth\":0,\"ticks\":\"\"}}}],\"scatterternary\":[{\"type\":\"scatterternary\",\"marker\":{\"colorbar\":{\"outlinewidth\":0,\"ticks\":\"\"}}}],\"scattercarpet\":[{\"type\":\"scattercarpet\",\"marker\":{\"colorbar\":{\"outlinewidth\":0,\"ticks\":\"\"}}}],\"carpet\":[{\"aaxis\":{\"endlinecolor\":\"#2a3f5f\",\"gridcolor\":\"white\",\"linecolor\":\"white\",\"minorgridcolor\":\"white\",\"startlinecolor\":\"#2a3f5f\"},\"baxis\":{\"endlinecolor\":\"#2a3f5f\",\"gridcolor\":\"white\",\"linecolor\":\"white\",\"minorgridcolor\":\"white\",\"startlinecolor\":\"#2a3f5f\"},\"type\":\"carpet\"}],\"table\":[{\"cells\":{\"fill\":{\"color\":\"#EBF0F8\"},\"line\":{\"color\":\"white\"}},\"header\":{\"fill\":{\"color\":\"#C8D4E3\"},\"line\":{\"color\":\"white\"}},\"type\":\"table\"}],\"barpolar\":[{\"marker\":{\"line\":{\"color\":\"#E5ECF6\",\"width\":0.5},\"pattern\":{\"fillmode\":\"overlay\",\"size\":10,\"solidity\":0.2}},\"type\":\"barpolar\"}],\"pie\":[{\"automargin\":true,\"type\":\"pie\"}]},\"layout\":{\"autotypenumbers\":\"strict\",\"colorway\":[\"#636efa\",\"#EF553B\",\"#00cc96\",\"#ab63fa\",\"#FFA15A\",\"#19d3f3\",\"#FF6692\",\"#B6E880\",\"#FF97FF\",\"#FECB52\"],\"font\":{\"color\":\"#2a3f5f\"},\"hovermode\":\"closest\",\"hoverlabel\":{\"align\":\"left\"},\"paper_bgcolor\":\"white\",\"plot_bgcolor\":\"#E5ECF6\",\"polar\":{\"bgcolor\":\"#E5ECF6\",\"angularaxis\":{\"gridcolor\":\"white\",\"linecolor\":\"white\",\"ticks\":\"\"},\"radialaxis\":{\"gridcolor\":\"white\",\"linecolor\":\"white\",\"ticks\":\"\"}},\"ternary\":{\"bgcolor\":\"#E5ECF6\",\"aaxis\":{\"gridcolor\":\"white\",\"linecolor\":\"white\",\"ticks\":\"\"},\"baxis\":{\"gridcolor\":\"white\",\"linecolor\":\"white\",\"ticks\":\"\"},\"caxis\":{\"gridcolor\":\"white\",\"linecolor\":\"white\",\"ticks\":\"\"}},\"coloraxis\":{\"colorbar\":{\"outlinewidth\":0,\"ticks\":\"\"}},\"colorscale\":{\"sequential\":[[0.0,\"#0d0887\"],[0.1111111111111111,\"#46039f\"],[0.2222222222222222,\"#7201a8\"],[0.3333333333333333,\"#9c179e\"],[0.4444444444444444,\"#bd3786\"],[0.5555555555555556,\"#d8576b\"],[0.6666666666666666,\"#ed7953\"],[0.7777777777777778,\"#fb9f3a\"],[0.8888888888888888,\"#fdca26\"],[1.0,\"#f0f921\"]],\"sequentialminus\":[[0.0,\"#0d0887\"],[0.1111111111111111,\"#46039f\"],[0.2222222222222222,\"#7201a8\"],[0.3333333333333333,\"#9c179e\"],[0.4444444444444444,\"#bd3786\"],[0.5555555555555556,\"#d8576b\"],[0.6666666666666666,\"#ed7953\"],[0.7777777777777778,\"#fb9f3a\"],[0.8888888888888888,\"#fdca26\"],[1.0,\"#f0f921\"]],\"diverging\":[[0,\"#8e0152\"],[0.1,\"#c51b7d\"],[0.2,\"#de77ae\"],[0.3,\"#f1b6da\"],[0.4,\"#fde0ef\"],[0.5,\"#f7f7f7\"],[0.6,\"#e6f5d0\"],[0.7,\"#b8e186\"],[0.8,\"#7fbc41\"],[0.9,\"#4d9221\"],[1,\"#276419\"]]},\"xaxis\":{\"gridcolor\":\"white\",\"linecolor\":\"white\",\"ticks\":\"\",\"title\":{\"standoff\":15},\"zerolinecolor\":\"white\",\"automargin\":true,\"zerolinewidth\":2},\"yaxis\":{\"gridcolor\":\"white\",\"linecolor\":\"white\",\"ticks\":\"\",\"title\":{\"standoff\":15},\"zerolinecolor\":\"white\",\"automargin\":true,\"zerolinewidth\":2},\"scene\":{\"xaxis\":{\"backgroundcolor\":\"#E5ECF6\",\"gridcolor\":\"white\",\"linecolor\":\"white\",\"showbackground\":true,\"ticks\":\"\",\"zerolinecolor\":\"white\",\"gridwidth\":2},\"yaxis\":{\"backgroundcolor\":\"#E5ECF6\",\"gridcolor\":\"white\",\"linecolor\":\"white\",\"showbackground\":true,\"ticks\":\"\",\"zerolinecolor\":\"white\",\"gridwidth\":2},\"zaxis\":{\"backgroundcolor\":\"#E5ECF6\",\"gridcolor\":\"white\",\"linecolor\":\"white\",\"showbackground\":true,\"ticks\":\"\",\"zerolinecolor\":\"white\",\"gridwidth\":2}},\"shapedefaults\":{\"line\":{\"color\":\"#2a3f5f\"}},\"annotationdefaults\":{\"arrowcolor\":\"#2a3f5f\",\"arrowhead\":0,\"arrowwidth\":1},\"geo\":{\"bgcolor\":\"white\",\"landcolor\":\"#E5ECF6\",\"subunitcolor\":\"white\",\"showland\":true,\"showlakes\":true,\"lakecolor\":\"white\"},\"title\":{\"x\":0.05},\"mapbox\":{\"style\":\"light\"}}},\"margin\":{\"t\":0,\"b\":0,\"l\":0,\"r\":0},\"xaxis\":{\"title\":{\"text\":\"Fiscal Months\"},\"dtick\":\"M12\",\"range\":[\"2017-07-01\",\"2023-12-31\"]},\"legend\":{\"x\":0.01,\"y\":0.99},\"height\":680,\"yaxis\":{\"title\":{\"text\":\"Value (K)\"}}},                        {\"responsive\": true}                    ).then(function(){\n",
       "                            \n",
       "var gd = document.getElementById('7630bc66-67c2-48ae-b389-a2c8657432cf');\n",
       "var x = new MutationObserver(function (mutations, observer) {{\n",
       "        var display = window.getComputedStyle(gd).display;\n",
       "        if (!display || display === 'none') {{\n",
       "            console.log([gd, 'removed!']);\n",
       "            Plotly.purge(gd);\n",
       "            observer.disconnect();\n",
       "        }}\n",
       "}});\n",
       "\n",
       "// Listen for the removal of the full notebook cells\n",
       "var notebookContainer = gd.closest('#notebook-container');\n",
       "if (notebookContainer) {{\n",
       "    x.observe(notebookContainer, {childList: true});\n",
       "}}\n",
       "\n",
       "// Listen for the clearing of the current output cell\n",
       "var outputEl = gd.closest('.output');\n",
       "if (outputEl) {{\n",
       "    x.observe(outputEl, {childList: true});\n",
       "}}\n",
       "\n",
       "                        })                };                });            </script>        </div>"
      ]
     },
     "metadata": {},
     "output_type": "display_data"
    }
   ],
   "source": [
    "import plotly.graph_objects as go\n",
    "\n",
    "order = ts.groupby('month')['OR'].sum()\n",
    "turnover = ts.groupby('month')['TO'].sum()\n",
    "\n",
    "plot_order = go.Scatter(x=order.index, y=order, mode='lines', name='New Order')\n",
    "plot_turnover = go.Scatter(x=turnover.index, y=turnover, mode='lines', name='Turnover')\n",
    "\n",
    "fig = go.Figure([plot_order, plot_turnover])\n",
    "fig.update_layout(\n",
    "    height=680, margin={'t':0, 'b':0, 'l':0, 'r':0},\n",
    "    xaxis=dict(title=\"Fiscal Months\", dtick='M12', range=['2017-07-01','2023-12-31']),\n",
    "    yaxis=dict(title=\"Value (K)\"),\n",
    "    legend=dict(x=0.01, y=0.99)\n",
    ")\n",
    "fig.show()"
   ]
  },
  {
   "cell_type": "code",
   "execution_count": 245,
   "id": "e82faa67-f698-415e-9061-3661067a65a3",
   "metadata": {},
   "outputs": [
    {
     "data": {
      "application/vnd.plotly.v1+json": {
       "config": {
        "plotlyServerURL": "https://plot.ly"
       },
       "data": [
        {
         "type": "scatter",
         "x": [
          "2017-10",
          "2017-11",
          "2017-12",
          "2018-01",
          "2018-02",
          "2018-03",
          "2018-04",
          "2018-05",
          "2018-06",
          "2018-07",
          "2018-08",
          "2018-09",
          "2018-10",
          "2018-11",
          "2018-12",
          "2019-01",
          "2019-02",
          "2019-03",
          "2019-04",
          "2019-05",
          "2019-06",
          "2019-07",
          "2019-08",
          "2019-09",
          "2019-10",
          "2019-11",
          "2019-12",
          "2020-01",
          "2020-02",
          "2020-03",
          "2020-04",
          "2020-05",
          "2020-06",
          "2020-07",
          "2020-08",
          "2020-09",
          "2020-10",
          "2020-11",
          "2020-12",
          "2021-01",
          "2021-02",
          "2021-03",
          "2021-04",
          "2021-05",
          "2021-06",
          "2021-07",
          "2021-08",
          "2021-09",
          "2021-10",
          "2021-11",
          "2021-12",
          "2022-01",
          "2022-02",
          "2022-03",
          "2022-04",
          "2022-05",
          "2022-06",
          "2022-07",
          "2022-08",
          "2022-09",
          "2022-10",
          "2022-11",
          "2022-12",
          "2023-01",
          "2023-02",
          "2023-03",
          "2023-04",
          "2023-05",
          "2023-06",
          "2023-07",
          "2023-08",
          "2023-09"
         ],
         "xaxis": "x",
         "y": [
          39491797.29,
          44712520.774,
          29825743,
          27784117.63,
          14965130.79,
          30368926.419999998,
          30836035.035,
          25224683.391,
          20814764.53,
          31999011.98,
          28189578.15,
          34731710.03,
          22634429.79,
          84224544.49,
          22034878.94,
          18450432.05,
          17136104.772,
          24120854.778,
          24508788.830000002,
          22393012.03,
          28384787.692,
          26266445.2,
          35762596.83,
          48530314.01,
          30941391.78,
          37725406.53,
          37963422.5,
          21785111.15,
          17098299.192,
          26109979.54,
          28976135.77,
          14670616.54,
          25270484.18,
          20564257.46,
          32950272.052,
          24054289.68,
          28541727.34,
          60505671.44,
          39727977.53,
          24824147.68,
          13015924.36,
          26965546.8,
          34467772.567999996,
          28433912.64,
          37915485,
          56077405.35,
          57658713.09,
          46547370.43,
          81387943.924,
          117925320.54,
          94712341.215,
          67695280.84,
          37954011.392,
          102844103.106,
          73422679.094,
          195084091.37,
          54235975.504,
          60308815.63,
          47473492.78,
          6764732.5200000005,
          79075502.03,
          117866155.84,
          105074026.08,
          42028549.410000004,
          60298506.028000005,
          28464965.272000007,
          20734772.580000002,
          20679185.628,
          18865907.64,
          11254203.77,
          10472541.249999998,
          12580758.559999999
         ],
         "yaxis": "y"
        },
        {
         "type": "scatter",
         "x": [
          "2017-10",
          "2017-11",
          "2017-12",
          "2018-01",
          "2018-02",
          "2018-03",
          "2018-04",
          "2018-05",
          "2018-06",
          "2018-07",
          "2018-08",
          "2018-09",
          "2018-10",
          "2018-11",
          "2018-12",
          "2019-01",
          "2019-02",
          "2019-03",
          "2019-04",
          "2019-05",
          "2019-06",
          "2019-07",
          "2019-08",
          "2019-09",
          "2019-10",
          "2019-11",
          "2019-12",
          "2020-01",
          "2020-02",
          "2020-03",
          "2020-04",
          "2020-05",
          "2020-06",
          "2020-07",
          "2020-08",
          "2020-09",
          "2020-10",
          "2020-11",
          "2020-12",
          "2021-01",
          "2021-02",
          "2021-03",
          "2021-04",
          "2021-05",
          "2021-06",
          "2021-07",
          "2021-08",
          "2021-09",
          "2021-10",
          "2021-11",
          "2021-12",
          "2022-01",
          "2022-02",
          "2022-03",
          "2022-04",
          "2022-05",
          "2022-06",
          "2022-07",
          "2022-08",
          "2022-09",
          "2022-10",
          "2022-11",
          "2022-12",
          "2023-01",
          "2023-02",
          "2023-03",
          "2023-04",
          "2023-05",
          "2023-06",
          "2023-07",
          "2023-08",
          "2023-09"
         ],
         "xaxis": "x2",
         "y": [
          32398705.49127203,
          32172597.86668024,
          31945055.318893105,
          31718676.626272086,
          31496006.431239292,
          31278811.097714875,
          31070397.839095715,
          30874099.50597423,
          30692140.561428342,
          30521804.56029166,
          30355532.731180817,
          30153325.7090504,
          29935677.613924444,
          29790927.22183696,
          29800833.083215017,
          29924559.564566374,
          30051789.901691034,
          30133863.085960425,
          30153231.415128194,
          30106764.09175221,
          30015760.56458811,
          29888542.709930517,
          29721885.504463382,
          29586825.373303846,
          29492663.666345786,
          29345126.777126085,
          29136585.94435752,
          28888482.321923774,
          28608164.57785015,
          28333765.96104128,
          28137929.306399,
          28066307.75500873,
          28122624.04384193,
          28311777.48976793,
          28525605.54368705,
          28768798.77517004,
          29226165.123834036,
          30145002.36677901,
          31636252.285548236,
          33705685.67800926,
          36270895.321342066,
          39196276.80608568,
          42346442.28305107,
          45624450.37147773,
          49063064.494148605,
          52819029.42518626,
          57161330.64716048,
          61953026.52754362,
          66839079.908697724,
          71360782.04440992,
          75046518.1819733,
          77628069.48546796,
          79060945.92108491,
          79481047.32721579,
          79151254.61406137,
          78434606.25404896,
          77413514.76210323,
          75872481.00613339,
          73482598.51225638,
          70152499.01355876,
          65977404.49316484,
          61367341.44576993,
          57403409.1383871,
          53689944.04875755,
          50088876.71028842,
          46545961.32270825,
          43028436.78412582,
          39522848.530798785,
          36030837.605911255,
          32574780.94965721,
          29176581.193343036,
          25853844.14515513
         ],
         "yaxis": "y2"
        },
        {
         "type": "scatter",
         "x": [
          "2017-10",
          "2017-11",
          "2017-12",
          "2018-01",
          "2018-02",
          "2018-03",
          "2018-04",
          "2018-05",
          "2018-06",
          "2018-07",
          "2018-08",
          "2018-09",
          "2018-10",
          "2018-11",
          "2018-12",
          "2019-01",
          "2019-02",
          "2019-03",
          "2019-04",
          "2019-05",
          "2019-06",
          "2019-07",
          "2019-08",
          "2019-09",
          "2019-10",
          "2019-11",
          "2019-12",
          "2020-01",
          "2020-02",
          "2020-03",
          "2020-04",
          "2020-05",
          "2020-06",
          "2020-07",
          "2020-08",
          "2020-09",
          "2020-10",
          "2020-11",
          "2020-12",
          "2021-01",
          "2021-02",
          "2021-03",
          "2021-04",
          "2021-05",
          "2021-06",
          "2021-07",
          "2021-08",
          "2021-09",
          "2021-10",
          "2021-11",
          "2021-12",
          "2022-01",
          "2022-02",
          "2022-03",
          "2022-04",
          "2022-05",
          "2022-06",
          "2022-07",
          "2022-08",
          "2022-09",
          "2022-10",
          "2022-11",
          "2022-12",
          "2023-01",
          "2023-02",
          "2023-03",
          "2023-04",
          "2023-05",
          "2023-06",
          "2023-07",
          "2023-08",
          "2023-09"
         ],
         "xaxis": "x3",
         "y": [
          1079645.6056582923,
          24254417.798062768,
          -6065219.915013271,
          -6478221.6956986645,
          -12820962.443372292,
          -3446891.692949614,
          -1270681.5448979805,
          -13225510.022459865,
          -5292480.698629846,
          -382054.0541743278,
          2671768.531743595,
          15509611.088997342,
          903283.1763914137,
          26611042.88578976,
          -466189.01017120644,
          -7180537.70315148,
          -14781804.661262121,
          -3294313.3885478848,
          -2044105.3196006627,
          -7845517.951175661,
          -5624780.311996253,
          -1588141.976096462,
          2291436.1040090593,
          5559057.83172823,
          975571.8955863065,
          30500602.788411506,
          4804557.413351954,
          -8235100.225334089,
          -17966597.491063703,
          -2734955.589945354,
          -3543032.9564912175,
          1093820.727514619,
          -7246825.014415812,
          -3634815.238687275,
          157824.16913391982,
          -6362151.143340573,
          4390832.081116022,
          33742380.52759163,
          13386518.110610915,
          -9547622.390659293,
          -20837553.460286018,
          -985843.9861109981,
          -6870978.920802174,
          18255405.340668745,
          -12430447.460759947,
          -8250586.944187507,
          -7401136.095203714,
          -22084401.24685195,
          8819654.604068337,
          43129331.71325126,
          26268326.68241451,
          -11070510.774883648,
          -15739713.732340414,
          -3506277.965231558,
          -13171251.469562793,
          23365645.796958476,
          -17734983.96544723,
          -14446519.003854599,
          -16286947.012838218,
          -29960166.532171067,
          13532821.43057056,
          54099877.29548839,
          39427256.71367903,
          -12929761.529025393,
          -10359078.818626298,
          -5782159.32011837,
          -20013371.28450408,
          30399992.52054688,
          -23422364.17915943,
          -21735254.557302773,
          -26017021.664264344,
          -37785969.82801199
         ],
         "yaxis": "y3"
        },
        {
         "type": "scatter",
         "x": [
          "2017-10",
          "2017-11",
          "2017-12",
          "2018-01",
          "2018-02",
          "2018-03",
          "2018-04",
          "2018-05",
          "2018-06",
          "2018-07",
          "2018-08",
          "2018-09",
          "2018-10",
          "2018-11",
          "2018-12",
          "2019-01",
          "2019-02",
          "2019-03",
          "2019-04",
          "2019-05",
          "2019-06",
          "2019-07",
          "2019-08",
          "2019-09",
          "2019-10",
          "2019-11",
          "2019-12",
          "2020-01",
          "2020-02",
          "2020-03",
          "2020-04",
          "2020-05",
          "2020-06",
          "2020-07",
          "2020-08",
          "2020-09",
          "2020-10",
          "2020-11",
          "2020-12",
          "2021-01",
          "2021-02",
          "2021-03",
          "2021-04",
          "2021-05",
          "2021-06",
          "2021-07",
          "2021-08",
          "2021-09",
          "2021-10",
          "2021-11",
          "2021-12",
          "2022-01",
          "2022-02",
          "2022-03",
          "2022-04",
          "2022-05",
          "2022-06",
          "2022-07",
          "2022-08",
          "2022-09",
          "2022-10",
          "2022-11",
          "2022-12",
          "2023-01",
          "2023-02",
          "2023-03",
          "2023-04",
          "2023-05",
          "2023-06",
          "2023-07",
          "2023-08",
          "2023-09"
         ],
         "xaxis": "x4",
         "y": [
          6013446.193069678,
          -11714494.89074301,
          3945907.596120164,
          2543662.69942658,
          -3709913.1978669986,
          2537007.015234735,
          1036318.7408022657,
          7576093.907485638,
          -4584895.332798496,
          1859261.4738826677,
          -4837723.112924412,
          -10931226.768047739,
          -8204531.00031586,
          27822574.382373273,
          -7299765.133043811,
          -4293589.811414894,
          1866119.5315710865,
          -2718694.9194125384,
          -3600337.265527528,
          131765.88942345232,
          3993807.439408142,
          -2033955.533834055,
          3749275.221527558,
          13384430.804967925,
          473156.2180679068,
          -22120323.03553759,
          4022279.142290525,
          1131729.053410314,
          6456732.105213549,
          511169.16890407354,
          4381239.420092218,
          -14489511.942523351,
          4394685.150573883,
          -4112704.7910806537,
          4266842.339179032,
          1647642.048170533,
          -5075269.864950057,
          -3381711.454370644,
          -5294792.866159152,
          666084.392650038,
          -2417417.5010560453,
          -11244886.019974686,
          -1007690.7942489013,
          -35445943.072146475,
          1282867.9666113406,
          11508962.869001247,
          7898518.538043238,
          6678745.149308339,
          5729209.411233932,
          3435206.782338828,
          -6602503.649387792,
          1137722.129415691,
          -25367220.796744496,
          26869333.74401577,
          7442675.949501425,
          93283839.31899257,
          -5442555.292656004,
          -1117146.3722787946,
          -9722158.719418168,
          -33427599.961387694,
          -434723.8937353939,
          2398937.098741688,
          8243360.227933869,
          1268366.8902678415,
          20568708.136337876,
          -12298836.730589874,
          -2280292.919621736,
          -49243655.42334567,
          6257434.213248178,
          414677.37764556333,
          7312981.720921308,
          24512884.24285686
         ],
         "yaxis": "y4"
        }
       ],
       "layout": {
        "annotations": [
         {
          "font": {
           "size": 16
          },
          "showarrow": false,
          "text": "observed",
          "x": 0.5,
          "xanchor": "center",
          "xref": "paper",
          "y": 1,
          "yanchor": "bottom",
          "yref": "paper"
         },
         {
          "font": {
           "size": 16
          },
          "showarrow": false,
          "text": "trend",
          "x": 0.5,
          "xanchor": "center",
          "xref": "paper",
          "y": 0.7375,
          "yanchor": "bottom",
          "yref": "paper"
         },
         {
          "font": {
           "size": 16
          },
          "showarrow": false,
          "text": "seasonal",
          "x": 0.5,
          "xanchor": "center",
          "xref": "paper",
          "y": 0.475,
          "yanchor": "bottom",
          "yref": "paper"
         },
         {
          "font": {
           "size": 16
          },
          "showarrow": false,
          "text": "resid",
          "x": 0.5,
          "xanchor": "center",
          "xref": "paper",
          "y": 0.2125,
          "yanchor": "bottom",
          "yref": "paper"
         }
        ],
        "autosize": true,
        "margin": {
         "b": 0,
         "l": 0,
         "r": 0,
         "t": 20
        },
        "showlegend": false,
        "template": {
         "data": {
          "bar": [
           {
            "error_x": {
             "color": "#2a3f5f"
            },
            "error_y": {
             "color": "#2a3f5f"
            },
            "marker": {
             "line": {
              "color": "#E5ECF6",
              "width": 0.5
             },
             "pattern": {
              "fillmode": "overlay",
              "size": 10,
              "solidity": 0.2
             }
            },
            "type": "bar"
           }
          ],
          "barpolar": [
           {
            "marker": {
             "line": {
              "color": "#E5ECF6",
              "width": 0.5
             },
             "pattern": {
              "fillmode": "overlay",
              "size": 10,
              "solidity": 0.2
             }
            },
            "type": "barpolar"
           }
          ],
          "carpet": [
           {
            "aaxis": {
             "endlinecolor": "#2a3f5f",
             "gridcolor": "white",
             "linecolor": "white",
             "minorgridcolor": "white",
             "startlinecolor": "#2a3f5f"
            },
            "baxis": {
             "endlinecolor": "#2a3f5f",
             "gridcolor": "white",
             "linecolor": "white",
             "minorgridcolor": "white",
             "startlinecolor": "#2a3f5f"
            },
            "type": "carpet"
           }
          ],
          "choropleth": [
           {
            "colorbar": {
             "outlinewidth": 0,
             "ticks": ""
            },
            "type": "choropleth"
           }
          ],
          "contour": [
           {
            "colorbar": {
             "outlinewidth": 0,
             "ticks": ""
            },
            "colorscale": [
             [
              0,
              "#0d0887"
             ],
             [
              0.1111111111111111,
              "#46039f"
             ],
             [
              0.2222222222222222,
              "#7201a8"
             ],
             [
              0.3333333333333333,
              "#9c179e"
             ],
             [
              0.4444444444444444,
              "#bd3786"
             ],
             [
              0.5555555555555556,
              "#d8576b"
             ],
             [
              0.6666666666666666,
              "#ed7953"
             ],
             [
              0.7777777777777778,
              "#fb9f3a"
             ],
             [
              0.8888888888888888,
              "#fdca26"
             ],
             [
              1,
              "#f0f921"
             ]
            ],
            "type": "contour"
           }
          ],
          "contourcarpet": [
           {
            "colorbar": {
             "outlinewidth": 0,
             "ticks": ""
            },
            "type": "contourcarpet"
           }
          ],
          "heatmap": [
           {
            "colorbar": {
             "outlinewidth": 0,
             "ticks": ""
            },
            "colorscale": [
             [
              0,
              "#0d0887"
             ],
             [
              0.1111111111111111,
              "#46039f"
             ],
             [
              0.2222222222222222,
              "#7201a8"
             ],
             [
              0.3333333333333333,
              "#9c179e"
             ],
             [
              0.4444444444444444,
              "#bd3786"
             ],
             [
              0.5555555555555556,
              "#d8576b"
             ],
             [
              0.6666666666666666,
              "#ed7953"
             ],
             [
              0.7777777777777778,
              "#fb9f3a"
             ],
             [
              0.8888888888888888,
              "#fdca26"
             ],
             [
              1,
              "#f0f921"
             ]
            ],
            "type": "heatmap"
           }
          ],
          "heatmapgl": [
           {
            "colorbar": {
             "outlinewidth": 0,
             "ticks": ""
            },
            "colorscale": [
             [
              0,
              "#0d0887"
             ],
             [
              0.1111111111111111,
              "#46039f"
             ],
             [
              0.2222222222222222,
              "#7201a8"
             ],
             [
              0.3333333333333333,
              "#9c179e"
             ],
             [
              0.4444444444444444,
              "#bd3786"
             ],
             [
              0.5555555555555556,
              "#d8576b"
             ],
             [
              0.6666666666666666,
              "#ed7953"
             ],
             [
              0.7777777777777778,
              "#fb9f3a"
             ],
             [
              0.8888888888888888,
              "#fdca26"
             ],
             [
              1,
              "#f0f921"
             ]
            ],
            "type": "heatmapgl"
           }
          ],
          "histogram": [
           {
            "marker": {
             "pattern": {
              "fillmode": "overlay",
              "size": 10,
              "solidity": 0.2
             }
            },
            "type": "histogram"
           }
          ],
          "histogram2d": [
           {
            "colorbar": {
             "outlinewidth": 0,
             "ticks": ""
            },
            "colorscale": [
             [
              0,
              "#0d0887"
             ],
             [
              0.1111111111111111,
              "#46039f"
             ],
             [
              0.2222222222222222,
              "#7201a8"
             ],
             [
              0.3333333333333333,
              "#9c179e"
             ],
             [
              0.4444444444444444,
              "#bd3786"
             ],
             [
              0.5555555555555556,
              "#d8576b"
             ],
             [
              0.6666666666666666,
              "#ed7953"
             ],
             [
              0.7777777777777778,
              "#fb9f3a"
             ],
             [
              0.8888888888888888,
              "#fdca26"
             ],
             [
              1,
              "#f0f921"
             ]
            ],
            "type": "histogram2d"
           }
          ],
          "histogram2dcontour": [
           {
            "colorbar": {
             "outlinewidth": 0,
             "ticks": ""
            },
            "colorscale": [
             [
              0,
              "#0d0887"
             ],
             [
              0.1111111111111111,
              "#46039f"
             ],
             [
              0.2222222222222222,
              "#7201a8"
             ],
             [
              0.3333333333333333,
              "#9c179e"
             ],
             [
              0.4444444444444444,
              "#bd3786"
             ],
             [
              0.5555555555555556,
              "#d8576b"
             ],
             [
              0.6666666666666666,
              "#ed7953"
             ],
             [
              0.7777777777777778,
              "#fb9f3a"
             ],
             [
              0.8888888888888888,
              "#fdca26"
             ],
             [
              1,
              "#f0f921"
             ]
            ],
            "type": "histogram2dcontour"
           }
          ],
          "mesh3d": [
           {
            "colorbar": {
             "outlinewidth": 0,
             "ticks": ""
            },
            "type": "mesh3d"
           }
          ],
          "parcoords": [
           {
            "line": {
             "colorbar": {
              "outlinewidth": 0,
              "ticks": ""
             }
            },
            "type": "parcoords"
           }
          ],
          "pie": [
           {
            "automargin": true,
            "type": "pie"
           }
          ],
          "scatter": [
           {
            "fillpattern": {
             "fillmode": "overlay",
             "size": 10,
             "solidity": 0.2
            },
            "type": "scatter"
           }
          ],
          "scatter3d": [
           {
            "line": {
             "colorbar": {
              "outlinewidth": 0,
              "ticks": ""
             }
            },
            "marker": {
             "colorbar": {
              "outlinewidth": 0,
              "ticks": ""
             }
            },
            "type": "scatter3d"
           }
          ],
          "scattercarpet": [
           {
            "marker": {
             "colorbar": {
              "outlinewidth": 0,
              "ticks": ""
             }
            },
            "type": "scattercarpet"
           }
          ],
          "scattergeo": [
           {
            "marker": {
             "colorbar": {
              "outlinewidth": 0,
              "ticks": ""
             }
            },
            "type": "scattergeo"
           }
          ],
          "scattergl": [
           {
            "marker": {
             "colorbar": {
              "outlinewidth": 0,
              "ticks": ""
             }
            },
            "type": "scattergl"
           }
          ],
          "scattermapbox": [
           {
            "marker": {
             "colorbar": {
              "outlinewidth": 0,
              "ticks": ""
             }
            },
            "type": "scattermapbox"
           }
          ],
          "scatterpolar": [
           {
            "marker": {
             "colorbar": {
              "outlinewidth": 0,
              "ticks": ""
             }
            },
            "type": "scatterpolar"
           }
          ],
          "scatterpolargl": [
           {
            "marker": {
             "colorbar": {
              "outlinewidth": 0,
              "ticks": ""
             }
            },
            "type": "scatterpolargl"
           }
          ],
          "scatterternary": [
           {
            "marker": {
             "colorbar": {
              "outlinewidth": 0,
              "ticks": ""
             }
            },
            "type": "scatterternary"
           }
          ],
          "surface": [
           {
            "colorbar": {
             "outlinewidth": 0,
             "ticks": ""
            },
            "colorscale": [
             [
              0,
              "#0d0887"
             ],
             [
              0.1111111111111111,
              "#46039f"
             ],
             [
              0.2222222222222222,
              "#7201a8"
             ],
             [
              0.3333333333333333,
              "#9c179e"
             ],
             [
              0.4444444444444444,
              "#bd3786"
             ],
             [
              0.5555555555555556,
              "#d8576b"
             ],
             [
              0.6666666666666666,
              "#ed7953"
             ],
             [
              0.7777777777777778,
              "#fb9f3a"
             ],
             [
              0.8888888888888888,
              "#fdca26"
             ],
             [
              1,
              "#f0f921"
             ]
            ],
            "type": "surface"
           }
          ],
          "table": [
           {
            "cells": {
             "fill": {
              "color": "#EBF0F8"
             },
             "line": {
              "color": "white"
             }
            },
            "header": {
             "fill": {
              "color": "#C8D4E3"
             },
             "line": {
              "color": "white"
             }
            },
            "type": "table"
           }
          ]
         },
         "layout": {
          "annotationdefaults": {
           "arrowcolor": "#2a3f5f",
           "arrowhead": 0,
           "arrowwidth": 1
          },
          "autotypenumbers": "strict",
          "coloraxis": {
           "colorbar": {
            "outlinewidth": 0,
            "ticks": ""
           }
          },
          "colorscale": {
           "diverging": [
            [
             0,
             "#8e0152"
            ],
            [
             0.1,
             "#c51b7d"
            ],
            [
             0.2,
             "#de77ae"
            ],
            [
             0.3,
             "#f1b6da"
            ],
            [
             0.4,
             "#fde0ef"
            ],
            [
             0.5,
             "#f7f7f7"
            ],
            [
             0.6,
             "#e6f5d0"
            ],
            [
             0.7,
             "#b8e186"
            ],
            [
             0.8,
             "#7fbc41"
            ],
            [
             0.9,
             "#4d9221"
            ],
            [
             1,
             "#276419"
            ]
           ],
           "sequential": [
            [
             0,
             "#0d0887"
            ],
            [
             0.1111111111111111,
             "#46039f"
            ],
            [
             0.2222222222222222,
             "#7201a8"
            ],
            [
             0.3333333333333333,
             "#9c179e"
            ],
            [
             0.4444444444444444,
             "#bd3786"
            ],
            [
             0.5555555555555556,
             "#d8576b"
            ],
            [
             0.6666666666666666,
             "#ed7953"
            ],
            [
             0.7777777777777778,
             "#fb9f3a"
            ],
            [
             0.8888888888888888,
             "#fdca26"
            ],
            [
             1,
             "#f0f921"
            ]
           ],
           "sequentialminus": [
            [
             0,
             "#0d0887"
            ],
            [
             0.1111111111111111,
             "#46039f"
            ],
            [
             0.2222222222222222,
             "#7201a8"
            ],
            [
             0.3333333333333333,
             "#9c179e"
            ],
            [
             0.4444444444444444,
             "#bd3786"
            ],
            [
             0.5555555555555556,
             "#d8576b"
            ],
            [
             0.6666666666666666,
             "#ed7953"
            ],
            [
             0.7777777777777778,
             "#fb9f3a"
            ],
            [
             0.8888888888888888,
             "#fdca26"
            ],
            [
             1,
             "#f0f921"
            ]
           ]
          },
          "colorway": [
           "#636efa",
           "#EF553B",
           "#00cc96",
           "#ab63fa",
           "#FFA15A",
           "#19d3f3",
           "#FF6692",
           "#B6E880",
           "#FF97FF",
           "#FECB52"
          ],
          "font": {
           "color": "#2a3f5f"
          },
          "geo": {
           "bgcolor": "white",
           "lakecolor": "white",
           "landcolor": "#E5ECF6",
           "showlakes": true,
           "showland": true,
           "subunitcolor": "white"
          },
          "hoverlabel": {
           "align": "left"
          },
          "hovermode": "closest",
          "mapbox": {
           "style": "light"
          },
          "paper_bgcolor": "white",
          "plot_bgcolor": "#E5ECF6",
          "polar": {
           "angularaxis": {
            "gridcolor": "white",
            "linecolor": "white",
            "ticks": ""
           },
           "bgcolor": "#E5ECF6",
           "radialaxis": {
            "gridcolor": "white",
            "linecolor": "white",
            "ticks": ""
           }
          },
          "scene": {
           "xaxis": {
            "backgroundcolor": "#E5ECF6",
            "gridcolor": "white",
            "gridwidth": 2,
            "linecolor": "white",
            "showbackground": true,
            "ticks": "",
            "zerolinecolor": "white"
           },
           "yaxis": {
            "backgroundcolor": "#E5ECF6",
            "gridcolor": "white",
            "gridwidth": 2,
            "linecolor": "white",
            "showbackground": true,
            "ticks": "",
            "zerolinecolor": "white"
           },
           "zaxis": {
            "backgroundcolor": "#E5ECF6",
            "gridcolor": "white",
            "gridwidth": 2,
            "linecolor": "white",
            "showbackground": true,
            "ticks": "",
            "zerolinecolor": "white"
           }
          },
          "shapedefaults": {
           "line": {
            "color": "#2a3f5f"
           }
          },
          "ternary": {
           "aaxis": {
            "gridcolor": "white",
            "linecolor": "white",
            "ticks": ""
           },
           "baxis": {
            "gridcolor": "white",
            "linecolor": "white",
            "ticks": ""
           },
           "bgcolor": "#E5ECF6",
           "caxis": {
            "gridcolor": "white",
            "linecolor": "white",
            "ticks": ""
           }
          },
          "title": {
           "x": 0.05
          },
          "xaxis": {
           "automargin": true,
           "gridcolor": "white",
           "linecolor": "white",
           "ticks": "",
           "title": {
            "standoff": 15
           },
           "zerolinecolor": "white",
           "zerolinewidth": 2
          },
          "yaxis": {
           "automargin": true,
           "gridcolor": "white",
           "linecolor": "white",
           "ticks": "",
           "title": {
            "standoff": 15
           },
           "zerolinecolor": "white",
           "zerolinewidth": 2
          }
         }
        },
        "xaxis": {
         "anchor": "y",
         "domain": [
          0,
          1
         ],
         "matches": "x4",
         "showticklabels": false,
         "type": "date"
        },
        "xaxis2": {
         "anchor": "y2",
         "domain": [
          0,
          1
         ],
         "matches": "x4",
         "showticklabels": false,
         "type": "date"
        },
        "xaxis3": {
         "anchor": "y3",
         "domain": [
          0,
          1
         ],
         "matches": "x4",
         "showticklabels": false,
         "type": "date"
        },
        "xaxis4": {
         "anchor": "y4",
         "domain": [
          0,
          1
         ],
         "dtick": "M12",
         "range": [
          "2017-07-01",
          "2023-12-31"
         ],
         "title": {
          "text": "Fiscal Months"
         },
         "type": "date"
        },
        "yaxis": {
         "anchor": "x",
         "autorange": true,
         "domain": [
          0.7875,
          1
         ],
         "range": [
          -3697454.0827777786,
          205546277.97277778
         ],
         "type": "linear"
        },
        "yaxis2": {
         "anchor": "x2",
         "autorange": true,
         "domain": [
          0.525,
          0.7375
         ],
         "range": [
          22874555.079485096,
          82460336.39288583
         ],
         "type": "linear"
        },
        "yaxis3": {
         "anchor": "x3",
         "autorange": true,
         "domain": [
          0.2625,
          0.475
         ],
         "range": [
          -42890739.1126509,
          59204646.5801273
         ],
         "type": "linear"
        },
        "yaxis4": {
         "anchor": "x4",
         "autorange": true,
         "domain": [
          0,
          0.2125
         ],
         "range": [
          -57161849.575697795,
          101202033.4713447
         ],
         "type": "linear"
        }
       }
      },
      "image/png": "[encoded data removed]",
      "text/html": [
       "<div>                            <div id=\"2e71beb8-d970-43cc-953c-7768ce9800da\" class=\"plotly-graph-div\" style=\"height:800px; width:100%;\"></div>            <script type=\"text/javascript\">                require([\"plotly\"], function(Plotly) {                    window.PLOTLYENV=window.PLOTLYENV || {};                                    if (document.getElementById(\"2e71beb8-d970-43cc-953c-7768ce9800da\")) {                    Plotly.newPlot(                        \"2e71beb8-d970-43cc-953c-7768ce9800da\",                        [{\"x\":[\"2017-10\",\"2017-11\",\"2017-12\",\"2018-01\",\"2018-02\",\"2018-03\",\"2018-04\",\"2018-05\",\"2018-06\",\"2018-07\",\"2018-08\",\"2018-09\",\"2018-10\",\"2018-11\",\"2018-12\",\"2019-01\",\"2019-02\",\"2019-03\",\"2019-04\",\"2019-05\",\"2019-06\",\"2019-07\",\"2019-08\",\"2019-09\",\"2019-10\",\"2019-11\",\"2019-12\",\"2020-01\",\"2020-02\",\"2020-03\",\"2020-04\",\"2020-05\",\"2020-06\",\"2020-07\",\"2020-08\",\"2020-09\",\"2020-10\",\"2020-11\",\"2020-12\",\"2021-01\",\"2021-02\",\"2021-03\",\"2021-04\",\"2021-05\",\"2021-06\",\"2021-07\",\"2021-08\",\"2021-09\",\"2021-10\",\"2021-11\",\"2021-12\",\"2022-01\",\"2022-02\",\"2022-03\",\"2022-04\",\"2022-05\",\"2022-06\",\"2022-07\",\"2022-08\",\"2022-09\",\"2022-10\",\"2022-11\",\"2022-12\",\"2023-01\",\"2023-02\",\"2023-03\",\"2023-04\",\"2023-05\",\"2023-06\",\"2023-07\",\"2023-08\",\"2023-09\"],\"y\":[39491797.29,44712520.774,29825743.0,27784117.63,14965130.79,30368926.419999998,30836035.035,25224683.391,20814764.53,31999011.98,28189578.15,34731710.03,22634429.79,84224544.49,22034878.94,18450432.05,17136104.772,24120854.778,24508788.830000002,22393012.03,28384787.692,26266445.2,35762596.83,48530314.01,30941391.78,37725406.53,37963422.5,21785111.15,17098299.192,26109979.54,28976135.77,14670616.54,25270484.18,20564257.46,32950272.052,24054289.68,28541727.34,60505671.44,39727977.53,24824147.68,13015924.36,26965546.8,34467772.567999996,28433912.64,37915485.0,56077405.35,57658713.09,46547370.43,81387943.924,117925320.54,94712341.215,67695280.84,37954011.392,102844103.106,73422679.094,195084091.37,54235975.504,60308815.63,47473492.78,6764732.5200000005,79075502.03,117866155.84,105074026.08,42028549.410000004,60298506.028000005,28464965.272000007,20734772.580000002,20679185.628,18865907.64,11254203.77,10472541.249999998,12580758.559999999],\"type\":\"scatter\",\"xaxis\":\"x\",\"yaxis\":\"y\"},{\"x\":[\"2017-10\",\"2017-11\",\"2017-12\",\"2018-01\",\"2018-02\",\"2018-03\",\"2018-04\",\"2018-05\",\"2018-06\",\"2018-07\",\"2018-08\",\"2018-09\",\"2018-10\",\"2018-11\",\"2018-12\",\"2019-01\",\"2019-02\",\"2019-03\",\"2019-04\",\"2019-05\",\"2019-06\",\"2019-07\",\"2019-08\",\"2019-09\",\"2019-10\",\"2019-11\",\"2019-12\",\"2020-01\",\"2020-02\",\"2020-03\",\"2020-04\",\"2020-05\",\"2020-06\",\"2020-07\",\"2020-08\",\"2020-09\",\"2020-10\",\"2020-11\",\"2020-12\",\"2021-01\",\"2021-02\",\"2021-03\",\"2021-04\",\"2021-05\",\"2021-06\",\"2021-07\",\"2021-08\",\"2021-09\",\"2021-10\",\"2021-11\",\"2021-12\",\"2022-01\",\"2022-02\",\"2022-03\",\"2022-04\",\"2022-05\",\"2022-06\",\"2022-07\",\"2022-08\",\"2022-09\",\"2022-10\",\"2022-11\",\"2022-12\",\"2023-01\",\"2023-02\",\"2023-03\",\"2023-04\",\"2023-05\",\"2023-06\",\"2023-07\",\"2023-08\",\"2023-09\"],\"y\":[32398705.49127203,32172597.86668024,31945055.318893105,31718676.626272086,31496006.431239292,31278811.097714875,31070397.839095715,30874099.50597423,30692140.561428342,30521804.56029166,30355532.731180817,30153325.7090504,29935677.613924444,29790927.22183696,29800833.083215017,29924559.564566374,30051789.901691034,30133863.085960425,30153231.415128194,30106764.09175221,30015760.56458811,29888542.709930517,29721885.504463382,29586825.373303846,29492663.666345786,29345126.777126085,29136585.94435752,28888482.321923774,28608164.57785015,28333765.96104128,28137929.306399,28066307.75500873,28122624.04384193,28311777.48976793,28525605.54368705,28768798.77517004,29226165.123834036,30145002.36677901,31636252.285548236,33705685.67800926,36270895.321342066,39196276.80608568,42346442.28305107,45624450.37147773,49063064.494148605,52819029.42518626,57161330.64716048,61953026.52754362,66839079.908697724,71360782.04440992,75046518.1819733,77628069.48546796,79060945.92108491,79481047.32721579,79151254.61406137,78434606.25404896,77413514.76210323,75872481.00613339,73482598.51225638,70152499.01355876,65977404.49316484,61367341.44576993,57403409.1383871,53689944.04875755,50088876.71028842,46545961.32270825,43028436.78412582,39522848.530798785,36030837.605911255,32574780.94965721,29176581.193343036,25853844.14515513],\"type\":\"scatter\",\"xaxis\":\"x2\",\"yaxis\":\"y2\"},{\"x\":[\"2017-10\",\"2017-11\",\"2017-12\",\"2018-01\",\"2018-02\",\"2018-03\",\"2018-04\",\"2018-05\",\"2018-06\",\"2018-07\",\"2018-08\",\"2018-09\",\"2018-10\",\"2018-11\",\"2018-12\",\"2019-01\",\"2019-02\",\"2019-03\",\"2019-04\",\"2019-05\",\"2019-06\",\"2019-07\",\"2019-08\",\"2019-09\",\"2019-10\",\"2019-11\",\"2019-12\",\"2020-01\",\"2020-02\",\"2020-03\",\"2020-04\",\"2020-05\",\"2020-06\",\"2020-07\",\"2020-08\",\"2020-09\",\"2020-10\",\"2020-11\",\"2020-12\",\"2021-01\",\"2021-02\",\"2021-03\",\"2021-04\",\"2021-05\",\"2021-06\",\"2021-07\",\"2021-08\",\"2021-09\",\"2021-10\",\"2021-11\",\"2021-12\",\"2022-01\",\"2022-02\",\"2022-03\",\"2022-04\",\"2022-05\",\"2022-06\",\"2022-07\",\"2022-08\",\"2022-09\",\"2022-10\",\"2022-11\",\"2022-12\",\"2023-01\",\"2023-02\",\"2023-03\",\"2023-04\",\"2023-05\",\"2023-06\",\"2023-07\",\"2023-08\",\"2023-09\"],\"y\":[1079645.6056582923,24254417.798062768,-6065219.915013271,-6478221.6956986645,-12820962.443372292,-3446891.692949614,-1270681.5448979805,-13225510.022459865,-5292480.698629846,-382054.0541743278,2671768.531743595,15509611.088997342,903283.1763914137,26611042.88578976,-466189.01017120644,-7180537.70315148,-14781804.661262121,-3294313.3885478848,-2044105.3196006627,-7845517.951175661,-5624780.311996253,-1588141.976096462,2291436.1040090593,5559057.83172823,975571.8955863065,30500602.788411506,4804557.413351954,-8235100.225334089,-17966597.491063703,-2734955.589945354,-3543032.9564912175,1093820.727514619,-7246825.014415812,-3634815.238687275,157824.16913391982,-6362151.143340573,4390832.081116022,33742380.52759163,13386518.110610915,-9547622.390659293,-20837553.460286018,-985843.9861109981,-6870978.920802174,18255405.340668745,-12430447.460759947,-8250586.944187507,-7401136.095203714,-22084401.24685195,8819654.604068337,43129331.71325126,26268326.68241451,-11070510.774883648,-15739713.732340414,-3506277.965231558,-13171251.469562793,23365645.796958476,-17734983.96544723,-14446519.003854599,-16286947.012838218,-29960166.532171067,13532821.43057056,54099877.29548839,39427256.71367903,-12929761.529025393,-10359078.818626298,-5782159.32011837,-20013371.28450408,30399992.52054688,-23422364.17915943,-21735254.557302773,-26017021.664264344,-37785969.82801199],\"type\":\"scatter\",\"xaxis\":\"x3\",\"yaxis\":\"y3\"},{\"x\":[\"2017-10\",\"2017-11\",\"2017-12\",\"2018-01\",\"2018-02\",\"2018-03\",\"2018-04\",\"2018-05\",\"2018-06\",\"2018-07\",\"2018-08\",\"2018-09\",\"2018-10\",\"2018-11\",\"2018-12\",\"2019-01\",\"2019-02\",\"2019-03\",\"2019-04\",\"2019-05\",\"2019-06\",\"2019-07\",\"2019-08\",\"2019-09\",\"2019-10\",\"2019-11\",\"2019-12\",\"2020-01\",\"2020-02\",\"2020-03\",\"2020-04\",\"2020-05\",\"2020-06\",\"2020-07\",\"2020-08\",\"2020-09\",\"2020-10\",\"2020-11\",\"2020-12\",\"2021-01\",\"2021-02\",\"2021-03\",\"2021-04\",\"2021-05\",\"2021-06\",\"2021-07\",\"2021-08\",\"2021-09\",\"2021-10\",\"2021-11\",\"2021-12\",\"2022-01\",\"2022-02\",\"2022-03\",\"2022-04\",\"2022-05\",\"2022-06\",\"2022-07\",\"2022-08\",\"2022-09\",\"2022-10\",\"2022-11\",\"2022-12\",\"2023-01\",\"2023-02\",\"2023-03\",\"2023-04\",\"2023-05\",\"2023-06\",\"2023-07\",\"2023-08\",\"2023-09\"],\"y\":[6013446.193069678,-11714494.89074301,3945907.596120164,2543662.69942658,-3709913.1978669986,2537007.015234735,1036318.7408022657,7576093.907485638,-4584895.332798496,1859261.4738826677,-4837723.112924412,-10931226.768047739,-8204531.00031586,27822574.382373273,-7299765.133043811,-4293589.811414894,1866119.5315710865,-2718694.9194125384,-3600337.265527528,131765.88942345232,3993807.439408142,-2033955.533834055,3749275.221527558,13384430.804967925,473156.2180679068,-22120323.03553759,4022279.142290525,1131729.053410314,6456732.105213549,511169.16890407354,4381239.420092218,-14489511.942523351,4394685.150573883,-4112704.7910806537,4266842.339179032,1647642.048170533,-5075269.864950057,-3381711.454370644,-5294792.866159152,666084.392650038,-2417417.5010560453,-11244886.019974686,-1007690.7942489013,-35445943.072146475,1282867.9666113406,11508962.869001247,7898518.538043238,6678745.149308339,5729209.411233932,3435206.782338828,-6602503.649387792,1137722.129415691,-25367220.796744496,26869333.74401577,7442675.949501425,93283839.31899257,-5442555.292656004,-1117146.3722787946,-9722158.719418168,-33427599.961387694,-434723.8937353939,2398937.098741688,8243360.227933869,1268366.8902678415,20568708.136337876,-12298836.730589874,-2280292.919621736,-49243655.42334567,6257434.213248178,414677.37764556333,7312981.720921308,24512884.24285686],\"type\":\"scatter\",\"xaxis\":\"x4\",\"yaxis\":\"y4\"}],                        {\"template\":{\"data\":{\"histogram2dcontour\":[{\"type\":\"histogram2dcontour\",\"colorbar\":{\"outlinewidth\":0,\"ticks\":\"\"},\"colorscale\":[[0.0,\"#0d0887\"],[0.1111111111111111,\"#46039f\"],[0.2222222222222222,\"#7201a8\"],[0.3333333333333333,\"#9c179e\"],[0.4444444444444444,\"#bd3786\"],[0.5555555555555556,\"#d8576b\"],[0.6666666666666666,\"#ed7953\"],[0.7777777777777778,\"#fb9f3a\"],[0.8888888888888888,\"#fdca26\"],[1.0,\"#f0f921\"]]}],\"choropleth\":[{\"type\":\"choropleth\",\"colorbar\":{\"outlinewidth\":0,\"ticks\":\"\"}}],\"histogram2d\":[{\"type\":\"histogram2d\",\"colorbar\":{\"outlinewidth\":0,\"ticks\":\"\"},\"colorscale\":[[0.0,\"#0d0887\"],[0.1111111111111111,\"#46039f\"],[0.2222222222222222,\"#7201a8\"],[0.3333333333333333,\"#9c179e\"],[0.4444444444444444,\"#bd3786\"],[0.5555555555555556,\"#d8576b\"],[0.6666666666666666,\"#ed7953\"],[0.7777777777777778,\"#fb9f3a\"],[0.8888888888888888,\"#fdca26\"],[1.0,\"#f0f921\"]]}],\"heatmap\":[{\"type\":\"heatmap\",\"colorbar\":{\"outlinewidth\":0,\"ticks\":\"\"},\"colorscale\":[[0.0,\"#0d0887\"],[0.1111111111111111,\"#46039f\"],[0.2222222222222222,\"#7201a8\"],[0.3333333333333333,\"#9c179e\"],[0.4444444444444444,\"#bd3786\"],[0.5555555555555556,\"#d8576b\"],[0.6666666666666666,\"#ed7953\"],[0.7777777777777778,\"#fb9f3a\"],[0.8888888888888888,\"#fdca26\"],[1.0,\"#f0f921\"]]}],\"heatmapgl\":[{\"type\":\"heatmapgl\",\"colorbar\":{\"outlinewidth\":0,\"ticks\":\"\"},\"colorscale\":[[0.0,\"#0d0887\"],[0.1111111111111111,\"#46039f\"],[0.2222222222222222,\"#7201a8\"],[0.3333333333333333,\"#9c179e\"],[0.4444444444444444,\"#bd3786\"],[0.5555555555555556,\"#d8576b\"],[0.6666666666666666,\"#ed7953\"],[0.7777777777777778,\"#fb9f3a\"],[0.8888888888888888,\"#fdca26\"],[1.0,\"#f0f921\"]]}],\"contourcarpet\":[{\"type\":\"contourcarpet\",\"colorbar\":{\"outlinewidth\":0,\"ticks\":\"\"}}],\"contour\":[{\"type\":\"contour\",\"colorbar\":{\"outlinewidth\":0,\"ticks\":\"\"},\"colorscale\":[[0.0,\"#0d0887\"],[0.1111111111111111,\"#46039f\"],[0.2222222222222222,\"#7201a8\"],[0.3333333333333333,\"#9c179e\"],[0.4444444444444444,\"#bd3786\"],[0.5555555555555556,\"#d8576b\"],[0.6666666666666666,\"#ed7953\"],[0.7777777777777778,\"#fb9f3a\"],[0.8888888888888888,\"#fdca26\"],[1.0,\"#f0f921\"]]}],\"surface\":[{\"type\":\"surface\",\"colorbar\":{\"outlinewidth\":0,\"ticks\":\"\"},\"colorscale\":[[0.0,\"#0d0887\"],[0.1111111111111111,\"#46039f\"],[0.2222222222222222,\"#7201a8\"],[0.3333333333333333,\"#9c179e\"],[0.4444444444444444,\"#bd3786\"],[0.5555555555555556,\"#d8576b\"],[0.6666666666666666,\"#ed7953\"],[0.7777777777777778,\"#fb9f3a\"],[0.8888888888888888,\"#fdca26\"],[1.0,\"#f0f921\"]]}],\"mesh3d\":[{\"type\":\"mesh3d\",\"colorbar\":{\"outlinewidth\":0,\"ticks\":\"\"}}],\"scatter\":[{\"fillpattern\":{\"fillmode\":\"overlay\",\"size\":10,\"solidity\":0.2},\"type\":\"scatter\"}],\"parcoords\":[{\"type\":\"parcoords\",\"line\":{\"colorbar\":{\"outlinewidth\":0,\"ticks\":\"\"}}}],\"scatterpolargl\":[{\"type\":\"scatterpolargl\",\"marker\":{\"colorbar\":{\"outlinewidth\":0,\"ticks\":\"\"}}}],\"bar\":[{\"error_x\":{\"color\":\"#2a3f5f\"},\"error_y\":{\"color\":\"#2a3f5f\"},\"marker\":{\"line\":{\"color\":\"#E5ECF6\",\"width\":0.5},\"pattern\":{\"fillmode\":\"overlay\",\"size\":10,\"solidity\":0.2}},\"type\":\"bar\"}],\"scattergeo\":[{\"type\":\"scattergeo\",\"marker\":{\"colorbar\":{\"outlinewidth\":0,\"ticks\":\"\"}}}],\"scatterpolar\":[{\"type\":\"scatterpolar\",\"marker\":{\"colorbar\":{\"outlinewidth\":0,\"ticks\":\"\"}}}],\"histogram\":[{\"marker\":{\"pattern\":{\"fillmode\":\"overlay\",\"size\":10,\"solidity\":0.2}},\"type\":\"histogram\"}],\"scattergl\":[{\"type\":\"scattergl\",\"marker\":{\"colorbar\":{\"outlinewidth\":0,\"ticks\":\"\"}}}],\"scatter3d\":[{\"type\":\"scatter3d\",\"line\":{\"colorbar\":{\"outlinewidth\":0,\"ticks\":\"\"}},\"marker\":{\"colorbar\":{\"outlinewidth\":0,\"ticks\":\"\"}}}],\"scattermapbox\":[{\"type\":\"scattermapbox\",\"marker\":{\"colorbar\":{\"outlinewidth\":0,\"ticks\":\"\"}}}],\"scatterternary\":[{\"type\":\"scatterternary\",\"marker\":{\"colorbar\":{\"outlinewidth\":0,\"ticks\":\"\"}}}],\"scattercarpet\":[{\"type\":\"scattercarpet\",\"marker\":{\"colorbar\":{\"outlinewidth\":0,\"ticks\":\"\"}}}],\"carpet\":[{\"aaxis\":{\"endlinecolor\":\"#2a3f5f\",\"gridcolor\":\"white\",\"linecolor\":\"white\",\"minorgridcolor\":\"white\",\"startlinecolor\":\"#2a3f5f\"},\"baxis\":{\"endlinecolor\":\"#2a3f5f\",\"gridcolor\":\"white\",\"linecolor\":\"white\",\"minorgridcolor\":\"white\",\"startlinecolor\":\"#2a3f5f\"},\"type\":\"carpet\"}],\"table\":[{\"cells\":{\"fill\":{\"color\":\"#EBF0F8\"},\"line\":{\"color\":\"white\"}},\"header\":{\"fill\":{\"color\":\"#C8D4E3\"},\"line\":{\"color\":\"white\"}},\"type\":\"table\"}],\"barpolar\":[{\"marker\":{\"line\":{\"color\":\"#E5ECF6\",\"width\":0.5},\"pattern\":{\"fillmode\":\"overlay\",\"size\":10,\"solidity\":0.2}},\"type\":\"barpolar\"}],\"pie\":[{\"automargin\":true,\"type\":\"pie\"}]},\"layout\":{\"autotypenumbers\":\"strict\",\"colorway\":[\"#636efa\",\"#EF553B\",\"#00cc96\",\"#ab63fa\",\"#FFA15A\",\"#19d3f3\",\"#FF6692\",\"#B6E880\",\"#FF97FF\",\"#FECB52\"],\"font\":{\"color\":\"#2a3f5f\"},\"hovermode\":\"closest\",\"hoverlabel\":{\"align\":\"left\"},\"paper_bgcolor\":\"white\",\"plot_bgcolor\":\"#E5ECF6\",\"polar\":{\"bgcolor\":\"#E5ECF6\",\"angularaxis\":{\"gridcolor\":\"white\",\"linecolor\":\"white\",\"ticks\":\"\"},\"radialaxis\":{\"gridcolor\":\"white\",\"linecolor\":\"white\",\"ticks\":\"\"}},\"ternary\":{\"bgcolor\":\"#E5ECF6\",\"aaxis\":{\"gridcolor\":\"white\",\"linecolor\":\"white\",\"ticks\":\"\"},\"baxis\":{\"gridcolor\":\"white\",\"linecolor\":\"white\",\"ticks\":\"\"},\"caxis\":{\"gridcolor\":\"white\",\"linecolor\":\"white\",\"ticks\":\"\"}},\"coloraxis\":{\"colorbar\":{\"outlinewidth\":0,\"ticks\":\"\"}},\"colorscale\":{\"sequential\":[[0.0,\"#0d0887\"],[0.1111111111111111,\"#46039f\"],[0.2222222222222222,\"#7201a8\"],[0.3333333333333333,\"#9c179e\"],[0.4444444444444444,\"#bd3786\"],[0.5555555555555556,\"#d8576b\"],[0.6666666666666666,\"#ed7953\"],[0.7777777777777778,\"#fb9f3a\"],[0.8888888888888888,\"#fdca26\"],[1.0,\"#f0f921\"]],\"sequentialminus\":[[0.0,\"#0d0887\"],[0.1111111111111111,\"#46039f\"],[0.2222222222222222,\"#7201a8\"],[0.3333333333333333,\"#9c179e\"],[0.4444444444444444,\"#bd3786\"],[0.5555555555555556,\"#d8576b\"],[0.6666666666666666,\"#ed7953\"],[0.7777777777777778,\"#fb9f3a\"],[0.8888888888888888,\"#fdca26\"],[1.0,\"#f0f921\"]],\"diverging\":[[0,\"#8e0152\"],[0.1,\"#c51b7d\"],[0.2,\"#de77ae\"],[0.3,\"#f1b6da\"],[0.4,\"#fde0ef\"],[0.5,\"#f7f7f7\"],[0.6,\"#e6f5d0\"],[0.7,\"#b8e186\"],[0.8,\"#7fbc41\"],[0.9,\"#4d9221\"],[1,\"#276419\"]]},\"xaxis\":{\"gridcolor\":\"white\",\"linecolor\":\"white\",\"ticks\":\"\",\"title\":{\"standoff\":15},\"zerolinecolor\":\"white\",\"automargin\":true,\"zerolinewidth\":2},\"yaxis\":{\"gridcolor\":\"white\",\"linecolor\":\"white\",\"ticks\":\"\",\"title\":{\"standoff\":15},\"zerolinecolor\":\"white\",\"automargin\":true,\"zerolinewidth\":2},\"scene\":{\"xaxis\":{\"backgroundcolor\":\"#E5ECF6\",\"gridcolor\":\"white\",\"linecolor\":\"white\",\"showbackground\":true,\"ticks\":\"\",\"zerolinecolor\":\"white\",\"gridwidth\":2},\"yaxis\":{\"backgroundcolor\":\"#E5ECF6\",\"gridcolor\":\"white\",\"linecolor\":\"white\",\"showbackground\":true,\"ticks\":\"\",\"zerolinecolor\":\"white\",\"gridwidth\":2},\"zaxis\":{\"backgroundcolor\":\"#E5ECF6\",\"gridcolor\":\"white\",\"linecolor\":\"white\",\"showbackground\":true,\"ticks\":\"\",\"zerolinecolor\":\"white\",\"gridwidth\":2}},\"shapedefaults\":{\"line\":{\"color\":\"#2a3f5f\"}},\"annotationdefaults\":{\"arrowcolor\":\"#2a3f5f\",\"arrowhead\":0,\"arrowwidth\":1},\"geo\":{\"bgcolor\":\"white\",\"landcolor\":\"#E5ECF6\",\"subunitcolor\":\"white\",\"showland\":true,\"showlakes\":true,\"lakecolor\":\"white\"},\"title\":{\"x\":0.05},\"mapbox\":{\"style\":\"light\"}}},\"xaxis\":{\"anchor\":\"y\",\"domain\":[0.0,1.0],\"matches\":\"x4\",\"showticklabels\":false},\"yaxis\":{\"anchor\":\"x\",\"domain\":[0.7875,1.0]},\"xaxis2\":{\"anchor\":\"y2\",\"domain\":[0.0,1.0],\"matches\":\"x4\",\"showticklabels\":false},\"yaxis2\":{\"anchor\":\"x2\",\"domain\":[0.525,0.7375]},\"xaxis3\":{\"anchor\":\"y3\",\"domain\":[0.0,1.0],\"matches\":\"x4\",\"showticklabels\":false},\"yaxis3\":{\"anchor\":\"x3\",\"domain\":[0.2625,0.475]},\"xaxis4\":{\"anchor\":\"y4\",\"domain\":[0.0,1.0],\"title\":{\"text\":\"Fiscal Months\"},\"dtick\":\"M12\",\"range\":[\"2017-07-01\",\"2023-12-31\"]},\"yaxis4\":{\"anchor\":\"x4\",\"domain\":[0.0,0.2125]},\"annotations\":[{\"font\":{\"size\":16},\"showarrow\":false,\"text\":\"observed\",\"x\":0.5,\"xanchor\":\"center\",\"xref\":\"paper\",\"y\":1.0,\"yanchor\":\"bottom\",\"yref\":\"paper\"},{\"font\":{\"size\":16},\"showarrow\":false,\"text\":\"trend\",\"x\":0.5,\"xanchor\":\"center\",\"xref\":\"paper\",\"y\":0.7375,\"yanchor\":\"bottom\",\"yref\":\"paper\"},{\"font\":{\"size\":16},\"showarrow\":false,\"text\":\"seasonal\",\"x\":0.5,\"xanchor\":\"center\",\"xref\":\"paper\",\"y\":0.475,\"yanchor\":\"bottom\",\"yref\":\"paper\"},{\"font\":{\"size\":16},\"showarrow\":false,\"text\":\"resid\",\"x\":0.5,\"xanchor\":\"center\",\"xref\":\"paper\",\"y\":0.2125,\"yanchor\":\"bottom\",\"yref\":\"paper\"}],\"margin\":{\"t\":20,\"b\":0,\"l\":0,\"r\":0},\"height\":800,\"showlegend\":false},                        {\"responsive\": true}                    ).then(function(){\n",
       "                            \n",
       "var gd = document.getElementById('2e71beb8-d970-43cc-953c-7768ce9800da');\n",
       "var x = new MutationObserver(function (mutations, observer) {{\n",
       "        var display = window.getComputedStyle(gd).display;\n",
       "        if (!display || display === 'none') {{\n",
       "            console.log([gd, 'removed!']);\n",
       "            Plotly.purge(gd);\n",
       "            observer.disconnect();\n",
       "        }}\n",
       "}});\n",
       "\n",
       "// Listen for the removal of the full notebook cells\n",
       "var notebookContainer = gd.closest('#notebook-container');\n",
       "if (notebookContainer) {{\n",
       "    x.observe(notebookContainer, {childList: true});\n",
       "}}\n",
       "\n",
       "// Listen for the clearing of the current output cell\n",
       "var outputEl = gd.closest('.output');\n",
       "if (outputEl) {{\n",
       "    x.observe(outputEl, {childList: true});\n",
       "}}\n",
       "\n",
       "                        })                };                });            </script>        </div>"
      ]
     },
     "metadata": {},
     "output_type": "display_data"
    }
   ],
   "source": [
    "from plotly.subplots import make_subplots\n",
    "import plotly.graph_objects as go\n",
    "from statsmodels.tsa.seasonal import seasonal_decompose, STL\n",
    "decomposition = STL(order, period=12).fit()\n",
    "\n",
    "fig = make_subplots(\n",
    "    rows=4, cols=1,\n",
    "    shared_xaxes=True,\n",
    "    vertical_spacing=0.05,\n",
    "    subplot_titles=['observed', 'trend', 'seasonal', 'resid']\n",
    ")\n",
    "\n",
    "x = df.index\n",
    "fig.add_trace(go.Scatter(x=x, y=decomposition.observed), row=1, col=1)\n",
    "fig.add_trace(go.Scatter(x=x, y=decomposition.trend), row=2, col=1)\n",
    "fig.add_trace(go.Scatter(x=x, y=decomposition.seasonal), row=3, col=1)\n",
    "fig.add_trace(go.Scatter(x=x, y=decomposition.resid), row=4, col=1)\n",
    "\n",
    "fig.update_layout(\n",
    "    height=800, margin={'t':20, 'b':0, 'l':0, 'r':0},\n",
    "    xaxis4=dict(title=\"Fiscal Months\", dtick='M12', range=['2017-07-01','2023-12-31']),\n",
    "    showlegend=False\n",
    ")\n",
    "fig.show()"
   ]
  },
  {
   "cell_type": "code",
   "execution_count": null,
   "id": "54d677b6-afe0-4d46-8bc8-c61c8237b539",
   "metadata": {},
   "outputs": [],
   "source": []
  },
  {
   "cell_type": "code",
   "execution_count": 233,
   "id": "91f2b264-dd6d-4482-91ae-116bdb29b33a",
   "metadata": {},
   "outputs": [
    {
     "data": {
      "text/html": [
       "<div>\n",
       "<style scoped>\n",
       "    .dataframe tbody tr th:only-of-type {\n",
       "        vertical-align: middle;\n",
       "    }\n",
       "\n",
       "    .dataframe tbody tr th {\n",
       "        vertical-align: top;\n",
       "    }\n",
       "\n",
       "    .dataframe thead th {\n",
       "        text-align: right;\n",
       "    }\n",
       "</style>\n",
       "<table border=\"1\" class=\"dataframe\">\n",
       "  <thead>\n",
       "    <tr style=\"text-align: right;\">\n",
       "      <th></th>\n",
       "      <th>PostDate</th>\n",
       "      <th>FiscalYear</th>\n",
       "      <th>AssignType</th>\n",
       "      <th>BuyerType</th>\n",
       "      <th>OrderNum</th>\n",
       "      <th>Territory</th>\n",
       "      <th>ProductLine</th>\n",
       "      <th>Sales</th>\n",
       "      <th>Buyer</th>\n",
       "      <th>AssignedCustomer</th>\n",
       "      <th>OR</th>\n",
       "      <th>TO</th>\n",
       "    </tr>\n",
       "  </thead>\n",
       "  <tbody>\n",
       "    <tr>\n",
       "      <th>0</th>\n",
       "      <td>2017-10-15</td>\n",
       "      <td>FY18</td>\n",
       "      <td>Direct</td>\n",
       "      <td>Dealer</td>\n",
       "      <td>AKZ00000169</td>\n",
       "      <td>TER00000002</td>\n",
       "      <td>GBK00000000</td>\n",
       "      <td>VBE00000097</td>\n",
       "      <td>CUS00000051</td>\n",
       "      <td>ASS00000398</td>\n",
       "      <td>1259296.25</td>\n",
       "      <td>0.0</td>\n",
       "    </tr>\n",
       "    <tr>\n",
       "      <th>1</th>\n",
       "      <td>2017-10-15</td>\n",
       "      <td>FY18</td>\n",
       "      <td>Direct</td>\n",
       "      <td>Dealer</td>\n",
       "      <td>AKZ00000169</td>\n",
       "      <td>TER00000002</td>\n",
       "      <td>GBK00000003</td>\n",
       "      <td>VBE00000097</td>\n",
       "      <td>CUS00000051</td>\n",
       "      <td>ASS00000398</td>\n",
       "      <td>668811.00</td>\n",
       "      <td>0.0</td>\n",
       "    </tr>\n",
       "    <tr>\n",
       "      <th>2</th>\n",
       "      <td>2017-10-15</td>\n",
       "      <td>FY18</td>\n",
       "      <td>Direct</td>\n",
       "      <td>Dealer</td>\n",
       "      <td>AKZ00000198</td>\n",
       "      <td>TER00000005</td>\n",
       "      <td>GBK00000000</td>\n",
       "      <td>VBE00000099</td>\n",
       "      <td>CUS00000055</td>\n",
       "      <td>ASS00000582</td>\n",
       "      <td>129168.39</td>\n",
       "      <td>0.0</td>\n",
       "    </tr>\n",
       "    <tr>\n",
       "      <th>3</th>\n",
       "      <td>2017-10-15</td>\n",
       "      <td>FY18</td>\n",
       "      <td>Direct</td>\n",
       "      <td>Dealer</td>\n",
       "      <td>AKZ00000199</td>\n",
       "      <td>TER00000005</td>\n",
       "      <td>GBK00000000</td>\n",
       "      <td>VBE00000099</td>\n",
       "      <td>CUS00000055</td>\n",
       "      <td>ASS00000582</td>\n",
       "      <td>113177.36</td>\n",
       "      <td>0.0</td>\n",
       "    </tr>\n",
       "    <tr>\n",
       "      <th>4</th>\n",
       "      <td>2017-10-15</td>\n",
       "      <td>FY18</td>\n",
       "      <td>Direct</td>\n",
       "      <td>Dealer</td>\n",
       "      <td>AKZ00000199</td>\n",
       "      <td>TER00000005</td>\n",
       "      <td>GBK00000003</td>\n",
       "      <td>VBE00000099</td>\n",
       "      <td>CUS00000055</td>\n",
       "      <td>ASS00000582</td>\n",
       "      <td>27336.48</td>\n",
       "      <td>0.0</td>\n",
       "    </tr>\n",
       "    <tr>\n",
       "      <th>...</th>\n",
       "      <td>...</td>\n",
       "      <td>...</td>\n",
       "      <td>...</td>\n",
       "      <td>...</td>\n",
       "      <td>...</td>\n",
       "      <td>...</td>\n",
       "      <td>...</td>\n",
       "      <td>...</td>\n",
       "      <td>...</td>\n",
       "      <td>...</td>\n",
       "      <td>...</td>\n",
       "      <td>...</td>\n",
       "    </tr>\n",
       "    <tr>\n",
       "      <th>159913</th>\n",
       "      <td>2023-09-30</td>\n",
       "      <td>FY23</td>\n",
       "      <td>Assign_TO</td>\n",
       "      <td>Dealer</td>\n",
       "      <td>AKZ00013307</td>\n",
       "      <td>TER00000004</td>\n",
       "      <td>GBK00000005</td>\n",
       "      <td>VBE00000211</td>\n",
       "      <td>CUS00000021</td>\n",
       "      <td>ASS00000969</td>\n",
       "      <td>118724.22</td>\n",
       "      <td>0.0</td>\n",
       "    </tr>\n",
       "    <tr>\n",
       "      <th>159914</th>\n",
       "      <td>2023-09-30</td>\n",
       "      <td>FY23</td>\n",
       "      <td>Balance_TO</td>\n",
       "      <td>Dealer</td>\n",
       "      <td>AKZ00013309</td>\n",
       "      <td>TER00000002</td>\n",
       "      <td>GBK00000006</td>\n",
       "      <td>VBE00000166</td>\n",
       "      <td>CUS00000050</td>\n",
       "      <td>ASS00000397</td>\n",
       "      <td>-7930.54</td>\n",
       "      <td>0.0</td>\n",
       "    </tr>\n",
       "    <tr>\n",
       "      <th>159915</th>\n",
       "      <td>2023-09-30</td>\n",
       "      <td>FY23</td>\n",
       "      <td>Assign_TO</td>\n",
       "      <td>Dealer</td>\n",
       "      <td>AKZ00013309</td>\n",
       "      <td>TER00000004</td>\n",
       "      <td>GBK00000006</td>\n",
       "      <td>VBE00000170</td>\n",
       "      <td>CUS00000050</td>\n",
       "      <td>ASS00001027</td>\n",
       "      <td>7930.54</td>\n",
       "      <td>0.0</td>\n",
       "    </tr>\n",
       "    <tr>\n",
       "      <th>159916</th>\n",
       "      <td>2023-09-30</td>\n",
       "      <td>FY23</td>\n",
       "      <td>Assign_TO</td>\n",
       "      <td>Dealer</td>\n",
       "      <td>AKZ00013311</td>\n",
       "      <td>TER00000003</td>\n",
       "      <td>GBK00000011</td>\n",
       "      <td>VBE00000135</td>\n",
       "      <td>CUS00000029</td>\n",
       "      <td>ASS00001890</td>\n",
       "      <td>5187.60</td>\n",
       "      <td>0.0</td>\n",
       "    </tr>\n",
       "    <tr>\n",
       "      <th>159917</th>\n",
       "      <td>2023-09-30</td>\n",
       "      <td>FY23</td>\n",
       "      <td>Assign_TO</td>\n",
       "      <td>Dealer</td>\n",
       "      <td>AKZ00013312</td>\n",
       "      <td>TER00000004</td>\n",
       "      <td>GBK00000012</td>\n",
       "      <td>VBE00000148</td>\n",
       "      <td>CUS00000029</td>\n",
       "      <td>ASS00001339</td>\n",
       "      <td>13647.93</td>\n",
       "      <td>0.0</td>\n",
       "    </tr>\n",
       "  </tbody>\n",
       "</table>\n",
       "<p>159918 rows × 12 columns</p>\n",
       "</div>"
      ],
      "text/plain": [
       "         PostDate FiscalYear  AssignType BuyerType     OrderNum    Territory  \\\n",
       "0      2017-10-15       FY18      Direct    Dealer  AKZ00000169  TER00000002   \n",
       "1      2017-10-15       FY18      Direct    Dealer  AKZ00000169  TER00000002   \n",
       "2      2017-10-15       FY18      Direct    Dealer  AKZ00000198  TER00000005   \n",
       "3      2017-10-15       FY18      Direct    Dealer  AKZ00000199  TER00000005   \n",
       "4      2017-10-15       FY18      Direct    Dealer  AKZ00000199  TER00000005   \n",
       "...           ...        ...         ...       ...          ...          ...   \n",
       "159913 2023-09-30       FY23   Assign_TO    Dealer  AKZ00013307  TER00000004   \n",
       "159914 2023-09-30       FY23  Balance_TO    Dealer  AKZ00013309  TER00000002   \n",
       "159915 2023-09-30       FY23   Assign_TO    Dealer  AKZ00013309  TER00000004   \n",
       "159916 2023-09-30       FY23   Assign_TO    Dealer  AKZ00013311  TER00000003   \n",
       "159917 2023-09-30       FY23   Assign_TO    Dealer  AKZ00013312  TER00000004   \n",
       "\n",
       "        ProductLine        Sales        Buyer AssignedCustomer          OR  \\\n",
       "0       GBK00000000  VBE00000097  CUS00000051      ASS00000398  1259296.25   \n",
       "1       GBK00000003  VBE00000097  CUS00000051      ASS00000398   668811.00   \n",
       "2       GBK00000000  VBE00000099  CUS00000055      ASS00000582   129168.39   \n",
       "3       GBK00000000  VBE00000099  CUS00000055      ASS00000582   113177.36   \n",
       "4       GBK00000003  VBE00000099  CUS00000055      ASS00000582    27336.48   \n",
       "...             ...          ...          ...              ...         ...   \n",
       "159913  GBK00000005  VBE00000211  CUS00000021      ASS00000969   118724.22   \n",
       "159914  GBK00000006  VBE00000166  CUS00000050      ASS00000397    -7930.54   \n",
       "159915  GBK00000006  VBE00000170  CUS00000050      ASS00001027     7930.54   \n",
       "159916  GBK00000011  VBE00000135  CUS00000029      ASS00001890     5187.60   \n",
       "159917  GBK00000012  VBE00000148  CUS00000029      ASS00001339    13647.93   \n",
       "\n",
       "         TO  \n",
       "0       0.0  \n",
       "1       0.0  \n",
       "2       0.0  \n",
       "3       0.0  \n",
       "4       0.0  \n",
       "...     ...  \n",
       "159913  0.0  \n",
       "159914  0.0  \n",
       "159915  0.0  \n",
       "159916  0.0  \n",
       "159917  0.0  \n",
       "\n",
       "[159918 rows x 12 columns]"
      ]
     },
     "execution_count": 233,
     "metadata": {},
     "output_type": "execute_result"
    }
   ],
   "source": [
    "cols = ['PostDate', 'FiscalYear', 'AssignType', 'BuyerType', 'OrderNum', 'Territory', 'ProductLine', 'Sales', 'Buyer', 'AssignedCustomer', 'OR', 'TO']\n",
    "ts[cols]"
   ]
  },
  {
   "cell_type": "code",
   "execution_count": null,
   "id": "0b603e02-9b7b-44aa-8025-7850f7f00907",
   "metadata": {},
   "outputs": [],
   "source": []
  },
  {
   "cell_type": "code",
   "execution_count": null,
   "id": "7a97c5b7-7ac8-42fc-b19d-4c7756e24446",
   "metadata": {},
   "outputs": [],
   "source": []
  }
 ],
 "metadata": {
  "kernelspec": {
   "display_name": "Python 3 (ipykernel)",
   "language": "python",
   "name": "python3"
  },
  "language_info": {
   "codemirror_mode": {
    "name": "ipython",
    "version": 3
   },
   "file_extension": ".py",
   "mimetype": "text/x-python",
   "name": "python",
   "nbconvert_exporter": "python",
   "pygments_lexer": "ipython3",
   "version": "3.11.5"
  }
 },
 "nbformat": 4,
 "nbformat_minor": 5
}
