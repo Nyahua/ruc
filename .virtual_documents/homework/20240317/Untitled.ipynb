# pip install python-calamine
import pandas as pd
fn = '毛利率占比和趋势分析.xlsx'
excel = pd.ExcelFile(fn, engine='calamine')
sheetnames = excel.sheet_names
sheetnames


for sheet in sheetnames:
    df = pd.read_excel(excel, sheet_name=sheet)
    df.to_csv(f"{sheet}.csv", index=False)
    print(sheet, df.shape)



